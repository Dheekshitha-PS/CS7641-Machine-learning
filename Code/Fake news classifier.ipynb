{
 "cells": [
  {
   "cell_type": "code",
   "execution_count": 1,
   "metadata": {},
   "outputs": [],
   "source": [
    "# print(fbfkjb)\n",
    "import pandas as pd\n",
    "import numpy as np\n",
    "import nltk \n",
    "import re\n",
    "from pandas_profiling import ProfileReport\n",
    "import matplotlib.pyplot as plt\n",
    "import seaborn as sns \n",
    "import sklearn.metrics\n",
    "import sklearn\n",
    "from IPython.core.interactiveshell import InteractiveShell\n",
    "InteractiveShell.ast_node_interactivity = \"all\"\n",
    "from sklearn.metrics import classification_report\n",
    "from nltk.corpus import stopwords\n",
    "import string"
   ]
  },
  {
   "cell_type": "code",
   "execution_count": 2,
   "metadata": {},
   "outputs": [
    {
     "data": {
      "text/plain": [
       "(2096, 12)"
      ]
     },
     "execution_count": 2,
     "metadata": {},
     "output_type": "execute_result"
    }
   ],
   "source": [
    "data=pd.read_csv(\"./text data/news_articles.csv\")\n",
    "\n",
    "data.shape"
   ]
  },
  {
   "cell_type": "code",
   "execution_count": 3,
   "metadata": {},
   "outputs": [
    {
     "data": {
      "text/plain": [
       "(2045, 12)"
      ]
     },
     "execution_count": 3,
     "metadata": {},
     "output_type": "execute_result"
    }
   ],
   "source": [
    "data=data.dropna()\n",
    "data.shape"
   ]
  },
  {
   "cell_type": "code",
   "execution_count": 4,
   "metadata": {},
   "outputs": [],
   "source": [
    "# from spellchecker import SpellChecker\n",
    "#import numpy as np\n",
    "import pandas as pd\n",
    "import re\n",
    "import string\n",
    "from nltk.corpus import stopwords\n",
    "#nltk.download(\"stopwords\")\n",
    "\n",
    "stop_words = stopwords.words(\"english\")\n",
    "\n",
    "#############################\n",
    "### Get Data ##\n",
    "\n",
    "# train= pd.read_csv('train.csv')\n",
    "# test=pd.read_csv('test.csv')\n",
    "# # concat all\n",
    "# df=pd.concat([train,test])\n",
    "\n",
    "\n",
    "# spell = SpellChecker()\n",
    "# def correct_spellings(x, spell=spell):\n",
    "#     \"\"\"correct the missplled words of a given tweet\"\"\"\n",
    "#     x = x.split()\n",
    "#     misspelled = spell.unknown(x)\n",
    "#     result = map(lambda word : spell.correction(word) if word in  misspelled else word, x)\n",
    "#     return \" \".join(result)\n",
    "\n",
    "def tweets_cleaning(x, correct_spelling=False, remove_emojis=True, remove_stop_words=True):\n",
    "    \"\"\"Apply function to a clean a tweet\"\"\"\n",
    "    x = x.lower().strip()\n",
    "    # romove urls\n",
    "    url = re.compile(r'https?://\\S+|www\\.\\S+')\n",
    "    x = url.sub(r'',x)\n",
    "    # remove html tags\n",
    "    html = re.compile(r'<.*?>')\n",
    "    x = html.sub(r'',x)\n",
    "    # remove punctuation\n",
    "    operator = str.maketrans('','',string.punctuation) #????\n",
    "    x = x.translate(operator)\n",
    "    if correct_spelling:\n",
    "        x = correct_spellings(x)\n",
    "    if remove_emojis:\n",
    "        x = x.encode('ascii', 'ignore').decode('utf8').strip()\n",
    "    if remove_stop_words:\n",
    "        x = ' '.join([word for word in x.split(' ') if word not in stop_words])\n",
    "    return x\n",
    "\n",
    "\n"
   ]
  },
  {
   "cell_type": "code",
   "execution_count": 5,
   "metadata": {},
   "outputs": [],
   "source": [
    "## APPLY the cleaning function to the text column\n",
    "# data['cleaned_text'] = data['text'].apply(tweets_cleaning)\n"
   ]
  },
  {
   "cell_type": "code",
   "execution_count": 6,
   "metadata": {},
   "outputs": [],
   "source": [
    "# data['text']=text_process(data['text'])"
   ]
  },
  {
   "cell_type": "code",
   "execution_count": 7,
   "metadata": {},
   "outputs": [],
   "source": [
    "# data['text']"
   ]
  },
  {
   "cell_type": "code",
   "execution_count": 8,
   "metadata": {},
   "outputs": [],
   "source": [
    "# from sklearn.preprocessing import LabelEncoder\n",
    "# le = LabelEncoder()\n",
    "\n",
    "# y = le.fit_transform(data.label)"
   ]
  },
  {
   "cell_type": "code",
   "execution_count": 9,
   "metadata": {},
   "outputs": [],
   "source": [
    "# from sklearn.model_selection import train_test_split\n",
    "# # from imblearn.over_sampling import SMOTE\n",
    "\n",
    "# # X = data_oh.loc[:, data_oh.columns != 'Attrition_Flag']\n",
    "# # y = data_oh['Attrition_Flag']\n",
    "# x, x_test, y, y_test = train_test_split(data['cleaned_text'], y,test_size=0.2,train_size=0.8)\n",
    "# x_train, x_cv, y_train, y_cv = train_test_split(x,y,test_size = 0.25,train_size =0.75)"
   ]
  },
  {
   "cell_type": "code",
   "execution_count": 10,
   "metadata": {},
   "outputs": [],
   "source": [
    "\n",
    "# x_train.to_csv(\"TEXT_X_train.csv\")\n",
    "# X_test.to_csv(\"TEXT_X_test.csv\")\n",
    "\n",
    "# x_cv.to_csv(\"TEXT_X_V.csv\")\n",
    "# np.savetxt(\"TEXTlabel_V.csv\", y_cv, delimiter=\",\")\n",
    "# np.savetxt(\"TEXTlabel_train.csv\", y_train, delimiter=\",\")\n",
    "# np.savetxt(\"TEXTlabel_test .csv\", y_test , delimiter=\",\"), "
   ]
  },
  {
   "cell_type": "code",
   "execution_count": 11,
   "metadata": {},
   "outputs": [],
   "source": [
    "\n",
    "x_train=pd.read_csv(\"TEXT_X_train.csv\")\n",
    "x_test=pd.read_csv(\"TEXT_X_test.csv\")\n",
    "\n",
    "x_cv=pd.read_csv(\"TEXT_X_V.csv\")\n",
    "y_cv=pd.read_csv(\"TEXTlabel_V.csv\")\n",
    "y_train=pd.read_csv(\"TEXTlabel_train.csv\")\n",
    "y_test =pd.read_csv(\"TEXTlabel_test .csv\") "
   ]
  },
  {
   "cell_type": "code",
   "execution_count": 12,
   "metadata": {},
   "outputs": [
    {
     "data": {
      "text/plain": [
       "(1227, 2)"
      ]
     },
     "execution_count": 12,
     "metadata": {},
     "output_type": "execute_result"
    }
   ],
   "source": [
    "x_train.shape"
   ]
  },
  {
   "cell_type": "code",
   "execution_count": 13,
   "metadata": {},
   "outputs": [
    {
     "data": {
      "text/plain": [
       "(1227, 2)"
      ]
     },
     "execution_count": 13,
     "metadata": {},
     "output_type": "execute_result"
    }
   ],
   "source": [
    "# X_test=X_test.drop('Unnamed: 0',axis=1)\n",
    "y_train=pd.read_csv(\"TEXTlabel_train.csv\")\n",
    "y_train.shape"
   ]
  },
  {
   "cell_type": "code",
   "execution_count": 14,
   "metadata": {
    "scrolled": true
   },
   "outputs": [
    {
     "data": {
      "text/plain": [
       "(409, 2)"
      ]
     },
     "execution_count": 14,
     "metadata": {},
     "output_type": "execute_result"
    }
   ],
   "source": [
    "x_test.shape"
   ]
  },
  {
   "cell_type": "code",
   "execution_count": 250,
   "metadata": {},
   "outputs": [
    {
     "data": {
      "text/html": [
       "<div>\n",
       "<style scoped>\n",
       "    .dataframe tbody tr th:only-of-type {\n",
       "        vertical-align: middle;\n",
       "    }\n",
       "\n",
       "    .dataframe tbody tr th {\n",
       "        vertical-align: top;\n",
       "    }\n",
       "\n",
       "    .dataframe thead th {\n",
       "        text-align: right;\n",
       "    }\n",
       "</style>\n",
       "<table border=\"1\" class=\"dataframe\">\n",
       "  <thead>\n",
       "    <tr style=\"text-align: right;\">\n",
       "      <th></th>\n",
       "      <th>text</th>\n",
       "      <th>cleaned_text</th>\n",
       "    </tr>\n",
       "  </thead>\n",
       "  <tbody>\n",
       "    <tr>\n",
       "      <th>0</th>\n",
       "      <td>on november    pm  \\nas predicted donald trump...</td>\n",
       "      <td>november    pm  \\nas predicted donald trumps v...</td>\n",
       "    </tr>\n",
       "    <tr>\n",
       "      <th>1</th>\n",
       "      <td>by nili nathan \\nposted friday october   at am...</td>\n",
       "      <td>nili nathan \\nposted friday october   edt \\nke...</td>\n",
       "    </tr>\n",
       "    <tr>\n",
       "      <th>2</th>\n",
       "      <td>kingdoms energy minister says move would risk ...</td>\n",
       "      <td>kingdoms energy minister says move would risk ...</td>\n",
       "    </tr>\n",
       "    <tr>\n",
       "      <th>3</th>\n",
       "      <td>worst of saudi economic slump yet to come  \\np...</td>\n",
       "      <td>worst saudi economic slump yet come  \\npress t...</td>\n",
       "    </tr>\n",
       "    <tr>\n",
       "      <th>4</th>\n",
       "      <td>iraq leader of iraqs semiautonomous kurdistan ...</td>\n",
       "      <td>iraq leader iraqs semiautonomous kurdistan reg...</td>\n",
       "    </tr>\n",
       "    <tr>\n",
       "      <th>...</th>\n",
       "      <td>...</td>\n",
       "      <td>...</td>\n",
       "    </tr>\n",
       "    <tr>\n",
       "      <th>404</th>\n",
       "      <td>posted by david risselada \\nmuch to the surpri...</td>\n",
       "      <td>posted david risselada \\nmuch surprise america...</td>\n",
       "    </tr>\n",
       "    <tr>\n",
       "      <th>405</th>\n",
       "      <td>email \\n\\nthe excitement over the us election ...</td>\n",
       "      <td>email \\n\\nthe excitement us election culminati...</td>\n",
       "    </tr>\n",
       "    <tr>\n",
       "      <th>406</th>\n",
       "      <td>home  news  breaking illegal alien causes  mil...</td>\n",
       "      <td>home  news  breaking illegal alien causes  mil...</td>\n",
       "    </tr>\n",
       "    <tr>\n",
       "      <th>407</th>\n",
       "      <td>washington free beacon october   \\nsenior whit...</td>\n",
       "      <td>washington free beacon october   \\nsenior whit...</td>\n",
       "    </tr>\n",
       "    <tr>\n",
       "      <th>408</th>\n",
       "      <td>poor honest guy will be on the streets now sam...</td>\n",
       "      <td>poor honest guy streets sam houston \\ncan star...</td>\n",
       "    </tr>\n",
       "  </tbody>\n",
       "</table>\n",
       "<p>409 rows × 2 columns</p>\n",
       "</div>"
      ],
      "text/plain": [
       "                                                  text  \\\n",
       "0    on november    pm  \\nas predicted donald trump...   \n",
       "1    by nili nathan \\nposted friday october   at am...   \n",
       "2    kingdoms energy minister says move would risk ...   \n",
       "3    worst of saudi economic slump yet to come  \\np...   \n",
       "4    iraq leader of iraqs semiautonomous kurdistan ...   \n",
       "..                                                 ...   \n",
       "404  posted by david risselada \\nmuch to the surpri...   \n",
       "405  email \\n\\nthe excitement over the us election ...   \n",
       "406  home  news  breaking illegal alien causes  mil...   \n",
       "407  washington free beacon october   \\nsenior whit...   \n",
       "408  poor honest guy will be on the streets now sam...   \n",
       "\n",
       "                                          cleaned_text  \n",
       "0    november    pm  \\nas predicted donald trumps v...  \n",
       "1    nili nathan \\nposted friday october   edt \\nke...  \n",
       "2    kingdoms energy minister says move would risk ...  \n",
       "3    worst saudi economic slump yet come  \\npress t...  \n",
       "4    iraq leader iraqs semiautonomous kurdistan reg...  \n",
       "..                                                 ...  \n",
       "404  posted david risselada \\nmuch surprise america...  \n",
       "405  email \\n\\nthe excitement us election culminati...  \n",
       "406  home  news  breaking illegal alien causes  mil...  \n",
       "407  washington free beacon october   \\nsenior whit...  \n",
       "408  poor honest guy streets sam houston \\ncan star...  \n",
       "\n",
       "[409 rows x 2 columns]"
      ]
     },
     "execution_count": 250,
     "metadata": {},
     "output_type": "execute_result"
    }
   ],
   "source": [
    "x_test"
   ]
  },
  {
   "cell_type": "code",
   "execution_count": 16,
   "metadata": {},
   "outputs": [],
   "source": [
    "x_test=x_test.drop('Unnamed: 0',axis=1)\n",
    "x_train=x_train.drop('Unnamed: 0',axis=1)\n",
    "y_test=y_test.drop('Unnamed: 0',axis=1)\n",
    "y_train=y_train.drop('Unnamed: 0',axis=1)"
   ]
  },
  {
   "cell_type": "code",
   "execution_count": 17,
   "metadata": {},
   "outputs": [
    {
     "data": {
      "text/plain": [
       "(1227, 1)"
      ]
     },
     "execution_count": 17,
     "metadata": {},
     "output_type": "execute_result"
    }
   ],
   "source": [
    "x_train.shape"
   ]
  },
  {
   "cell_type": "code",
   "execution_count": 18,
   "metadata": {},
   "outputs": [
    {
     "data": {
      "text/plain": [
       "(1227, 1)"
      ]
     },
     "execution_count": 18,
     "metadata": {},
     "output_type": "execute_result"
    }
   ],
   "source": [
    "y_train.shape"
   ]
  },
  {
   "cell_type": "code",
   "execution_count": 19,
   "metadata": {},
   "outputs": [],
   "source": [
    "x_cv=x_cv.drop('Unnamed: 0',axis=1)\n",
    "y_cv=y_cv.drop('Unnamed: 0',axis=1)"
   ]
  },
  {
   "cell_type": "code",
   "execution_count": 20,
   "metadata": {},
   "outputs": [
    {
     "data": {
      "text/plain": [
       "(409, 1)"
      ]
     },
     "execution_count": 20,
     "metadata": {},
     "output_type": "execute_result"
    }
   ],
   "source": [
    "y_cv.shape"
   ]
  },
  {
   "cell_type": "code",
   "execution_count": 25,
   "metadata": {},
   "outputs": [],
   "source": [
    "import tensorflow_hub as hub"
   ]
  },
  {
   "cell_type": "code",
   "execution_count": 26,
   "metadata": {},
   "outputs": [
    {
     "name": "stdout",
     "output_type": "stream",
     "text": [
      "module https://tfhub.dev/google/universal-sentence-encoder/4 loaded\n"
     ]
    }
   ],
   "source": [
    "module_url = \"https://tfhub.dev/google/universal-sentence-encoder/4\"\n",
    "model = hub.load(module_url)\n",
    "print (\"module %s loaded\" % module_url)\n",
    "def embed(input):\n",
    "    return model(input)\n"
   ]
  },
  {
   "cell_type": "code",
   "execution_count": 27,
   "metadata": {},
   "outputs": [],
   "source": [
    "message_embeddings = embed(x_train['cleaned_text'])\n"
   ]
  },
  {
   "cell_type": "code",
   "execution_count": 29,
   "metadata": {},
   "outputs": [
    {
     "data": {
      "text/plain": [
       "TensorShape([1227, 512])"
      ]
     },
     "execution_count": 29,
     "metadata": {},
     "output_type": "execute_result"
    }
   ],
   "source": [
    "message_embeddings.shape"
   ]
  },
  {
   "cell_type": "code",
   "execution_count": null,
   "metadata": {},
   "outputs": [],
   "source": [
    "# from sklearn.feature_extraction.text import TfidfVectorizer, CountVectorizer"
   ]
  },
  {
   "cell_type": "code",
   "execution_count": null,
   "metadata": {},
   "outputs": [],
   "source": [
    "# print(afb)"
   ]
  },
  {
   "cell_type": "code",
   "execution_count": null,
   "metadata": {
    "scrolled": true
   },
   "outputs": [],
   "source": [
    "# # ngram level tf-idf \n",
    "# tfidf_vect_ngram = TfidfVectorizer(analyzer='word', token_pattern=r'\\w{1,}', ngram_range=(2,3), max_features=5000)\n",
    "# tfidf_vect_ngram.fit(x_train['cleaned_text'])\n",
    "# xtrain_tfidf_ngram =  tfidf_vect_ngram.transform(x_train['cleaned_text'])\n"
   ]
  },
  {
   "cell_type": "code",
   "execution_count": 30,
   "metadata": {},
   "outputs": [],
   "source": [
    "xtrain_tfidf_ngram=message_embeddings"
   ]
  },
  {
   "cell_type": "code",
   "execution_count": 190,
   "metadata": {
    "collapsed": true
   },
   "outputs": [
    {
     "ename": "KeyError",
     "evalue": "'text'",
     "output_type": "error",
     "traceback": [
      "\u001b[0;31m---------------------------------------------------------------------------\u001b[0m",
      "\u001b[0;31mKeyError\u001b[0m                                  Traceback (most recent call last)",
      "\u001b[0;32m~/miniconda3/envs/myenv/lib/python3.6/site-packages/pandas/core/indexes/base.py\u001b[0m in \u001b[0;36mget_loc\u001b[0;34m(self, key, method, tolerance)\u001b[0m\n\u001b[1;32m   2894\u001b[0m             \u001b[0;32mtry\u001b[0m\u001b[0;34m:\u001b[0m\u001b[0;34m\u001b[0m\u001b[0;34m\u001b[0m\u001b[0m\n\u001b[0;32m-> 2895\u001b[0;31m                 \u001b[0;32mreturn\u001b[0m \u001b[0mself\u001b[0m\u001b[0;34m.\u001b[0m\u001b[0m_engine\u001b[0m\u001b[0;34m.\u001b[0m\u001b[0mget_loc\u001b[0m\u001b[0;34m(\u001b[0m\u001b[0mcasted_key\u001b[0m\u001b[0;34m)\u001b[0m\u001b[0;34m\u001b[0m\u001b[0;34m\u001b[0m\u001b[0m\n\u001b[0m\u001b[1;32m   2896\u001b[0m             \u001b[0;32mexcept\u001b[0m \u001b[0mKeyError\u001b[0m \u001b[0;32mas\u001b[0m \u001b[0merr\u001b[0m\u001b[0;34m:\u001b[0m\u001b[0;34m\u001b[0m\u001b[0;34m\u001b[0m\u001b[0m\n",
      "\u001b[0;32mpandas/_libs/index.pyx\u001b[0m in \u001b[0;36mpandas._libs.index.IndexEngine.get_loc\u001b[0;34m()\u001b[0m\n",
      "\u001b[0;32mpandas/_libs/index.pyx\u001b[0m in \u001b[0;36mpandas._libs.index.IndexEngine.get_loc\u001b[0;34m()\u001b[0m\n",
      "\u001b[0;32mpandas/_libs/hashtable_class_helper.pxi\u001b[0m in \u001b[0;36mpandas._libs.hashtable.PyObjectHashTable.get_item\u001b[0;34m()\u001b[0m\n",
      "\u001b[0;32mpandas/_libs/hashtable_class_helper.pxi\u001b[0m in \u001b[0;36mpandas._libs.hashtable.PyObjectHashTable.get_item\u001b[0;34m()\u001b[0m\n",
      "\u001b[0;31mKeyError\u001b[0m: 'text'",
      "\nThe above exception was the direct cause of the following exception:\n",
      "\u001b[0;31mKeyError\u001b[0m                                  Traceback (most recent call last)",
      "\u001b[0;32m<ipython-input-190-514d3a1c561b>\u001b[0m in \u001b[0;36m<module>\u001b[0;34m\u001b[0m\n\u001b[0;32m----> 1\u001b[0;31m \u001b[0mx_cv\u001b[0m\u001b[0;34m[\u001b[0m\u001b[0;34m'cleaned_text'\u001b[0m\u001b[0;34m]\u001b[0m \u001b[0;34m=\u001b[0m \u001b[0mx_cv\u001b[0m\u001b[0;34m[\u001b[0m\u001b[0;34m'text'\u001b[0m\u001b[0;34m]\u001b[0m\u001b[0;34m.\u001b[0m\u001b[0mapply\u001b[0m\u001b[0;34m(\u001b[0m\u001b[0mtweets_cleaning\u001b[0m\u001b[0;34m)\u001b[0m\u001b[0;34m\u001b[0m\u001b[0;34m\u001b[0m\u001b[0m\n\u001b[0m\u001b[1;32m      2\u001b[0m \u001b[0mxvalid_tfidf_ngram\u001b[0m \u001b[0;34m=\u001b[0m  \u001b[0membed\u001b[0m\u001b[0;34m(\u001b[0m\u001b[0mx_cv\u001b[0m\u001b[0;34m[\u001b[0m\u001b[0;34m'cleaned_text'\u001b[0m\u001b[0;34m]\u001b[0m\u001b[0;34m)\u001b[0m\u001b[0;34m\u001b[0m\u001b[0;34m\u001b[0m\u001b[0m\n",
      "\u001b[0;32m~/miniconda3/envs/myenv/lib/python3.6/site-packages/pandas/core/frame.py\u001b[0m in \u001b[0;36m__getitem__\u001b[0;34m(self, key)\u001b[0m\n\u001b[1;32m   2900\u001b[0m             \u001b[0;32mif\u001b[0m \u001b[0mself\u001b[0m\u001b[0;34m.\u001b[0m\u001b[0mcolumns\u001b[0m\u001b[0;34m.\u001b[0m\u001b[0mnlevels\u001b[0m \u001b[0;34m>\u001b[0m \u001b[0;36m1\u001b[0m\u001b[0;34m:\u001b[0m\u001b[0;34m\u001b[0m\u001b[0;34m\u001b[0m\u001b[0m\n\u001b[1;32m   2901\u001b[0m                 \u001b[0;32mreturn\u001b[0m \u001b[0mself\u001b[0m\u001b[0;34m.\u001b[0m\u001b[0m_getitem_multilevel\u001b[0m\u001b[0;34m(\u001b[0m\u001b[0mkey\u001b[0m\u001b[0;34m)\u001b[0m\u001b[0;34m\u001b[0m\u001b[0;34m\u001b[0m\u001b[0m\n\u001b[0;32m-> 2902\u001b[0;31m             \u001b[0mindexer\u001b[0m \u001b[0;34m=\u001b[0m \u001b[0mself\u001b[0m\u001b[0;34m.\u001b[0m\u001b[0mcolumns\u001b[0m\u001b[0;34m.\u001b[0m\u001b[0mget_loc\u001b[0m\u001b[0;34m(\u001b[0m\u001b[0mkey\u001b[0m\u001b[0;34m)\u001b[0m\u001b[0;34m\u001b[0m\u001b[0;34m\u001b[0m\u001b[0m\n\u001b[0m\u001b[1;32m   2903\u001b[0m             \u001b[0;32mif\u001b[0m \u001b[0mis_integer\u001b[0m\u001b[0;34m(\u001b[0m\u001b[0mindexer\u001b[0m\u001b[0;34m)\u001b[0m\u001b[0;34m:\u001b[0m\u001b[0;34m\u001b[0m\u001b[0;34m\u001b[0m\u001b[0m\n\u001b[1;32m   2904\u001b[0m                 \u001b[0mindexer\u001b[0m \u001b[0;34m=\u001b[0m \u001b[0;34m[\u001b[0m\u001b[0mindexer\u001b[0m\u001b[0;34m]\u001b[0m\u001b[0;34m\u001b[0m\u001b[0;34m\u001b[0m\u001b[0m\n",
      "\u001b[0;32m~/miniconda3/envs/myenv/lib/python3.6/site-packages/pandas/core/indexes/base.py\u001b[0m in \u001b[0;36mget_loc\u001b[0;34m(self, key, method, tolerance)\u001b[0m\n\u001b[1;32m   2895\u001b[0m                 \u001b[0;32mreturn\u001b[0m \u001b[0mself\u001b[0m\u001b[0;34m.\u001b[0m\u001b[0m_engine\u001b[0m\u001b[0;34m.\u001b[0m\u001b[0mget_loc\u001b[0m\u001b[0;34m(\u001b[0m\u001b[0mcasted_key\u001b[0m\u001b[0;34m)\u001b[0m\u001b[0;34m\u001b[0m\u001b[0;34m\u001b[0m\u001b[0m\n\u001b[1;32m   2896\u001b[0m             \u001b[0;32mexcept\u001b[0m \u001b[0mKeyError\u001b[0m \u001b[0;32mas\u001b[0m \u001b[0merr\u001b[0m\u001b[0;34m:\u001b[0m\u001b[0;34m\u001b[0m\u001b[0;34m\u001b[0m\u001b[0m\n\u001b[0;32m-> 2897\u001b[0;31m                 \u001b[0;32mraise\u001b[0m \u001b[0mKeyError\u001b[0m\u001b[0;34m(\u001b[0m\u001b[0mkey\u001b[0m\u001b[0;34m)\u001b[0m \u001b[0;32mfrom\u001b[0m \u001b[0merr\u001b[0m\u001b[0;34m\u001b[0m\u001b[0;34m\u001b[0m\u001b[0m\n\u001b[0m\u001b[1;32m   2898\u001b[0m \u001b[0;34m\u001b[0m\u001b[0m\n\u001b[1;32m   2899\u001b[0m         \u001b[0;32mif\u001b[0m \u001b[0mtolerance\u001b[0m \u001b[0;32mis\u001b[0m \u001b[0;32mnot\u001b[0m \u001b[0;32mNone\u001b[0m\u001b[0;34m:\u001b[0m\u001b[0;34m\u001b[0m\u001b[0;34m\u001b[0m\u001b[0m\n",
      "\u001b[0;31mKeyError\u001b[0m: 'text'"
     ]
    }
   ],
   "source": [
    "\n",
    "xvalid_tfidf_ngram =  embed(x_cv['cleaned_text'])"
   ]
  },
  {
   "cell_type": "code",
   "execution_count": 219,
   "metadata": {},
   "outputs": [
    {
     "data": {
      "text/plain": [
       "dtype('float32')"
      ]
     },
     "execution_count": 219,
     "metadata": {},
     "output_type": "execute_result"
    }
   ],
   "source": [
    "xtrain_tfidf_ngram.dtype\n"
   ]
  },
  {
   "cell_type": "code",
   "execution_count": 218,
   "metadata": {
    "scrolled": true
   },
   "outputs": [
    {
     "data": {
      "text/plain": [
       "dtype('float32')"
      ]
     },
     "execution_count": 218,
     "metadata": {},
     "output_type": "execute_result"
    }
   ],
   "source": [
    "xvalid_tfidf_ngram.dtype\n"
   ]
  },
  {
   "cell_type": "code",
   "execution_count": 231,
   "metadata": {
    "scrolled": true
   },
   "outputs": [],
   "source": [
    "x_test['cleaned_text'] = x_test['text'].apply(tweets_cleaning)\n"
   ]
  },
  {
   "cell_type": "code",
   "execution_count": 232,
   "metadata": {},
   "outputs": [],
   "source": [
    "message_embeddings =  embed(x_test['cleaned_text'],)"
   ]
  },
  {
   "cell_type": "code",
   "execution_count": 234,
   "metadata": {},
   "outputs": [
    {
     "data": {
      "text/plain": [
       "tf.float32"
      ]
     },
     "execution_count": 234,
     "metadata": {},
     "output_type": "execute_result"
    }
   ],
   "source": [
    "# del(xtest_tfidf_ngram)\n",
    "xtest_tfidf_ngram.dtype"
   ]
  },
  {
   "cell_type": "code",
   "execution_count": 233,
   "metadata": {},
   "outputs": [],
   "source": [
    "xtest_tfidf_ngram=message_embeddings"
   ]
  },
  {
   "cell_type": "code",
   "execution_count": 222,
   "metadata": {},
   "outputs": [],
   "source": [
    "import tensorflow as tf"
   ]
  },
  {
   "cell_type": "code",
   "execution_count": 238,
   "metadata": {},
   "outputs": [],
   "source": [
    "xtest_tfidf_ngram= tf.cast(xtest_tfidf_ngram, dtype='float32')\n"
   ]
  },
  {
   "cell_type": "code",
   "execution_count": 252,
   "metadata": {},
   "outputs": [],
   "source": [
    "xtest_tfidf_ngram=np.array(xtest_tfidf_ngram)"
   ]
  },
  {
   "cell_type": "code",
   "execution_count": 256,
   "metadata": {},
   "outputs": [
    {
     "data": {
      "text/plain": [
       "array([[ 0.03621271, -0.04770545, -0.04798669, ...,  0.03091822,\n",
       "        -0.04798758, -0.03491034],\n",
       "       [ 0.04693752, -0.04799411,  0.03501153, ...,  0.02970324,\n",
       "         0.04799334,  0.04549595],\n",
       "       [ 0.04671502, -0.04671953, -0.04634537, ..., -0.04139103,\n",
       "        -0.04671953, -0.04654075],\n",
       "       ...,\n",
       "       [ 0.04746977, -0.04749916,  0.04381335, ..., -0.04749719,\n",
       "        -0.04750086, -0.04749212],\n",
       "       [ 0.0353546 , -0.05154573, -0.05232391, ...,  0.02709214,\n",
       "        -0.05276613,  0.02086133],\n",
       "       [ 0.04475939, -0.04587021,  0.03900478, ..., -0.04587021,\n",
       "        -0.04587021,  0.04467331]], dtype=float32)"
      ]
     },
     "execution_count": 256,
     "metadata": {},
     "output_type": "execute_result"
    }
   ],
   "source": [
    "xtest_tfidf_ngram"
   ]
  },
  {
   "cell_type": "code",
   "execution_count": 248,
   "metadata": {},
   "outputs": [
    {
     "data": {
      "text/plain": [
       "<tf.Tensor: shape=(409, 512), dtype=float32, numpy=\n",
       "array([[ 0.03621271, -0.04770545, -0.04798669, ...,  0.03091822,\n",
       "        -0.04798758, -0.03491034],\n",
       "       [ 0.04693752, -0.04799411,  0.03501153, ...,  0.02970324,\n",
       "         0.04799334,  0.04549595],\n",
       "       [ 0.04671502, -0.04671953, -0.04634537, ..., -0.04139103,\n",
       "        -0.04671953, -0.04654075],\n",
       "       ...,\n",
       "       [ 0.04746977, -0.04749916,  0.04381335, ..., -0.04749719,\n",
       "        -0.04750086, -0.04749212],\n",
       "       [ 0.0353546 , -0.05154573, -0.05232391, ...,  0.02709214,\n",
       "        -0.05276613,  0.02086133],\n",
       "       [ 0.04475939, -0.04587021,  0.03900478, ..., -0.04587021,\n",
       "        -0.04587021,  0.04467331]], dtype=float32)>"
      ]
     },
     "execution_count": 248,
     "metadata": {},
     "output_type": "execute_result"
    }
   ],
   "source": [
    "tf.cast(xtest_tfidf_ngram, dtype=tf.float32)\n"
   ]
  },
  {
   "cell_type": "code",
   "execution_count": 243,
   "metadata": {},
   "outputs": [
    {
     "data": {
      "text/plain": [
       "tf.float32"
      ]
     },
     "execution_count": 243,
     "metadata": {},
     "output_type": "execute_result"
    }
   ],
   "source": [
    "xtest_tfidf_ngram.dtype"
   ]
  },
  {
   "cell_type": "code",
   "execution_count": 33,
   "metadata": {},
   "outputs": [],
   "source": [
    "from nltk.tokenize import word_tokenize\n",
    "import gensim\n",
    "import string\n",
    "from keras.preprocessing.text import Tokenizer"
   ]
  },
  {
   "cell_type": "markdown",
   "metadata": {},
   "source": [
    "# 5. Decision Trees"
   ]
  },
  {
   "cell_type": "code",
   "execution_count": 34,
   "metadata": {},
   "outputs": [],
   "source": [
    "from sklearn.model_selection import RandomizedSearchCV, GridSearchCV\n",
    "from sklearn.metrics import roc_auc_score,roc_curve, auc\n",
    "from sklearn.model_selection import StratifiedKFold\n",
    "from sklearn.tree import DecisionTreeClassifier"
   ]
  },
  {
   "cell_type": "code",
   "execution_count": null,
   "metadata": {},
   "outputs": [],
   "source": [
    "\n",
    "# pipeline_dt = Pipeline([\n",
    "# ('bow', CountVectorizer(analyzer=text_process)),  # strings to token integer counts\n",
    "#     ('tfidf', TfidfTransformer()),  # integer counts to weighted TF-IDF scores\n",
    "#     ('classifier', DecisionTreeClassifier()),  # train on TF-IDF vectors w/ SVM\n",
    "# ])"
   ]
  },
  {
   "cell_type": "code",
   "execution_count": 51,
   "metadata": {},
   "outputs": [],
   "source": [
    "xtrain_tfidf_ngram=np.array(xtrain_tfidf_ngram)\n",
    "xvalid_tfidf_ngram=np.array(xvalid_tfidf_ngram)"
   ]
  },
  {
   "cell_type": "code",
   "execution_count": 65,
   "metadata": {},
   "outputs": [],
   "source": [
    "# from tempfile import TemporaryFile\n",
    "\n",
    "# outfile = TemporaryFile()\n",
    "np.save(\"xtrain_tfidf_ngram\", xtrain_tfidf_ngram)"
   ]
  },
  {
   "cell_type": "code",
   "execution_count": 66,
   "metadata": {},
   "outputs": [
    {
     "data": {
      "text/plain": [
       "(1227, 512)"
      ]
     },
     "execution_count": 66,
     "metadata": {},
     "output_type": "execute_result"
    }
   ],
   "source": [
    "xtrain_tfidf_ngram.shape"
   ]
  },
  {
   "cell_type": "code",
   "execution_count": 67,
   "metadata": {},
   "outputs": [],
   "source": [
    "# _ = outfile.seek(0) # Only needed here to simulate closing & reopening file\n",
    "\n",
    "# np.load(outfile)\n",
    "np.save(\"xvalid_tfidf_ngram\", xvalid_tfidf_ngram)"
   ]
  },
  {
   "cell_type": "code",
   "execution_count": 259,
   "metadata": {},
   "outputs": [],
   "source": [
    "# _ = outfile.seek(0) # Only needed here to simulate closing & reopening file\n",
    "\n",
    "# np.load(outfile)\n",
    "np.save(\"xtest_tfidf_ngram\", xtest_tfidf_ngram)"
   ]
  },
  {
   "cell_type": "code",
   "execution_count": 52,
   "metadata": {},
   "outputs": [],
   "source": [
    "parameter_decisiontree = {'max_depth':[4,5,6,7,8,9,10,13,16,18,21,24],\n",
    "#                           'min_impurity_decrease':[0.1,0.2,0.3,0.25,0.35],\n",
    "                         'ccp_alpha':np.arange(0, 0.4, 0.1).tolist(),\n",
    "                          'criterion':['gini','entropy'],\n",
    "#                          'min_samples_split':[0.1,0.08,0.06,.15]\n",
    "                         }\n",
    "\n",
    "model_DecTreeClass = DecisionTreeClassifier()\n",
    "DTmodel  =GridSearchCV(model_DecTreeClass,parameter_decisiontree)\n",
    "\n",
    "# model_DecTreeClass = DecisionTreeClassifier(random_state=0)\n",
    "# DTmodel  =GridSearchCV(model_DecTreeClass,parameter_decisiontree)\n",
    "\n",
    "# false_positive_rate, true_positive_rate, thresholds = roc_curve(y_test, y_pred_DecTreeClass)\n",
    "# roc_auc = auc(false_positive_rate, true_positive_rate)\n",
    "# print('AUC: %.2f' % (roc_auc*100), \"%\")\n",
    "\n",
    "\n"
   ]
  },
  {
   "cell_type": "code",
   "execution_count": null,
   "metadata": {},
   "outputs": [],
   "source": [
    "xtrain_tfidf_ngram.shape\n"
   ]
  },
  {
   "cell_type": "code",
   "execution_count": null,
   "metadata": {
    "scrolled": true
   },
   "outputs": [],
   "source": [
    "DTmodel"
   ]
  },
  {
   "cell_type": "code",
   "execution_count": null,
   "metadata": {},
   "outputs": [],
   "source": [
    "# y_train.columns=['label']"
   ]
  },
  {
   "cell_type": "code",
   "execution_count": null,
   "metadata": {},
   "outputs": [],
   "source": [
    "263/(263+146)"
   ]
  },
  {
   "cell_type": "code",
   "execution_count": null,
   "metadata": {},
   "outputs": [],
   "source": [
    "y_test.label.value_counts()"
   ]
  },
  {
   "cell_type": "code",
   "execution_count": null,
   "metadata": {},
   "outputs": [],
   "source": [
    "y_train.label.value_counts()"
   ]
  },
  {
   "cell_type": "code",
   "execution_count": null,
   "metadata": {},
   "outputs": [],
   "source": [
    "xtrain_tfidf_ngram.shape"
   ]
  },
  {
   "cell_type": "code",
   "execution_count": 53,
   "metadata": {
    "scrolled": true
   },
   "outputs": [
    {
     "data": {
      "text/plain": [
       "GridSearchCV(estimator=DecisionTreeClassifier(),\n",
       "             param_grid={'ccp_alpha': [0.0, 0.1, 0.2, 0.30000000000000004],\n",
       "                         'criterion': ['gini', 'entropy'],\n",
       "                         'max_depth': [4, 5, 6, 7, 8, 9, 10, 13, 16, 18, 21,\n",
       "                                       24]})"
      ]
     },
     "execution_count": 53,
     "metadata": {},
     "output_type": "execute_result"
    }
   ],
   "source": [
    "DTmodel.fit(xtrain_tfidf_ngram,y_train['label'])\n",
    "y_pred_DecTreeClass = DTmodel.predict(xvalid_tfidf_ngram)\n",
    "\n"
   ]
  },
  {
   "cell_type": "code",
   "execution_count": 54,
   "metadata": {
    "scrolled": true
   },
   "outputs": [
    {
     "data": {
      "text/plain": [
       "{'ccp_alpha': 0.0, 'criterion': 'gini', 'max_depth': 24}"
      ]
     },
     "execution_count": 54,
     "metadata": {},
     "output_type": "execute_result"
    }
   ],
   "source": [
    "DTmodel.best_params_"
   ]
  },
  {
   "cell_type": "code",
   "execution_count": 55,
   "metadata": {
    "scrolled": true
   },
   "outputs": [
    {
     "data": {
      "text/plain": [
       "['DTgrid_NLP_USE.pkl']"
      ]
     },
     "execution_count": 55,
     "metadata": {},
     "output_type": "execute_result"
    }
   ],
   "source": [
    "import joblib\n",
    "\n",
    "joblib.dump(DTmodel, 'DTgrid_NLP_USEUSE.pkl')"
   ]
  },
  {
   "cell_type": "code",
   "execution_count": 56,
   "metadata": {},
   "outputs": [],
   "source": [
    "from sklearn import metrics"
   ]
  },
  {
   "cell_type": "code",
   "execution_count": null,
   "metadata": {},
   "outputs": [],
   "source": [
    "y_train.label.value_counts()"
   ]
  },
  {
   "cell_type": "code",
   "execution_count": 57,
   "metadata": {},
   "outputs": [
    {
     "data": {
      "text/plain": [
       "<Figure size 576x432 with 0 Axes>"
      ]
     },
     "execution_count": 57,
     "metadata": {},
     "output_type": "execute_result"
    },
    {
     "data": {
      "text/plain": [
       "<AxesSubplot:>"
      ]
     },
     "execution_count": 57,
     "metadata": {},
     "output_type": "execute_result"
    },
    {
     "data": {
      "text/plain": [
       "Text(0.5, 1.0, 'Confusion_matrix')"
      ]
     },
     "execution_count": 57,
     "metadata": {},
     "output_type": "execute_result"
    },
    {
     "data": {
      "text/plain": [
       "Text(0.5, 33.0, 'Predicted Class')"
      ]
     },
     "execution_count": 57,
     "metadata": {},
     "output_type": "execute_result"
    },
    {
     "data": {
      "text/plain": [
       "Text(51.0, 0.5, 'Actual class')"
      ]
     },
     "execution_count": 57,
     "metadata": {},
     "output_type": "execute_result"
    },
    {
     "data": {
      "image/png": "[encoded data removed]",
      "text/plain": [
       "<Figure size 576x432 with 2 Axes>"
      ]
     },
     "metadata": {
      "needs_background": "light"
     },
     "output_type": "display_data"
    },
    {
     "name": "stdout",
     "output_type": "stream",
     "text": [
      "Confusion matrix: \n",
      " [[176  89]\n",
      " [ 73  71]]\n",
      "TP:  71\n",
      "TN:  176\n",
      "FP:  89\n",
      "FN:  73\n",
      "Classification report: \n",
      "               precision    recall  f1-score   support\n",
      "\n",
      "           0       0.71      0.66      0.68       265\n",
      "           1       0.44      0.49      0.47       144\n",
      "\n",
      "    accuracy                           0.60       409\n",
      "   macro avg       0.58      0.58      0.58       409\n",
      "weighted avg       0.61      0.60      0.61       409\n",
      "\n",
      "Accuracy_Score: 60.391198044009776 %\n",
      "Recall: 49.30555555555556 %\n",
      "precision_score: 44.375 %\n",
      "F1 Score: 46.71052631578947 %\n"
     ]
    }
   ],
   "source": [
    "\n",
    "\n",
    "\n",
    "\n",
    "conf_mat = metrics.confusion_matrix(y_cv, y_pred_DecTreeClass)\n",
    "plt.figure(figsize=(8,6))\n",
    "sns.heatmap(conf_mat,annot=True)\n",
    "plt.title(\"Confusion_matrix\")\n",
    "plt.xlabel(\"Predicted Class\")\n",
    "plt.ylabel(\"Actual class\")\n",
    "plt.show()\n",
    "print('Confusion matrix: \\n', conf_mat)\n",
    "print('TP: ', conf_mat[1,1])\n",
    "print('TN: ', conf_mat[0,0])\n",
    "print('FP: ', conf_mat[0,1])\n",
    "print('FN: ', conf_mat[1,0])\n",
    "\n",
    "print('Classification report: \\n', metrics.classification_report(y_cv, y_pred_DecTreeClass))\n",
    "print('Accuracy_Score:',metrics.accuracy_score(y_cv, y_pred_DecTreeClass)*100,'%')\n",
    "# print('Recall:',metrics.recall_score(y_cv, y_pred_DecTreeClass)*100,'%')\n",
    "print('Recall:',metrics.recall_score(y_cv, y_pred_DecTreeClass)*100,'%')\n",
    "print('precision_score:',metrics.precision_score(y_cv, y_pred_DecTreeClass)*100,'%')\n",
    "print('F1 Score:',metrics.f1_score(y_cv, y_pred_DecTreeClass)*100,'%')"
   ]
  },
  {
   "cell_type": "code",
   "execution_count": 58,
   "metadata": {},
   "outputs": [
    {
     "name": "stdout",
     "output_type": "stream",
     "text": [
      "Training Accuracy_Score: 99.83700081499592 %\n",
      "Training Recall: 99.56896551724138 %\n",
      "Training precision_score: 100.0 %\n",
      "Training F1 Score: 99.78401727861772 %\n"
     ]
    }
   ],
   "source": [
    "print('Training Accuracy_Score:',metrics.accuracy_score(y_train, DTmodel.predict(xtrain_tfidf_ngram))*100,'%')\n",
    "print('Training Recall:',metrics.recall_score(y_train, DTmodel.predict(xtrain_tfidf_ngram))*100,'%')\n",
    "print('Training precision_score:',metrics.precision_score(y_train, DTmodel.predict(xtrain_tfidf_ngram))*100,'%')\n",
    "print('Training F1 Score:',metrics.f1_score(y_train, DTmodel.predict(xtrain_tfidf_ngram))*100,'%')"
   ]
  },
  {
   "cell_type": "code",
   "execution_count": null,
   "metadata": {},
   "outputs": [],
   "source": []
  },
  {
   "cell_type": "code",
   "execution_count": 61,
   "metadata": {},
   "outputs": [
    {
     "data": {
      "text/plain": [
       "Text(0.5, 1.0, 'Validation Curve with DT')"
      ]
     },
     "execution_count": 61,
     "metadata": {},
     "output_type": "execute_result"
    },
    {
     "data": {
      "text/plain": [
       "Text(0.5, 0, 'max_depth')"
      ]
     },
     "execution_count": 61,
     "metadata": {},
     "output_type": "execute_result"
    },
    {
     "data": {
      "text/plain": [
       "Text(0, 0.5, 'Score')"
      ]
     },
     "execution_count": 61,
     "metadata": {},
     "output_type": "execute_result"
    },
    {
     "data": {
      "text/plain": [
       "(0.0, 1.1)"
      ]
     },
     "execution_count": 61,
     "metadata": {},
     "output_type": "execute_result"
    },
    {
     "data": {
      "text/plain": [
       "[<matplotlib.lines.Line2D at 0x7f2670ec3be0>]"
      ]
     },
     "execution_count": 61,
     "metadata": {},
     "output_type": "execute_result"
    },
    {
     "data": {
      "text/plain": [
       "<matplotlib.collections.PolyCollection at 0x7f269cac9d30>"
      ]
     },
     "execution_count": 61,
     "metadata": {},
     "output_type": "execute_result"
    },
    {
     "data": {
      "text/plain": [
       "[<matplotlib.lines.Line2D at 0x7f269c2923c8>]"
      ]
     },
     "execution_count": 61,
     "metadata": {},
     "output_type": "execute_result"
    },
    {
     "data": {
      "text/plain": [
       "<matplotlib.collections.PolyCollection at 0x7f269cbe0a90>"
      ]
     },
     "execution_count": 61,
     "metadata": {},
     "output_type": "execute_result"
    },
    {
     "data": {
      "text/plain": [
       "<matplotlib.legend.Legend at 0x7f269cbe05c0>"
      ]
     },
     "execution_count": 61,
     "metadata": {},
     "output_type": "execute_result"
    },
    {
     "data": {
      "image/png": "[encoded data removed]",
      "text/plain": [
       "<Figure size 432x288 with 1 Axes>"
      ]
     },
     "metadata": {
      "needs_background": "light"
     },
     "output_type": "display_data"
    }
   ],
   "source": [
    "parameter_decisiontree = [4,7,8,9,10,13,16,18,21,24,27,30]\n",
    "from sklearn.model_selection import validation_curve\n",
    "#https://www.scikit-yb.org/en/latest/api/model_selection/validation_curve.html\n",
    "training_scores,testing_scores = validation_curve(\n",
    "    DecisionTreeClassifier(random_state=0,criterion='entropy'), xtrain_tfidf_ngram, y_train,\n",
    "    param_range=parameter_decisiontree,  scoring=\"precision\",param_name=\"max_depth\",cv=5\n",
    ")\n",
    "\n",
    "\n",
    "train_scores_mean = np.mean(training_scores, axis=1)\n",
    "train_scores_std = np.std(training_scores, axis=1)\n",
    "test_scores_mean = np.mean(testing_scores, axis=1)\n",
    "test_scores_std = np.std(testing_scores, axis=1)\n",
    "param_range=[4,7,8,9,10,13,16,18,21,24,27,30]\n",
    "plt.title(\"Validation Curve with DT\")\n",
    "plt.xlabel(\"max_depth\")\n",
    "plt.ylabel(\"Score\")\n",
    "plt.ylim(0.0, 1.1)\n",
    "lw = 2\n",
    "plt.semilogx(param_range, train_scores_mean, label=\"Training score\",\n",
    "             color=\"darkorange\", lw=lw)\n",
    "plt.fill_between(param_range, train_scores_mean - train_scores_std,\n",
    "                 train_scores_mean + train_scores_std, alpha=0.2,\n",
    "                 color=\"darkorange\", lw=lw)\n",
    "plt.semilogx(param_range, test_scores_mean, label=\"Cross-validation score\",\n",
    "             color=\"navy\", lw=lw)\n",
    "plt.fill_between(param_range, test_scores_mean - test_scores_std,\n",
    "                 test_scores_mean + test_scores_std, alpha=0.2,\n",
    "                 color=\"navy\", lw=lw)\n",
    "plt.legend(loc=\"best\")\n",
    "plt.show()"
   ]
  },
  {
   "cell_type": "code",
   "execution_count": 68,
   "metadata": {},
   "outputs": [
    {
     "data": {
      "text/plain": [
       "Text(0.5, 1.0, 'Validation Curve with DT')"
      ]
     },
     "execution_count": 68,
     "metadata": {},
     "output_type": "execute_result"
    },
    {
     "data": {
      "text/plain": [
       "Text(0.5, 0, 'max_depth')"
      ]
     },
     "execution_count": 68,
     "metadata": {},
     "output_type": "execute_result"
    },
    {
     "data": {
      "text/plain": [
       "Text(0, 0.5, 'Score')"
      ]
     },
     "execution_count": 68,
     "metadata": {},
     "output_type": "execute_result"
    },
    {
     "data": {
      "text/plain": [
       "(0.0, 1.1)"
      ]
     },
     "execution_count": 68,
     "metadata": {},
     "output_type": "execute_result"
    },
    {
     "data": {
      "text/plain": [
       "[<matplotlib.lines.Line2D at 0x7f262d568550>]"
      ]
     },
     "execution_count": 68,
     "metadata": {},
     "output_type": "execute_result"
    },
    {
     "data": {
      "text/plain": [
       "<matplotlib.collections.PolyCollection at 0x7f262d50bfd0>"
      ]
     },
     "execution_count": 68,
     "metadata": {},
     "output_type": "execute_result"
    },
    {
     "data": {
      "text/plain": [
       "[<matplotlib.lines.Line2D at 0x7f263f455a58>]"
      ]
     },
     "execution_count": 68,
     "metadata": {},
     "output_type": "execute_result"
    },
    {
     "data": {
      "text/plain": [
       "<matplotlib.collections.PolyCollection at 0x7f262d532fd0>"
      ]
     },
     "execution_count": 68,
     "metadata": {},
     "output_type": "execute_result"
    },
    {
     "data": {
      "text/plain": [
       "<matplotlib.legend.Legend at 0x7f262d532eb8>"
      ]
     },
     "execution_count": 68,
     "metadata": {},
     "output_type": "execute_result"
    },
    {
     "data": {
      "image/png": "[encoded data removed]",
      "text/plain": [
       "<Figure size 432x288 with 1 Axes>"
      ]
     },
     "metadata": {
      "needs_background": "light"
     },
     "output_type": "display_data"
    }
   ],
   "source": [
    "parameter_decisiontree = [4,7,8,9,10,13,16,18,21,24,27,30]\n",
    "from sklearn.model_selection import validation_curve\n",
    "#https://www.scikit-yb.org/en/latest/api/model_selection/validation_curve.html\n",
    "training_scores,testing_scores = validation_curve(\n",
    "    DecisionTreeClassifier(random_state=0,criterion='gini'), xtrain_tfidf_ngram, y_train,\n",
    "    param_range=parameter_decisiontree,  scoring=\"precision\",param_name=\"max_depth\",cv=5\n",
    ")\n",
    "\n",
    "\n",
    "train_scores_mean = np.mean(training_scores, axis=1)\n",
    "train_scores_std = np.std(training_scores, axis=1)\n",
    "test_scores_mean = np.mean(testing_scores, axis=1)\n",
    "test_scores_std = np.std(testing_scores, axis=1)\n",
    "param_range=[4,7,8,9,10,13,16,18,21,24,27,30]\n",
    "plt.title(\"Validation Curve with DT\")\n",
    "plt.xlabel(\"max_depth\")\n",
    "plt.ylabel(\"Score\")\n",
    "plt.ylim(0.0, 1.1)\n",
    "lw = 2\n",
    "plt.semilogx(param_range, train_scores_mean, label=\"Training score\",\n",
    "             color=\"darkorange\", lw=lw)\n",
    "plt.fill_between(param_range, train_scores_mean - train_scores_std,\n",
    "                 train_scores_mean + train_scores_std, alpha=0.2,\n",
    "                 color=\"darkorange\", lw=lw)\n",
    "plt.semilogx(param_range, test_scores_mean, label=\"Cross-validation score\",\n",
    "             color=\"navy\", lw=lw)\n",
    "plt.fill_between(param_range, test_scores_mean - test_scores_std,\n",
    "                 test_scores_mean + test_scores_std, alpha=0.2,\n",
    "                 color=\"navy\", lw=lw)\n",
    "plt.legend(loc=\"best\")\n",
    "plt.show()"
   ]
  },
  {
   "cell_type": "code",
   "execution_count": 69,
   "metadata": {},
   "outputs": [],
   "source": [
    "\n",
    "\n",
    "dt = DecisionTreeClassifier(random_state=42, criterion=\"gini\",\n",
    "#                              min_samples_split=10, min_samples_leaf=10,\n",
    "                            max_depth=8)"
   ]
  },
  {
   "cell_type": "code",
   "execution_count": 70,
   "metadata": {},
   "outputs": [
    {
     "data": {
      "text/plain": [
       "DecisionTreeClassifier(max_depth=8, random_state=42)"
      ]
     },
     "execution_count": 70,
     "metadata": {},
     "output_type": "execute_result"
    }
   ],
   "source": [
    "dt.fit(xtrain_tfidf_ngram,y_train['label'])"
   ]
  },
  {
   "cell_type": "code",
   "execution_count": 71,
   "metadata": {},
   "outputs": [
    {
     "data": {
      "text/plain": [
       "['DT_dt_NLP_USE_depth8.pkl']"
      ]
     },
     "execution_count": 71,
     "metadata": {},
     "output_type": "execute_result"
    }
   ],
   "source": [
    "joblib.dump(dt, 'DT_dt_NLP_USE_depth8USE.pkl')"
   ]
  },
  {
   "cell_type": "code",
   "execution_count": 72,
   "metadata": {},
   "outputs": [],
   "source": [
    "predictions_dt = dt.predict(xvalid_tfidf_ngram)"
   ]
  },
  {
   "cell_type": "code",
   "execution_count": 73,
   "metadata": {},
   "outputs": [
    {
     "name": "stdout",
     "output_type": "stream",
     "text": [
      "              precision    recall  f1-score   support\n",
      "\n",
      "           0       0.69      0.69      0.69       265\n",
      "           1       0.42      0.42      0.42       144\n",
      "\n",
      "    accuracy                           0.59       409\n",
      "   macro avg       0.56      0.56      0.56       409\n",
      "weighted avg       0.59      0.59      0.59       409\n",
      "\n"
     ]
    }
   ],
   "source": [
    "print(classification_report(predictions_dt,y_cv))"
   ]
  },
  {
   "cell_type": "code",
   "execution_count": 74,
   "metadata": {
    "scrolled": true
   },
   "outputs": [
    {
     "data": {
      "text/plain": [
       "<Figure size 576x432 with 0 Axes>"
      ]
     },
     "execution_count": 74,
     "metadata": {},
     "output_type": "execute_result"
    },
    {
     "data": {
      "text/plain": [
       "<AxesSubplot:>"
      ]
     },
     "execution_count": 74,
     "metadata": {},
     "output_type": "execute_result"
    },
    {
     "data": {
      "text/plain": [
       "Text(0.5, 1.0, 'Confusion_matrix')"
      ]
     },
     "execution_count": 74,
     "metadata": {},
     "output_type": "execute_result"
    },
    {
     "data": {
      "text/plain": [
       "Text(0.5, 33.0, 'Predicted Class')"
      ]
     },
     "execution_count": 74,
     "metadata": {},
     "output_type": "execute_result"
    },
    {
     "data": {
      "text/plain": [
       "Text(51.0, 0.5, 'Actual class')"
      ]
     },
     "execution_count": 74,
     "metadata": {},
     "output_type": "execute_result"
    },
    {
     "data": {
      "image/png": "[encoded data removed]",
      "text/plain": [
       "<Figure size 576x432 with 2 Axes>"
      ]
     },
     "metadata": {
      "needs_background": "light"
     },
     "output_type": "display_data"
    },
    {
     "name": "stdout",
     "output_type": "stream",
     "text": [
      "Confusion matrix: \n",
      " [[182  83]\n",
      " [ 83  61]]\n",
      "TP:  61\n",
      "TN:  182\n",
      "FP:  83\n",
      "FN:  83\n",
      "Classification report: \n",
      "               precision    recall  f1-score   support\n",
      "\n",
      "           0       0.69      0.69      0.69       265\n",
      "           1       0.42      0.42      0.42       144\n",
      "\n",
      "    accuracy                           0.59       409\n",
      "   macro avg       0.56      0.56      0.56       409\n",
      "weighted avg       0.59      0.59      0.59       409\n",
      "\n",
      "Accuracy_Score: 59.41320293398533 %\n",
      "Recall: 42.36111111111111 %\n",
      "precision_score: 42.36111111111111 %\n",
      "F1 Score: 42.36111111111111 %\n"
     ]
    }
   ],
   "source": [
    "\n",
    "\n",
    "\n",
    "\n",
    "conf_mat = metrics.confusion_matrix(y_cv, predictions_dt)\n",
    "plt.figure(figsize=(8,6))\n",
    "sns.heatmap(conf_mat,annot=True)\n",
    "plt.title(\"Confusion_matrix\")\n",
    "plt.xlabel(\"Predicted Class\")\n",
    "plt.ylabel(\"Actual class\")\n",
    "plt.show()\n",
    "print('Confusion matrix: \\n', conf_mat)\n",
    "print('TP: ', conf_mat[1,1])\n",
    "print('TN: ', conf_mat[0,0])\n",
    "print('FP: ', conf_mat[0,1])\n",
    "print('FN: ', conf_mat[1,0])\n",
    "\n",
    "print('Classification report: \\n', metrics.classification_report(y_cv, predictions_dt))\n",
    "print('Accuracy_Score:',metrics.accuracy_score(y_cv, predictions_dt)*100,'%')\n",
    "# print('Recall:',metrics.recall_score(y_cv, predictions_dt)*100,'%')\n",
    "print('Recall:',metrics.recall_score(y_cv, predictions_dt)*100,'%')\n",
    "print('precision_score:',metrics.precision_score(y_cv, predictions_dt)*100,'%')\n",
    "print('F1 Score:',metrics.f1_score(y_cv, predictions_dt)*100,'%')"
   ]
  },
  {
   "cell_type": "code",
   "execution_count": 75,
   "metadata": {},
   "outputs": [
    {
     "name": "stdout",
     "output_type": "stream",
     "text": [
      "Training Accuracy_Score: 83.45558272208639 %\n",
      "Training Recall: 73.49137931034483 %\n",
      "Training precision_score: 80.9976247030879 %\n",
      "Training F1 Score: 77.06214689265536 %\n"
     ]
    }
   ],
   "source": [
    "print('Training Accuracy_Score:',metrics.accuracy_score(y_train, dt.predict(xtrain_tfidf_ngram))*100,'%')\n",
    "print('Training Recall:',metrics.recall_score(y_train, dt.predict(xtrain_tfidf_ngram))*100,'%')\n",
    "print('Training precision_score:',metrics.precision_score(y_train, dt.predict(xtrain_tfidf_ngram))*100,'%')\n",
    "print('Training F1 Score:',metrics.f1_score(y_train, dt.predict(xtrain_tfidf_ngram))*100,'%')"
   ]
  },
  {
   "cell_type": "code",
   "execution_count": 183,
   "metadata": {},
   "outputs": [
    {
     "name": "stdout",
     "output_type": "stream",
     "text": [
      "Training Accuracy_Score: 78.15810920945395 %\n",
      "Training Recall: 65.73275862068965 %\n",
      "Training precision_score: 73.67149758454107 %\n",
      "Training F1 Score: 69.47608200455582 %\n"
     ]
    }
   ],
   "source": [
    "print('Training Accuracy_Score:',metrics.accuracy_score(y_train, dt.predict(xtrain_tfidf_ngram))*100,'%')\n",
    "print('Training Recall:',metrics.recall_score(y_train, dt.predict(xtrain_tfidf_ngram))*100,'%')\n",
    "print('Training precision_score:',metrics.precision_score(y_train, dt.predict(xtrain_tfidf_ngram))*100,'%')\n",
    "print('Training F1 Score:',metrics.f1_score(y_train, dt.predict(xtrain_tfidf_ngram))*100,'%')"
   ]
  },
  {
   "cell_type": "markdown",
   "metadata": {},
   "source": [
    "ccp_alpha is 0 in the above one. so reducing ccp_alpha to reduce overfitting"
   ]
  },
  {
   "cell_type": "code",
   "execution_count": 82,
   "metadata": {},
   "outputs": [],
   "source": [
    "clf = DecisionTreeClassifier(random_state=42, criterion=\"gini\",\n",
    "#                              min_samples_split=10, min_samples_leaf=10,\n",
    "                            max_depth=8)\n",
    "path = clf.cost_complexity_pruning_path(xtrain_tfidf_ngram,y_train['label'])\n",
    "ccp_alphas, impurities = path.ccp_alphas, path.impurities"
   ]
  },
  {
   "cell_type": "code",
   "execution_count": 83,
   "metadata": {},
   "outputs": [
    {
     "data": {
      "text/plain": [
       "array([0.        , 0.00122249, 0.00130399, 0.00142624, 0.001496  ,\n",
       "       0.00150461, 0.00150461, 0.00153944, 0.00156479, 0.00157379,\n",
       "       0.00158077, 0.00253554, 0.00253554, 0.00270191, 0.00279427,\n",
       "       0.00282532, 0.00284723, 0.00297651, 0.00325998, 0.00333771,\n",
       "       0.0037454 , 0.00409827, 0.00430318, 0.00439935, 0.00444892,\n",
       "       0.00465906, 0.00470614, 0.00498634, 0.00503196, 0.00510127,\n",
       "       0.00519768, 0.00526489, 0.00543063, 0.00566786, 0.00575291,\n",
       "       0.00577849, 0.00646219, 0.00648468, 0.00654565, 0.00693342,\n",
       "       0.00704861, 0.00750596, 0.00776389, 0.00808634, 0.0098563 ,\n",
       "       0.01922709])"
      ]
     },
     "execution_count": 83,
     "metadata": {},
     "output_type": "execute_result"
    }
   ],
   "source": [
    "ccp_alphas"
   ]
  },
  {
   "cell_type": "code",
   "execution_count": 84,
   "metadata": {
    "collapsed": true
   },
   "outputs": [
    {
     "data": {
      "text/plain": [
       "DecisionTreeClassifier(max_depth=8, random_state=0)"
      ]
     },
     "execution_count": 84,
     "metadata": {},
     "output_type": "execute_result"
    },
    {
     "data": {
      "text/plain": [
       "DecisionTreeClassifier(ccp_alpha=0.0012224938875305623, max_depth=8,\n",
       "                       random_state=0)"
      ]
     },
     "execution_count": 84,
     "metadata": {},
     "output_type": "execute_result"
    },
    {
     "data": {
      "text/plain": [
       "DecisionTreeClassifier(ccp_alpha=0.0013039934800325996, max_depth=8,\n",
       "                       random_state=0)"
      ]
     },
     "execution_count": 84,
     "metadata": {},
     "output_type": "execute_result"
    },
    {
     "data": {
      "text/plain": [
       "DecisionTreeClassifier(ccp_alpha=0.0014262428687856561, max_depth=8,\n",
       "                       random_state=0)"
      ]
     },
     "execution_count": 84,
     "metadata": {},
     "output_type": "execute_result"
    },
    {
     "data": {
      "text/plain": [
       "DecisionTreeClassifier(ccp_alpha=0.0014960009945712963, max_depth=8,\n",
       "                       random_state=0)"
      ]
     },
     "execution_count": 84,
     "metadata": {},
     "output_type": "execute_result"
    },
    {
     "data": {
      "text/plain": [
       "DecisionTreeClassifier(ccp_alpha=0.0015046078615760761, max_depth=8,\n",
       "                       random_state=0)"
      ]
     },
     "execution_count": 84,
     "metadata": {},
     "output_type": "execute_result"
    },
    {
     "data": {
      "text/plain": [
       "DecisionTreeClassifier(ccp_alpha=0.0015046078615760761, max_depth=8,\n",
       "                       random_state=0)"
      ]
     },
     "execution_count": 84,
     "metadata": {},
     "output_type": "execute_result"
    },
    {
     "data": {
      "text/plain": [
       "DecisionTreeClassifier(ccp_alpha=0.0015394367472607085, max_depth=8,\n",
       "                       random_state=0)"
      ]
     },
     "execution_count": 84,
     "metadata": {},
     "output_type": "execute_result"
    },
    {
     "data": {
      "text/plain": [
       "DecisionTreeClassifier(ccp_alpha=0.0015647921760391194, max_depth=8,\n",
       "                       random_state=0)"
      ]
     },
     "execution_count": 84,
     "metadata": {},
     "output_type": "execute_result"
    },
    {
     "data": {
      "text/plain": [
       "DecisionTreeClassifier(ccp_alpha=0.0015737852345221021, max_depth=8,\n",
       "                       random_state=0)"
      ]
     },
     "execution_count": 84,
     "metadata": {},
     "output_type": "execute_result"
    },
    {
     "data": {
      "text/plain": [
       "DecisionTreeClassifier(ccp_alpha=0.0015807661633718223, max_depth=8,\n",
       "                       random_state=0)"
      ]
     },
     "execution_count": 84,
     "metadata": {},
     "output_type": "execute_result"
    },
    {
     "data": {
      "text/plain": [
       "DecisionTreeClassifier(ccp_alpha=0.002535542877841166, max_depth=8,\n",
       "                       random_state=0)"
      ]
     },
     "execution_count": 84,
     "metadata": {},
     "output_type": "execute_result"
    },
    {
     "data": {
      "text/plain": [
       "DecisionTreeClassifier(ccp_alpha=0.002535542877841166, max_depth=8,\n",
       "                       random_state=0)"
      ]
     },
     "execution_count": 84,
     "metadata": {},
     "output_type": "execute_result"
    },
    {
     "data": {
      "text/plain": [
       "DecisionTreeClassifier(ccp_alpha=0.002701905538091357, max_depth=8,\n",
       "                       random_state=0)"
      ]
     },
     "execution_count": 84,
     "metadata": {},
     "output_type": "execute_result"
    },
    {
     "data": {
      "text/plain": [
       "DecisionTreeClassifier(ccp_alpha=0.0027942717429270004, max_depth=8,\n",
       "                       random_state=0)"
      ]
     },
     "execution_count": 84,
     "metadata": {},
     "output_type": "execute_result"
    },
    {
     "data": {
      "text/plain": [
       "DecisionTreeClassifier(ccp_alpha=0.0028253192067373, max_depth=8,\n",
       "                       random_state=0)"
      ]
     },
     "execution_count": 84,
     "metadata": {},
     "output_type": "execute_result"
    },
    {
     "data": {
      "text/plain": [
       "DecisionTreeClassifier(ccp_alpha=0.002847227699345375, max_depth=8,\n",
       "                       random_state=0)"
      ]
     },
     "execution_count": 84,
     "metadata": {},
     "output_type": "execute_result"
    },
    {
     "data": {
      "text/plain": [
       "DecisionTreeClassifier(ccp_alpha=0.002976506856596151, max_depth=8,\n",
       "                       random_state=0)"
      ]
     },
     "execution_count": 84,
     "metadata": {},
     "output_type": "execute_result"
    },
    {
     "data": {
      "text/plain": [
       "DecisionTreeClassifier(ccp_alpha=0.0032599837000814994, max_depth=8,\n",
       "                       random_state=0)"
      ]
     },
     "execution_count": 84,
     "metadata": {},
     "output_type": "execute_result"
    },
    {
     "data": {
      "text/plain": [
       "DecisionTreeClassifier(ccp_alpha=0.003337710829343272, max_depth=8,\n",
       "                       random_state=0)"
      ]
     },
     "execution_count": 84,
     "metadata": {},
     "output_type": "execute_result"
    },
    {
     "data": {
      "text/plain": [
       "DecisionTreeClassifier(ccp_alpha=0.0037453995736557305, max_depth=8,\n",
       "                       random_state=0)"
      ]
     },
     "execution_count": 84,
     "metadata": {},
     "output_type": "execute_result"
    },
    {
     "data": {
      "text/plain": [
       "DecisionTreeClassifier(ccp_alpha=0.004098265222959602, max_depth=8,\n",
       "                       random_state=0)"
      ]
     },
     "execution_count": 84,
     "metadata": {},
     "output_type": "execute_result"
    },
    {
     "data": {
      "text/plain": [
       "DecisionTreeClassifier(ccp_alpha=0.004303178484107581, max_depth=8,\n",
       "                       random_state=0)"
      ]
     },
     "execution_count": 84,
     "metadata": {},
     "output_type": "execute_result"
    },
    {
     "data": {
      "text/plain": [
       "DecisionTreeClassifier(ccp_alpha=0.004399348743828746, max_depth=8,\n",
       "                       random_state=0)"
      ]
     },
     "execution_count": 84,
     "metadata": {},
     "output_type": "execute_result"
    },
    {
     "data": {
      "text/plain": [
       "DecisionTreeClassifier(ccp_alpha=0.0044489189318759285, max_depth=8,\n",
       "                       random_state=0)"
      ]
     },
     "execution_count": 84,
     "metadata": {},
     "output_type": "execute_result"
    },
    {
     "data": {
      "text/plain": [
       "DecisionTreeClassifier(ccp_alpha=0.004659060038033144, max_depth=8,\n",
       "                       random_state=0)"
      ]
     },
     "execution_count": 84,
     "metadata": {},
     "output_type": "execute_result"
    },
    {
     "data": {
      "text/plain": [
       "DecisionTreeClassifier(ccp_alpha=0.004706141882824422, max_depth=8,\n",
       "                       random_state=0)"
      ]
     },
     "execution_count": 84,
     "metadata": {},
     "output_type": "execute_result"
    },
    {
     "data": {
      "text/plain": [
       "DecisionTreeClassifier(ccp_alpha=0.004986339848174974, max_depth=8,\n",
       "                       random_state=0)"
      ]
     },
     "execution_count": 84,
     "metadata": {},
     "output_type": "execute_result"
    },
    {
     "data": {
      "text/plain": [
       "DecisionTreeClassifier(ccp_alpha=0.005031960045513783, max_depth=8,\n",
       "                       random_state=0)"
      ]
     },
     "execution_count": 84,
     "metadata": {},
     "output_type": "execute_result"
    },
    {
     "data": {
      "text/plain": [
       "DecisionTreeClassifier(ccp_alpha=0.005101270789942346, max_depth=8,\n",
       "                       random_state=0)"
      ]
     },
     "execution_count": 84,
     "metadata": {},
     "output_type": "execute_result"
    },
    {
     "data": {
      "text/plain": [
       "DecisionTreeClassifier(ccp_alpha=0.005197678093242189, max_depth=8,\n",
       "                       random_state=0)"
      ]
     },
     "execution_count": 84,
     "metadata": {},
     "output_type": "execute_result"
    },
    {
     "data": {
      "text/plain": [
       "DecisionTreeClassifier(ccp_alpha=0.005264886330847849, max_depth=8,\n",
       "                       random_state=0)"
      ]
     },
     "execution_count": 84,
     "metadata": {},
     "output_type": "execute_result"
    },
    {
     "data": {
      "text/plain": [
       "DecisionTreeClassifier(ccp_alpha=0.005430628173766928, max_depth=8,\n",
       "                       random_state=0)"
      ]
     },
     "execution_count": 84,
     "metadata": {},
     "output_type": "execute_result"
    },
    {
     "data": {
      "text/plain": [
       "DecisionTreeClassifier(ccp_alpha=0.0056678593871172704, max_depth=8,\n",
       "                       random_state=0)"
      ]
     },
     "execution_count": 84,
     "metadata": {},
     "output_type": "execute_result"
    },
    {
     "data": {
      "text/plain": [
       "DecisionTreeClassifier(ccp_alpha=0.00575291241190853, max_depth=8,\n",
       "                       random_state=0)"
      ]
     },
     "execution_count": 84,
     "metadata": {},
     "output_type": "execute_result"
    },
    {
     "data": {
      "text/plain": [
       "DecisionTreeClassifier(ccp_alpha=0.005778490256484872, max_depth=8,\n",
       "                       random_state=0)"
      ]
     },
     "execution_count": 84,
     "metadata": {},
     "output_type": "execute_result"
    },
    {
     "data": {
      "text/plain": [
       "DecisionTreeClassifier(ccp_alpha=0.006462192220330741, max_depth=8,\n",
       "                       random_state=0)"
      ]
     },
     "execution_count": 84,
     "metadata": {},
     "output_type": "execute_result"
    },
    {
     "data": {
      "text/plain": [
       "DecisionTreeClassifier(ccp_alpha=0.006484680224165082, max_depth=8,\n",
       "                       random_state=0)"
      ]
     },
     "execution_count": 84,
     "metadata": {},
     "output_type": "execute_result"
    },
    {
     "data": {
      "text/plain": [
       "DecisionTreeClassifier(ccp_alpha=0.006545645496549017, max_depth=8,\n",
       "                       random_state=0)"
      ]
     },
     "execution_count": 84,
     "metadata": {},
     "output_type": "execute_result"
    },
    {
     "data": {
      "text/plain": [
       "DecisionTreeClassifier(ccp_alpha=0.0069334229352245105, max_depth=8,\n",
       "                       random_state=0)"
      ]
     },
     "execution_count": 84,
     "metadata": {},
     "output_type": "execute_result"
    },
    {
     "data": {
      "text/plain": [
       "DecisionTreeClassifier(ccp_alpha=0.007048613405581605, max_depth=8,\n",
       "                       random_state=0)"
      ]
     },
     "execution_count": 84,
     "metadata": {},
     "output_type": "execute_result"
    },
    {
     "data": {
      "text/plain": [
       "DecisionTreeClassifier(ccp_alpha=0.007505960391841093, max_depth=8,\n",
       "                       random_state=0)"
      ]
     },
     "execution_count": 84,
     "metadata": {},
     "output_type": "execute_result"
    },
    {
     "data": {
      "text/plain": [
       "DecisionTreeClassifier(ccp_alpha=0.0077638894133046366, max_depth=8,\n",
       "                       random_state=0)"
      ]
     },
     "execution_count": 84,
     "metadata": {},
     "output_type": "execute_result"
    },
    {
     "data": {
      "text/plain": [
       "DecisionTreeClassifier(ccp_alpha=0.008086341344443318, max_depth=8,\n",
       "                       random_state=0)"
      ]
     },
     "execution_count": 84,
     "metadata": {},
     "output_type": "execute_result"
    },
    {
     "data": {
      "text/plain": [
       "DecisionTreeClassifier(ccp_alpha=0.009856299255637302, max_depth=8,\n",
       "                       random_state=0)"
      ]
     },
     "execution_count": 84,
     "metadata": {},
     "output_type": "execute_result"
    },
    {
     "data": {
      "text/plain": [
       "DecisionTreeClassifier(ccp_alpha=0.019227087554423872, max_depth=8,\n",
       "                       random_state=0)"
      ]
     },
     "execution_count": 84,
     "metadata": {},
     "output_type": "execute_result"
    },
    {
     "name": "stdout",
     "output_type": "stream",
     "text": [
      "Number of nodes in the last tree is: 1 with ccp_alpha: 0.019227087554423872\n"
     ]
    }
   ],
   "source": [
    "clfs = []\n",
    "for ccp_alpha in ccp_alphas:\n",
    "    clf = DecisionTreeClassifier(random_state=0, ccp_alpha=ccp_alpha,max_depth=8)\n",
    "    clf.fit(xtrain_tfidf_ngram,y_train['label'])\n",
    "    clfs.append(clf)\n",
    "print(\"Number of nodes in the last tree is: {} with ccp_alpha: {}\".format(\n",
    "      clfs[-1].tree_.node_count, ccp_alphas[-1]))"
   ]
  },
  {
   "cell_type": "code",
   "execution_count": 85,
   "metadata": {},
   "outputs": [],
   "source": [
    "clfs = clfs[:-1]\n",
    "ccp_alphas = ccp_alphas[:-1] #removign last ccp_alpha as it hasa only one node"
   ]
  },
  {
   "cell_type": "code",
   "execution_count": 92,
   "metadata": {
    "scrolled": true
   },
   "outputs": [
    {
     "data": {
      "text/plain": [
       "45"
      ]
     },
     "execution_count": 92,
     "metadata": {},
     "output_type": "execute_result"
    }
   ],
   "source": [
    "# clfs[1].score(xtrain_tfidf_ngram,y_train['label'],\"precision\")\n",
    "len(train_scores)"
   ]
  },
  {
   "cell_type": "code",
   "execution_count": 97,
   "metadata": {},
   "outputs": [
    {
     "name": "stderr",
     "output_type": "stream",
     "text": [
      "/home/dheekshitha-vibha/miniconda3/envs/myenv/lib/python3.6/site-packages/sklearn/metrics/_classification.py:1245: UndefinedMetricWarning: Precision is ill-defined and being set to 0.0 due to no predicted samples. Use `zero_division` parameter to control this behavior.\n",
      "  _warn_prf(average, modifier, msg_start, len(result))\n",
      "/home/dheekshitha-vibha/miniconda3/envs/myenv/lib/python3.6/site-packages/sklearn/metrics/_classification.py:1245: UndefinedMetricWarning: Precision is ill-defined and being set to 0.0 due to no predicted samples. Use `zero_division` parameter to control this behavior.\n",
      "  _warn_prf(average, modifier, msg_start, len(result))\n"
     ]
    },
    {
     "data": {
      "text/plain": [
       "45"
      ]
     },
     "execution_count": 97,
     "metadata": {},
     "output_type": "execute_result"
    }
   ],
   "source": [
    "len([metrics.precision_score(y_train['label'],clf.predict(xtrain_tfidf_ngram))for clf in clfs])"
   ]
  },
  {
   "cell_type": "code",
   "execution_count": 128,
   "metadata": {
    "scrolled": false
   },
   "outputs": [
    {
     "name": "stderr",
     "output_type": "stream",
     "text": [
      "/home/dheekshitha-vibha/miniconda3/envs/myenv/lib/python3.6/site-packages/sklearn/metrics/_classification.py:1245: UndefinedMetricWarning: Precision is ill-defined and being set to 0.0 due to no predicted samples. Use `zero_division` parameter to control this behavior.\n",
      "  _warn_prf(average, modifier, msg_start, len(result))\n",
      "/home/dheekshitha-vibha/miniconda3/envs/myenv/lib/python3.6/site-packages/sklearn/metrics/_classification.py:1245: UndefinedMetricWarning: Precision is ill-defined and being set to 0.0 due to no predicted samples. Use `zero_division` parameter to control this behavior.\n",
      "  _warn_prf(average, modifier, msg_start, len(result))\n",
      "/home/dheekshitha-vibha/miniconda3/envs/myenv/lib/python3.6/site-packages/sklearn/metrics/_classification.py:1245: UndefinedMetricWarning: Precision is ill-defined and being set to 0.0 due to no predicted samples. Use `zero_division` parameter to control this behavior.\n",
      "  _warn_prf(average, modifier, msg_start, len(result))\n",
      "/home/dheekshitha-vibha/miniconda3/envs/myenv/lib/python3.6/site-packages/sklearn/metrics/_classification.py:1245: UndefinedMetricWarning: Precision is ill-defined and being set to 0.0 due to no predicted samples. Use `zero_division` parameter to control this behavior.\n",
      "  _warn_prf(average, modifier, msg_start, len(result))\n"
     ]
    },
    {
     "data": {
      "text/plain": [
       "Text(0.5, 0, 'ccp_alpha')"
      ]
     },
     "execution_count": 128,
     "metadata": {},
     "output_type": "execute_result"
    },
    {
     "data": {
      "text/plain": [
       "Text(0, 0.5, 'Precision')"
      ]
     },
     "execution_count": 128,
     "metadata": {},
     "output_type": "execute_result"
    },
    {
     "data": {
      "text/plain": [
       "Text(0.5, 1.0, 'Precision vs alpha for training and validation sets')"
      ]
     },
     "execution_count": 128,
     "metadata": {},
     "output_type": "execute_result"
    },
    {
     "data": {
      "text/plain": [
       "[<matplotlib.lines.Line2D at 0x7f274f291940>]"
      ]
     },
     "execution_count": 128,
     "metadata": {},
     "output_type": "execute_result"
    },
    {
     "data": {
      "text/plain": [
       "[<matplotlib.lines.Line2D at 0x7f274f2852e8>]"
      ]
     },
     "execution_count": 128,
     "metadata": {},
     "output_type": "execute_result"
    },
    {
     "data": {
      "text/plain": [
       "<matplotlib.legend.Legend at 0x7f274f29f4e0>"
      ]
     },
     "execution_count": 128,
     "metadata": {},
     "output_type": "execute_result"
    },
    {
     "data": {
      "image/png": "[encoded data removed]",
      "text/plain": [
       "<Figure size 432x288 with 1 Axes>"
      ]
     },
     "metadata": {
      "needs_background": "light"
     },
     "output_type": "display_data"
    }
   ],
   "source": [
    "train_precision = [metrics.precision_score(y_train['label'],clf.predict(xtrain_tfidf_ngram))for clf in clfs]\n",
    "test_precision =[metrics.precision_score(y_cv['label'],clf.predict(xvalid_tfidf_ngram))for clf in clfs]\n",
    "fig, ax = plt.subplots()\n",
    "ax.set_xlabel(\"ccp_alpha\")\n",
    "ax.set_ylabel(\"Precision\")\n",
    "ax.set_title(\"Precision vs alpha for training and validation sets\")\n",
    "ax.plot(ccp_alphas, train_precision, marker='o', label=\"train\",\n",
    "        drawstyle=\"steps-post\")\n",
    "ax.plot(ccp_alphas, test_precision, marker='o', label=\"validation\",\n",
    "        drawstyle=\"steps-post\")\n",
    "ax.legend()\n",
    "plt.show()"
   ]
  },
  {
   "cell_type": "code",
   "execution_count": 94,
   "metadata": {
    "scrolled": true
   },
   "outputs": [
    {
     "data": {
      "text/plain": [
       "Text(0.5, 0, 'alpha')"
      ]
     },
     "execution_count": 94,
     "metadata": {},
     "output_type": "execute_result"
    },
    {
     "data": {
      "text/plain": [
       "Text(0, 0.5, 'accuracy')"
      ]
     },
     "execution_count": 94,
     "metadata": {},
     "output_type": "execute_result"
    },
    {
     "data": {
      "text/plain": [
       "Text(0.5, 1.0, 'Accuracy vs alpha for training and testing sets')"
      ]
     },
     "execution_count": 94,
     "metadata": {},
     "output_type": "execute_result"
    },
    {
     "data": {
      "text/plain": [
       "[<matplotlib.lines.Line2D at 0x7f262cd67048>]"
      ]
     },
     "execution_count": 94,
     "metadata": {},
     "output_type": "execute_result"
    },
    {
     "data": {
      "text/plain": [
       "[<matplotlib.lines.Line2D at 0x7f262cfcf2e8>]"
      ]
     },
     "execution_count": 94,
     "metadata": {},
     "output_type": "execute_result"
    },
    {
     "data": {
      "text/plain": [
       "<matplotlib.legend.Legend at 0x7f262cd67978>"
      ]
     },
     "execution_count": 94,
     "metadata": {},
     "output_type": "execute_result"
    },
    {
     "data": {
      "image/png": "[encoded data removed]",
      "text/plain": [
       "<Figure size 432x288 with 1 Axes>"
      ]
     },
     "metadata": {
      "needs_background": "light"
     },
     "output_type": "display_data"
    }
   ],
   "source": [
    "train_scores = [clf.score(xtrain_tfidf_ngram,y_train['label']) for clf in clfs]\n",
    "test_scores = [clf.score(xvalid_tfidf_ngram,y_cv['label']) for clf in clfs]\n",
    "\n",
    "fig, ax = plt.subplots()\n",
    "ax.set_xlabel(\"alpha\")\n",
    "ax.set_ylabel(\"accuracy\")\n",
    "ax.set_title(\"Accuracy vs alpha for training and testing sets\")\n",
    "ax.plot(ccp_alphas, train_scores, marker='o', label=\"train\",\n",
    "        drawstyle=\"steps-post\")\n",
    "ax.plot(ccp_alphas, test_scores, marker='o', label=\"test\",\n",
    "        drawstyle=\"steps-post\")\n",
    "ax.legend()\n",
    "plt.show()"
   ]
  },
  {
   "cell_type": "code",
   "execution_count": 99,
   "metadata": {},
   "outputs": [
    {
     "data": {
      "text/plain": [
       "DecisionTreeClassifier(ccp_alpha=0.008, max_depth=8, random_state=42)"
      ]
     },
     "execution_count": 99,
     "metadata": {},
     "output_type": "execute_result"
    },
    {
     "data": {
      "text/plain": [
       "['DT_dt_NLP_USE_depth8_ccc0008.pkl']"
      ]
     },
     "execution_count": 99,
     "metadata": {},
     "output_type": "execute_result"
    },
    {
     "name": "stdout",
     "output_type": "stream",
     "text": [
      "              precision    recall  f1-score   support\n",
      "\n",
      "           0       1.00      0.65      0.79       407\n",
      "           1       0.01      1.00      0.03         2\n",
      "\n",
      "    accuracy                           0.65       409\n",
      "   macro avg       0.51      0.83      0.41       409\n",
      "weighted avg       1.00      0.65      0.78       409\n",
      "\n"
     ]
    },
    {
     "data": {
      "text/plain": [
       "<Figure size 576x432 with 0 Axes>"
      ]
     },
     "execution_count": 99,
     "metadata": {},
     "output_type": "execute_result"
    },
    {
     "data": {
      "text/plain": [
       "<AxesSubplot:>"
      ]
     },
     "execution_count": 99,
     "metadata": {},
     "output_type": "execute_result"
    },
    {
     "data": {
      "text/plain": [
       "Text(0.5, 1.0, 'Confusion_matrix')"
      ]
     },
     "execution_count": 99,
     "metadata": {},
     "output_type": "execute_result"
    },
    {
     "data": {
      "text/plain": [
       "Text(0.5, 33.0, 'Predicted Class')"
      ]
     },
     "execution_count": 99,
     "metadata": {},
     "output_type": "execute_result"
    },
    {
     "data": {
      "text/plain": [
       "Text(51.0, 0.5, 'Actual class')"
      ]
     },
     "execution_count": 99,
     "metadata": {},
     "output_type": "execute_result"
    },
    {
     "data": {
      "image/png": "[encoded data removed]",
      "text/plain": [
       "<Figure size 576x432 with 2 Axes>"
      ]
     },
     "metadata": {
      "needs_background": "light"
     },
     "output_type": "display_data"
    },
    {
     "name": "stdout",
     "output_type": "stream",
     "text": [
      "Confusion matrix: \n",
      " [[265   0]\n",
      " [142   2]]\n",
      "TP:  2\n",
      "TN:  265\n",
      "FP:  0\n",
      "FN:  142\n",
      "Classification report: \n",
      "               precision    recall  f1-score   support\n",
      "\n",
      "           0       0.65      1.00      0.79       265\n",
      "           1       1.00      0.01      0.03       144\n",
      "\n",
      "    accuracy                           0.65       409\n",
      "   macro avg       0.83      0.51      0.41       409\n",
      "weighted avg       0.77      0.65      0.52       409\n",
      "\n",
      "Accuracy_Score: 65.28117359413203 %\n",
      "Recall: 1.3888888888888888 %\n",
      "precision_score: 100.0 %\n",
      "F1 Score: 2.73972602739726 %\n",
      "Training Accuracy_Score: 63.08068459657702 %\n",
      "Training Recall: 2.8017241379310347 %\n",
      "Training precision_score: 86.66666666666667 %\n",
      "Training F1 Score: 5.427974947807933 %\n"
     ]
    }
   ],
   "source": [
    "\n",
    "\n",
    "dt8 = DecisionTreeClassifier(random_state=42, criterion=\"gini\",ccp_alpha=0.008,\n",
    "#                              min_samples_split=10, min_samples_leaf=10,\n",
    "                            max_depth=8)\n",
    "\n",
    "dt8.fit(xtrain_tfidf_ngram,y_train['label'])\n",
    "\n",
    "joblib.dump(dt8, 'DT_dt_NLP_USE_depth8_ccc0008USE.pkl')\n",
    "\n",
    "predictions_dt = dt8.predict(xvalid_tfidf_ngram)\n",
    "\n",
    "print(classification_report(predictions_dt,y_cv))\n",
    "\n",
    "\n",
    "\n",
    "\n",
    "\n",
    "conf_mat = metrics.confusion_matrix(y_cv, predictions_dt)\n",
    "plt.figure(figsize=(8,6))\n",
    "sns.heatmap(conf_mat,annot=True)\n",
    "plt.title(\"Confusion_matrix\")\n",
    "plt.xlabel(\"Predicted Class\")\n",
    "plt.ylabel(\"Actual class\")\n",
    "plt.show()\n",
    "print('Confusion matrix: \\n', conf_mat)\n",
    "print('TP: ', conf_mat[1,1])\n",
    "print('TN: ', conf_mat[0,0])\n",
    "print('FP: ', conf_mat[0,1])\n",
    "print('FN: ', conf_mat[1,0])\n",
    "\n",
    "print('Classification report: \\n', metrics.classification_report(y_cv, predictions_dt))\n",
    "print('Accuracy_Score:',metrics.accuracy_score(y_cv, predictions_dt)*100,'%')\n",
    "# print('Recall:',metrics.recall_score(y_cv, predictions_dt)*100,'%')\n",
    "print('Recall:',metrics.recall_score(y_cv, predictions_dt)*100,'%')\n",
    "print('precision_score:',metrics.precision_score(y_cv, predictions_dt)*100,'%')\n",
    "print('F1 Score:',metrics.f1_score(y_cv, predictions_dt)*100,'%')\n",
    "\n",
    "print('Training Accuracy_Score:',metrics.accuracy_score(y_train, dt8.predict(xtrain_tfidf_ngram))*100,'%')\n",
    "print('Training Recall:',metrics.recall_score(y_train, dt8.predict(xtrain_tfidf_ngram))*100,'%')\n",
    "print('Training precision_score:',metrics.precision_score(y_train, dt8.predict(xtrain_tfidf_ngram))*100,'%')\n",
    "print('Training F1 Score:',metrics.f1_score(y_train, dt8.predict(xtrain_tfidf_ngram))*100,'%')"
   ]
  },
  {
   "cell_type": "code",
   "execution_count": 101,
   "metadata": {},
   "outputs": [
    {
     "data": {
      "text/plain": [
       "DecisionTreeClassifier(ccp_alpha=0.007, max_depth=8, random_state=42)"
      ]
     },
     "execution_count": 101,
     "metadata": {},
     "output_type": "execute_result"
    },
    {
     "data": {
      "text/plain": [
       "['DT_dt_NLP_USE_depth8_ccc0007.pkl']"
      ]
     },
     "execution_count": 101,
     "metadata": {},
     "output_type": "execute_result"
    },
    {
     "name": "stdout",
     "output_type": "stream",
     "text": [
      "              precision    recall  f1-score   support\n",
      "\n",
      "           0       0.79      0.67      0.73       310\n",
      "           1       0.30      0.43      0.35        99\n",
      "\n",
      "    accuracy                           0.62       409\n",
      "   macro avg       0.54      0.55      0.54       409\n",
      "weighted avg       0.67      0.62      0.64       409\n",
      "\n"
     ]
    },
    {
     "data": {
      "text/plain": [
       "<Figure size 576x432 with 0 Axes>"
      ]
     },
     "execution_count": 101,
     "metadata": {},
     "output_type": "execute_result"
    },
    {
     "data": {
      "text/plain": [
       "<AxesSubplot:>"
      ]
     },
     "execution_count": 101,
     "metadata": {},
     "output_type": "execute_result"
    },
    {
     "data": {
      "text/plain": [
       "Text(0.5, 1.0, 'Confusion_matrix')"
      ]
     },
     "execution_count": 101,
     "metadata": {},
     "output_type": "execute_result"
    },
    {
     "data": {
      "text/plain": [
       "Text(0.5, 33.0, 'Predicted Class')"
      ]
     },
     "execution_count": 101,
     "metadata": {},
     "output_type": "execute_result"
    },
    {
     "data": {
      "text/plain": [
       "Text(51.0, 0.5, 'Actual class')"
      ]
     },
     "execution_count": 101,
     "metadata": {},
     "output_type": "execute_result"
    },
    {
     "data": {
      "image/png": "[encoded data removed]",
      "text/plain": [
       "<Figure size 576x432 with 2 Axes>"
      ]
     },
     "metadata": {
      "needs_background": "light"
     },
     "output_type": "display_data"
    },
    {
     "name": "stdout",
     "output_type": "stream",
     "text": [
      "Confusion matrix: \n",
      " [[209  56]\n",
      " [101  43]]\n",
      "TP:  43\n",
      "TN:  209\n",
      "FP:  56\n",
      "FN:  101\n",
      "Classification report: \n",
      "               precision    recall  f1-score   support\n",
      "\n",
      "           0       0.67      0.79      0.73       265\n",
      "           1       0.43      0.30      0.35       144\n",
      "\n",
      "    accuracy                           0.62       409\n",
      "   macro avg       0.55      0.54      0.54       409\n",
      "weighted avg       0.59      0.62      0.60       409\n",
      "\n",
      "Accuracy_Score: 61.61369193154034 %\n",
      "Recall: 29.86111111111111 %\n",
      "precision_score: 43.43434343434344 %\n",
      "F1 Score: 35.390946502057616 %\n",
      "Training Accuracy_Score: 69.3561532192339 %\n",
      "Training Recall: 46.55172413793103 %\n",
      "Training precision_score: 62.7906976744186 %\n",
      "Training F1 Score: 53.46534653465347 %\n"
     ]
    }
   ],
   "source": [
    "\n",
    "\n",
    "dt7 = DecisionTreeClassifier(random_state=42, criterion=\"gini\",ccp_alpha=0.007,\n",
    "#                              min_samples_split=10, min_samples_leaf=10,\n",
    "                            max_depth=8)\n",
    "\n",
    "dt7.fit(xtrain_tfidf_ngram,y_train['label'])\n",
    "\n",
    "joblib.dump(dt7, 'DT_dt_NLP_USE_depth8_ccc0007USE.pkl')\n",
    "\n",
    "predictions_dt = dt7.predict(xvalid_tfidf_ngram)\n",
    "\n",
    "print(classification_report(predictions_dt,y_cv))\n",
    "\n",
    "\n",
    "\n",
    "\n",
    "\n",
    "conf_mat = metrics.confusion_matrix(y_cv, predictions_dt)\n",
    "plt.figure(figsize=(8,6))\n",
    "sns.heatmap(conf_mat,annot=True)\n",
    "plt.title(\"Confusion_matrix\")\n",
    "plt.xlabel(\"Predicted Class\")\n",
    "plt.ylabel(\"Actual class\")\n",
    "plt.show()\n",
    "print('Confusion matrix: \\n', conf_mat)\n",
    "print('TP: ', conf_mat[1,1])\n",
    "print('TN: ', conf_mat[0,0])\n",
    "print('FP: ', conf_mat[0,1])\n",
    "print('FN: ', conf_mat[1,0])\n",
    "\n",
    "print('Classification report: \\n', metrics.classification_report(y_cv, predictions_dt))\n",
    "print('Accuracy_Score:',metrics.accuracy_score(y_cv, predictions_dt)*100,'%')\n",
    "# print('Recall:',metrics.recall_score(y_cv, predictions_dt)*100,'%')\n",
    "print('Recall:',metrics.recall_score(y_cv, predictions_dt)*100,'%')\n",
    "print('precision_score:',metrics.precision_score(y_cv, predictions_dt)*100,'%')\n",
    "print('F1 Score:',metrics.f1_score(y_cv, predictions_dt)*100,'%')\n",
    "\n",
    "print('Training Accuracy_Score:',metrics.accuracy_score(y_train, dt7.predict(xtrain_tfidf_ngram))*100,'%')\n",
    "print('Training Recall:',metrics.recall_score(y_train, dt7.predict(xtrain_tfidf_ngram))*100,'%')\n",
    "print('Training precision_score:',metrics.precision_score(y_train, dt7.predict(xtrain_tfidf_ngram))*100,'%')\n",
    "print('Training F1 Score:',metrics.f1_score(y_train, dt7.predict(xtrain_tfidf_ngram))*100,'%')"
   ]
  },
  {
   "cell_type": "code",
   "execution_count": 60,
   "metadata": {},
   "outputs": [
    {
     "data": {
      "text/plain": [
       "[<matplotlib.lines.Line2D at 0x7f2670030dd8>]"
      ]
     },
     "execution_count": 60,
     "metadata": {},
     "output_type": "execute_result"
    },
    {
     "data": {
      "text/plain": [
       "[<matplotlib.lines.Line2D at 0x7f2670033ba8>]"
      ]
     },
     "execution_count": 60,
     "metadata": {},
     "output_type": "execute_result"
    },
    {
     "data": {
      "text/plain": [
       "Text(0.5, 1.0, 'LEARNING CURVE FOR DT Classifier-F1Score')"
      ]
     },
     "execution_count": 60,
     "metadata": {},
     "output_type": "execute_result"
    },
    {
     "data": {
      "text/plain": [
       "(Text(0.5, 0, 'Training Set Size'),\n",
       " Text(0, 0.5, 'F1 Score'),\n",
       " <matplotlib.legend.Legend at 0x7f26700309b0>)"
      ]
     },
     "execution_count": 60,
     "metadata": {},
     "output_type": "execute_result"
    },
    {
     "data": {
      "image/png": "[encoded data removed]",
      "text/plain": [
       "<Figure size 432x288 with 1 Axes>"
      ]
     },
     "metadata": {
      "needs_background": "light"
     },
     "output_type": "display_data"
    }
   ],
   "source": [
    "from sklearn.model_selection import learning_curve\n",
    "from sklearn.metrics import f1_score, make_scorer\n",
    "dtPredictions=dt.predict(xtrain_tfidf_ngram)\n",
    "# Custom scorer\n",
    "target = 1 # class you want to plot\n",
    "scorer = make_scorer(lambda y_train,dtPredictions : f1_score(\n",
    "    y_train, dtPredictions, \n",
    "    labels=None, \n",
    "    \n",
    "    average='binary', \n",
    "    sample_weight=None))\n",
    "\n",
    "\n",
    "sizes, training_scores, testing_scores = learning_curve(DecisionTreeClassifier(criterion='entropy',max_depth= 30),xtrain_tfidf_ngram, y_train,scoring=scorer)\n",
    "\n",
    "# Mean and Standard Deviation of training scores \n",
    "mean_training = np.mean(training_scores, axis=1) \n",
    "Standard_Deviation_training = np.std(training_scores, axis=1) \n",
    "  \n",
    "# Mean and Standard Deviation of testing scores \n",
    "mean_testing = np.mean(testing_scores, axis=1) \n",
    "Standard_Deviation_testing = np.std(testing_scores, axis=1) \n",
    "  \n",
    "# dotted blue line is for training scores and green line is for cross-validation score \n",
    "plt.plot(sizes, mean_training, '--', color=\"b\",  label=\"Training score\") \n",
    "plt.plot(sizes, mean_testing, color=\"g\", label=\"Cross-validation score\") \n",
    "  \n",
    "# Drawing plot \n",
    "plt.title(\"LEARNING CURVE FOR DT Classifier-F1Score\") \n",
    "plt.xlabel(\"Training Set Size\"), plt.ylabel(\"F1 Score\"), plt.legend(loc=\"best\") \n",
    "plt.tight_layout() \n",
    "plt.show()"
   ]
  },
  {
   "cell_type": "code",
   "execution_count": 49,
   "metadata": {},
   "outputs": [],
   "source": [
    "from sklearn.model_selection import learning_curve\n",
    "from sklearn.metrics import f1_score, make_scorer\n",
    "dtPredictions=dt.predict(xtrain_tfidf_ngram)\n",
    "# Custom scorer\n",
    "target = 1 # class you want to plot\n",
    "scorer = make_scorer(lambda y_train,dtPredictions : f1_score(\n",
    "    y_train, dtPredictions, \n",
    "    labels=None, \n",
    "    \n",
    "    average='binary', \n",
    "    sample_weight=None))\n",
    "\n",
    "# train_sizes, train_scores, test_scores = learning_curve(\n",
    "#     estimator, \n",
    "#     X, \n",
    "#     y, \n",
    "#     cv=cv,\n",
    "#     scoring=scorer)"
   ]
  },
  {
   "cell_type": "code",
   "execution_count": 132,
   "metadata": {
    "scrolled": false
   },
   "outputs": [
    {
     "data": {
      "text/plain": [
       "[<matplotlib.lines.Line2D at 0x7f274f146f60>]"
      ]
     },
     "execution_count": 132,
     "metadata": {},
     "output_type": "execute_result"
    },
    {
     "data": {
      "text/plain": [
       "[<matplotlib.lines.Line2D at 0x7f274f25d128>]"
      ]
     },
     "execution_count": 132,
     "metadata": {},
     "output_type": "execute_result"
    },
    {
     "data": {
      "text/plain": [
       "Text(0.5, 1.0, 'LEARNING CURVE FOR DT Classifier-Precision')"
      ]
     },
     "execution_count": 132,
     "metadata": {},
     "output_type": "execute_result"
    },
    {
     "data": {
      "text/plain": [
       "(Text(0.5, 0, 'Training Set Size'),\n",
       " Text(0, 0.5, 'Precision'),\n",
       " <matplotlib.legend.Legend at 0x7f274f146400>)"
      ]
     },
     "execution_count": 132,
     "metadata": {},
     "output_type": "execute_result"
    },
    {
     "data": {
      "image/png": "[encoded data removed]",
      "text/plain": [
       "<Figure size 432x288 with 1 Axes>"
      ]
     },
     "metadata": {
      "needs_background": "light"
     },
     "output_type": "display_data"
    }
   ],
   "source": [
    "sizes, training_scores, testing_scores = learning_curve(DecisionTreeClassifier(random_state=42, criterion=\"gini\",ccp_alpha=0.007,\n",
    "#                              min_samples_split=10, min_samples_leaf=10,\n",
    "                            max_depth=8)\n",
    ",xtrain_tfidf_ngram, y_train,scoring=\"precision\")\n",
    "\n",
    "# Mean and Standard Deviation of training scores \n",
    "mean_training = np.mean(training_scores, axis=1) \n",
    "Standard_Deviation_training = np.std(training_scores, axis=1) \n",
    "  \n",
    "# Mean and Standard Deviation of testing scores \n",
    "mean_testing = np.mean(testing_scores, axis=1) \n",
    "Standard_Deviation_testing = np.std(testing_scores, axis=1) \n",
    "  \n",
    "# dotted blue line is for training scores and green line is for cross-validation score \n",
    "plt.plot(sizes, mean_training, '--', color=\"b\",  label=\"Training score\") \n",
    "plt.plot(sizes, mean_testing, color=\"g\", label=\"Cross-validation score\") \n",
    "  \n",
    "# Drawing plot \n",
    "plt.title(\"LEARNING CURVE FOR DT Classifier-Precision\") \n",
    "plt.xlabel(\"Training Set Size\"), plt.ylabel(\"Precision\"), plt.legend(loc=\"best\") \n",
    "plt.tight_layout() \n",
    "plt.show()"
   ]
  },
  {
   "cell_type": "code",
   "execution_count": 133,
   "metadata": {
    "scrolled": true
   },
   "outputs": [
    {
     "data": {
      "text/plain": [
       "[<matplotlib.lines.Line2D at 0x7f274f0bd320>]"
      ]
     },
     "execution_count": 133,
     "metadata": {},
     "output_type": "execute_result"
    },
    {
     "data": {
      "text/plain": [
       "[<matplotlib.lines.Line2D at 0x7f269cbe00b8>]"
      ]
     },
     "execution_count": 133,
     "metadata": {},
     "output_type": "execute_result"
    },
    {
     "data": {
      "text/plain": [
       "Text(0.5, 1.0, 'LEARNING CURVE FOR DT Classifier-Precision')"
      ]
     },
     "execution_count": 133,
     "metadata": {},
     "output_type": "execute_result"
    },
    {
     "data": {
      "text/plain": [
       "(Text(0.5, 0, 'Training Set Size'),\n",
       " Text(0, 0.5, 'Precision'),\n",
       " <matplotlib.legend.Legend at 0x7f274f0af780>)"
      ]
     },
     "execution_count": 133,
     "metadata": {},
     "output_type": "execute_result"
    },
    {
     "data": {
      "image/png": "[encoded data removed]",
      "text/plain": [
       "<Figure size 432x288 with 1 Axes>"
      ]
     },
     "metadata": {
      "needs_background": "light"
     },
     "output_type": "display_data"
    }
   ],
   "source": [
    "sizes, training_scores, testing_scores = learning_curve(DecisionTreeClassifier(random_state=42, criterion=\"gini\",ccp_alpha=0.006,\n",
    "#                              min_samples_split=10, min_samples_leaf=10,\n",
    "                            max_depth=8)\n",
    ",xtrain_tfidf_ngram, y_train,scoring=\"precision\")\n",
    "\n",
    "# Mean and Standard Deviation of training scores \n",
    "mean_training = np.mean(training_scores, axis=1) \n",
    "Standard_Deviation_training = np.std(training_scores, axis=1) \n",
    "  \n",
    "# Mean and Standard Deviation of testing scores \n",
    "mean_testing = np.mean(testing_scores, axis=1) \n",
    "Standard_Deviation_testing = np.std(testing_scores, axis=1) \n",
    "  \n",
    "# dotted blue line is for training scores and green line is for cross-validation score \n",
    "plt.plot(sizes, mean_training, '--', color=\"b\",  label=\"Training score\") \n",
    "plt.plot(sizes, mean_testing, color=\"g\", label=\"Cross-validation score\") \n",
    "  \n",
    "# Drawing plot \n",
    "plt.title(\"LEARNING CURVE FOR DT Classifier-Precision\") \n",
    "plt.xlabel(\"Training Set Size\"), plt.ylabel(\"Precision\"), plt.legend(loc=\"best\") \n",
    "plt.tight_layout() \n",
    "plt.show()"
   ]
  },
  {
   "cell_type": "code",
   "execution_count": 197,
   "metadata": {},
   "outputs": [],
   "source": [
    "def getMetrics(modelObj,xTrain,yTrain,xtest,ytest):\n",
    "    y_pred_DecTreeClass2 = modelObj.predict(xtest)\n",
    "    print('Classification report: \\n', metrics.classification_report(ytest, y_pred_DecTreeClass2))\n",
    "    print('Training Accuracy_Score:',metrics.accuracy_score(yTrain, modelObj.predict(xTrain))*100,'%')\n",
    "    \n",
    "    print('Training Precision:',metrics.precision_score(yTrain, modelObj.predict(xTrain))*100,'%')\n",
    "    print('Training Recall:',metrics.recall_score(yTrain, modelObj.predict(xTrain))*100,'%')\n",
    "    print('Training F1 Score:',metrics.f1_score(yTrain, modelObj.predict(xTrain))*100,'%')\n",
    "\n",
    "    \n",
    "    print('Test Accuracy_Score:',metrics.accuracy_score(ytest, y_pred_DecTreeClass2)*100,'%')\n",
    "   \n",
    "    print('Test Precision:',metrics.precision_score(ytest, y_pred_DecTreeClass2)*100,'%')\n",
    "    print('Test Recall:',metrics.recall_score(ytest, y_pred_DecTreeClass2)*100,'%')\n",
    "    print('Test F1 Score:',metrics.f1_score(ytest, y_pred_DecTreeClass2)*100,'%')"
   ]
  },
  {
   "cell_type": "code",
   "execution_count": 200,
   "metadata": {},
   "outputs": [
    {
     "data": {
      "text/plain": [
       "0.6135"
      ]
     },
     "execution_count": 200,
     "metadata": {},
     "output_type": "execute_result"
    }
   ],
   "source": [
    "1227/2000"
   ]
  },
  {
   "cell_type": "code",
   "execution_count": 199,
   "metadata": {},
   "outputs": [
    {
     "name": "stdout",
     "output_type": "stream",
     "text": [
      "(1227, 1)\n",
      "(409, 2)\n",
      "(409, 1)\n"
     ]
    }
   ],
   "source": [
    "print(x_train.shape)\n",
    "print(x_test.shape)\n",
    "print(x_cv.shape)"
   ]
  },
  {
   "cell_type": "code",
   "execution_count": 198,
   "metadata": {
    "scrolled": true
   },
   "outputs": [
    {
     "name": "stdout",
     "output_type": "stream",
     "text": [
      "Classification report: \n",
      "               precision    recall  f1-score   support\n",
      "\n",
      "           0       0.64      0.74      0.69       263\n",
      "           1       0.36      0.27      0.31       146\n",
      "\n",
      "    accuracy                           0.57       409\n",
      "   macro avg       0.50      0.50      0.50       409\n",
      "weighted avg       0.54      0.57      0.55       409\n",
      "\n",
      "Training Accuracy_Score: 69.3561532192339 %\n",
      "Training Precision: 62.7906976744186 %\n",
      "Training Recall: 46.55172413793103 %\n",
      "Training F1 Score: 53.46534653465347 %\n",
      "Test Accuracy_Score: 56.96821515892421 %\n",
      "Test Precision: 36.11111111111111 %\n",
      "Test Recall: 26.71232876712329 %\n",
      "Test F1 Score: 30.708661417322837 %\n"
     ]
    }
   ],
   "source": [
    "getMetrics(dt7,xtrain_tfidf_ngram,y_train,xtest_tfidf_ngram,y_test)"
   ]
  },
  {
   "cell_type": "markdown",
   "metadata": {},
   "source": [
    "# SVM"
   ]
  },
  {
   "cell_type": "code",
   "execution_count": 102,
   "metadata": {},
   "outputs": [],
   "source": [
    "from sklearn.svm import SVC\n",
    "\n",
    "param_grid = {'C': [0.1, 1, 10, 100, 1000],  \n",
    "              'gamma': [1, 0.1, 0.01, 0.001, 0.0001], \n",
    "              'kernel': ['rbf','linear','poly']}  \n",
    "\n",
    "grid = GridSearchCV(SVC(), param_grid, refit = True, verbose = 3) \n",
    "  \n"
   ]
  },
  {
   "cell_type": "code",
   "execution_count": 103,
   "metadata": {
    "scrolled": true
   },
   "outputs": [
    {
     "name": "stdout",
     "output_type": "stream",
     "text": [
      "Fitting 5 folds for each of 75 candidates, totalling 375 fits\n",
      "[CV 1/5] END .....................C=0.1, gamma=1, kernel=rbf; total time=   0.2s\n",
      "[CV 2/5] END .....................C=0.1, gamma=1, kernel=rbf; total time=   0.2s\n",
      "[CV 3/5] END .....................C=0.1, gamma=1, kernel=rbf; total time=   0.2s\n",
      "[CV 4/5] END .....................C=0.1, gamma=1, kernel=rbf; total time=   0.2s\n",
      "[CV 5/5] END .....................C=0.1, gamma=1, kernel=rbf; total time=   0.2s\n",
      "[CV 1/5] END ..................C=0.1, gamma=1, kernel=linear; total time=   0.2s\n",
      "[CV 2/5] END ..................C=0.1, gamma=1, kernel=linear; total time=   0.2s\n",
      "[CV 3/5] END ..................C=0.1, gamma=1, kernel=linear; total time=   0.2s\n",
      "[CV 4/5] END ..................C=0.1, gamma=1, kernel=linear; total time=   0.1s\n",
      "[CV 5/5] END ..................C=0.1, gamma=1, kernel=linear; total time=   0.1s\n",
      "[CV 1/5] END ....................C=0.1, gamma=1, kernel=poly; total time=   0.2s\n",
      "[CV 2/5] END ....................C=0.1, gamma=1, kernel=poly; total time=   0.2s\n",
      "[CV 3/5] END ....................C=0.1, gamma=1, kernel=poly; total time=   0.2s\n",
      "[CV 4/5] END ....................C=0.1, gamma=1, kernel=poly; total time=   0.2s\n",
      "[CV 5/5] END ....................C=0.1, gamma=1, kernel=poly; total time=   0.2s\n",
      "[CV 1/5] END ...................C=0.1, gamma=0.1, kernel=rbf; total time=   0.2s\n",
      "[CV 2/5] END ...................C=0.1, gamma=0.1, kernel=rbf; total time=   0.2s\n",
      "[CV 3/5] END ...................C=0.1, gamma=0.1, kernel=rbf; total time=   0.2s\n",
      "[CV 4/5] END ...................C=0.1, gamma=0.1, kernel=rbf; total time=   0.2s\n",
      "[CV 5/5] END ...................C=0.1, gamma=0.1, kernel=rbf; total time=   0.2s\n",
      "[CV 1/5] END ................C=0.1, gamma=0.1, kernel=linear; total time=   0.2s\n",
      "[CV 2/5] END ................C=0.1, gamma=0.1, kernel=linear; total time=   0.2s\n",
      "[CV 3/5] END ................C=0.1, gamma=0.1, kernel=linear; total time=   0.2s\n",
      "[CV 4/5] END ................C=0.1, gamma=0.1, kernel=linear; total time=   0.1s\n",
      "[CV 5/5] END ................C=0.1, gamma=0.1, kernel=linear; total time=   0.1s\n",
      "[CV 1/5] END ..................C=0.1, gamma=0.1, kernel=poly; total time=   0.1s\n",
      "[CV 2/5] END ..................C=0.1, gamma=0.1, kernel=poly; total time=   0.1s\n",
      "[CV 3/5] END ..................C=0.1, gamma=0.1, kernel=poly; total time=   0.1s\n",
      "[CV 4/5] END ..................C=0.1, gamma=0.1, kernel=poly; total time=   0.1s\n",
      "[CV 5/5] END ..................C=0.1, gamma=0.1, kernel=poly; total time=   0.1s\n",
      "[CV 1/5] END ..................C=0.1, gamma=0.01, kernel=rbf; total time=   0.2s\n",
      "[CV 2/5] END ..................C=0.1, gamma=0.01, kernel=rbf; total time=   0.2s\n",
      "[CV 3/5] END ..................C=0.1, gamma=0.01, kernel=rbf; total time=   0.2s\n",
      "[CV 4/5] END ..................C=0.1, gamma=0.01, kernel=rbf; total time=   0.2s\n",
      "[CV 5/5] END ..................C=0.1, gamma=0.01, kernel=rbf; total time=   0.2s\n",
      "[CV 1/5] END ...............C=0.1, gamma=0.01, kernel=linear; total time=   0.1s\n",
      "[CV 2/5] END ...............C=0.1, gamma=0.01, kernel=linear; total time=   0.1s\n",
      "[CV 3/5] END ...............C=0.1, gamma=0.01, kernel=linear; total time=   0.1s\n",
      "[CV 4/5] END ...............C=0.1, gamma=0.01, kernel=linear; total time=   0.1s\n",
      "[CV 5/5] END ...............C=0.1, gamma=0.01, kernel=linear; total time=   0.1s\n",
      "[CV 1/5] END .................C=0.1, gamma=0.01, kernel=poly; total time=   0.1s\n",
      "[CV 2/5] END .................C=0.1, gamma=0.01, kernel=poly; total time=   0.1s\n",
      "[CV 3/5] END .................C=0.1, gamma=0.01, kernel=poly; total time=   0.1s\n",
      "[CV 4/5] END .................C=0.1, gamma=0.01, kernel=poly; total time=   0.1s\n",
      "[CV 5/5] END .................C=0.1, gamma=0.01, kernel=poly; total time=   0.1s\n",
      "[CV 1/5] END .................C=0.1, gamma=0.001, kernel=rbf; total time=   0.2s\n",
      "[CV 2/5] END .................C=0.1, gamma=0.001, kernel=rbf; total time=   0.2s\n",
      "[CV 3/5] END .................C=0.1, gamma=0.001, kernel=rbf; total time=   0.2s\n",
      "[CV 4/5] END .................C=0.1, gamma=0.001, kernel=rbf; total time=   0.2s\n",
      "[CV 5/5] END .................C=0.1, gamma=0.001, kernel=rbf; total time=   0.2s\n",
      "[CV 1/5] END ..............C=0.1, gamma=0.001, kernel=linear; total time=   0.1s\n",
      "[CV 2/5] END ..............C=0.1, gamma=0.001, kernel=linear; total time=   0.2s\n",
      "[CV 3/5] END ..............C=0.1, gamma=0.001, kernel=linear; total time=   0.1s\n",
      "[CV 4/5] END ..............C=0.1, gamma=0.001, kernel=linear; total time=   0.1s\n",
      "[CV 5/5] END ..............C=0.1, gamma=0.001, kernel=linear; total time=   0.1s\n",
      "[CV 1/5] END ................C=0.1, gamma=0.001, kernel=poly; total time=   0.1s\n",
      "[CV 2/5] END ................C=0.1, gamma=0.001, kernel=poly; total time=   0.1s\n",
      "[CV 3/5] END ................C=0.1, gamma=0.001, kernel=poly; total time=   0.1s\n",
      "[CV 4/5] END ................C=0.1, gamma=0.001, kernel=poly; total time=   0.1s\n",
      "[CV 5/5] END ................C=0.1, gamma=0.001, kernel=poly; total time=   0.1s\n",
      "[CV 1/5] END ................C=0.1, gamma=0.0001, kernel=rbf; total time=   0.2s\n",
      "[CV 2/5] END ................C=0.1, gamma=0.0001, kernel=rbf; total time=   0.2s\n",
      "[CV 3/5] END ................C=0.1, gamma=0.0001, kernel=rbf; total time=   0.2s\n",
      "[CV 4/5] END ................C=0.1, gamma=0.0001, kernel=rbf; total time=   0.2s\n",
      "[CV 5/5] END ................C=0.1, gamma=0.0001, kernel=rbf; total time=   0.2s\n",
      "[CV 1/5] END .............C=0.1, gamma=0.0001, kernel=linear; total time=   0.1s\n",
      "[CV 2/5] END .............C=0.1, gamma=0.0001, kernel=linear; total time=   0.1s\n",
      "[CV 3/5] END .............C=0.1, gamma=0.0001, kernel=linear; total time=   0.1s\n",
      "[CV 4/5] END .............C=0.1, gamma=0.0001, kernel=linear; total time=   0.1s\n",
      "[CV 5/5] END .............C=0.1, gamma=0.0001, kernel=linear; total time=   0.1s\n",
      "[CV 1/5] END ...............C=0.1, gamma=0.0001, kernel=poly; total time=   0.1s\n",
      "[CV 2/5] END ...............C=0.1, gamma=0.0001, kernel=poly; total time=   0.1s\n",
      "[CV 3/5] END ...............C=0.1, gamma=0.0001, kernel=poly; total time=   0.1s\n",
      "[CV 4/5] END ...............C=0.1, gamma=0.0001, kernel=poly; total time=   0.1s\n",
      "[CV 5/5] END ...............C=0.1, gamma=0.0001, kernel=poly; total time=   0.1s\n",
      "[CV 1/5] END .......................C=1, gamma=1, kernel=rbf; total time=   0.2s\n",
      "[CV 2/5] END .......................C=1, gamma=1, kernel=rbf; total time=   0.2s\n",
      "[CV 3/5] END .......................C=1, gamma=1, kernel=rbf; total time=   0.2s\n",
      "[CV 4/5] END .......................C=1, gamma=1, kernel=rbf; total time=   0.2s\n",
      "[CV 5/5] END .......................C=1, gamma=1, kernel=rbf; total time=   0.2s\n",
      "[CV 1/5] END ....................C=1, gamma=1, kernel=linear; total time=   0.1s\n",
      "[CV 2/5] END ....................C=1, gamma=1, kernel=linear; total time=   0.1s\n",
      "[CV 3/5] END ....................C=1, gamma=1, kernel=linear; total time=   0.1s\n",
      "[CV 4/5] END ....................C=1, gamma=1, kernel=linear; total time=   0.1s\n",
      "[CV 5/5] END ....................C=1, gamma=1, kernel=linear; total time=   0.1s\n",
      "[CV 1/5] END ......................C=1, gamma=1, kernel=poly; total time=   0.2s\n",
      "[CV 2/5] END ......................C=1, gamma=1, kernel=poly; total time=   0.2s\n",
      "[CV 3/5] END ......................C=1, gamma=1, kernel=poly; total time=   0.2s\n",
      "[CV 4/5] END ......................C=1, gamma=1, kernel=poly; total time=   0.2s\n",
      "[CV 5/5] END ......................C=1, gamma=1, kernel=poly; total time=   0.2s\n",
      "[CV 1/5] END .....................C=1, gamma=0.1, kernel=rbf; total time=   0.2s\n",
      "[CV 2/5] END .....................C=1, gamma=0.1, kernel=rbf; total time=   0.2s\n",
      "[CV 3/5] END .....................C=1, gamma=0.1, kernel=rbf; total time=   0.2s\n",
      "[CV 4/5] END .....................C=1, gamma=0.1, kernel=rbf; total time=   0.2s\n",
      "[CV 5/5] END .....................C=1, gamma=0.1, kernel=rbf; total time=   0.2s\n",
      "[CV 1/5] END ..................C=1, gamma=0.1, kernel=linear; total time=   0.1s\n",
      "[CV 2/5] END ..................C=1, gamma=0.1, kernel=linear; total time=   0.1s\n",
      "[CV 3/5] END ..................C=1, gamma=0.1, kernel=linear; total time=   0.1s\n",
      "[CV 4/5] END ..................C=1, gamma=0.1, kernel=linear; total time=   0.1s\n",
      "[CV 5/5] END ..................C=1, gamma=0.1, kernel=linear; total time=   0.1s\n",
      "[CV 1/5] END ....................C=1, gamma=0.1, kernel=poly; total time=   0.1s\n",
      "[CV 2/5] END ....................C=1, gamma=0.1, kernel=poly; total time=   0.1s\n"
     ]
    },
    {
     "name": "stdout",
     "output_type": "stream",
     "text": [
      "[CV 3/5] END ....................C=1, gamma=0.1, kernel=poly; total time=   0.1s\n",
      "[CV 4/5] END ....................C=1, gamma=0.1, kernel=poly; total time=   0.1s\n",
      "[CV 5/5] END ....................C=1, gamma=0.1, kernel=poly; total time=   0.1s\n",
      "[CV 1/5] END ....................C=1, gamma=0.01, kernel=rbf; total time=   0.2s\n",
      "[CV 2/5] END ....................C=1, gamma=0.01, kernel=rbf; total time=   0.2s\n",
      "[CV 3/5] END ....................C=1, gamma=0.01, kernel=rbf; total time=   0.2s\n",
      "[CV 4/5] END ....................C=1, gamma=0.01, kernel=rbf; total time=   0.2s\n",
      "[CV 5/5] END ....................C=1, gamma=0.01, kernel=rbf; total time=   0.2s\n",
      "[CV 1/5] END .................C=1, gamma=0.01, kernel=linear; total time=   0.1s\n",
      "[CV 2/5] END .................C=1, gamma=0.01, kernel=linear; total time=   0.1s\n",
      "[CV 3/5] END .................C=1, gamma=0.01, kernel=linear; total time=   0.1s\n",
      "[CV 4/5] END .................C=1, gamma=0.01, kernel=linear; total time=   0.1s\n",
      "[CV 5/5] END .................C=1, gamma=0.01, kernel=linear; total time=   0.2s\n",
      "[CV 1/5] END ...................C=1, gamma=0.01, kernel=poly; total time=   0.1s\n",
      "[CV 2/5] END ...................C=1, gamma=0.01, kernel=poly; total time=   0.1s\n",
      "[CV 3/5] END ...................C=1, gamma=0.01, kernel=poly; total time=   0.1s\n",
      "[CV 4/5] END ...................C=1, gamma=0.01, kernel=poly; total time=   0.1s\n",
      "[CV 5/5] END ...................C=1, gamma=0.01, kernel=poly; total time=   0.1s\n",
      "[CV 1/5] END ...................C=1, gamma=0.001, kernel=rbf; total time=   0.2s\n",
      "[CV 2/5] END ...................C=1, gamma=0.001, kernel=rbf; total time=   0.2s\n",
      "[CV 3/5] END ...................C=1, gamma=0.001, kernel=rbf; total time=   0.2s\n",
      "[CV 4/5] END ...................C=1, gamma=0.001, kernel=rbf; total time=   0.2s\n",
      "[CV 5/5] END ...................C=1, gamma=0.001, kernel=rbf; total time=   0.2s\n",
      "[CV 1/5] END ................C=1, gamma=0.001, kernel=linear; total time=   0.1s\n",
      "[CV 2/5] END ................C=1, gamma=0.001, kernel=linear; total time=   0.2s\n",
      "[CV 3/5] END ................C=1, gamma=0.001, kernel=linear; total time=   0.2s\n",
      "[CV 4/5] END ................C=1, gamma=0.001, kernel=linear; total time=   0.1s\n",
      "[CV 5/5] END ................C=1, gamma=0.001, kernel=linear; total time=   0.2s\n",
      "[CV 1/5] END ..................C=1, gamma=0.001, kernel=poly; total time=   0.1s\n",
      "[CV 2/5] END ..................C=1, gamma=0.001, kernel=poly; total time=   0.1s\n",
      "[CV 3/5] END ..................C=1, gamma=0.001, kernel=poly; total time=   0.1s\n",
      "[CV 4/5] END ..................C=1, gamma=0.001, kernel=poly; total time=   0.1s\n",
      "[CV 5/5] END ..................C=1, gamma=0.001, kernel=poly; total time=   0.2s\n",
      "[CV 1/5] END ..................C=1, gamma=0.0001, kernel=rbf; total time=   0.2s\n",
      "[CV 2/5] END ..................C=1, gamma=0.0001, kernel=rbf; total time=   0.2s\n",
      "[CV 3/5] END ..................C=1, gamma=0.0001, kernel=rbf; total time=   0.2s\n",
      "[CV 4/5] END ..................C=1, gamma=0.0001, kernel=rbf; total time=   0.2s\n",
      "[CV 5/5] END ..................C=1, gamma=0.0001, kernel=rbf; total time=   0.2s\n",
      "[CV 1/5] END ...............C=1, gamma=0.0001, kernel=linear; total time=   0.1s\n",
      "[CV 2/5] END ...............C=1, gamma=0.0001, kernel=linear; total time=   0.1s\n",
      "[CV 3/5] END ...............C=1, gamma=0.0001, kernel=linear; total time=   0.1s\n",
      "[CV 4/5] END ...............C=1, gamma=0.0001, kernel=linear; total time=   0.1s\n",
      "[CV 5/5] END ...............C=1, gamma=0.0001, kernel=linear; total time=   0.1s\n",
      "[CV 1/5] END .................C=1, gamma=0.0001, kernel=poly; total time=   0.1s\n",
      "[CV 2/5] END .................C=1, gamma=0.0001, kernel=poly; total time=   0.1s\n",
      "[CV 3/5] END .................C=1, gamma=0.0001, kernel=poly; total time=   0.1s\n",
      "[CV 4/5] END .................C=1, gamma=0.0001, kernel=poly; total time=   0.1s\n",
      "[CV 5/5] END .................C=1, gamma=0.0001, kernel=poly; total time=   0.1s\n",
      "[CV 1/5] END ......................C=10, gamma=1, kernel=rbf; total time=   0.2s\n",
      "[CV 2/5] END ......................C=10, gamma=1, kernel=rbf; total time=   0.3s\n",
      "[CV 3/5] END ......................C=10, gamma=1, kernel=rbf; total time=   0.2s\n",
      "[CV 4/5] END ......................C=10, gamma=1, kernel=rbf; total time=   0.2s\n",
      "[CV 5/5] END ......................C=10, gamma=1, kernel=rbf; total time=   0.2s\n",
      "[CV 1/5] END ...................C=10, gamma=1, kernel=linear; total time=   0.2s\n",
      "[CV 2/5] END ...................C=10, gamma=1, kernel=linear; total time=   0.1s\n",
      "[CV 3/5] END ...................C=10, gamma=1, kernel=linear; total time=   0.1s\n",
      "[CV 4/5] END ...................C=10, gamma=1, kernel=linear; total time=   0.1s\n",
      "[CV 5/5] END ...................C=10, gamma=1, kernel=linear; total time=   0.1s\n",
      "[CV 1/5] END .....................C=10, gamma=1, kernel=poly; total time=   0.2s\n",
      "[CV 2/5] END .....................C=10, gamma=1, kernel=poly; total time=   0.2s\n",
      "[CV 3/5] END .....................C=10, gamma=1, kernel=poly; total time=   0.2s\n",
      "[CV 4/5] END .....................C=10, gamma=1, kernel=poly; total time=   0.2s\n",
      "[CV 5/5] END .....................C=10, gamma=1, kernel=poly; total time=   0.2s\n",
      "[CV 1/5] END ....................C=10, gamma=0.1, kernel=rbf; total time=   0.2s\n",
      "[CV 2/5] END ....................C=10, gamma=0.1, kernel=rbf; total time=   0.2s\n",
      "[CV 3/5] END ....................C=10, gamma=0.1, kernel=rbf; total time=   0.2s\n",
      "[CV 4/5] END ....................C=10, gamma=0.1, kernel=rbf; total time=   0.2s\n",
      "[CV 5/5] END ....................C=10, gamma=0.1, kernel=rbf; total time=   0.2s\n",
      "[CV 1/5] END .................C=10, gamma=0.1, kernel=linear; total time=   0.2s\n",
      "[CV 2/5] END .................C=10, gamma=0.1, kernel=linear; total time=   0.2s\n",
      "[CV 3/5] END .................C=10, gamma=0.1, kernel=linear; total time=   0.2s\n",
      "[CV 4/5] END .................C=10, gamma=0.1, kernel=linear; total time=   0.2s\n",
      "[CV 5/5] END .................C=10, gamma=0.1, kernel=linear; total time=   0.1s\n",
      "[CV 1/5] END ...................C=10, gamma=0.1, kernel=poly; total time=   0.2s\n",
      "[CV 2/5] END ...................C=10, gamma=0.1, kernel=poly; total time=   0.2s\n",
      "[CV 3/5] END ...................C=10, gamma=0.1, kernel=poly; total time=   0.2s\n",
      "[CV 4/5] END ...................C=10, gamma=0.1, kernel=poly; total time=   0.2s\n",
      "[CV 5/5] END ...................C=10, gamma=0.1, kernel=poly; total time=   0.2s\n",
      "[CV 1/5] END ...................C=10, gamma=0.01, kernel=rbf; total time=   0.2s\n",
      "[CV 2/5] END ...................C=10, gamma=0.01, kernel=rbf; total time=   0.2s\n",
      "[CV 3/5] END ...................C=10, gamma=0.01, kernel=rbf; total time=   0.2s\n",
      "[CV 4/5] END ...................C=10, gamma=0.01, kernel=rbf; total time=   0.2s\n",
      "[CV 5/5] END ...................C=10, gamma=0.01, kernel=rbf; total time=   0.2s\n",
      "[CV 1/5] END ................C=10, gamma=0.01, kernel=linear; total time=   0.2s\n",
      "[CV 2/5] END ................C=10, gamma=0.01, kernel=linear; total time=   0.2s\n",
      "[CV 3/5] END ................C=10, gamma=0.01, kernel=linear; total time=   0.1s\n",
      "[CV 4/5] END ................C=10, gamma=0.01, kernel=linear; total time=   0.2s\n",
      "[CV 5/5] END ................C=10, gamma=0.01, kernel=linear; total time=   0.1s\n",
      "[CV 1/5] END ..................C=10, gamma=0.01, kernel=poly; total time=   0.1s\n",
      "[CV 2/5] END ..................C=10, gamma=0.01, kernel=poly; total time=   0.1s\n",
      "[CV 3/5] END ..................C=10, gamma=0.01, kernel=poly; total time=   0.1s\n",
      "[CV 4/5] END ..................C=10, gamma=0.01, kernel=poly; total time=   0.1s\n",
      "[CV 5/5] END ..................C=10, gamma=0.01, kernel=poly; total time=   0.1s\n",
      "[CV 1/5] END ..................C=10, gamma=0.001, kernel=rbf; total time=   0.2s\n",
      "[CV 2/5] END ..................C=10, gamma=0.001, kernel=rbf; total time=   0.2s\n",
      "[CV 3/5] END ..................C=10, gamma=0.001, kernel=rbf; total time=   0.2s\n",
      "[CV 4/5] END ..................C=10, gamma=0.001, kernel=rbf; total time=   0.2s\n",
      "[CV 5/5] END ..................C=10, gamma=0.001, kernel=rbf; total time=   0.2s\n",
      "[CV 1/5] END ...............C=10, gamma=0.001, kernel=linear; total time=   0.2s\n",
      "[CV 2/5] END ...............C=10, gamma=0.001, kernel=linear; total time=   0.2s\n",
      "[CV 3/5] END ...............C=10, gamma=0.001, kernel=linear; total time=   0.2s\n",
      "[CV 4/5] END ...............C=10, gamma=0.001, kernel=linear; total time=   0.2s\n",
      "[CV 5/5] END ...............C=10, gamma=0.001, kernel=linear; total time=   0.1s\n"
     ]
    },
    {
     "name": "stdout",
     "output_type": "stream",
     "text": [
      "[CV 1/5] END .................C=10, gamma=0.001, kernel=poly; total time=   0.1s\n",
      "[CV 2/5] END .................C=10, gamma=0.001, kernel=poly; total time=   0.1s\n",
      "[CV 3/5] END .................C=10, gamma=0.001, kernel=poly; total time=   0.1s\n",
      "[CV 4/5] END .................C=10, gamma=0.001, kernel=poly; total time=   0.1s\n",
      "[CV 5/5] END .................C=10, gamma=0.001, kernel=poly; total time=   0.1s\n",
      "[CV 1/5] END .................C=10, gamma=0.0001, kernel=rbf; total time=   0.2s\n",
      "[CV 2/5] END .................C=10, gamma=0.0001, kernel=rbf; total time=   0.2s\n",
      "[CV 3/5] END .................C=10, gamma=0.0001, kernel=rbf; total time=   0.2s\n",
      "[CV 4/5] END .................C=10, gamma=0.0001, kernel=rbf; total time=   0.2s\n",
      "[CV 5/5] END .................C=10, gamma=0.0001, kernel=rbf; total time=   0.2s\n",
      "[CV 1/5] END ..............C=10, gamma=0.0001, kernel=linear; total time=   0.2s\n",
      "[CV 2/5] END ..............C=10, gamma=0.0001, kernel=linear; total time=   0.1s\n",
      "[CV 3/5] END ..............C=10, gamma=0.0001, kernel=linear; total time=   0.1s\n",
      "[CV 4/5] END ..............C=10, gamma=0.0001, kernel=linear; total time=   0.1s\n",
      "[CV 5/5] END ..............C=10, gamma=0.0001, kernel=linear; total time=   0.2s\n",
      "[CV 1/5] END ................C=10, gamma=0.0001, kernel=poly; total time=   0.1s\n",
      "[CV 2/5] END ................C=10, gamma=0.0001, kernel=poly; total time=   0.1s\n",
      "[CV 3/5] END ................C=10, gamma=0.0001, kernel=poly; total time=   0.1s\n",
      "[CV 4/5] END ................C=10, gamma=0.0001, kernel=poly; total time=   0.1s\n",
      "[CV 5/5] END ................C=10, gamma=0.0001, kernel=poly; total time=   0.1s\n",
      "[CV 1/5] END .....................C=100, gamma=1, kernel=rbf; total time=   0.2s\n",
      "[CV 2/5] END .....................C=100, gamma=1, kernel=rbf; total time=   0.2s\n",
      "[CV 3/5] END .....................C=100, gamma=1, kernel=rbf; total time=   0.2s\n",
      "[CV 4/5] END .....................C=100, gamma=1, kernel=rbf; total time=   0.2s\n",
      "[CV 5/5] END .....................C=100, gamma=1, kernel=rbf; total time=   0.2s\n",
      "[CV 1/5] END ..................C=100, gamma=1, kernel=linear; total time=   0.3s\n",
      "[CV 2/5] END ..................C=100, gamma=1, kernel=linear; total time=   0.3s\n",
      "[CV 3/5] END ..................C=100, gamma=1, kernel=linear; total time=   0.3s\n",
      "[CV 4/5] END ..................C=100, gamma=1, kernel=linear; total time=   0.3s\n",
      "[CV 5/5] END ..................C=100, gamma=1, kernel=linear; total time=   0.3s\n",
      "[CV 1/5] END ....................C=100, gamma=1, kernel=poly; total time=   0.2s\n",
      "[CV 2/5] END ....................C=100, gamma=1, kernel=poly; total time=   0.2s\n",
      "[CV 3/5] END ....................C=100, gamma=1, kernel=poly; total time=   0.2s\n",
      "[CV 4/5] END ....................C=100, gamma=1, kernel=poly; total time=   0.2s\n",
      "[CV 5/5] END ....................C=100, gamma=1, kernel=poly; total time=   0.2s\n",
      "[CV 1/5] END ...................C=100, gamma=0.1, kernel=rbf; total time=   0.2s\n",
      "[CV 2/5] END ...................C=100, gamma=0.1, kernel=rbf; total time=   0.2s\n",
      "[CV 3/5] END ...................C=100, gamma=0.1, kernel=rbf; total time=   0.2s\n",
      "[CV 4/5] END ...................C=100, gamma=0.1, kernel=rbf; total time=   0.2s\n",
      "[CV 5/5] END ...................C=100, gamma=0.1, kernel=rbf; total time=   0.2s\n",
      "[CV 1/5] END ................C=100, gamma=0.1, kernel=linear; total time=   0.3s\n",
      "[CV 2/5] END ................C=100, gamma=0.1, kernel=linear; total time=   0.3s\n",
      "[CV 3/5] END ................C=100, gamma=0.1, kernel=linear; total time=   0.3s\n",
      "[CV 4/5] END ................C=100, gamma=0.1, kernel=linear; total time=   0.4s\n",
      "[CV 5/5] END ................C=100, gamma=0.1, kernel=linear; total time=   0.3s\n",
      "[CV 1/5] END ..................C=100, gamma=0.1, kernel=poly; total time=   0.2s\n",
      "[CV 2/5] END ..................C=100, gamma=0.1, kernel=poly; total time=   0.2s\n",
      "[CV 3/5] END ..................C=100, gamma=0.1, kernel=poly; total time=   0.2s\n",
      "[CV 4/5] END ..................C=100, gamma=0.1, kernel=poly; total time=   0.2s\n",
      "[CV 5/5] END ..................C=100, gamma=0.1, kernel=poly; total time=   0.2s\n",
      "[CV 1/5] END ..................C=100, gamma=0.01, kernel=rbf; total time=   0.2s\n",
      "[CV 2/5] END ..................C=100, gamma=0.01, kernel=rbf; total time=   0.2s\n",
      "[CV 3/5] END ..................C=100, gamma=0.01, kernel=rbf; total time=   0.2s\n",
      "[CV 4/5] END ..................C=100, gamma=0.01, kernel=rbf; total time=   0.2s\n",
      "[CV 5/5] END ..................C=100, gamma=0.01, kernel=rbf; total time=   0.2s\n",
      "[CV 1/5] END ...............C=100, gamma=0.01, kernel=linear; total time=   0.3s\n",
      "[CV 2/5] END ...............C=100, gamma=0.01, kernel=linear; total time=   0.3s\n",
      "[CV 3/5] END ...............C=100, gamma=0.01, kernel=linear; total time=   0.3s\n",
      "[CV 4/5] END ...............C=100, gamma=0.01, kernel=linear; total time=   0.3s\n",
      "[CV 5/5] END ...............C=100, gamma=0.01, kernel=linear; total time=   0.3s\n",
      "[CV 1/5] END .................C=100, gamma=0.01, kernel=poly; total time=   0.1s\n",
      "[CV 2/5] END .................C=100, gamma=0.01, kernel=poly; total time=   0.1s\n",
      "[CV 3/5] END .................C=100, gamma=0.01, kernel=poly; total time=   0.1s\n",
      "[CV 4/5] END .................C=100, gamma=0.01, kernel=poly; total time=   0.1s\n",
      "[CV 5/5] END .................C=100, gamma=0.01, kernel=poly; total time=   0.1s\n",
      "[CV 1/5] END .................C=100, gamma=0.001, kernel=rbf; total time=   0.2s\n",
      "[CV 2/5] END .................C=100, gamma=0.001, kernel=rbf; total time=   0.2s\n",
      "[CV 3/5] END .................C=100, gamma=0.001, kernel=rbf; total time=   0.2s\n",
      "[CV 4/5] END .................C=100, gamma=0.001, kernel=rbf; total time=   0.2s\n",
      "[CV 5/5] END .................C=100, gamma=0.001, kernel=rbf; total time=   0.2s\n",
      "[CV 1/5] END ..............C=100, gamma=0.001, kernel=linear; total time=   0.3s\n",
      "[CV 2/5] END ..............C=100, gamma=0.001, kernel=linear; total time=   0.3s\n",
      "[CV 3/5] END ..............C=100, gamma=0.001, kernel=linear; total time=   0.3s\n",
      "[CV 4/5] END ..............C=100, gamma=0.001, kernel=linear; total time=   0.3s\n",
      "[CV 5/5] END ..............C=100, gamma=0.001, kernel=linear; total time=   0.3s\n",
      "[CV 1/5] END ................C=100, gamma=0.001, kernel=poly; total time=   0.1s\n",
      "[CV 2/5] END ................C=100, gamma=0.001, kernel=poly; total time=   0.1s\n",
      "[CV 3/5] END ................C=100, gamma=0.001, kernel=poly; total time=   0.1s\n",
      "[CV 4/5] END ................C=100, gamma=0.001, kernel=poly; total time=   0.1s\n",
      "[CV 5/5] END ................C=100, gamma=0.001, kernel=poly; total time=   0.1s\n",
      "[CV 1/5] END ................C=100, gamma=0.0001, kernel=rbf; total time=   0.2s\n",
      "[CV 2/5] END ................C=100, gamma=0.0001, kernel=rbf; total time=   0.2s\n",
      "[CV 3/5] END ................C=100, gamma=0.0001, kernel=rbf; total time=   0.2s\n",
      "[CV 4/5] END ................C=100, gamma=0.0001, kernel=rbf; total time=   0.2s\n",
      "[CV 5/5] END ................C=100, gamma=0.0001, kernel=rbf; total time=   0.2s\n",
      "[CV 1/5] END .............C=100, gamma=0.0001, kernel=linear; total time=   0.3s\n",
      "[CV 2/5] END .............C=100, gamma=0.0001, kernel=linear; total time=   0.3s\n",
      "[CV 3/5] END .............C=100, gamma=0.0001, kernel=linear; total time=   0.3s\n",
      "[CV 4/5] END .............C=100, gamma=0.0001, kernel=linear; total time=   0.3s\n",
      "[CV 5/5] END .............C=100, gamma=0.0001, kernel=linear; total time=   0.3s\n",
      "[CV 1/5] END ...............C=100, gamma=0.0001, kernel=poly; total time=   0.1s\n",
      "[CV 2/5] END ...............C=100, gamma=0.0001, kernel=poly; total time=   0.1s\n",
      "[CV 3/5] END ...............C=100, gamma=0.0001, kernel=poly; total time=   0.1s\n",
      "[CV 4/5] END ...............C=100, gamma=0.0001, kernel=poly; total time=   0.1s\n",
      "[CV 5/5] END ...............C=100, gamma=0.0001, kernel=poly; total time=   0.1s\n",
      "[CV 1/5] END ....................C=1000, gamma=1, kernel=rbf; total time=   0.3s\n",
      "[CV 2/5] END ....................C=1000, gamma=1, kernel=rbf; total time=   0.3s\n",
      "[CV 3/5] END ....................C=1000, gamma=1, kernel=rbf; total time=   0.2s\n",
      "[CV 4/5] END ....................C=1000, gamma=1, kernel=rbf; total time=   0.3s\n",
      "[CV 5/5] END ....................C=1000, gamma=1, kernel=rbf; total time=   0.3s\n",
      "[CV 1/5] END .................C=1000, gamma=1, kernel=linear; total time=   1.0s\n",
      "[CV 2/5] END .................C=1000, gamma=1, kernel=linear; total time=   1.0s\n"
     ]
    },
    {
     "name": "stdout",
     "output_type": "stream",
     "text": [
      "[CV 3/5] END .................C=1000, gamma=1, kernel=linear; total time=   0.9s\n",
      "[CV 4/5] END .................C=1000, gamma=1, kernel=linear; total time=   1.9s\n",
      "[CV 5/5] END .................C=1000, gamma=1, kernel=linear; total time=   1.1s\n",
      "[CV 1/5] END ...................C=1000, gamma=1, kernel=poly; total time=   0.2s\n",
      "[CV 2/5] END ...................C=1000, gamma=1, kernel=poly; total time=   0.2s\n",
      "[CV 3/5] END ...................C=1000, gamma=1, kernel=poly; total time=   0.2s\n",
      "[CV 4/5] END ...................C=1000, gamma=1, kernel=poly; total time=   0.2s\n",
      "[CV 5/5] END ...................C=1000, gamma=1, kernel=poly; total time=   0.2s\n",
      "[CV 1/5] END ..................C=1000, gamma=0.1, kernel=rbf; total time=   0.3s\n",
      "[CV 2/5] END ..................C=1000, gamma=0.1, kernel=rbf; total time=   0.3s\n",
      "[CV 3/5] END ..................C=1000, gamma=0.1, kernel=rbf; total time=   0.3s\n",
      "[CV 4/5] END ..................C=1000, gamma=0.1, kernel=rbf; total time=   0.3s\n",
      "[CV 5/5] END ..................C=1000, gamma=0.1, kernel=rbf; total time=   0.3s\n",
      "[CV 1/5] END ...............C=1000, gamma=0.1, kernel=linear; total time=   1.1s\n",
      "[CV 2/5] END ...............C=1000, gamma=0.1, kernel=linear; total time=   1.0s\n",
      "[CV 3/5] END ...............C=1000, gamma=0.1, kernel=linear; total time=   0.9s\n",
      "[CV 4/5] END ...............C=1000, gamma=0.1, kernel=linear; total time=   2.0s\n",
      "[CV 5/5] END ...............C=1000, gamma=0.1, kernel=linear; total time=   1.1s\n",
      "[CV 1/5] END .................C=1000, gamma=0.1, kernel=poly; total time=   0.2s\n",
      "[CV 2/5] END .................C=1000, gamma=0.1, kernel=poly; total time=   0.2s\n",
      "[CV 3/5] END .................C=1000, gamma=0.1, kernel=poly; total time=   0.2s\n",
      "[CV 4/5] END .................C=1000, gamma=0.1, kernel=poly; total time=   0.2s\n",
      "[CV 5/5] END .................C=1000, gamma=0.1, kernel=poly; total time=   0.2s\n",
      "[CV 1/5] END .................C=1000, gamma=0.01, kernel=rbf; total time=   0.2s\n",
      "[CV 2/5] END .................C=1000, gamma=0.01, kernel=rbf; total time=   0.2s\n",
      "[CV 3/5] END .................C=1000, gamma=0.01, kernel=rbf; total time=   0.2s\n",
      "[CV 4/5] END .................C=1000, gamma=0.01, kernel=rbf; total time=   0.2s\n",
      "[CV 5/5] END .................C=1000, gamma=0.01, kernel=rbf; total time=   0.2s\n",
      "[CV 1/5] END ..............C=1000, gamma=0.01, kernel=linear; total time=   1.0s\n",
      "[CV 2/5] END ..............C=1000, gamma=0.01, kernel=linear; total time=   1.0s\n",
      "[CV 3/5] END ..............C=1000, gamma=0.01, kernel=linear; total time=   1.1s\n",
      "[CV 4/5] END ..............C=1000, gamma=0.01, kernel=linear; total time=   2.8s\n",
      "[CV 5/5] END ..............C=1000, gamma=0.01, kernel=linear; total time=   1.5s\n",
      "[CV 1/5] END ................C=1000, gamma=0.01, kernel=poly; total time=   0.2s\n",
      "[CV 2/5] END ................C=1000, gamma=0.01, kernel=poly; total time=   0.2s\n",
      "[CV 3/5] END ................C=1000, gamma=0.01, kernel=poly; total time=   0.2s\n",
      "[CV 4/5] END ................C=1000, gamma=0.01, kernel=poly; total time=   0.2s\n",
      "[CV 5/5] END ................C=1000, gamma=0.01, kernel=poly; total time=   0.2s\n",
      "[CV 1/5] END ................C=1000, gamma=0.001, kernel=rbf; total time=   0.2s\n",
      "[CV 2/5] END ................C=1000, gamma=0.001, kernel=rbf; total time=   0.2s\n",
      "[CV 3/5] END ................C=1000, gamma=0.001, kernel=rbf; total time=   0.2s\n",
      "[CV 4/5] END ................C=1000, gamma=0.001, kernel=rbf; total time=   0.2s\n",
      "[CV 5/5] END ................C=1000, gamma=0.001, kernel=rbf; total time=   0.2s\n",
      "[CV 1/5] END .............C=1000, gamma=0.001, kernel=linear; total time=   1.5s\n",
      "[CV 2/5] END .............C=1000, gamma=0.001, kernel=linear; total time=   1.3s\n",
      "[CV 3/5] END .............C=1000, gamma=0.001, kernel=linear; total time=   1.1s\n",
      "[CV 4/5] END .............C=1000, gamma=0.001, kernel=linear; total time=   2.6s\n",
      "[CV 5/5] END .............C=1000, gamma=0.001, kernel=linear; total time=   1.5s\n",
      "[CV 1/5] END ...............C=1000, gamma=0.001, kernel=poly; total time=   0.2s\n",
      "[CV 2/5] END ...............C=1000, gamma=0.001, kernel=poly; total time=   0.2s\n",
      "[CV 3/5] END ...............C=1000, gamma=0.001, kernel=poly; total time=   0.2s\n",
      "[CV 4/5] END ...............C=1000, gamma=0.001, kernel=poly; total time=   0.2s\n",
      "[CV 5/5] END ...............C=1000, gamma=0.001, kernel=poly; total time=   0.2s\n",
      "[CV 1/5] END ...............C=1000, gamma=0.0001, kernel=rbf; total time=   0.2s\n",
      "[CV 2/5] END ...............C=1000, gamma=0.0001, kernel=rbf; total time=   0.2s\n",
      "[CV 3/5] END ...............C=1000, gamma=0.0001, kernel=rbf; total time=   0.2s\n",
      "[CV 4/5] END ...............C=1000, gamma=0.0001, kernel=rbf; total time=   0.2s\n",
      "[CV 5/5] END ...............C=1000, gamma=0.0001, kernel=rbf; total time=   0.2s\n",
      "[CV 1/5] END ............C=1000, gamma=0.0001, kernel=linear; total time=   1.4s\n",
      "[CV 2/5] END ............C=1000, gamma=0.0001, kernel=linear; total time=   1.2s\n",
      "[CV 3/5] END ............C=1000, gamma=0.0001, kernel=linear; total time=   1.2s\n",
      "[CV 4/5] END ............C=1000, gamma=0.0001, kernel=linear; total time=   3.0s\n",
      "[CV 5/5] END ............C=1000, gamma=0.0001, kernel=linear; total time=   1.4s\n",
      "[CV 1/5] END ..............C=1000, gamma=0.0001, kernel=poly; total time=   0.2s\n",
      "[CV 2/5] END ..............C=1000, gamma=0.0001, kernel=poly; total time=   0.2s\n",
      "[CV 3/5] END ..............C=1000, gamma=0.0001, kernel=poly; total time=   0.2s\n",
      "[CV 4/5] END ..............C=1000, gamma=0.0001, kernel=poly; total time=   0.2s\n",
      "[CV 5/5] END ..............C=1000, gamma=0.0001, kernel=poly; total time=   0.2s\n"
     ]
    },
    {
     "data": {
      "text/plain": [
       "GridSearchCV(estimator=SVC(),\n",
       "             param_grid={'C': [0.1, 1, 10, 100, 1000],\n",
       "                         'gamma': [1, 0.1, 0.01, 0.001, 0.0001],\n",
       "                         'kernel': ['rbf', 'linear', 'poly']},\n",
       "             verbose=3)"
      ]
     },
     "execution_count": 103,
     "metadata": {},
     "output_type": "execute_result"
    }
   ],
   "source": [
    "# fitting the model for grid search \n",
    "grid.fit(xtrain_tfidf_ngram, y_train['label']) "
   ]
  },
  {
   "cell_type": "code",
   "execution_count": 104,
   "metadata": {},
   "outputs": [
    {
     "data": {
      "text/plain": [
       "['SVM_gridNLP_USE.pkl']"
      ]
     },
     "execution_count": 104,
     "metadata": {},
     "output_type": "execute_result"
    },
    {
     "data": {
      "text/plain": [
       "{'C': 1, 'gamma': 1, 'kernel': 'rbf'}"
      ]
     },
     "execution_count": 104,
     "metadata": {},
     "output_type": "execute_result"
    }
   ],
   "source": [
    "joblib.dump(grid,'SVM_gridNLP_USEUSE.pkl')\n",
    "\n",
    "\n",
    "grid.best_params_\n",
    "\n",
    "\n"
   ]
  },
  {
   "cell_type": "code",
   "execution_count": 105,
   "metadata": {},
   "outputs": [],
   "source": [
    "y_pred_SVM = grid.best_estimator_.predict(xvalid_tfidf_ngram)"
   ]
  },
  {
   "cell_type": "code",
   "execution_count": null,
   "metadata": {},
   "outputs": [],
   "source": [
    "y_cv\n"
   ]
  },
  {
   "cell_type": "code",
   "execution_count": 106,
   "metadata": {},
   "outputs": [
    {
     "data": {
      "text/plain": [
       "<Figure size 576x432 with 0 Axes>"
      ]
     },
     "execution_count": 106,
     "metadata": {},
     "output_type": "execute_result"
    },
    {
     "data": {
      "text/plain": [
       "<AxesSubplot:>"
      ]
     },
     "execution_count": 106,
     "metadata": {},
     "output_type": "execute_result"
    },
    {
     "data": {
      "text/plain": [
       "Text(0.5, 1.0, 'Confusion_matrix')"
      ]
     },
     "execution_count": 106,
     "metadata": {},
     "output_type": "execute_result"
    },
    {
     "data": {
      "text/plain": [
       "Text(0.5, 33.0, 'Predicted Class')"
      ]
     },
     "execution_count": 106,
     "metadata": {},
     "output_type": "execute_result"
    },
    {
     "data": {
      "text/plain": [
       "Text(51.0, 0.5, 'Actual class')"
      ]
     },
     "execution_count": 106,
     "metadata": {},
     "output_type": "execute_result"
    },
    {
     "data": {
      "image/png": "[encoded data removed]",
      "text/plain": [
       "<Figure size 576x432 with 2 Axes>"
      ]
     },
     "metadata": {
      "needs_background": "light"
     },
     "output_type": "display_data"
    },
    {
     "name": "stdout",
     "output_type": "stream",
     "text": [
      "Confusion matrix: \n",
      " [[242  23]\n",
      " [ 92  52]]\n",
      "TP:  52\n",
      "TN:  242\n",
      "FP:  23\n",
      "FN:  92\n",
      "Accuracy_Score: 71.88264058679707 %\n",
      "precision_score: 69.33333333333334 %\n",
      "recall_score: 36.11111111111111 %\n",
      "f1_score: 47.48858447488583 %\n"
     ]
    }
   ],
   "source": [
    "\n",
    "conf_mat_svm = metrics.confusion_matrix(y_cv['label'], y_pred_SVM)\n",
    "plt.figure(figsize=(8,6))\n",
    "sns.heatmap(conf_mat_svm,annot=True)\n",
    "plt.title(\"Confusion_matrix\")\n",
    "plt.xlabel(\"Predicted Class\")\n",
    "plt.ylabel(\"Actual class\")\n",
    "plt.show()\n",
    "print('Confusion matrix: \\n', conf_mat_svm)\n",
    "print('TP: ', conf_mat_svm[1,1])\n",
    "print('TN: ', conf_mat_svm[0,0])\n",
    "print('FP: ', conf_mat_svm[0,1])\n",
    "print('FN: ', conf_mat_svm[1,0])\n",
    "\n",
    "\n",
    "# # print('Confusion matrix: \\n', cm)\n",
    "# print('TP: ', conf_mat_svm[1,1])\n",
    "# print('TN: ', conf_mat_svm[0,0])\n",
    "# print('FP: ', conf_mat_svm[0,1])\n",
    "# print('FN: ', conf_mat_svm[1,0])\n",
    "\n",
    "# print('Classification report: \\n', metrics.classification_report(y_test, model))\n",
    "print('Accuracy_Score:',metrics.accuracy_score(y_cv['label'], y_pred_SVM)*100,'%')\n",
    "\n",
    "\n",
    "print('precision_score:',metrics.precision_score(y_cv['label'], y_pred_SVM)*100,'%')\n",
    "\n",
    "print('recall_score:',metrics.recall_score(y_cv['label'], y_pred_SVM)*100,'%')\n",
    "\n",
    "print('f1_score:',metrics.f1_score(y_cv['label'], y_pred_SVM)*100,'%')\n"
   ]
  },
  {
   "cell_type": "code",
   "execution_count": 107,
   "metadata": {},
   "outputs": [
    {
     "name": "stdout",
     "output_type": "stream",
     "text": [
      "Training Accuracy_Score: 84.92257538712306 %\n",
      "Training Recall: 63.793103448275865 %\n",
      "Training precision_score: 94.56869009584665 %\n",
      "Training F1 Score: 76.19047619047619 %\n"
     ]
    }
   ],
   "source": [
    "print('Training Accuracy_Score:',metrics.accuracy_score(y_train, grid.best_estimator_.predict(xtrain_tfidf_ngram))*100,'%')\n",
    "print('Training Recall:',metrics.recall_score(y_train, grid.best_estimator_.predict(xtrain_tfidf_ngram))*100,'%')\n",
    "print('Training precision_score:',metrics.precision_score(y_train, grid.best_estimator_.predict(xtrain_tfidf_ngram))*100,'%')\n",
    "print('Training F1 Score:',metrics.f1_score(y_train, grid.best_estimator_.predict(xtrain_tfidf_ngram))*100,'%')\n"
   ]
  },
  {
   "cell_type": "code",
   "execution_count": 108,
   "metadata": {
    "scrolled": true
   },
   "outputs": [
    {
     "data": {
      "text/plain": [
       "[<matplotlib.lines.Line2D at 0x7f262caa8cf8>]"
      ]
     },
     "execution_count": 108,
     "metadata": {},
     "output_type": "execute_result"
    },
    {
     "data": {
      "text/plain": [
       "[<matplotlib.lines.Line2D at 0x7f262cc6cc50>]"
      ]
     },
     "execution_count": 108,
     "metadata": {},
     "output_type": "execute_result"
    },
    {
     "data": {
      "text/plain": [
       "Text(0.5, 1.0, 'LEARNING CURVE FOR SVM Classifier')"
      ]
     },
     "execution_count": 108,
     "metadata": {},
     "output_type": "execute_result"
    },
    {
     "data": {
      "text/plain": [
       "(Text(0.5, 0, 'Training Set Size'),\n",
       " Text(0, 0.5, 'Accuracy Score'),\n",
       " <matplotlib.legend.Legend at 0x7f262caa8320>)"
      ]
     },
     "execution_count": 108,
     "metadata": {},
     "output_type": "execute_result"
    },
    {
     "data": {
      "image/png": "[encoded data removed]",
      "text/plain": [
       "<Figure size 432x288 with 1 Axes>"
      ]
     },
     "metadata": {
      "needs_background": "light"
     },
     "output_type": "display_data"
    }
   ],
   "source": [
    "\n",
    "from sklearn.model_selection import learning_curve\n",
    "\n",
    "sizes, training_scores, testing_scores = learning_curve(SVC(C=1,gamma=1,kernel='rbf'),xtrain_tfidf_ngram, y_train['label'])\n",
    "\n",
    "# Mean and Standard Deviation of training scores \n",
    "mean_training = np.mean(training_scores, axis=1) \n",
    "Standard_Deviation_training = np.std(training_scores, axis=1) \n",
    "  \n",
    "# Mean and Standard Deviation of testing scores \n",
    "mean_testing = np.mean(testing_scores, axis=1) \n",
    "Standard_Deviation_testing = np.std(testing_scores, axis=1) \n",
    "  \n",
    "# dotted blue line is for training scores and green line is for cross-validation score \n",
    "plt.plot(sizes, mean_training, '--', color=\"b\",  label=\"Training score\") \n",
    "plt.plot(sizes, mean_testing, color=\"g\", label=\"Cross-validation score\") \n",
    "  \n",
    "# Drawing plot \n",
    "plt.title(\"LEARNING CURVE FOR SVM Classifier\") \n",
    "plt.xlabel(\"Training Set Size\"), plt.ylabel(\"Accuracy Score\"), plt.legend(loc=\"best\") \n",
    "plt.tight_layout() \n",
    "plt.show()\n",
    "\n",
    "\n"
   ]
  },
  {
   "cell_type": "markdown",
   "metadata": {},
   "source": [
    "In contrast, for small amounts of data, the training score of the SVM is much greater than the validation score. Adding more training samples will most likely increase generalization."
   ]
  },
  {
   "cell_type": "markdown",
   "metadata": {},
   "source": [
    "    C: Inverse of the strength of regularization.\n",
    "\n",
    "Behavior: As the value of ‘c’ increases the model gets overfits.\n",
    "\n",
    "As the value of ‘c’ decreases the model underfits.\n",
    "\n",
    "2. γ : Gamma (used only for RBF kernel)\n",
    "\n",
    "Behavior: As the value of ‘ γ’ increases the model gets overfits.\n",
    "\n",
    "As the value of ‘ γ’ decreases the model underfits."
   ]
  },
  {
   "cell_type": "code",
   "execution_count": null,
   "metadata": {},
   "outputs": [],
   "source": [
    "param_grid = {'C': [0.1, 1, 10, 100, 1000],  \n",
    "              'gamma': [1, 0.1, 0.01, 0.001, 0.0001], \n",
    "              'kernel': ['rbf','linear','poly']}  "
   ]
  },
  {
   "cell_type": "code",
   "execution_count": null,
   "metadata": {},
   "outputs": [],
   "source": [
    "np.arange(0.0001,0.1,0.01)"
   ]
  },
  {
   "cell_type": "code",
   "execution_count": null,
   "metadata": {},
   "outputs": [],
   "source": [
    "test_scores_mean"
   ]
  },
  {
   "cell_type": "markdown",
   "metadata": {},
   "source": [
    "The gamma parameter is not large but still the model is still overfitting. Hence we are going to tune C parameter"
   ]
  },
  {
   "cell_type": "code",
   "execution_count": 140,
   "metadata": {
    "scrolled": false
   },
   "outputs": [
    {
     "name": "stderr",
     "output_type": "stream",
     "text": [
      "/home/dheekshitha-vibha/miniconda3/envs/myenv/lib/python3.6/site-packages/sklearn/metrics/_classification.py:1245: UndefinedMetricWarning: Precision is ill-defined and being set to 0.0 due to no predicted samples. Use `zero_division` parameter to control this behavior.\n",
      "  _warn_prf(average, modifier, msg_start, len(result))\n",
      "/home/dheekshitha-vibha/miniconda3/envs/myenv/lib/python3.6/site-packages/sklearn/metrics/_classification.py:1245: UndefinedMetricWarning: Precision is ill-defined and being set to 0.0 due to no predicted samples. Use `zero_division` parameter to control this behavior.\n",
      "  _warn_prf(average, modifier, msg_start, len(result))\n",
      "/home/dheekshitha-vibha/miniconda3/envs/myenv/lib/python3.6/site-packages/sklearn/metrics/_classification.py:1245: UndefinedMetricWarning: Precision is ill-defined and being set to 0.0 due to no predicted samples. Use `zero_division` parameter to control this behavior.\n",
      "  _warn_prf(average, modifier, msg_start, len(result))\n",
      "/home/dheekshitha-vibha/miniconda3/envs/myenv/lib/python3.6/site-packages/sklearn/metrics/_classification.py:1245: UndefinedMetricWarning: Precision is ill-defined and being set to 0.0 due to no predicted samples. Use `zero_division` parameter to control this behavior.\n",
      "  _warn_prf(average, modifier, msg_start, len(result))\n",
      "/home/dheekshitha-vibha/miniconda3/envs/myenv/lib/python3.6/site-packages/sklearn/metrics/_classification.py:1245: UndefinedMetricWarning: Precision is ill-defined and being set to 0.0 due to no predicted samples. Use `zero_division` parameter to control this behavior.\n",
      "  _warn_prf(average, modifier, msg_start, len(result))\n",
      "/home/dheekshitha-vibha/miniconda3/envs/myenv/lib/python3.6/site-packages/sklearn/metrics/_classification.py:1245: UndefinedMetricWarning: Precision is ill-defined and being set to 0.0 due to no predicted samples. Use `zero_division` parameter to control this behavior.\n",
      "  _warn_prf(average, modifier, msg_start, len(result))\n",
      "/home/dheekshitha-vibha/miniconda3/envs/myenv/lib/python3.6/site-packages/sklearn/metrics/_classification.py:1245: UndefinedMetricWarning: Precision is ill-defined and being set to 0.0 due to no predicted samples. Use `zero_division` parameter to control this behavior.\n",
      "  _warn_prf(average, modifier, msg_start, len(result))\n",
      "/home/dheekshitha-vibha/miniconda3/envs/myenv/lib/python3.6/site-packages/sklearn/metrics/_classification.py:1245: UndefinedMetricWarning: Precision is ill-defined and being set to 0.0 due to no predicted samples. Use `zero_division` parameter to control this behavior.\n",
      "  _warn_prf(average, modifier, msg_start, len(result))\n",
      "/home/dheekshitha-vibha/miniconda3/envs/myenv/lib/python3.6/site-packages/sklearn/metrics/_classification.py:1245: UndefinedMetricWarning: Precision is ill-defined and being set to 0.0 due to no predicted samples. Use `zero_division` parameter to control this behavior.\n",
      "  _warn_prf(average, modifier, msg_start, len(result))\n",
      "/home/dheekshitha-vibha/miniconda3/envs/myenv/lib/python3.6/site-packages/sklearn/metrics/_classification.py:1245: UndefinedMetricWarning: Precision is ill-defined and being set to 0.0 due to no predicted samples. Use `zero_division` parameter to control this behavior.\n",
      "  _warn_prf(average, modifier, msg_start, len(result))\n",
      "/home/dheekshitha-vibha/miniconda3/envs/myenv/lib/python3.6/site-packages/sklearn/metrics/_classification.py:1245: UndefinedMetricWarning: Precision is ill-defined and being set to 0.0 due to no predicted samples. Use `zero_division` parameter to control this behavior.\n",
      "  _warn_prf(average, modifier, msg_start, len(result))\n",
      "/home/dheekshitha-vibha/miniconda3/envs/myenv/lib/python3.6/site-packages/sklearn/metrics/_classification.py:1245: UndefinedMetricWarning: Precision is ill-defined and being set to 0.0 due to no predicted samples. Use `zero_division` parameter to control this behavior.\n",
      "  _warn_prf(average, modifier, msg_start, len(result))\n",
      "/home/dheekshitha-vibha/miniconda3/envs/myenv/lib/python3.6/site-packages/sklearn/metrics/_classification.py:1245: UndefinedMetricWarning: Precision is ill-defined and being set to 0.0 due to no predicted samples. Use `zero_division` parameter to control this behavior.\n",
      "  _warn_prf(average, modifier, msg_start, len(result))\n",
      "/home/dheekshitha-vibha/miniconda3/envs/myenv/lib/python3.6/site-packages/sklearn/metrics/_classification.py:1245: UndefinedMetricWarning: Precision is ill-defined and being set to 0.0 due to no predicted samples. Use `zero_division` parameter to control this behavior.\n",
      "  _warn_prf(average, modifier, msg_start, len(result))\n",
      "/home/dheekshitha-vibha/miniconda3/envs/myenv/lib/python3.6/site-packages/sklearn/metrics/_classification.py:1245: UndefinedMetricWarning: Precision is ill-defined and being set to 0.0 due to no predicted samples. Use `zero_division` parameter to control this behavior.\n",
      "  _warn_prf(average, modifier, msg_start, len(result))\n",
      "/home/dheekshitha-vibha/miniconda3/envs/myenv/lib/python3.6/site-packages/sklearn/metrics/_classification.py:1245: UndefinedMetricWarning: Precision is ill-defined and being set to 0.0 due to no predicted samples. Use `zero_division` parameter to control this behavior.\n",
      "  _warn_prf(average, modifier, msg_start, len(result))\n",
      "/home/dheekshitha-vibha/miniconda3/envs/myenv/lib/python3.6/site-packages/sklearn/metrics/_classification.py:1245: UndefinedMetricWarning: Precision is ill-defined and being set to 0.0 due to no predicted samples. Use `zero_division` parameter to control this behavior.\n",
      "  _warn_prf(average, modifier, msg_start, len(result))\n",
      "/home/dheekshitha-vibha/miniconda3/envs/myenv/lib/python3.6/site-packages/sklearn/metrics/_classification.py:1245: UndefinedMetricWarning: Precision is ill-defined and being set to 0.0 due to no predicted samples. Use `zero_division` parameter to control this behavior.\n",
      "  _warn_prf(average, modifier, msg_start, len(result))\n",
      "/home/dheekshitha-vibha/miniconda3/envs/myenv/lib/python3.6/site-packages/sklearn/metrics/_classification.py:1245: UndefinedMetricWarning: Precision is ill-defined and being set to 0.0 due to no predicted samples. Use `zero_division` parameter to control this behavior.\n",
      "  _warn_prf(average, modifier, msg_start, len(result))\n",
      "/home/dheekshitha-vibha/miniconda3/envs/myenv/lib/python3.6/site-packages/sklearn/metrics/_classification.py:1245: UndefinedMetricWarning: Precision is ill-defined and being set to 0.0 due to no predicted samples. Use `zero_division` parameter to control this behavior.\n",
      "  _warn_prf(average, modifier, msg_start, len(result))\n",
      "/home/dheekshitha-vibha/miniconda3/envs/myenv/lib/python3.6/site-packages/sklearn/metrics/_classification.py:1245: UndefinedMetricWarning: Precision is ill-defined and being set to 0.0 due to no predicted samples. Use `zero_division` parameter to control this behavior.\n",
      "  _warn_prf(average, modifier, msg_start, len(result))\n",
      "/home/dheekshitha-vibha/miniconda3/envs/myenv/lib/python3.6/site-packages/sklearn/metrics/_classification.py:1245: UndefinedMetricWarning: Precision is ill-defined and being set to 0.0 due to no predicted samples. Use `zero_division` parameter to control this behavior.\n",
      "  _warn_prf(average, modifier, msg_start, len(result))\n",
      "/home/dheekshitha-vibha/miniconda3/envs/myenv/lib/python3.6/site-packages/sklearn/metrics/_classification.py:1245: UndefinedMetricWarning: Precision is ill-defined and being set to 0.0 due to no predicted samples. Use `zero_division` parameter to control this behavior.\n",
      "  _warn_prf(average, modifier, msg_start, len(result))\n",
      "/home/dheekshitha-vibha/miniconda3/envs/myenv/lib/python3.6/site-packages/sklearn/metrics/_classification.py:1245: UndefinedMetricWarning: Precision is ill-defined and being set to 0.0 due to no predicted samples. Use `zero_division` parameter to control this behavior.\n",
      "  _warn_prf(average, modifier, msg_start, len(result))\n",
      "/home/dheekshitha-vibha/miniconda3/envs/myenv/lib/python3.6/site-packages/sklearn/metrics/_classification.py:1245: UndefinedMetricWarning: Precision is ill-defined and being set to 0.0 due to no predicted samples. Use `zero_division` parameter to control this behavior.\n",
      "  _warn_prf(average, modifier, msg_start, len(result))\n",
      "/home/dheekshitha-vibha/miniconda3/envs/myenv/lib/python3.6/site-packages/sklearn/metrics/_classification.py:1245: UndefinedMetricWarning: Precision is ill-defined and being set to 0.0 due to no predicted samples. Use `zero_division` parameter to control this behavior.\n",
      "  _warn_prf(average, modifier, msg_start, len(result))\n"
     ]
    },
    {
     "name": "stderr",
     "output_type": "stream",
     "text": [
      "/home/dheekshitha-vibha/miniconda3/envs/myenv/lib/python3.6/site-packages/sklearn/metrics/_classification.py:1245: UndefinedMetricWarning: Precision is ill-defined and being set to 0.0 due to no predicted samples. Use `zero_division` parameter to control this behavior.\n",
      "  _warn_prf(average, modifier, msg_start, len(result))\n",
      "/home/dheekshitha-vibha/miniconda3/envs/myenv/lib/python3.6/site-packages/sklearn/metrics/_classification.py:1245: UndefinedMetricWarning: Precision is ill-defined and being set to 0.0 due to no predicted samples. Use `zero_division` parameter to control this behavior.\n",
      "  _warn_prf(average, modifier, msg_start, len(result))\n",
      "/home/dheekshitha-vibha/miniconda3/envs/myenv/lib/python3.6/site-packages/sklearn/metrics/_classification.py:1245: UndefinedMetricWarning: Precision is ill-defined and being set to 0.0 due to no predicted samples. Use `zero_division` parameter to control this behavior.\n",
      "  _warn_prf(average, modifier, msg_start, len(result))\n",
      "/home/dheekshitha-vibha/miniconda3/envs/myenv/lib/python3.6/site-packages/sklearn/metrics/_classification.py:1245: UndefinedMetricWarning: Precision is ill-defined and being set to 0.0 due to no predicted samples. Use `zero_division` parameter to control this behavior.\n",
      "  _warn_prf(average, modifier, msg_start, len(result))\n",
      "/home/dheekshitha-vibha/miniconda3/envs/myenv/lib/python3.6/site-packages/sklearn/metrics/_classification.py:1245: UndefinedMetricWarning: Precision is ill-defined and being set to 0.0 due to no predicted samples. Use `zero_division` parameter to control this behavior.\n",
      "  _warn_prf(average, modifier, msg_start, len(result))\n",
      "/home/dheekshitha-vibha/miniconda3/envs/myenv/lib/python3.6/site-packages/sklearn/metrics/_classification.py:1245: UndefinedMetricWarning: Precision is ill-defined and being set to 0.0 due to no predicted samples. Use `zero_division` parameter to control this behavior.\n",
      "  _warn_prf(average, modifier, msg_start, len(result))\n",
      "/home/dheekshitha-vibha/miniconda3/envs/myenv/lib/python3.6/site-packages/sklearn/metrics/_classification.py:1245: UndefinedMetricWarning: Precision is ill-defined and being set to 0.0 due to no predicted samples. Use `zero_division` parameter to control this behavior.\n",
      "  _warn_prf(average, modifier, msg_start, len(result))\n",
      "/home/dheekshitha-vibha/miniconda3/envs/myenv/lib/python3.6/site-packages/sklearn/metrics/_classification.py:1245: UndefinedMetricWarning: Precision is ill-defined and being set to 0.0 due to no predicted samples. Use `zero_division` parameter to control this behavior.\n",
      "  _warn_prf(average, modifier, msg_start, len(result))\n",
      "/home/dheekshitha-vibha/miniconda3/envs/myenv/lib/python3.6/site-packages/sklearn/metrics/_classification.py:1245: UndefinedMetricWarning: Precision is ill-defined and being set to 0.0 due to no predicted samples. Use `zero_division` parameter to control this behavior.\n",
      "  _warn_prf(average, modifier, msg_start, len(result))\n",
      "/home/dheekshitha-vibha/miniconda3/envs/myenv/lib/python3.6/site-packages/sklearn/metrics/_classification.py:1245: UndefinedMetricWarning: Precision is ill-defined and being set to 0.0 due to no predicted samples. Use `zero_division` parameter to control this behavior.\n",
      "  _warn_prf(average, modifier, msg_start, len(result))\n",
      "/home/dheekshitha-vibha/miniconda3/envs/myenv/lib/python3.6/site-packages/sklearn/metrics/_classification.py:1245: UndefinedMetricWarning: Precision is ill-defined and being set to 0.0 due to no predicted samples. Use `zero_division` parameter to control this behavior.\n",
      "  _warn_prf(average, modifier, msg_start, len(result))\n",
      "/home/dheekshitha-vibha/miniconda3/envs/myenv/lib/python3.6/site-packages/sklearn/metrics/_classification.py:1245: UndefinedMetricWarning: Precision is ill-defined and being set to 0.0 due to no predicted samples. Use `zero_division` parameter to control this behavior.\n",
      "  _warn_prf(average, modifier, msg_start, len(result))\n",
      "/home/dheekshitha-vibha/miniconda3/envs/myenv/lib/python3.6/site-packages/sklearn/metrics/_classification.py:1245: UndefinedMetricWarning: Precision is ill-defined and being set to 0.0 due to no predicted samples. Use `zero_division` parameter to control this behavior.\n",
      "  _warn_prf(average, modifier, msg_start, len(result))\n",
      "/home/dheekshitha-vibha/miniconda3/envs/myenv/lib/python3.6/site-packages/sklearn/metrics/_classification.py:1245: UndefinedMetricWarning: Precision is ill-defined and being set to 0.0 due to no predicted samples. Use `zero_division` parameter to control this behavior.\n",
      "  _warn_prf(average, modifier, msg_start, len(result))\n"
     ]
    },
    {
     "data": {
      "text/plain": [
       "Text(0.5, 1.0, 'Validation Curve with SVM varying C')"
      ]
     },
     "execution_count": 140,
     "metadata": {},
     "output_type": "execute_result"
    },
    {
     "data": {
      "text/plain": [
       "Text(0.5, 0, 'C')"
      ]
     },
     "execution_count": 140,
     "metadata": {},
     "output_type": "execute_result"
    },
    {
     "data": {
      "text/plain": [
       "Text(0, 0.5, 'Precision')"
      ]
     },
     "execution_count": 140,
     "metadata": {},
     "output_type": "execute_result"
    },
    {
     "data": {
      "text/plain": [
       "(0.0, 1.1)"
      ]
     },
     "execution_count": 140,
     "metadata": {},
     "output_type": "execute_result"
    },
    {
     "data": {
      "text/plain": [
       "[<matplotlib.lines.Line2D at 0x7f274abab240>]"
      ]
     },
     "execution_count": 140,
     "metadata": {},
     "output_type": "execute_result"
    },
    {
     "data": {
      "text/plain": [
       "<matplotlib.collections.PolyCollection at 0x7f274aba2828>"
      ]
     },
     "execution_count": 140,
     "metadata": {},
     "output_type": "execute_result"
    },
    {
     "data": {
      "text/plain": [
       "[<matplotlib.lines.Line2D at 0x7f274ed7bd68>]"
      ]
     },
     "execution_count": 140,
     "metadata": {},
     "output_type": "execute_result"
    },
    {
     "data": {
      "text/plain": [
       "<matplotlib.collections.PolyCollection at 0x7f274ab33cc0>"
      ]
     },
     "execution_count": 140,
     "metadata": {},
     "output_type": "execute_result"
    },
    {
     "data": {
      "text/plain": [
       "<matplotlib.legend.Legend at 0x7f274ab33710>"
      ]
     },
     "execution_count": 140,
     "metadata": {},
     "output_type": "execute_result"
    },
    {
     "data": {
      "image/png": "[encoded data removed]",
      "text/plain": [
       "<Figure size 432x288 with 1 Axes>"
      ]
     },
     "metadata": {
      "needs_background": "light"
     },
     "output_type": "display_data"
    }
   ],
   "source": [
    "# parameter_svm = np.arange(0.0001,0.1,0.01)\n",
    "parameter_svm =[0.00001,0.0001,0.01,0.1, 1, 10, 100, 1000,10000]\n",
    "from sklearn.model_selection import validation_curve\n",
    "#https://www.scikit-yb.org/en/latest/api/model_selection/validation_curve.html\n",
    "training_scores,testing_scores = validation_curve(\n",
    "    SVC(gamma=1,kernel='rbf'), xtrain_tfidf_ngram, y_train['label'],\n",
    "    param_range=parameter_svm,  scoring=\"precision\",param_name=\"C\",cv=5\n",
    ")\n",
    "\n",
    "\n",
    "train_scores_mean = np.mean(training_scores, axis=1)\n",
    "train_scores_std = np.std(training_scores, axis=1)\n",
    "test_scores_mean = np.mean(testing_scores, axis=1)\n",
    "test_scores_std = np.std(testing_scores, axis=1)\n",
    "param_range=parameter_svm\n",
    "plt.title(\"Validation Curve with SVM varying C\")\n",
    "plt.xlabel(\"C\")\n",
    "plt.ylabel(\"Precision\")\n",
    "plt.ylim(0.0, 1.1)\n",
    "lw = 2\n",
    "plt.semilogx(param_range, train_scores_mean, label=\"Training score\",\n",
    "             color=\"darkorange\", lw=lw)\n",
    "plt.fill_between(param_range, train_scores_mean - train_scores_std,\n",
    "                 train_scores_mean + train_scores_std, alpha=0.2,\n",
    "                 color=\"darkorange\", lw=lw)\n",
    "plt.semilogx(param_range, test_scores_mean, label=\"Cross-validation score\",\n",
    "             color=\"navy\", lw=lw)\n",
    "plt.fill_between(param_range, test_scores_mean - test_scores_std,\n",
    "                 test_scores_mean + test_scores_std, alpha=0.2,\n",
    "                 color=\"navy\", lw=lw)\n",
    "plt.legend(loc=\"best\")\n",
    "plt.show()"
   ]
  },
  {
   "cell_type": "code",
   "execution_count": 141,
   "metadata": {
    "scrolled": false
   },
   "outputs": [
    {
     "name": "stderr",
     "output_type": "stream",
     "text": [
      "/home/dheekshitha-vibha/miniconda3/envs/myenv/lib/python3.6/site-packages/sklearn/metrics/_classification.py:1245: UndefinedMetricWarning: Precision is ill-defined and being set to 0.0 due to no predicted samples. Use `zero_division` parameter to control this behavior.\n",
      "  _warn_prf(average, modifier, msg_start, len(result))\n",
      "/home/dheekshitha-vibha/miniconda3/envs/myenv/lib/python3.6/site-packages/sklearn/metrics/_classification.py:1245: UndefinedMetricWarning: Precision is ill-defined and being set to 0.0 due to no predicted samples. Use `zero_division` parameter to control this behavior.\n",
      "  _warn_prf(average, modifier, msg_start, len(result))\n",
      "/home/dheekshitha-vibha/miniconda3/envs/myenv/lib/python3.6/site-packages/sklearn/metrics/_classification.py:1245: UndefinedMetricWarning: Precision is ill-defined and being set to 0.0 due to no predicted samples. Use `zero_division` parameter to control this behavior.\n",
      "  _warn_prf(average, modifier, msg_start, len(result))\n",
      "/home/dheekshitha-vibha/miniconda3/envs/myenv/lib/python3.6/site-packages/sklearn/metrics/_classification.py:1245: UndefinedMetricWarning: Precision is ill-defined and being set to 0.0 due to no predicted samples. Use `zero_division` parameter to control this behavior.\n",
      "  _warn_prf(average, modifier, msg_start, len(result))\n",
      "/home/dheekshitha-vibha/miniconda3/envs/myenv/lib/python3.6/site-packages/sklearn/metrics/_classification.py:1245: UndefinedMetricWarning: Precision is ill-defined and being set to 0.0 due to no predicted samples. Use `zero_division` parameter to control this behavior.\n",
      "  _warn_prf(average, modifier, msg_start, len(result))\n",
      "/home/dheekshitha-vibha/miniconda3/envs/myenv/lib/python3.6/site-packages/sklearn/metrics/_classification.py:1245: UndefinedMetricWarning: Precision is ill-defined and being set to 0.0 due to no predicted samples. Use `zero_division` parameter to control this behavior.\n",
      "  _warn_prf(average, modifier, msg_start, len(result))\n",
      "/home/dheekshitha-vibha/miniconda3/envs/myenv/lib/python3.6/site-packages/sklearn/metrics/_classification.py:1245: UndefinedMetricWarning: Precision is ill-defined and being set to 0.0 due to no predicted samples. Use `zero_division` parameter to control this behavior.\n",
      "  _warn_prf(average, modifier, msg_start, len(result))\n",
      "/home/dheekshitha-vibha/miniconda3/envs/myenv/lib/python3.6/site-packages/sklearn/metrics/_classification.py:1245: UndefinedMetricWarning: Precision is ill-defined and being set to 0.0 due to no predicted samples. Use `zero_division` parameter to control this behavior.\n",
      "  _warn_prf(average, modifier, msg_start, len(result))\n",
      "/home/dheekshitha-vibha/miniconda3/envs/myenv/lib/python3.6/site-packages/sklearn/metrics/_classification.py:1245: UndefinedMetricWarning: Precision is ill-defined and being set to 0.0 due to no predicted samples. Use `zero_division` parameter to control this behavior.\n",
      "  _warn_prf(average, modifier, msg_start, len(result))\n",
      "/home/dheekshitha-vibha/miniconda3/envs/myenv/lib/python3.6/site-packages/sklearn/metrics/_classification.py:1245: UndefinedMetricWarning: Precision is ill-defined and being set to 0.0 due to no predicted samples. Use `zero_division` parameter to control this behavior.\n",
      "  _warn_prf(average, modifier, msg_start, len(result))\n"
     ]
    },
    {
     "data": {
      "text/plain": [
       "Text(0.5, 1.0, 'Validation Curve with SVM varying Gamma')"
      ]
     },
     "execution_count": 141,
     "metadata": {},
     "output_type": "execute_result"
    },
    {
     "data": {
      "text/plain": [
       "Text(0.5, 0, 'Gamma')"
      ]
     },
     "execution_count": 141,
     "metadata": {},
     "output_type": "execute_result"
    },
    {
     "data": {
      "text/plain": [
       "Text(0, 0.5, 'Score')"
      ]
     },
     "execution_count": 141,
     "metadata": {},
     "output_type": "execute_result"
    },
    {
     "data": {
      "text/plain": [
       "(0.0, 1.1)"
      ]
     },
     "execution_count": 141,
     "metadata": {},
     "output_type": "execute_result"
    },
    {
     "data": {
      "text/plain": [
       "[<matplotlib.lines.Line2D at 0x7f274aaf36a0>]"
      ]
     },
     "execution_count": 141,
     "metadata": {},
     "output_type": "execute_result"
    },
    {
     "data": {
      "text/plain": [
       "<matplotlib.collections.PolyCollection at 0x7f274ab20908>"
      ]
     },
     "execution_count": 141,
     "metadata": {},
     "output_type": "execute_result"
    },
    {
     "data": {
      "text/plain": [
       "[<matplotlib.lines.Line2D at 0x7f274ab190b8>]"
      ]
     },
     "execution_count": 141,
     "metadata": {},
     "output_type": "execute_result"
    },
    {
     "data": {
      "text/plain": [
       "<matplotlib.collections.PolyCollection at 0x7f274aad85f8>"
      ]
     },
     "execution_count": 141,
     "metadata": {},
     "output_type": "execute_result"
    },
    {
     "data": {
      "text/plain": [
       "<matplotlib.legend.Legend at 0x7f274aad8e80>"
      ]
     },
     "execution_count": 141,
     "metadata": {},
     "output_type": "execute_result"
    },
    {
     "data": {
      "image/png": "[encoded data removed]",
      "text/plain": [
       "<Figure size 432x288 with 1 Axes>"
      ]
     },
     "metadata": {
      "needs_background": "light"
     },
     "output_type": "display_data"
    }
   ],
   "source": [
    "parameter_svm = np.arange(0.0001,0.1,0.01)\n",
    "from sklearn.model_selection import validation_curve\n",
    "#https://www.scikit-yb.org/en/latest/api/model_selection/validation_curve.html\n",
    "training_scores,testing_scores = validation_curve(\n",
    "    SVC(C=50,kernel='rbf'), xtrain_tfidf_ngram, y_train['label'],\n",
    "    param_range=parameter_svm,  scoring=\"precision\",param_name=\"gamma\",cv=5\n",
    ")\n",
    "\n",
    "\n",
    "train_scores_mean = np.mean(training_scores, axis=1)\n",
    "train_scores_std = np.std(training_scores, axis=1)\n",
    "test_scores_mean = np.mean(testing_scores, axis=1)\n",
    "test_scores_std = np.std(testing_scores, axis=1)\n",
    "param_range=parameter_svm\n",
    "plt.title(\"Validation Curve with SVM varying Gamma\")\n",
    "plt.xlabel(\"Gamma\")\n",
    "plt.ylabel(\"Score\")\n",
    "plt.ylim(0.0, 1.1)\n",
    "lw = 2\n",
    "plt.semilogx(param_range, train_scores_mean, label=\"Training score\",\n",
    "             color=\"darkorange\", lw=lw)\n",
    "plt.fill_between(param_range, train_scores_mean - train_scores_std,\n",
    "                 train_scores_mean + train_scores_std, alpha=0.2,\n",
    "                 color=\"darkorange\", lw=lw)\n",
    "plt.semilogx(param_range, test_scores_mean, label=\"Cross-validation score\",\n",
    "             color=\"navy\", lw=lw)\n",
    "plt.fill_between(param_range, test_scores_mean - test_scores_std,\n",
    "                 test_scores_mean + test_scores_std, alpha=0.2,\n",
    "                 color=\"navy\", lw=lw)\n",
    "plt.legend(loc=\"best\")\n",
    "plt.show()"
   ]
  },
  {
   "cell_type": "code",
   "execution_count": null,
   "metadata": {},
   "outputs": [],
   "source": [
    "(sklearn.metrics.SCORERS.keys())"
   ]
  },
  {
   "cell_type": "code",
   "execution_count": null,
   "metadata": {},
   "outputs": [],
   "source": []
  },
  {
   "cell_type": "markdown",
   "metadata": {},
   "source": [
    "The model is underfitting with a high bias and low variance. when the C value is reduced and overfitting when the values are not too high. From learning curve and validation curve results, it is clear that adding more data can only help increase the performance of the model"
   ]
  },
  {
   "cell_type": "code",
   "execution_count": null,
   "metadata": {
    "scrolled": true
   },
   "outputs": [],
   "source": [
    " np.arange(0.001,0.1,0.01)"
   ]
  },
  {
   "cell_type": "code",
   "execution_count": 137,
   "metadata": {
    "scrolled": true
   },
   "outputs": [
    {
     "name": "stdout",
     "output_type": "stream",
     "text": [
      "Fitting 5 folds for each of 135 candidates, totalling 675 fits\n",
      "[CV 1/5] END ...................C=1e-05, gamma=1, kernel=rbf; total time=   0.2s\n",
      "[CV 2/5] END ...................C=1e-05, gamma=1, kernel=rbf; total time=   0.2s\n",
      "[CV 3/5] END ...................C=1e-05, gamma=1, kernel=rbf; total time=   0.2s\n",
      "[CV 4/5] END ...................C=1e-05, gamma=1, kernel=rbf; total time=   0.2s\n",
      "[CV 5/5] END ...................C=1e-05, gamma=1, kernel=rbf; total time=   0.2s\n",
      "[CV 1/5] END ................C=1e-05, gamma=1, kernel=linear; total time=   0.1s\n",
      "[CV 2/5] END ................C=1e-05, gamma=1, kernel=linear; total time=   0.1s\n",
      "[CV 3/5] END ................C=1e-05, gamma=1, kernel=linear; total time=   0.1s\n",
      "[CV 4/5] END ................C=1e-05, gamma=1, kernel=linear; total time=   0.1s\n",
      "[CV 5/5] END ................C=1e-05, gamma=1, kernel=linear; total time=   0.2s\n",
      "[CV 1/5] END ..................C=1e-05, gamma=1, kernel=poly; total time=   0.2s\n",
      "[CV 2/5] END ..................C=1e-05, gamma=1, kernel=poly; total time=   0.1s\n",
      "[CV 3/5] END ..................C=1e-05, gamma=1, kernel=poly; total time=   0.2s\n",
      "[CV 4/5] END ..................C=1e-05, gamma=1, kernel=poly; total time=   0.1s\n",
      "[CV 5/5] END ..................C=1e-05, gamma=1, kernel=poly; total time=   0.2s\n",
      "[CV 1/5] END .................C=1e-05, gamma=0.1, kernel=rbf; total time=   0.2s\n",
      "[CV 2/5] END .................C=1e-05, gamma=0.1, kernel=rbf; total time=   0.2s\n",
      "[CV 3/5] END .................C=1e-05, gamma=0.1, kernel=rbf; total time=   0.2s\n",
      "[CV 4/5] END .................C=1e-05, gamma=0.1, kernel=rbf; total time=   0.2s\n",
      "[CV 5/5] END .................C=1e-05, gamma=0.1, kernel=rbf; total time=   0.2s\n",
      "[CV 1/5] END ..............C=1e-05, gamma=0.1, kernel=linear; total time=   0.1s\n",
      "[CV 2/5] END ..............C=1e-05, gamma=0.1, kernel=linear; total time=   0.2s\n",
      "[CV 3/5] END ..............C=1e-05, gamma=0.1, kernel=linear; total time=   0.1s\n",
      "[CV 4/5] END ..............C=1e-05, gamma=0.1, kernel=linear; total time=   0.2s\n",
      "[CV 5/5] END ..............C=1e-05, gamma=0.1, kernel=linear; total time=   0.1s\n",
      "[CV 1/5] END ................C=1e-05, gamma=0.1, kernel=poly; total time=   0.1s\n",
      "[CV 2/5] END ................C=1e-05, gamma=0.1, kernel=poly; total time=   0.1s\n",
      "[CV 3/5] END ................C=1e-05, gamma=0.1, kernel=poly; total time=   0.1s\n",
      "[CV 4/5] END ................C=1e-05, gamma=0.1, kernel=poly; total time=   0.1s\n",
      "[CV 5/5] END ................C=1e-05, gamma=0.1, kernel=poly; total time=   0.1s\n",
      "[CV 1/5] END ................C=1e-05, gamma=0.01, kernel=rbf; total time=   0.2s\n",
      "[CV 2/5] END ................C=1e-05, gamma=0.01, kernel=rbf; total time=   0.2s\n",
      "[CV 3/5] END ................C=1e-05, gamma=0.01, kernel=rbf; total time=   0.2s\n",
      "[CV 4/5] END ................C=1e-05, gamma=0.01, kernel=rbf; total time=   0.2s\n",
      "[CV 5/5] END ................C=1e-05, gamma=0.01, kernel=rbf; total time=   0.2s\n",
      "[CV 1/5] END .............C=1e-05, gamma=0.01, kernel=linear; total time=   0.1s\n",
      "[CV 2/5] END .............C=1e-05, gamma=0.01, kernel=linear; total time=   0.1s\n",
      "[CV 3/5] END .............C=1e-05, gamma=0.01, kernel=linear; total time=   0.1s\n",
      "[CV 4/5] END .............C=1e-05, gamma=0.01, kernel=linear; total time=   0.1s\n",
      "[CV 5/5] END .............C=1e-05, gamma=0.01, kernel=linear; total time=   0.1s\n",
      "[CV 1/5] END ...............C=1e-05, gamma=0.01, kernel=poly; total time=   0.1s\n",
      "[CV 2/5] END ...............C=1e-05, gamma=0.01, kernel=poly; total time=   0.1s\n",
      "[CV 3/5] END ...............C=1e-05, gamma=0.01, kernel=poly; total time=   0.1s\n",
      "[CV 4/5] END ...............C=1e-05, gamma=0.01, kernel=poly; total time=   0.1s\n",
      "[CV 5/5] END ...............C=1e-05, gamma=0.01, kernel=poly; total time=   0.1s\n",
      "[CV 1/5] END ...............C=1e-05, gamma=0.001, kernel=rbf; total time=   0.2s\n",
      "[CV 2/5] END ...............C=1e-05, gamma=0.001, kernel=rbf; total time=   0.2s\n",
      "[CV 3/5] END ...............C=1e-05, gamma=0.001, kernel=rbf; total time=   0.2s\n",
      "[CV 4/5] END ...............C=1e-05, gamma=0.001, kernel=rbf; total time=   0.2s\n",
      "[CV 5/5] END ...............C=1e-05, gamma=0.001, kernel=rbf; total time=   0.2s\n",
      "[CV 1/5] END ............C=1e-05, gamma=0.001, kernel=linear; total time=   0.1s\n",
      "[CV 2/5] END ............C=1e-05, gamma=0.001, kernel=linear; total time=   0.1s\n",
      "[CV 3/5] END ............C=1e-05, gamma=0.001, kernel=linear; total time=   0.1s\n",
      "[CV 4/5] END ............C=1e-05, gamma=0.001, kernel=linear; total time=   0.1s\n",
      "[CV 5/5] END ............C=1e-05, gamma=0.001, kernel=linear; total time=   0.1s\n",
      "[CV 1/5] END ..............C=1e-05, gamma=0.001, kernel=poly; total time=   0.1s\n",
      "[CV 2/5] END ..............C=1e-05, gamma=0.001, kernel=poly; total time=   0.1s\n",
      "[CV 3/5] END ..............C=1e-05, gamma=0.001, kernel=poly; total time=   0.1s\n",
      "[CV 4/5] END ..............C=1e-05, gamma=0.001, kernel=poly; total time=   0.1s\n",
      "[CV 5/5] END ..............C=1e-05, gamma=0.001, kernel=poly; total time=   0.1s\n",
      "[CV 1/5] END ..............C=1e-05, gamma=0.0001, kernel=rbf; total time=   0.2s\n",
      "[CV 2/5] END ..............C=1e-05, gamma=0.0001, kernel=rbf; total time=   0.2s\n",
      "[CV 3/5] END ..............C=1e-05, gamma=0.0001, kernel=rbf; total time=   0.2s\n",
      "[CV 4/5] END ..............C=1e-05, gamma=0.0001, kernel=rbf; total time=   0.2s\n",
      "[CV 5/5] END ..............C=1e-05, gamma=0.0001, kernel=rbf; total time=   0.2s\n",
      "[CV 1/5] END ...........C=1e-05, gamma=0.0001, kernel=linear; total time=   0.1s\n",
      "[CV 2/5] END ...........C=1e-05, gamma=0.0001, kernel=linear; total time=   0.1s\n",
      "[CV 3/5] END ...........C=1e-05, gamma=0.0001, kernel=linear; total time=   0.1s\n",
      "[CV 4/5] END ...........C=1e-05, gamma=0.0001, kernel=linear; total time=   0.1s\n",
      "[CV 5/5] END ...........C=1e-05, gamma=0.0001, kernel=linear; total time=   0.1s\n",
      "[CV 1/5] END .............C=1e-05, gamma=0.0001, kernel=poly; total time=   0.1s\n",
      "[CV 2/5] END .............C=1e-05, gamma=0.0001, kernel=poly; total time=   0.1s\n",
      "[CV 3/5] END .............C=1e-05, gamma=0.0001, kernel=poly; total time=   0.1s\n",
      "[CV 4/5] END .............C=1e-05, gamma=0.0001, kernel=poly; total time=   0.1s\n",
      "[CV 5/5] END .............C=1e-05, gamma=0.0001, kernel=poly; total time=   0.1s\n",
      "[CV 1/5] END ..................C=0.0001, gamma=1, kernel=rbf; total time=   0.2s\n",
      "[CV 2/5] END ..................C=0.0001, gamma=1, kernel=rbf; total time=   0.2s\n",
      "[CV 3/5] END ..................C=0.0001, gamma=1, kernel=rbf; total time=   0.2s\n",
      "[CV 4/5] END ..................C=0.0001, gamma=1, kernel=rbf; total time=   0.2s\n",
      "[CV 5/5] END ..................C=0.0001, gamma=1, kernel=rbf; total time=   0.2s\n",
      "[CV 1/5] END ...............C=0.0001, gamma=1, kernel=linear; total time=   0.1s\n",
      "[CV 2/5] END ...............C=0.0001, gamma=1, kernel=linear; total time=   0.1s\n",
      "[CV 3/5] END ...............C=0.0001, gamma=1, kernel=linear; total time=   0.1s\n",
      "[CV 4/5] END ...............C=0.0001, gamma=1, kernel=linear; total time=   0.1s\n",
      "[CV 5/5] END ...............C=0.0001, gamma=1, kernel=linear; total time=   0.1s\n",
      "[CV 1/5] END .................C=0.0001, gamma=1, kernel=poly; total time=   0.1s\n",
      "[CV 2/5] END .................C=0.0001, gamma=1, kernel=poly; total time=   0.1s\n",
      "[CV 3/5] END .................C=0.0001, gamma=1, kernel=poly; total time=   0.1s\n",
      "[CV 4/5] END .................C=0.0001, gamma=1, kernel=poly; total time=   0.1s\n",
      "[CV 5/5] END .................C=0.0001, gamma=1, kernel=poly; total time=   0.1s\n",
      "[CV 1/5] END ................C=0.0001, gamma=0.1, kernel=rbf; total time=   0.2s\n",
      "[CV 2/5] END ................C=0.0001, gamma=0.1, kernel=rbf; total time=   0.2s\n",
      "[CV 3/5] END ................C=0.0001, gamma=0.1, kernel=rbf; total time=   0.2s\n",
      "[CV 4/5] END ................C=0.0001, gamma=0.1, kernel=rbf; total time=   0.2s\n",
      "[CV 5/5] END ................C=0.0001, gamma=0.1, kernel=rbf; total time=   0.2s\n",
      "[CV 1/5] END .............C=0.0001, gamma=0.1, kernel=linear; total time=   0.1s\n",
      "[CV 2/5] END .............C=0.0001, gamma=0.1, kernel=linear; total time=   0.1s\n",
      "[CV 3/5] END .............C=0.0001, gamma=0.1, kernel=linear; total time=   0.1s\n",
      "[CV 4/5] END .............C=0.0001, gamma=0.1, kernel=linear; total time=   0.1s\n",
      "[CV 5/5] END .............C=0.0001, gamma=0.1, kernel=linear; total time=   0.1s\n",
      "[CV 1/5] END ...............C=0.0001, gamma=0.1, kernel=poly; total time=   0.1s\n"
     ]
    },
    {
     "name": "stdout",
     "output_type": "stream",
     "text": [
      "[CV 2/5] END ...............C=0.0001, gamma=0.1, kernel=poly; total time=   0.1s\n",
      "[CV 3/5] END ...............C=0.0001, gamma=0.1, kernel=poly; total time=   0.1s\n",
      "[CV 4/5] END ...............C=0.0001, gamma=0.1, kernel=poly; total time=   0.1s\n",
      "[CV 5/5] END ...............C=0.0001, gamma=0.1, kernel=poly; total time=   0.1s\n",
      "[CV 1/5] END ...............C=0.0001, gamma=0.01, kernel=rbf; total time=   0.2s\n",
      "[CV 2/5] END ...............C=0.0001, gamma=0.01, kernel=rbf; total time=   0.2s\n",
      "[CV 3/5] END ...............C=0.0001, gamma=0.01, kernel=rbf; total time=   0.2s\n",
      "[CV 4/5] END ...............C=0.0001, gamma=0.01, kernel=rbf; total time=   0.2s\n",
      "[CV 5/5] END ...............C=0.0001, gamma=0.01, kernel=rbf; total time=   0.2s\n",
      "[CV 1/5] END ............C=0.0001, gamma=0.01, kernel=linear; total time=   0.2s\n",
      "[CV 2/5] END ............C=0.0001, gamma=0.01, kernel=linear; total time=   0.1s\n",
      "[CV 3/5] END ............C=0.0001, gamma=0.01, kernel=linear; total time=   0.1s\n",
      "[CV 4/5] END ............C=0.0001, gamma=0.01, kernel=linear; total time=   0.2s\n",
      "[CV 5/5] END ............C=0.0001, gamma=0.01, kernel=linear; total time=   0.1s\n",
      "[CV 1/5] END ..............C=0.0001, gamma=0.01, kernel=poly; total time=   0.1s\n",
      "[CV 2/5] END ..............C=0.0001, gamma=0.01, kernel=poly; total time=   0.1s\n",
      "[CV 3/5] END ..............C=0.0001, gamma=0.01, kernel=poly; total time=   0.1s\n",
      "[CV 4/5] END ..............C=0.0001, gamma=0.01, kernel=poly; total time=   0.1s\n",
      "[CV 5/5] END ..............C=0.0001, gamma=0.01, kernel=poly; total time=   0.1s\n",
      "[CV 1/5] END ..............C=0.0001, gamma=0.001, kernel=rbf; total time=   0.2s\n",
      "[CV 2/5] END ..............C=0.0001, gamma=0.001, kernel=rbf; total time=   0.2s\n",
      "[CV 3/5] END ..............C=0.0001, gamma=0.001, kernel=rbf; total time=   0.2s\n",
      "[CV 4/5] END ..............C=0.0001, gamma=0.001, kernel=rbf; total time=   0.2s\n",
      "[CV 5/5] END ..............C=0.0001, gamma=0.001, kernel=rbf; total time=   0.2s\n",
      "[CV 1/5] END ...........C=0.0001, gamma=0.001, kernel=linear; total time=   0.1s\n",
      "[CV 2/5] END ...........C=0.0001, gamma=0.001, kernel=linear; total time=   0.1s\n",
      "[CV 3/5] END ...........C=0.0001, gamma=0.001, kernel=linear; total time=   0.1s\n",
      "[CV 4/5] END ...........C=0.0001, gamma=0.001, kernel=linear; total time=   0.1s\n",
      "[CV 5/5] END ...........C=0.0001, gamma=0.001, kernel=linear; total time=   0.1s\n",
      "[CV 1/5] END .............C=0.0001, gamma=0.001, kernel=poly; total time=   0.1s\n",
      "[CV 2/5] END .............C=0.0001, gamma=0.001, kernel=poly; total time=   0.1s\n",
      "[CV 3/5] END .............C=0.0001, gamma=0.001, kernel=poly; total time=   0.1s\n",
      "[CV 4/5] END .............C=0.0001, gamma=0.001, kernel=poly; total time=   0.1s\n",
      "[CV 5/5] END .............C=0.0001, gamma=0.001, kernel=poly; total time=   0.1s\n",
      "[CV 1/5] END .............C=0.0001, gamma=0.0001, kernel=rbf; total time=   0.2s\n",
      "[CV 2/5] END .............C=0.0001, gamma=0.0001, kernel=rbf; total time=   0.2s\n",
      "[CV 3/5] END .............C=0.0001, gamma=0.0001, kernel=rbf; total time=   0.2s\n",
      "[CV 4/5] END .............C=0.0001, gamma=0.0001, kernel=rbf; total time=   0.2s\n",
      "[CV 5/5] END .............C=0.0001, gamma=0.0001, kernel=rbf; total time=   0.2s\n",
      "[CV 1/5] END ..........C=0.0001, gamma=0.0001, kernel=linear; total time=   0.1s\n",
      "[CV 2/5] END ..........C=0.0001, gamma=0.0001, kernel=linear; total time=   0.1s\n",
      "[CV 3/5] END ..........C=0.0001, gamma=0.0001, kernel=linear; total time=   0.1s\n",
      "[CV 4/5] END ..........C=0.0001, gamma=0.0001, kernel=linear; total time=   0.1s\n",
      "[CV 5/5] END ..........C=0.0001, gamma=0.0001, kernel=linear; total time=   0.1s\n",
      "[CV 1/5] END ............C=0.0001, gamma=0.0001, kernel=poly; total time=   0.1s\n",
      "[CV 2/5] END ............C=0.0001, gamma=0.0001, kernel=poly; total time=   0.1s\n",
      "[CV 3/5] END ............C=0.0001, gamma=0.0001, kernel=poly; total time=   0.1s\n",
      "[CV 4/5] END ............C=0.0001, gamma=0.0001, kernel=poly; total time=   0.1s\n",
      "[CV 5/5] END ............C=0.0001, gamma=0.0001, kernel=poly; total time=   0.1s\n",
      "[CV 1/5] END ....................C=0.01, gamma=1, kernel=rbf; total time=   0.2s\n",
      "[CV 2/5] END ....................C=0.01, gamma=1, kernel=rbf; total time=   0.2s\n",
      "[CV 3/5] END ....................C=0.01, gamma=1, kernel=rbf; total time=   0.2s\n",
      "[CV 4/5] END ....................C=0.01, gamma=1, kernel=rbf; total time=   0.2s\n",
      "[CV 5/5] END ....................C=0.01, gamma=1, kernel=rbf; total time=   0.2s\n",
      "[CV 1/5] END .................C=0.01, gamma=1, kernel=linear; total time=   0.1s\n",
      "[CV 2/5] END .................C=0.01, gamma=1, kernel=linear; total time=   0.1s\n",
      "[CV 3/5] END .................C=0.01, gamma=1, kernel=linear; total time=   0.1s\n",
      "[CV 4/5] END .................C=0.01, gamma=1, kernel=linear; total time=   0.1s\n",
      "[CV 5/5] END .................C=0.01, gamma=1, kernel=linear; total time=   0.1s\n",
      "[CV 1/5] END ...................C=0.01, gamma=1, kernel=poly; total time=   0.2s\n",
      "[CV 2/5] END ...................C=0.01, gamma=1, kernel=poly; total time=   0.2s\n",
      "[CV 3/5] END ...................C=0.01, gamma=1, kernel=poly; total time=   0.2s\n",
      "[CV 4/5] END ...................C=0.01, gamma=1, kernel=poly; total time=   0.2s\n",
      "[CV 5/5] END ...................C=0.01, gamma=1, kernel=poly; total time=   0.2s\n",
      "[CV 1/5] END ..................C=0.01, gamma=0.1, kernel=rbf; total time=   0.2s\n",
      "[CV 2/5] END ..................C=0.01, gamma=0.1, kernel=rbf; total time=   0.2s\n",
      "[CV 3/5] END ..................C=0.01, gamma=0.1, kernel=rbf; total time=   0.2s\n",
      "[CV 4/5] END ..................C=0.01, gamma=0.1, kernel=rbf; total time=   0.2s\n",
      "[CV 5/5] END ..................C=0.01, gamma=0.1, kernel=rbf; total time=   0.2s\n",
      "[CV 1/5] END ...............C=0.01, gamma=0.1, kernel=linear; total time=   0.1s\n",
      "[CV 2/5] END ...............C=0.01, gamma=0.1, kernel=linear; total time=   0.1s\n",
      "[CV 3/5] END ...............C=0.01, gamma=0.1, kernel=linear; total time=   0.1s\n",
      "[CV 4/5] END ...............C=0.01, gamma=0.1, kernel=linear; total time=   0.1s\n",
      "[CV 5/5] END ...............C=0.01, gamma=0.1, kernel=linear; total time=   0.1s\n",
      "[CV 1/5] END .................C=0.01, gamma=0.1, kernel=poly; total time=   0.1s\n",
      "[CV 2/5] END .................C=0.01, gamma=0.1, kernel=poly; total time=   0.1s\n",
      "[CV 3/5] END .................C=0.01, gamma=0.1, kernel=poly; total time=   0.1s\n",
      "[CV 4/5] END .................C=0.01, gamma=0.1, kernel=poly; total time=   0.1s\n",
      "[CV 5/5] END .................C=0.01, gamma=0.1, kernel=poly; total time=   0.1s\n",
      "[CV 1/5] END .................C=0.01, gamma=0.01, kernel=rbf; total time=   0.2s\n",
      "[CV 2/5] END .................C=0.01, gamma=0.01, kernel=rbf; total time=   0.2s\n",
      "[CV 3/5] END .................C=0.01, gamma=0.01, kernel=rbf; total time=   0.2s\n",
      "[CV 4/5] END .................C=0.01, gamma=0.01, kernel=rbf; total time=   0.2s\n",
      "[CV 5/5] END .................C=0.01, gamma=0.01, kernel=rbf; total time=   0.2s\n",
      "[CV 1/5] END ..............C=0.01, gamma=0.01, kernel=linear; total time=   0.1s\n",
      "[CV 2/5] END ..............C=0.01, gamma=0.01, kernel=linear; total time=   0.1s\n",
      "[CV 3/5] END ..............C=0.01, gamma=0.01, kernel=linear; total time=   0.1s\n",
      "[CV 4/5] END ..............C=0.01, gamma=0.01, kernel=linear; total time=   0.1s\n",
      "[CV 5/5] END ..............C=0.01, gamma=0.01, kernel=linear; total time=   0.1s\n",
      "[CV 1/5] END ................C=0.01, gamma=0.01, kernel=poly; total time=   0.1s\n",
      "[CV 2/5] END ................C=0.01, gamma=0.01, kernel=poly; total time=   0.1s\n",
      "[CV 3/5] END ................C=0.01, gamma=0.01, kernel=poly; total time=   0.1s\n",
      "[CV 4/5] END ................C=0.01, gamma=0.01, kernel=poly; total time=   0.1s\n",
      "[CV 5/5] END ................C=0.01, gamma=0.01, kernel=poly; total time=   0.1s\n",
      "[CV 1/5] END ................C=0.01, gamma=0.001, kernel=rbf; total time=   0.2s\n",
      "[CV 2/5] END ................C=0.01, gamma=0.001, kernel=rbf; total time=   0.2s\n",
      "[CV 3/5] END ................C=0.01, gamma=0.001, kernel=rbf; total time=   0.2s\n",
      "[CV 4/5] END ................C=0.01, gamma=0.001, kernel=rbf; total time=   0.2s\n",
      "[CV 5/5] END ................C=0.01, gamma=0.001, kernel=rbf; total time=   0.2s\n",
      "[CV 1/5] END .............C=0.01, gamma=0.001, kernel=linear; total time=   0.1s\n",
      "[CV 2/5] END .............C=0.01, gamma=0.001, kernel=linear; total time=   0.1s\n",
      "[CV 3/5] END .............C=0.01, gamma=0.001, kernel=linear; total time=   0.1s\n",
      "[CV 4/5] END .............C=0.01, gamma=0.001, kernel=linear; total time=   0.1s\n"
     ]
    },
    {
     "name": "stdout",
     "output_type": "stream",
     "text": [
      "[CV 5/5] END .............C=0.01, gamma=0.001, kernel=linear; total time=   0.1s\n",
      "[CV 1/5] END ...............C=0.01, gamma=0.001, kernel=poly; total time=   0.1s\n",
      "[CV 2/5] END ...............C=0.01, gamma=0.001, kernel=poly; total time=   0.1s\n",
      "[CV 3/5] END ...............C=0.01, gamma=0.001, kernel=poly; total time=   0.1s\n",
      "[CV 4/5] END ...............C=0.01, gamma=0.001, kernel=poly; total time=   0.1s\n",
      "[CV 5/5] END ...............C=0.01, gamma=0.001, kernel=poly; total time=   0.1s\n",
      "[CV 1/5] END ...............C=0.01, gamma=0.0001, kernel=rbf; total time=   0.2s\n",
      "[CV 2/5] END ...............C=0.01, gamma=0.0001, kernel=rbf; total time=   0.2s\n",
      "[CV 3/5] END ...............C=0.01, gamma=0.0001, kernel=rbf; total time=   0.2s\n",
      "[CV 4/5] END ...............C=0.01, gamma=0.0001, kernel=rbf; total time=   0.2s\n",
      "[CV 5/5] END ...............C=0.01, gamma=0.0001, kernel=rbf; total time=   0.2s\n",
      "[CV 1/5] END ............C=0.01, gamma=0.0001, kernel=linear; total time=   0.2s\n",
      "[CV 2/5] END ............C=0.01, gamma=0.0001, kernel=linear; total time=   0.2s\n",
      "[CV 3/5] END ............C=0.01, gamma=0.0001, kernel=linear; total time=   0.2s\n",
      "[CV 4/5] END ............C=0.01, gamma=0.0001, kernel=linear; total time=   0.2s\n",
      "[CV 5/5] END ............C=0.01, gamma=0.0001, kernel=linear; total time=   0.2s\n",
      "[CV 1/5] END ..............C=0.01, gamma=0.0001, kernel=poly; total time=   0.2s\n",
      "[CV 2/5] END ..............C=0.01, gamma=0.0001, kernel=poly; total time=   0.2s\n",
      "[CV 3/5] END ..............C=0.01, gamma=0.0001, kernel=poly; total time=   0.2s\n",
      "[CV 4/5] END ..............C=0.01, gamma=0.0001, kernel=poly; total time=   0.2s\n",
      "[CV 5/5] END ..............C=0.01, gamma=0.0001, kernel=poly; total time=   0.1s\n",
      "[CV 1/5] END .....................C=0.1, gamma=1, kernel=rbf; total time=   0.2s\n",
      "[CV 2/5] END .....................C=0.1, gamma=1, kernel=rbf; total time=   0.2s\n",
      "[CV 3/5] END .....................C=0.1, gamma=1, kernel=rbf; total time=   0.2s\n",
      "[CV 4/5] END .....................C=0.1, gamma=1, kernel=rbf; total time=   0.2s\n",
      "[CV 5/5] END .....................C=0.1, gamma=1, kernel=rbf; total time=   0.2s\n",
      "[CV 1/5] END ..................C=0.1, gamma=1, kernel=linear; total time=   0.2s\n",
      "[CV 2/5] END ..................C=0.1, gamma=1, kernel=linear; total time=   0.2s\n",
      "[CV 3/5] END ..................C=0.1, gamma=1, kernel=linear; total time=   0.2s\n",
      "[CV 4/5] END ..................C=0.1, gamma=1, kernel=linear; total time=   0.2s\n",
      "[CV 5/5] END ..................C=0.1, gamma=1, kernel=linear; total time=   0.2s\n",
      "[CV 1/5] END ....................C=0.1, gamma=1, kernel=poly; total time=   0.2s\n",
      "[CV 2/5] END ....................C=0.1, gamma=1, kernel=poly; total time=   0.2s\n",
      "[CV 3/5] END ....................C=0.1, gamma=1, kernel=poly; total time=   0.2s\n",
      "[CV 4/5] END ....................C=0.1, gamma=1, kernel=poly; total time=   0.2s\n",
      "[CV 5/5] END ....................C=0.1, gamma=1, kernel=poly; total time=   0.2s\n",
      "[CV 1/5] END ...................C=0.1, gamma=0.1, kernel=rbf; total time=   0.2s\n",
      "[CV 2/5] END ...................C=0.1, gamma=0.1, kernel=rbf; total time=   0.2s\n",
      "[CV 3/5] END ...................C=0.1, gamma=0.1, kernel=rbf; total time=   0.2s\n",
      "[CV 4/5] END ...................C=0.1, gamma=0.1, kernel=rbf; total time=   0.2s\n",
      "[CV 5/5] END ...................C=0.1, gamma=0.1, kernel=rbf; total time=   0.2s\n",
      "[CV 1/5] END ................C=0.1, gamma=0.1, kernel=linear; total time=   0.2s\n",
      "[CV 2/5] END ................C=0.1, gamma=0.1, kernel=linear; total time=   0.2s\n",
      "[CV 3/5] END ................C=0.1, gamma=0.1, kernel=linear; total time=   0.2s\n",
      "[CV 4/5] END ................C=0.1, gamma=0.1, kernel=linear; total time=   0.2s\n",
      "[CV 5/5] END ................C=0.1, gamma=0.1, kernel=linear; total time=   0.2s\n",
      "[CV 1/5] END ..................C=0.1, gamma=0.1, kernel=poly; total time=   0.1s\n",
      "[CV 2/5] END ..................C=0.1, gamma=0.1, kernel=poly; total time=   0.1s\n",
      "[CV 3/5] END ..................C=0.1, gamma=0.1, kernel=poly; total time=   0.2s\n",
      "[CV 4/5] END ..................C=0.1, gamma=0.1, kernel=poly; total time=   0.2s\n",
      "[CV 5/5] END ..................C=0.1, gamma=0.1, kernel=poly; total time=   0.2s\n",
      "[CV 1/5] END ..................C=0.1, gamma=0.01, kernel=rbf; total time=   0.2s\n",
      "[CV 2/5] END ..................C=0.1, gamma=0.01, kernel=rbf; total time=   0.2s\n",
      "[CV 3/5] END ..................C=0.1, gamma=0.01, kernel=rbf; total time=   0.2s\n",
      "[CV 4/5] END ..................C=0.1, gamma=0.01, kernel=rbf; total time=   0.2s\n",
      "[CV 5/5] END ..................C=0.1, gamma=0.01, kernel=rbf; total time=   0.2s\n",
      "[CV 1/5] END ...............C=0.1, gamma=0.01, kernel=linear; total time=   0.2s\n",
      "[CV 2/5] END ...............C=0.1, gamma=0.01, kernel=linear; total time=   0.2s\n",
      "[CV 3/5] END ...............C=0.1, gamma=0.01, kernel=linear; total time=   0.2s\n",
      "[CV 4/5] END ...............C=0.1, gamma=0.01, kernel=linear; total time=   0.1s\n",
      "[CV 5/5] END ...............C=0.1, gamma=0.01, kernel=linear; total time=   0.2s\n",
      "[CV 1/5] END .................C=0.1, gamma=0.01, kernel=poly; total time=   0.1s\n",
      "[CV 2/5] END .................C=0.1, gamma=0.01, kernel=poly; total time=   0.2s\n",
      "[CV 3/5] END .................C=0.1, gamma=0.01, kernel=poly; total time=   0.1s\n",
      "[CV 4/5] END .................C=0.1, gamma=0.01, kernel=poly; total time=   0.1s\n",
      "[CV 5/5] END .................C=0.1, gamma=0.01, kernel=poly; total time=   0.1s\n",
      "[CV 1/5] END .................C=0.1, gamma=0.001, kernel=rbf; total time=   0.2s\n",
      "[CV 2/5] END .................C=0.1, gamma=0.001, kernel=rbf; total time=   0.2s\n",
      "[CV 3/5] END .................C=0.1, gamma=0.001, kernel=rbf; total time=   0.2s\n",
      "[CV 4/5] END .................C=0.1, gamma=0.001, kernel=rbf; total time=   0.2s\n",
      "[CV 5/5] END .................C=0.1, gamma=0.001, kernel=rbf; total time=   0.2s\n",
      "[CV 1/5] END ..............C=0.1, gamma=0.001, kernel=linear; total time=   0.2s\n",
      "[CV 2/5] END ..............C=0.1, gamma=0.001, kernel=linear; total time=   0.2s\n",
      "[CV 3/5] END ..............C=0.1, gamma=0.001, kernel=linear; total time=   0.2s\n",
      "[CV 4/5] END ..............C=0.1, gamma=0.001, kernel=linear; total time=   0.2s\n",
      "[CV 5/5] END ..............C=0.1, gamma=0.001, kernel=linear; total time=   0.2s\n",
      "[CV 1/5] END ................C=0.1, gamma=0.001, kernel=poly; total time=   0.1s\n",
      "[CV 2/5] END ................C=0.1, gamma=0.001, kernel=poly; total time=   0.1s\n",
      "[CV 3/5] END ................C=0.1, gamma=0.001, kernel=poly; total time=   0.1s\n",
      "[CV 4/5] END ................C=0.1, gamma=0.001, kernel=poly; total time=   0.1s\n",
      "[CV 5/5] END ................C=0.1, gamma=0.001, kernel=poly; total time=   0.1s\n",
      "[CV 1/5] END ................C=0.1, gamma=0.0001, kernel=rbf; total time=   0.2s\n",
      "[CV 2/5] END ................C=0.1, gamma=0.0001, kernel=rbf; total time=   0.2s\n",
      "[CV 3/5] END ................C=0.1, gamma=0.0001, kernel=rbf; total time=   0.2s\n",
      "[CV 4/5] END ................C=0.1, gamma=0.0001, kernel=rbf; total time=   0.2s\n",
      "[CV 5/5] END ................C=0.1, gamma=0.0001, kernel=rbf; total time=   0.2s\n",
      "[CV 1/5] END .............C=0.1, gamma=0.0001, kernel=linear; total time=   0.2s\n",
      "[CV 2/5] END .............C=0.1, gamma=0.0001, kernel=linear; total time=   0.2s\n",
      "[CV 3/5] END .............C=0.1, gamma=0.0001, kernel=linear; total time=   0.2s\n",
      "[CV 4/5] END .............C=0.1, gamma=0.0001, kernel=linear; total time=   0.2s\n",
      "[CV 5/5] END .............C=0.1, gamma=0.0001, kernel=linear; total time=   0.2s\n",
      "[CV 1/5] END ...............C=0.1, gamma=0.0001, kernel=poly; total time=   0.1s\n",
      "[CV 2/5] END ...............C=0.1, gamma=0.0001, kernel=poly; total time=   0.1s\n",
      "[CV 3/5] END ...............C=0.1, gamma=0.0001, kernel=poly; total time=   0.2s\n",
      "[CV 4/5] END ...............C=0.1, gamma=0.0001, kernel=poly; total time=   0.2s\n",
      "[CV 5/5] END ...............C=0.1, gamma=0.0001, kernel=poly; total time=   0.1s\n",
      "[CV 1/5] END .......................C=1, gamma=1, kernel=rbf; total time=   0.2s\n",
      "[CV 2/5] END .......................C=1, gamma=1, kernel=rbf; total time=   0.2s\n",
      "[CV 3/5] END .......................C=1, gamma=1, kernel=rbf; total time=   0.2s\n",
      "[CV 4/5] END .......................C=1, gamma=1, kernel=rbf; total time=   0.2s\n",
      "[CV 5/5] END .......................C=1, gamma=1, kernel=rbf; total time=   0.2s\n",
      "[CV 1/5] END ....................C=1, gamma=1, kernel=linear; total time=   0.2s\n"
     ]
    },
    {
     "name": "stdout",
     "output_type": "stream",
     "text": [
      "[CV 2/5] END ....................C=1, gamma=1, kernel=linear; total time=   0.2s\n",
      "[CV 3/5] END ....................C=1, gamma=1, kernel=linear; total time=   0.2s\n",
      "[CV 4/5] END ....................C=1, gamma=1, kernel=linear; total time=   0.2s\n",
      "[CV 5/5] END ....................C=1, gamma=1, kernel=linear; total time=   0.2s\n",
      "[CV 1/5] END ......................C=1, gamma=1, kernel=poly; total time=   0.2s\n",
      "[CV 2/5] END ......................C=1, gamma=1, kernel=poly; total time=   0.2s\n",
      "[CV 3/5] END ......................C=1, gamma=1, kernel=poly; total time=   0.2s\n",
      "[CV 4/5] END ......................C=1, gamma=1, kernel=poly; total time=   0.2s\n",
      "[CV 5/5] END ......................C=1, gamma=1, kernel=poly; total time=   0.2s\n",
      "[CV 1/5] END .....................C=1, gamma=0.1, kernel=rbf; total time=   0.2s\n",
      "[CV 2/5] END .....................C=1, gamma=0.1, kernel=rbf; total time=   0.2s\n",
      "[CV 3/5] END .....................C=1, gamma=0.1, kernel=rbf; total time=   0.2s\n",
      "[CV 4/5] END .....................C=1, gamma=0.1, kernel=rbf; total time=   0.2s\n",
      "[CV 5/5] END .....................C=1, gamma=0.1, kernel=rbf; total time=   0.2s\n",
      "[CV 1/5] END ..................C=1, gamma=0.1, kernel=linear; total time=   0.2s\n",
      "[CV 2/5] END ..................C=1, gamma=0.1, kernel=linear; total time=   0.2s\n",
      "[CV 3/5] END ..................C=1, gamma=0.1, kernel=linear; total time=   0.2s\n",
      "[CV 4/5] END ..................C=1, gamma=0.1, kernel=linear; total time=   0.2s\n",
      "[CV 5/5] END ..................C=1, gamma=0.1, kernel=linear; total time=   0.2s\n",
      "[CV 1/5] END ....................C=1, gamma=0.1, kernel=poly; total time=   0.1s\n",
      "[CV 2/5] END ....................C=1, gamma=0.1, kernel=poly; total time=   0.1s\n",
      "[CV 3/5] END ....................C=1, gamma=0.1, kernel=poly; total time=   0.2s\n",
      "[CV 4/5] END ....................C=1, gamma=0.1, kernel=poly; total time=   0.1s\n",
      "[CV 5/5] END ....................C=1, gamma=0.1, kernel=poly; total time=   0.2s\n",
      "[CV 1/5] END ....................C=1, gamma=0.01, kernel=rbf; total time=   0.2s\n",
      "[CV 2/5] END ....................C=1, gamma=0.01, kernel=rbf; total time=   0.2s\n",
      "[CV 3/5] END ....................C=1, gamma=0.01, kernel=rbf; total time=   0.2s\n",
      "[CV 4/5] END ....................C=1, gamma=0.01, kernel=rbf; total time=   0.2s\n",
      "[CV 5/5] END ....................C=1, gamma=0.01, kernel=rbf; total time=   0.2s\n",
      "[CV 1/5] END .................C=1, gamma=0.01, kernel=linear; total time=   0.2s\n",
      "[CV 2/5] END .................C=1, gamma=0.01, kernel=linear; total time=   0.2s\n",
      "[CV 3/5] END .................C=1, gamma=0.01, kernel=linear; total time=   0.1s\n",
      "[CV 4/5] END .................C=1, gamma=0.01, kernel=linear; total time=   0.1s\n",
      "[CV 5/5] END .................C=1, gamma=0.01, kernel=linear; total time=   0.2s\n",
      "[CV 1/5] END ...................C=1, gamma=0.01, kernel=poly; total time=   0.2s\n",
      "[CV 2/5] END ...................C=1, gamma=0.01, kernel=poly; total time=   0.2s\n",
      "[CV 3/5] END ...................C=1, gamma=0.01, kernel=poly; total time=   0.2s\n",
      "[CV 4/5] END ...................C=1, gamma=0.01, kernel=poly; total time=   0.2s\n",
      "[CV 5/5] END ...................C=1, gamma=0.01, kernel=poly; total time=   0.2s\n",
      "[CV 1/5] END ...................C=1, gamma=0.001, kernel=rbf; total time=   0.2s\n",
      "[CV 2/5] END ...................C=1, gamma=0.001, kernel=rbf; total time=   0.2s\n",
      "[CV 3/5] END ...................C=1, gamma=0.001, kernel=rbf; total time=   0.3s\n",
      "[CV 4/5] END ...................C=1, gamma=0.001, kernel=rbf; total time=   0.3s\n",
      "[CV 5/5] END ...................C=1, gamma=0.001, kernel=rbf; total time=   0.2s\n",
      "[CV 1/5] END ................C=1, gamma=0.001, kernel=linear; total time=   0.2s\n",
      "[CV 2/5] END ................C=1, gamma=0.001, kernel=linear; total time=   0.2s\n",
      "[CV 3/5] END ................C=1, gamma=0.001, kernel=linear; total time=   0.2s\n",
      "[CV 4/5] END ................C=1, gamma=0.001, kernel=linear; total time=   0.2s\n",
      "[CV 5/5] END ................C=1, gamma=0.001, kernel=linear; total time=   0.2s\n",
      "[CV 1/5] END ..................C=1, gamma=0.001, kernel=poly; total time=   0.2s\n",
      "[CV 2/5] END ..................C=1, gamma=0.001, kernel=poly; total time=   0.2s\n",
      "[CV 3/5] END ..................C=1, gamma=0.001, kernel=poly; total time=   0.2s\n",
      "[CV 4/5] END ..................C=1, gamma=0.001, kernel=poly; total time=   0.2s\n",
      "[CV 5/5] END ..................C=1, gamma=0.001, kernel=poly; total time=   0.2s\n",
      "[CV 1/5] END ..................C=1, gamma=0.0001, kernel=rbf; total time=   0.2s\n",
      "[CV 2/5] END ..................C=1, gamma=0.0001, kernel=rbf; total time=   0.2s\n",
      "[CV 3/5] END ..................C=1, gamma=0.0001, kernel=rbf; total time=   0.2s\n",
      "[CV 4/5] END ..................C=1, gamma=0.0001, kernel=rbf; total time=   0.2s\n",
      "[CV 5/5] END ..................C=1, gamma=0.0001, kernel=rbf; total time=   0.2s\n",
      "[CV 1/5] END ...............C=1, gamma=0.0001, kernel=linear; total time=   0.2s\n",
      "[CV 2/5] END ...............C=1, gamma=0.0001, kernel=linear; total time=   0.2s\n",
      "[CV 3/5] END ...............C=1, gamma=0.0001, kernel=linear; total time=   0.2s\n",
      "[CV 4/5] END ...............C=1, gamma=0.0001, kernel=linear; total time=   0.2s\n",
      "[CV 5/5] END ...............C=1, gamma=0.0001, kernel=linear; total time=   0.2s\n",
      "[CV 1/5] END .................C=1, gamma=0.0001, kernel=poly; total time=   0.2s\n",
      "[CV 2/5] END .................C=1, gamma=0.0001, kernel=poly; total time=   0.2s\n",
      "[CV 3/5] END .................C=1, gamma=0.0001, kernel=poly; total time=   0.2s\n",
      "[CV 4/5] END .................C=1, gamma=0.0001, kernel=poly; total time=   0.2s\n",
      "[CV 5/5] END .................C=1, gamma=0.0001, kernel=poly; total time=   0.2s\n",
      "[CV 1/5] END ......................C=10, gamma=1, kernel=rbf; total time=   0.3s\n",
      "[CV 2/5] END ......................C=10, gamma=1, kernel=rbf; total time=   0.3s\n",
      "[CV 3/5] END ......................C=10, gamma=1, kernel=rbf; total time=   0.3s\n",
      "[CV 4/5] END ......................C=10, gamma=1, kernel=rbf; total time=   0.3s\n",
      "[CV 5/5] END ......................C=10, gamma=1, kernel=rbf; total time=   0.3s\n",
      "[CV 1/5] END ...................C=10, gamma=1, kernel=linear; total time=   0.2s\n",
      "[CV 2/5] END ...................C=10, gamma=1, kernel=linear; total time=   0.2s\n",
      "[CV 3/5] END ...................C=10, gamma=1, kernel=linear; total time=   0.2s\n",
      "[CV 4/5] END ...................C=10, gamma=1, kernel=linear; total time=   0.2s\n",
      "[CV 5/5] END ...................C=10, gamma=1, kernel=linear; total time=   0.2s\n",
      "[CV 1/5] END .....................C=10, gamma=1, kernel=poly; total time=   0.2s\n",
      "[CV 2/5] END .....................C=10, gamma=1, kernel=poly; total time=   0.2s\n",
      "[CV 3/5] END .....................C=10, gamma=1, kernel=poly; total time=   0.2s\n",
      "[CV 4/5] END .....................C=10, gamma=1, kernel=poly; total time=   0.2s\n",
      "[CV 5/5] END .....................C=10, gamma=1, kernel=poly; total time=   0.2s\n",
      "[CV 1/5] END ....................C=10, gamma=0.1, kernel=rbf; total time=   0.2s\n",
      "[CV 2/5] END ....................C=10, gamma=0.1, kernel=rbf; total time=   0.2s\n",
      "[CV 3/5] END ....................C=10, gamma=0.1, kernel=rbf; total time=   0.2s\n",
      "[CV 4/5] END ....................C=10, gamma=0.1, kernel=rbf; total time=   0.2s\n",
      "[CV 5/5] END ....................C=10, gamma=0.1, kernel=rbf; total time=   0.2s\n",
      "[CV 1/5] END .................C=10, gamma=0.1, kernel=linear; total time=   0.2s\n",
      "[CV 2/5] END .................C=10, gamma=0.1, kernel=linear; total time=   0.2s\n",
      "[CV 3/5] END .................C=10, gamma=0.1, kernel=linear; total time=   0.2s\n",
      "[CV 4/5] END .................C=10, gamma=0.1, kernel=linear; total time=   0.2s\n",
      "[CV 5/5] END .................C=10, gamma=0.1, kernel=linear; total time=   0.2s\n",
      "[CV 1/5] END ...................C=10, gamma=0.1, kernel=poly; total time=   0.2s\n",
      "[CV 2/5] END ...................C=10, gamma=0.1, kernel=poly; total time=   0.2s\n",
      "[CV 3/5] END ...................C=10, gamma=0.1, kernel=poly; total time=   0.2s\n",
      "[CV 4/5] END ...................C=10, gamma=0.1, kernel=poly; total time=   0.2s\n",
      "[CV 5/5] END ...................C=10, gamma=0.1, kernel=poly; total time=   0.2s\n",
      "[CV 1/5] END ...................C=10, gamma=0.01, kernel=rbf; total time=   0.2s\n",
      "[CV 2/5] END ...................C=10, gamma=0.01, kernel=rbf; total time=   0.2s\n",
      "[CV 3/5] END ...................C=10, gamma=0.01, kernel=rbf; total time=   0.2s\n"
     ]
    },
    {
     "name": "stdout",
     "output_type": "stream",
     "text": [
      "[CV 4/5] END ...................C=10, gamma=0.01, kernel=rbf; total time=   0.2s\n",
      "[CV 5/5] END ...................C=10, gamma=0.01, kernel=rbf; total time=   0.2s\n",
      "[CV 1/5] END ................C=10, gamma=0.01, kernel=linear; total time=   0.2s\n",
      "[CV 2/5] END ................C=10, gamma=0.01, kernel=linear; total time=   0.2s\n",
      "[CV 3/5] END ................C=10, gamma=0.01, kernel=linear; total time=   0.2s\n",
      "[CV 4/5] END ................C=10, gamma=0.01, kernel=linear; total time=   0.2s\n",
      "[CV 5/5] END ................C=10, gamma=0.01, kernel=linear; total time=   0.2s\n",
      "[CV 1/5] END ..................C=10, gamma=0.01, kernel=poly; total time=   0.2s\n",
      "[CV 2/5] END ..................C=10, gamma=0.01, kernel=poly; total time=   0.2s\n",
      "[CV 3/5] END ..................C=10, gamma=0.01, kernel=poly; total time=   0.2s\n",
      "[CV 4/5] END ..................C=10, gamma=0.01, kernel=poly; total time=   0.2s\n",
      "[CV 5/5] END ..................C=10, gamma=0.01, kernel=poly; total time=   0.2s\n",
      "[CV 1/5] END ..................C=10, gamma=0.001, kernel=rbf; total time=   0.3s\n",
      "[CV 2/5] END ..................C=10, gamma=0.001, kernel=rbf; total time=   0.3s\n",
      "[CV 3/5] END ..................C=10, gamma=0.001, kernel=rbf; total time=   0.2s\n",
      "[CV 4/5] END ..................C=10, gamma=0.001, kernel=rbf; total time=   0.2s\n",
      "[CV 5/5] END ..................C=10, gamma=0.001, kernel=rbf; total time=   0.2s\n",
      "[CV 1/5] END ...............C=10, gamma=0.001, kernel=linear; total time=   0.2s\n",
      "[CV 2/5] END ...............C=10, gamma=0.001, kernel=linear; total time=   0.2s\n",
      "[CV 3/5] END ...............C=10, gamma=0.001, kernel=linear; total time=   0.2s\n",
      "[CV 4/5] END ...............C=10, gamma=0.001, kernel=linear; total time=   0.2s\n",
      "[CV 5/5] END ...............C=10, gamma=0.001, kernel=linear; total time=   0.2s\n",
      "[CV 1/5] END .................C=10, gamma=0.001, kernel=poly; total time=   0.2s\n",
      "[CV 2/5] END .................C=10, gamma=0.001, kernel=poly; total time=   0.1s\n",
      "[CV 3/5] END .................C=10, gamma=0.001, kernel=poly; total time=   0.1s\n",
      "[CV 4/5] END .................C=10, gamma=0.001, kernel=poly; total time=   0.1s\n",
      "[CV 5/5] END .................C=10, gamma=0.001, kernel=poly; total time=   0.2s\n",
      "[CV 1/5] END .................C=10, gamma=0.0001, kernel=rbf; total time=   0.3s\n",
      "[CV 2/5] END .................C=10, gamma=0.0001, kernel=rbf; total time=   0.2s\n",
      "[CV 3/5] END .................C=10, gamma=0.0001, kernel=rbf; total time=   0.2s\n",
      "[CV 4/5] END .................C=10, gamma=0.0001, kernel=rbf; total time=   0.2s\n",
      "[CV 5/5] END .................C=10, gamma=0.0001, kernel=rbf; total time=   0.2s\n",
      "[CV 1/5] END ..............C=10, gamma=0.0001, kernel=linear; total time=   0.2s\n",
      "[CV 2/5] END ..............C=10, gamma=0.0001, kernel=linear; total time=   0.2s\n",
      "[CV 3/5] END ..............C=10, gamma=0.0001, kernel=linear; total time=   0.2s\n",
      "[CV 4/5] END ..............C=10, gamma=0.0001, kernel=linear; total time=   0.2s\n",
      "[CV 5/5] END ..............C=10, gamma=0.0001, kernel=linear; total time=   0.2s\n",
      "[CV 1/5] END ................C=10, gamma=0.0001, kernel=poly; total time=   0.1s\n",
      "[CV 2/5] END ................C=10, gamma=0.0001, kernel=poly; total time=   0.2s\n",
      "[CV 3/5] END ................C=10, gamma=0.0001, kernel=poly; total time=   0.2s\n",
      "[CV 4/5] END ................C=10, gamma=0.0001, kernel=poly; total time=   0.2s\n",
      "[CV 5/5] END ................C=10, gamma=0.0001, kernel=poly; total time=   0.1s\n",
      "[CV 1/5] END .....................C=100, gamma=1, kernel=rbf; total time=   0.3s\n",
      "[CV 2/5] END .....................C=100, gamma=1, kernel=rbf; total time=   0.3s\n",
      "[CV 3/5] END .....................C=100, gamma=1, kernel=rbf; total time=   0.3s\n",
      "[CV 4/5] END .....................C=100, gamma=1, kernel=rbf; total time=   0.3s\n",
      "[CV 5/5] END .....................C=100, gamma=1, kernel=rbf; total time=   0.3s\n",
      "[CV 1/5] END ..................C=100, gamma=1, kernel=linear; total time=   0.4s\n",
      "[CV 2/5] END ..................C=100, gamma=1, kernel=linear; total time=   0.3s\n",
      "[CV 3/5] END ..................C=100, gamma=1, kernel=linear; total time=   0.4s\n",
      "[CV 4/5] END ..................C=100, gamma=1, kernel=linear; total time=   0.3s\n",
      "[CV 5/5] END ..................C=100, gamma=1, kernel=linear; total time=   0.3s\n",
      "[CV 1/5] END ....................C=100, gamma=1, kernel=poly; total time=   0.2s\n",
      "[CV 2/5] END ....................C=100, gamma=1, kernel=poly; total time=   0.2s\n",
      "[CV 3/5] END ....................C=100, gamma=1, kernel=poly; total time=   0.2s\n",
      "[CV 4/5] END ....................C=100, gamma=1, kernel=poly; total time=   0.2s\n",
      "[CV 5/5] END ....................C=100, gamma=1, kernel=poly; total time=   0.2s\n",
      "[CV 1/5] END ...................C=100, gamma=0.1, kernel=rbf; total time=   0.2s\n",
      "[CV 2/5] END ...................C=100, gamma=0.1, kernel=rbf; total time=   0.2s\n",
      "[CV 3/5] END ...................C=100, gamma=0.1, kernel=rbf; total time=   0.2s\n",
      "[CV 4/5] END ...................C=100, gamma=0.1, kernel=rbf; total time=   0.2s\n",
      "[CV 5/5] END ...................C=100, gamma=0.1, kernel=rbf; total time=   0.2s\n",
      "[CV 1/5] END ................C=100, gamma=0.1, kernel=linear; total time=   0.4s\n",
      "[CV 2/5] END ................C=100, gamma=0.1, kernel=linear; total time=   0.3s\n",
      "[CV 3/5] END ................C=100, gamma=0.1, kernel=linear; total time=   0.3s\n",
      "[CV 4/5] END ................C=100, gamma=0.1, kernel=linear; total time=   0.3s\n",
      "[CV 5/5] END ................C=100, gamma=0.1, kernel=linear; total time=   0.4s\n",
      "[CV 1/5] END ..................C=100, gamma=0.1, kernel=poly; total time=   0.2s\n",
      "[CV 2/5] END ..................C=100, gamma=0.1, kernel=poly; total time=   0.2s\n",
      "[CV 3/5] END ..................C=100, gamma=0.1, kernel=poly; total time=   0.2s\n",
      "[CV 4/5] END ..................C=100, gamma=0.1, kernel=poly; total time=   0.2s\n",
      "[CV 5/5] END ..................C=100, gamma=0.1, kernel=poly; total time=   0.2s\n",
      "[CV 1/5] END ..................C=100, gamma=0.01, kernel=rbf; total time=   0.2s\n",
      "[CV 2/5] END ..................C=100, gamma=0.01, kernel=rbf; total time=   0.2s\n",
      "[CV 3/5] END ..................C=100, gamma=0.01, kernel=rbf; total time=   0.2s\n",
      "[CV 4/5] END ..................C=100, gamma=0.01, kernel=rbf; total time=   0.2s\n",
      "[CV 5/5] END ..................C=100, gamma=0.01, kernel=rbf; total time=   0.2s\n",
      "[CV 1/5] END ...............C=100, gamma=0.01, kernel=linear; total time=   0.4s\n",
      "[CV 2/5] END ...............C=100, gamma=0.01, kernel=linear; total time=   0.3s\n",
      "[CV 3/5] END ...............C=100, gamma=0.01, kernel=linear; total time=   0.3s\n",
      "[CV 4/5] END ...............C=100, gamma=0.01, kernel=linear; total time=   0.3s\n",
      "[CV 5/5] END ...............C=100, gamma=0.01, kernel=linear; total time=   0.3s\n",
      "[CV 1/5] END .................C=100, gamma=0.01, kernel=poly; total time=   0.1s\n",
      "[CV 2/5] END .................C=100, gamma=0.01, kernel=poly; total time=   0.1s\n",
      "[CV 3/5] END .................C=100, gamma=0.01, kernel=poly; total time=   0.1s\n",
      "[CV 4/5] END .................C=100, gamma=0.01, kernel=poly; total time=   0.1s\n",
      "[CV 5/5] END .................C=100, gamma=0.01, kernel=poly; total time=   0.1s\n",
      "[CV 1/5] END .................C=100, gamma=0.001, kernel=rbf; total time=   0.2s\n",
      "[CV 2/5] END .................C=100, gamma=0.001, kernel=rbf; total time=   0.2s\n",
      "[CV 3/5] END .................C=100, gamma=0.001, kernel=rbf; total time=   0.2s\n",
      "[CV 4/5] END .................C=100, gamma=0.001, kernel=rbf; total time=   0.2s\n",
      "[CV 5/5] END .................C=100, gamma=0.001, kernel=rbf; total time=   0.2s\n",
      "[CV 1/5] END ..............C=100, gamma=0.001, kernel=linear; total time=   0.4s\n",
      "[CV 2/5] END ..............C=100, gamma=0.001, kernel=linear; total time=   0.3s\n",
      "[CV 3/5] END ..............C=100, gamma=0.001, kernel=linear; total time=   0.3s\n",
      "[CV 4/5] END ..............C=100, gamma=0.001, kernel=linear; total time=   0.3s\n",
      "[CV 5/5] END ..............C=100, gamma=0.001, kernel=linear; total time=   0.3s\n",
      "[CV 1/5] END ................C=100, gamma=0.001, kernel=poly; total time=   0.1s\n",
      "[CV 2/5] END ................C=100, gamma=0.001, kernel=poly; total time=   0.1s\n",
      "[CV 3/5] END ................C=100, gamma=0.001, kernel=poly; total time=   0.1s\n",
      "[CV 4/5] END ................C=100, gamma=0.001, kernel=poly; total time=   0.1s\n",
      "[CV 5/5] END ................C=100, gamma=0.001, kernel=poly; total time=   0.1s\n"
     ]
    },
    {
     "name": "stdout",
     "output_type": "stream",
     "text": [
      "[CV 1/5] END ................C=100, gamma=0.0001, kernel=rbf; total time=   0.2s\n",
      "[CV 2/5] END ................C=100, gamma=0.0001, kernel=rbf; total time=   0.2s\n",
      "[CV 3/5] END ................C=100, gamma=0.0001, kernel=rbf; total time=   0.2s\n",
      "[CV 4/5] END ................C=100, gamma=0.0001, kernel=rbf; total time=   0.3s\n",
      "[CV 5/5] END ................C=100, gamma=0.0001, kernel=rbf; total time=   0.2s\n",
      "[CV 1/5] END .............C=100, gamma=0.0001, kernel=linear; total time=   0.4s\n",
      "[CV 2/5] END .............C=100, gamma=0.0001, kernel=linear; total time=   0.3s\n",
      "[CV 3/5] END .............C=100, gamma=0.0001, kernel=linear; total time=   0.4s\n",
      "[CV 4/5] END .............C=100, gamma=0.0001, kernel=linear; total time=   0.3s\n",
      "[CV 5/5] END .............C=100, gamma=0.0001, kernel=linear; total time=   0.3s\n",
      "[CV 1/5] END ...............C=100, gamma=0.0001, kernel=poly; total time=   0.2s\n",
      "[CV 2/5] END ...............C=100, gamma=0.0001, kernel=poly; total time=   0.2s\n",
      "[CV 3/5] END ...............C=100, gamma=0.0001, kernel=poly; total time=   0.2s\n",
      "[CV 4/5] END ...............C=100, gamma=0.0001, kernel=poly; total time=   0.2s\n",
      "[CV 5/5] END ...............C=100, gamma=0.0001, kernel=poly; total time=   0.1s\n",
      "[CV 1/5] END ....................C=1000, gamma=1, kernel=rbf; total time=   0.3s\n",
      "[CV 2/5] END ....................C=1000, gamma=1, kernel=rbf; total time=   0.3s\n",
      "[CV 3/5] END ....................C=1000, gamma=1, kernel=rbf; total time=   0.3s\n",
      "[CV 4/5] END ....................C=1000, gamma=1, kernel=rbf; total time=   0.3s\n",
      "[CV 5/5] END ....................C=1000, gamma=1, kernel=rbf; total time=   0.3s\n",
      "[CV 1/5] END .................C=1000, gamma=1, kernel=linear; total time=   1.0s\n",
      "[CV 2/5] END .................C=1000, gamma=1, kernel=linear; total time=   1.0s\n",
      "[CV 3/5] END .................C=1000, gamma=1, kernel=linear; total time=   0.9s\n",
      "[CV 4/5] END .................C=1000, gamma=1, kernel=linear; total time=   2.0s\n",
      "[CV 5/5] END .................C=1000, gamma=1, kernel=linear; total time=   1.1s\n",
      "[CV 1/5] END ...................C=1000, gamma=1, kernel=poly; total time=   0.2s\n",
      "[CV 2/5] END ...................C=1000, gamma=1, kernel=poly; total time=   0.2s\n",
      "[CV 3/5] END ...................C=1000, gamma=1, kernel=poly; total time=   0.2s\n",
      "[CV 4/5] END ...................C=1000, gamma=1, kernel=poly; total time=   0.2s\n",
      "[CV 5/5] END ...................C=1000, gamma=1, kernel=poly; total time=   0.2s\n",
      "[CV 1/5] END ..................C=1000, gamma=0.1, kernel=rbf; total time=   0.3s\n",
      "[CV 2/5] END ..................C=1000, gamma=0.1, kernel=rbf; total time=   0.3s\n",
      "[CV 3/5] END ..................C=1000, gamma=0.1, kernel=rbf; total time=   0.3s\n",
      "[CV 4/5] END ..................C=1000, gamma=0.1, kernel=rbf; total time=   0.3s\n",
      "[CV 5/5] END ..................C=1000, gamma=0.1, kernel=rbf; total time=   0.3s\n",
      "[CV 1/5] END ...............C=1000, gamma=0.1, kernel=linear; total time=   1.0s\n",
      "[CV 2/5] END ...............C=1000, gamma=0.1, kernel=linear; total time=   1.0s\n",
      "[CV 3/5] END ...............C=1000, gamma=0.1, kernel=linear; total time=   0.9s\n",
      "[CV 4/5] END ...............C=1000, gamma=0.1, kernel=linear; total time=   2.0s\n",
      "[CV 5/5] END ...............C=1000, gamma=0.1, kernel=linear; total time=   1.1s\n",
      "[CV 1/5] END .................C=1000, gamma=0.1, kernel=poly; total time=   0.2s\n",
      "[CV 2/5] END .................C=1000, gamma=0.1, kernel=poly; total time=   0.2s\n",
      "[CV 3/5] END .................C=1000, gamma=0.1, kernel=poly; total time=   0.2s\n",
      "[CV 4/5] END .................C=1000, gamma=0.1, kernel=poly; total time=   0.2s\n",
      "[CV 5/5] END .................C=1000, gamma=0.1, kernel=poly; total time=   0.2s\n",
      "[CV 1/5] END .................C=1000, gamma=0.01, kernel=rbf; total time=   0.2s\n",
      "[CV 2/5] END .................C=1000, gamma=0.01, kernel=rbf; total time=   0.2s\n",
      "[CV 3/5] END .................C=1000, gamma=0.01, kernel=rbf; total time=   0.2s\n",
      "[CV 4/5] END .................C=1000, gamma=0.01, kernel=rbf; total time=   0.2s\n",
      "[CV 5/5] END .................C=1000, gamma=0.01, kernel=rbf; total time=   0.2s\n",
      "[CV 1/5] END ..............C=1000, gamma=0.01, kernel=linear; total time=   1.0s\n",
      "[CV 2/5] END ..............C=1000, gamma=0.01, kernel=linear; total time=   1.0s\n",
      "[CV 3/5] END ..............C=1000, gamma=0.01, kernel=linear; total time=   0.9s\n",
      "[CV 4/5] END ..............C=1000, gamma=0.01, kernel=linear; total time=   2.0s\n",
      "[CV 5/5] END ..............C=1000, gamma=0.01, kernel=linear; total time=   1.1s\n",
      "[CV 1/5] END ................C=1000, gamma=0.01, kernel=poly; total time=   0.1s\n",
      "[CV 2/5] END ................C=1000, gamma=0.01, kernel=poly; total time=   0.1s\n",
      "[CV 3/5] END ................C=1000, gamma=0.01, kernel=poly; total time=   0.1s\n",
      "[CV 4/5] END ................C=1000, gamma=0.01, kernel=poly; total time=   0.1s\n",
      "[CV 5/5] END ................C=1000, gamma=0.01, kernel=poly; total time=   0.1s\n",
      "[CV 1/5] END ................C=1000, gamma=0.001, kernel=rbf; total time=   0.2s\n",
      "[CV 2/5] END ................C=1000, gamma=0.001, kernel=rbf; total time=   0.2s\n",
      "[CV 3/5] END ................C=1000, gamma=0.001, kernel=rbf; total time=   0.2s\n",
      "[CV 4/5] END ................C=1000, gamma=0.001, kernel=rbf; total time=   0.2s\n",
      "[CV 5/5] END ................C=1000, gamma=0.001, kernel=rbf; total time=   0.2s\n",
      "[CV 1/5] END .............C=1000, gamma=0.001, kernel=linear; total time=   1.0s\n",
      "[CV 2/5] END .............C=1000, gamma=0.001, kernel=linear; total time=   1.0s\n",
      "[CV 3/5] END .............C=1000, gamma=0.001, kernel=linear; total time=   0.9s\n",
      "[CV 4/5] END .............C=1000, gamma=0.001, kernel=linear; total time=   2.0s\n",
      "[CV 5/5] END .............C=1000, gamma=0.001, kernel=linear; total time=   1.1s\n",
      "[CV 1/5] END ...............C=1000, gamma=0.001, kernel=poly; total time=   0.1s\n",
      "[CV 2/5] END ...............C=1000, gamma=0.001, kernel=poly; total time=   0.1s\n",
      "[CV 3/5] END ...............C=1000, gamma=0.001, kernel=poly; total time=   0.1s\n",
      "[CV 4/5] END ...............C=1000, gamma=0.001, kernel=poly; total time=   0.1s\n",
      "[CV 5/5] END ...............C=1000, gamma=0.001, kernel=poly; total time=   0.1s\n",
      "[CV 1/5] END ...............C=1000, gamma=0.0001, kernel=rbf; total time=   0.2s\n",
      "[CV 2/5] END ...............C=1000, gamma=0.0001, kernel=rbf; total time=   0.2s\n",
      "[CV 3/5] END ...............C=1000, gamma=0.0001, kernel=rbf; total time=   0.2s\n",
      "[CV 4/5] END ...............C=1000, gamma=0.0001, kernel=rbf; total time=   0.2s\n",
      "[CV 5/5] END ...............C=1000, gamma=0.0001, kernel=rbf; total time=   0.2s\n",
      "[CV 1/5] END ............C=1000, gamma=0.0001, kernel=linear; total time=   1.0s\n",
      "[CV 2/5] END ............C=1000, gamma=0.0001, kernel=linear; total time=   1.0s\n",
      "[CV 3/5] END ............C=1000, gamma=0.0001, kernel=linear; total time=   0.9s\n",
      "[CV 4/5] END ............C=1000, gamma=0.0001, kernel=linear; total time=   2.0s\n",
      "[CV 5/5] END ............C=1000, gamma=0.0001, kernel=linear; total time=   1.1s\n",
      "[CV 1/5] END ..............C=1000, gamma=0.0001, kernel=poly; total time=   0.1s\n",
      "[CV 2/5] END ..............C=1000, gamma=0.0001, kernel=poly; total time=   0.1s\n",
      "[CV 3/5] END ..............C=1000, gamma=0.0001, kernel=poly; total time=   0.1s\n",
      "[CV 4/5] END ..............C=1000, gamma=0.0001, kernel=poly; total time=   0.1s\n",
      "[CV 5/5] END ..............C=1000, gamma=0.0001, kernel=poly; total time=   0.1s\n",
      "[CV 1/5] END ...................C=10000, gamma=1, kernel=rbf; total time=   0.3s\n",
      "[CV 2/5] END ...................C=10000, gamma=1, kernel=rbf; total time=   0.3s\n",
      "[CV 3/5] END ...................C=10000, gamma=1, kernel=rbf; total time=   0.3s\n",
      "[CV 4/5] END ...................C=10000, gamma=1, kernel=rbf; total time=   0.3s\n",
      "[CV 5/5] END ...................C=10000, gamma=1, kernel=rbf; total time=   0.3s\n",
      "[CV 1/5] END ................C=10000, gamma=1, kernel=linear; total time=   1.1s\n",
      "[CV 2/5] END ................C=10000, gamma=1, kernel=linear; total time=   1.1s\n",
      "[CV 3/5] END ................C=10000, gamma=1, kernel=linear; total time=   0.9s\n",
      "[CV 4/5] END ................C=10000, gamma=1, kernel=linear; total time=   1.3s\n",
      "[CV 5/5] END ................C=10000, gamma=1, kernel=linear; total time=   0.9s\n",
      "[CV 1/5] END ..................C=10000, gamma=1, kernel=poly; total time=   0.2s\n",
      "[CV 2/5] END ..................C=10000, gamma=1, kernel=poly; total time=   0.2s\n",
      "[CV 3/5] END ..................C=10000, gamma=1, kernel=poly; total time=   0.2s\n"
     ]
    },
    {
     "name": "stdout",
     "output_type": "stream",
     "text": [
      "[CV 4/5] END ..................C=10000, gamma=1, kernel=poly; total time=   0.2s\n",
      "[CV 5/5] END ..................C=10000, gamma=1, kernel=poly; total time=   0.2s\n",
      "[CV 1/5] END .................C=10000, gamma=0.1, kernel=rbf; total time=   0.3s\n",
      "[CV 2/5] END .................C=10000, gamma=0.1, kernel=rbf; total time=   0.3s\n",
      "[CV 3/5] END .................C=10000, gamma=0.1, kernel=rbf; total time=   0.3s\n",
      "[CV 4/5] END .................C=10000, gamma=0.1, kernel=rbf; total time=   0.3s\n",
      "[CV 5/5] END .................C=10000, gamma=0.1, kernel=rbf; total time=   0.3s\n",
      "[CV 1/5] END ..............C=10000, gamma=0.1, kernel=linear; total time=   1.1s\n",
      "[CV 2/5] END ..............C=10000, gamma=0.1, kernel=linear; total time=   1.1s\n",
      "[CV 3/5] END ..............C=10000, gamma=0.1, kernel=linear; total time=   0.8s\n",
      "[CV 4/5] END ..............C=10000, gamma=0.1, kernel=linear; total time=   1.3s\n",
      "[CV 5/5] END ..............C=10000, gamma=0.1, kernel=linear; total time=   1.0s\n",
      "[CV 1/5] END ................C=10000, gamma=0.1, kernel=poly; total time=   0.2s\n",
      "[CV 2/5] END ................C=10000, gamma=0.1, kernel=poly; total time=   0.2s\n",
      "[CV 3/5] END ................C=10000, gamma=0.1, kernel=poly; total time=   0.2s\n",
      "[CV 4/5] END ................C=10000, gamma=0.1, kernel=poly; total time=   0.2s\n",
      "[CV 5/5] END ................C=10000, gamma=0.1, kernel=poly; total time=   0.2s\n",
      "[CV 1/5] END ................C=10000, gamma=0.01, kernel=rbf; total time=   0.4s\n",
      "[CV 2/5] END ................C=10000, gamma=0.01, kernel=rbf; total time=   0.4s\n",
      "[CV 3/5] END ................C=10000, gamma=0.01, kernel=rbf; total time=   0.4s\n",
      "[CV 4/5] END ................C=10000, gamma=0.01, kernel=rbf; total time=   0.4s\n",
      "[CV 5/5] END ................C=10000, gamma=0.01, kernel=rbf; total time=   0.4s\n",
      "[CV 1/5] END .............C=10000, gamma=0.01, kernel=linear; total time=   1.2s\n",
      "[CV 2/5] END .............C=10000, gamma=0.01, kernel=linear; total time=   1.1s\n",
      "[CV 3/5] END .............C=10000, gamma=0.01, kernel=linear; total time=   0.9s\n",
      "[CV 4/5] END .............C=10000, gamma=0.01, kernel=linear; total time=   1.3s\n",
      "[CV 5/5] END .............C=10000, gamma=0.01, kernel=linear; total time=   0.9s\n",
      "[CV 1/5] END ...............C=10000, gamma=0.01, kernel=poly; total time=   0.2s\n",
      "[CV 2/5] END ...............C=10000, gamma=0.01, kernel=poly; total time=   0.2s\n",
      "[CV 3/5] END ...............C=10000, gamma=0.01, kernel=poly; total time=   0.2s\n",
      "[CV 4/5] END ...............C=10000, gamma=0.01, kernel=poly; total time=   0.2s\n",
      "[CV 5/5] END ...............C=10000, gamma=0.01, kernel=poly; total time=   0.2s\n",
      "[CV 1/5] END ...............C=10000, gamma=0.001, kernel=rbf; total time=   0.3s\n",
      "[CV 2/5] END ...............C=10000, gamma=0.001, kernel=rbf; total time=   0.2s\n",
      "[CV 3/5] END ...............C=10000, gamma=0.001, kernel=rbf; total time=   0.2s\n",
      "[CV 4/5] END ...............C=10000, gamma=0.001, kernel=rbf; total time=   0.3s\n",
      "[CV 5/5] END ...............C=10000, gamma=0.001, kernel=rbf; total time=   0.2s\n",
      "[CV 1/5] END ............C=10000, gamma=0.001, kernel=linear; total time=   1.2s\n",
      "[CV 2/5] END ............C=10000, gamma=0.001, kernel=linear; total time=   1.1s\n",
      "[CV 3/5] END ............C=10000, gamma=0.001, kernel=linear; total time=   0.9s\n",
      "[CV 4/5] END ............C=10000, gamma=0.001, kernel=linear; total time=   1.3s\n",
      "[CV 5/5] END ............C=10000, gamma=0.001, kernel=linear; total time=   0.9s\n",
      "[CV 1/5] END ..............C=10000, gamma=0.001, kernel=poly; total time=   0.1s\n",
      "[CV 2/5] END ..............C=10000, gamma=0.001, kernel=poly; total time=   0.1s\n",
      "[CV 3/5] END ..............C=10000, gamma=0.001, kernel=poly; total time=   0.1s\n",
      "[CV 4/5] END ..............C=10000, gamma=0.001, kernel=poly; total time=   0.1s\n",
      "[CV 5/5] END ..............C=10000, gamma=0.001, kernel=poly; total time=   0.1s\n",
      "[CV 1/5] END ..............C=10000, gamma=0.0001, kernel=rbf; total time=   0.2s\n",
      "[CV 2/5] END ..............C=10000, gamma=0.0001, kernel=rbf; total time=   0.2s\n",
      "[CV 3/5] END ..............C=10000, gamma=0.0001, kernel=rbf; total time=   0.2s\n",
      "[CV 4/5] END ..............C=10000, gamma=0.0001, kernel=rbf; total time=   0.2s\n",
      "[CV 5/5] END ..............C=10000, gamma=0.0001, kernel=rbf; total time=   0.2s\n",
      "[CV 1/5] END ...........C=10000, gamma=0.0001, kernel=linear; total time=   1.2s\n",
      "[CV 2/5] END ...........C=10000, gamma=0.0001, kernel=linear; total time=   1.1s\n",
      "[CV 3/5] END ...........C=10000, gamma=0.0001, kernel=linear; total time=   0.8s\n",
      "[CV 4/5] END ...........C=10000, gamma=0.0001, kernel=linear; total time=   1.3s\n",
      "[CV 5/5] END ...........C=10000, gamma=0.0001, kernel=linear; total time=   0.9s\n",
      "[CV 1/5] END .............C=10000, gamma=0.0001, kernel=poly; total time=   0.1s\n",
      "[CV 2/5] END .............C=10000, gamma=0.0001, kernel=poly; total time=   0.1s\n",
      "[CV 3/5] END .............C=10000, gamma=0.0001, kernel=poly; total time=   0.1s\n",
      "[CV 4/5] END .............C=10000, gamma=0.0001, kernel=poly; total time=   0.2s\n",
      "[CV 5/5] END .............C=10000, gamma=0.0001, kernel=poly; total time=   0.1s\n"
     ]
    },
    {
     "data": {
      "text/plain": [
       "GridSearchCV(estimator=SVC(),\n",
       "             param_grid={'C': [1e-05, 0.0001, 0.01, 0.1, 1, 10, 100, 1000,\n",
       "                               10000],\n",
       "                         'gamma': [1, 0.1, 0.01, 0.001, 0.0001],\n",
       "                         'kernel': ['rbf', 'linear', 'poly']},\n",
       "             verbose=3)"
      ]
     },
     "execution_count": 137,
     "metadata": {},
     "output_type": "execute_result"
    },
    {
     "data": {
      "text/plain": [
       "['SVM_gridNLP_wider_USE.pkl']"
      ]
     },
     "execution_count": 137,
     "metadata": {},
     "output_type": "execute_result"
    },
    {
     "data": {
      "text/plain": [
       "{'C': 1, 'gamma': 1, 'kernel': 'rbf'}"
      ]
     },
     "execution_count": 137,
     "metadata": {},
     "output_type": "execute_result"
    },
    {
     "data": {
      "text/html": [
       "<div>\n",
       "<style scoped>\n",
       "    .dataframe tbody tr th:only-of-type {\n",
       "        vertical-align: middle;\n",
       "    }\n",
       "\n",
       "    .dataframe tbody tr th {\n",
       "        vertical-align: top;\n",
       "    }\n",
       "\n",
       "    .dataframe thead th {\n",
       "        text-align: right;\n",
       "    }\n",
       "</style>\n",
       "<table border=\"1\" class=\"dataframe\">\n",
       "  <thead>\n",
       "    <tr style=\"text-align: right;\">\n",
       "      <th></th>\n",
       "      <th>label</th>\n",
       "    </tr>\n",
       "  </thead>\n",
       "  <tbody>\n",
       "    <tr>\n",
       "      <th>0</th>\n",
       "      <td>0</td>\n",
       "    </tr>\n",
       "    <tr>\n",
       "      <th>1</th>\n",
       "      <td>1</td>\n",
       "    </tr>\n",
       "    <tr>\n",
       "      <th>2</th>\n",
       "      <td>0</td>\n",
       "    </tr>\n",
       "    <tr>\n",
       "      <th>3</th>\n",
       "      <td>0</td>\n",
       "    </tr>\n",
       "    <tr>\n",
       "      <th>4</th>\n",
       "      <td>0</td>\n",
       "    </tr>\n",
       "    <tr>\n",
       "      <th>...</th>\n",
       "      <td>...</td>\n",
       "    </tr>\n",
       "    <tr>\n",
       "      <th>404</th>\n",
       "      <td>0</td>\n",
       "    </tr>\n",
       "    <tr>\n",
       "      <th>405</th>\n",
       "      <td>0</td>\n",
       "    </tr>\n",
       "    <tr>\n",
       "      <th>406</th>\n",
       "      <td>0</td>\n",
       "    </tr>\n",
       "    <tr>\n",
       "      <th>407</th>\n",
       "      <td>0</td>\n",
       "    </tr>\n",
       "    <tr>\n",
       "      <th>408</th>\n",
       "      <td>1</td>\n",
       "    </tr>\n",
       "  </tbody>\n",
       "</table>\n",
       "<p>409 rows × 1 columns</p>\n",
       "</div>"
      ],
      "text/plain": [
       "     label\n",
       "0        0\n",
       "1        1\n",
       "2        0\n",
       "3        0\n",
       "4        0\n",
       "..     ...\n",
       "404      0\n",
       "405      0\n",
       "406      0\n",
       "407      0\n",
       "408      1\n",
       "\n",
       "[409 rows x 1 columns]"
      ]
     },
     "execution_count": 137,
     "metadata": {},
     "output_type": "execute_result"
    },
    {
     "data": {
      "text/plain": [
       "<Figure size 576x432 with 0 Axes>"
      ]
     },
     "execution_count": 137,
     "metadata": {},
     "output_type": "execute_result"
    },
    {
     "data": {
      "text/plain": [
       "<AxesSubplot:>"
      ]
     },
     "execution_count": 137,
     "metadata": {},
     "output_type": "execute_result"
    },
    {
     "data": {
      "text/plain": [
       "Text(0.5, 1.0, 'Confusion_matrix')"
      ]
     },
     "execution_count": 137,
     "metadata": {},
     "output_type": "execute_result"
    },
    {
     "data": {
      "text/plain": [
       "Text(0.5, 33.0, 'Predicted Class')"
      ]
     },
     "execution_count": 137,
     "metadata": {},
     "output_type": "execute_result"
    },
    {
     "data": {
      "text/plain": [
       "Text(51.0, 0.5, 'Actual class')"
      ]
     },
     "execution_count": 137,
     "metadata": {},
     "output_type": "execute_result"
    },
    {
     "data": {
      "image/png": "[encoded data removed]",
      "text/plain": [
       "<Figure size 576x432 with 2 Axes>"
      ]
     },
     "metadata": {
      "needs_background": "light"
     },
     "output_type": "display_data"
    },
    {
     "name": "stdout",
     "output_type": "stream",
     "text": [
      "Confusion matrix: \n",
      " [[242  23]\n",
      " [ 92  52]]\n",
      "TP:  52\n",
      "TN:  242\n",
      "FP:  23\n",
      "FN:  92\n",
      "Accuracy_Score: 71.88264058679707 %\n",
      "precision_score: 69.33333333333334 %\n",
      "recall_score: 36.11111111111111 %\n",
      "f1_score: 47.48858447488583 %\n",
      "Training Accuracy_Score: 84.92257538712306 %\n",
      "Training Recall: 63.793103448275865 %\n",
      "Training precision_score: 94.56869009584665 %\n",
      "Training F1 Score: 76.19047619047619 %\n"
     ]
    }
   ],
   "source": [
    "from sklearn.svm import SVC\n",
    "\n",
    "param_grid = {'C': [0.00001,0.0001,0.01,0.1, 1, 10, 100, 1000,10000],  \n",
    "              'gamma': [1, 0.1, 0.01, 0.001, 0.0001], \n",
    "              'kernel': ['rbf','linear','poly']}  \n",
    "\n",
    "grid2 = GridSearchCV(SVC(), param_grid, refit = True, verbose = 3) \n",
    "  \n",
    "\n",
    "\n",
    "# fitting the model for grid search \n",
    "grid2.fit(xtrain_tfidf_ngram, y_train['label']) \n",
    "\n",
    "\n",
    "\n",
    "\n",
    "\n",
    "y_pred_SVM = grid2.best_estimator_.predict(xvalid_tfidf_ngram)\n",
    "\n",
    "y_cv\n",
    "\n",
    "\n",
    "\n",
    "conf_mat_svm = metrics.confusion_matrix(y_cv['label'], y_pred_SVM)\n",
    "plt.figure(figsize=(8,6))\n",
    "sns.heatmap(conf_mat_svm,annot=True)\n",
    "plt.title(\"Confusion_matrix\")\n",
    "plt.xlabel(\"Predicted Class\")\n",
    "plt.ylabel(\"Actual class\")\n",
    "plt.show()\n",
    "print('Confusion matrix: \\n', conf_mat_svm)\n",
    "print('TP: ', conf_mat_svm[1,1])\n",
    "print('TN: ', conf_mat_svm[0,0])\n",
    "print('FP: ', conf_mat_svm[0,1])\n",
    "print('FN: ', conf_mat_svm[1,0])\n",
    "\n",
    "\n",
    "# # print('Confusion matrix: \\n', cm)\n",
    "# print('TP: ', conf_mat_svm[1,1])\n",
    "# print('TN: ', conf_mat_svm[0,0])\n",
    "# print('FP: ', conf_mat_svm[0,1])\n",
    "# print('FN: ', conf_mat_svm[1,0])\n",
    "\n",
    "# print('Classification report: \\n', metrics.classification_report(y_test, model))\n",
    "print('Accuracy_Score:',metrics.accuracy_score(y_cv['label'], y_pred_SVM)*100,'%')\n",
    "\n",
    "\n",
    "print('precision_score:',metrics.precision_score(y_cv['label'], y_pred_SVM)*100,'%')\n",
    "\n",
    "print('recall_score:',metrics.recall_score(y_cv['label'], y_pred_SVM)*100,'%')\n",
    "\n",
    "print('f1_score:',metrics.f1_score(y_cv['label'], y_pred_SVM)*100,'%')\n",
    "\n",
    "\n",
    "print('Training Accuracy_Score:',metrics.accuracy_score(y_train, grid2.best_estimator_.predict(xtrain_tfidf_ngram))*100,'%')\n",
    "print('Training Recall:',metrics.recall_score(y_train, grid2.best_estimator_.predict(xtrain_tfidf_ngram))*100,'%')\n",
    "print('Training precision_score:',metrics.precision_score(y_train, grid2.best_estimator_.predict(xtrain_tfidf_ngram))*100,'%')\n",
    "print('Training F1 Score:',metrics.f1_score(y_train, grid2.best_estimator_.predict(xtrain_tfidf_ngram))*100,'%')\n"
   ]
  },
  {
   "cell_type": "code",
   "execution_count": 138,
   "metadata": {},
   "outputs": [
    {
     "data": {
      "text/plain": [
       "['SVM_gridNLP_wider_USE.pkl']"
      ]
     },
     "execution_count": 138,
     "metadata": {},
     "output_type": "execute_result"
    },
    {
     "data": {
      "text/plain": [
       "{'C': 1, 'gamma': 1, 'kernel': 'rbf'}"
      ]
     },
     "execution_count": 138,
     "metadata": {},
     "output_type": "execute_result"
    }
   ],
   "source": [
    "joblib.dump(grid2,'SVM_gridNLP_wider_USE.pkl')\n",
    "\n",
    "\n",
    "grid2.best_params_\n"
   ]
  },
  {
   "cell_type": "code",
   "execution_count": 145,
   "metadata": {},
   "outputs": [
    {
     "data": {
      "text/plain": [
       "SVC(C=50, gamma=0.01)"
      ]
     },
     "execution_count": 145,
     "metadata": {},
     "output_type": "execute_result"
    },
    {
     "data": {
      "text/plain": [
       "<Figure size 576x432 with 0 Axes>"
      ]
     },
     "execution_count": 145,
     "metadata": {},
     "output_type": "execute_result"
    },
    {
     "data": {
      "text/plain": [
       "<AxesSubplot:>"
      ]
     },
     "execution_count": 145,
     "metadata": {},
     "output_type": "execute_result"
    },
    {
     "data": {
      "text/plain": [
       "Text(0.5, 1.0, 'Confusion_matrix')"
      ]
     },
     "execution_count": 145,
     "metadata": {},
     "output_type": "execute_result"
    },
    {
     "data": {
      "text/plain": [
       "Text(0.5, 33.0, 'Predicted Class')"
      ]
     },
     "execution_count": 145,
     "metadata": {},
     "output_type": "execute_result"
    },
    {
     "data": {
      "text/plain": [
       "Text(51.0, 0.5, 'Actual class')"
      ]
     },
     "execution_count": 145,
     "metadata": {},
     "output_type": "execute_result"
    },
    {
     "data": {
      "image/png": "[encoded data removed]",
      "text/plain": [
       "<Figure size 576x432 with 2 Axes>"
      ]
     },
     "metadata": {
      "needs_background": "light"
     },
     "output_type": "display_data"
    },
    {
     "name": "stdout",
     "output_type": "stream",
     "text": [
      "Confusion matrix: \n",
      " [[242  23]\n",
      " [ 96  48]]\n",
      "TP:  48\n",
      "TN:  242\n",
      "FP:  23\n",
      "FN:  96\n",
      "Accuracy_Score: 70.90464547677261 %\n",
      "precision_score: 67.6056338028169 %\n",
      "recall_score: 33.33333333333333 %\n",
      "f1_score: 44.651162790697676 %\n",
      "Training Accuracy_Score: 74.40912795436023 %\n",
      "Training Recall: 41.16379310344828 %\n",
      "Training precision_score: 82.32758620689656 %\n",
      "Training F1 Score: 54.88505747126437 %\n"
     ]
    }
   ],
   "source": [
    "from sklearn.svm import SVC\n",
    "\n",
    "param_grid = {'C': 50,  \n",
    "              'gamma':  0.01, \n",
    "              'kernel': 'rbf'}  \n",
    "\n",
    "svmmodelHypertuned =SVC(C=50,kernel='rbf',gamma=0.01) \n",
    "  \n",
    "\n",
    "\n",
    "# fitting the model for grid search \n",
    "svmmodelHypertuned.fit(xtrain_tfidf_ngram, y_train['label']) \n",
    "\n",
    "\n",
    "\n",
    "\n",
    "\n",
    "y_pred_SVM = svmmodelHypertuned.predict(xvalid_tfidf_ngram)\n",
    "\n",
    "# y_cv\n",
    "\n",
    "\n",
    "\n",
    "conf_mat_svm = metrics.confusion_matrix(y_cv['label'], y_pred_SVM)\n",
    "plt.figure(figsize=(8,6))\n",
    "sns.heatmap(conf_mat_svm,annot=True)\n",
    "plt.title(\"Confusion_matrix\")\n",
    "plt.xlabel(\"Predicted Class\")\n",
    "plt.ylabel(\"Actual class\")\n",
    "plt.show()\n",
    "print('Confusion matrix: \\n', conf_mat_svm)\n",
    "print('TP: ', conf_mat_svm[1,1])\n",
    "print('TN: ', conf_mat_svm[0,0])\n",
    "print('FP: ', conf_mat_svm[0,1])\n",
    "print('FN: ', conf_mat_svm[1,0])\n",
    "\n",
    "\n",
    "# # print('Confusion matrix: \\n', cm)\n",
    "# print('TP: ', conf_mat_svm[1,1])\n",
    "# print('TN: ', conf_mat_svm[0,0])\n",
    "# print('FP: ', conf_mat_svm[0,1])\n",
    "# print('FN: ', conf_mat_svm[1,0])\n",
    "\n",
    "# print('Classification report: \\n', metrics.classification_report(y_test, model))\n",
    "print('Accuracy_Score:',metrics.accuracy_score(y_cv['label'], y_pred_SVM)*100,'%')\n",
    "\n",
    "\n",
    "print('precision_score:',metrics.precision_score(y_cv['label'], y_pred_SVM)*100,'%')\n",
    "\n",
    "print('recall_score:',metrics.recall_score(y_cv['label'], y_pred_SVM)*100,'%')\n",
    "\n",
    "print('f1_score:',metrics.f1_score(y_cv['label'], y_pred_SVM)*100,'%')\n",
    "\n",
    "\n",
    "print('Training Accuracy_Score:',metrics.accuracy_score(y_train, svmmodelHypertuned.predict(xtrain_tfidf_ngram))*100,'%')\n",
    "print('Training Recall:',metrics.recall_score(y_train, svmmodelHypertuned.predict(xtrain_tfidf_ngram))*100,'%')\n",
    "print('Training precision_score:',metrics.precision_score(y_train, svmmodelHypertuned.predict(xtrain_tfidf_ngram))*100,'%')\n",
    "print('Training F1 Score:',metrics.f1_score(y_train, svmmodelHypertuned.predict(xtrain_tfidf_ngram))*100,'%')\n"
   ]
  },
  {
   "cell_type": "code",
   "execution_count": 136,
   "metadata": {
    "scrolled": true
   },
   "outputs": [
    {
     "name": "stderr",
     "output_type": "stream",
     "text": [
      "/home/dheekshitha-vibha/miniconda3/envs/myenv/lib/python3.6/site-packages/sklearn/metrics/_classification.py:1245: UndefinedMetricWarning: Precision is ill-defined and being set to 0.0 due to no predicted samples. Use `zero_division` parameter to control this behavior.\n",
      "  _warn_prf(average, modifier, msg_start, len(result))\n",
      "/home/dheekshitha-vibha/miniconda3/envs/myenv/lib/python3.6/site-packages/sklearn/metrics/_classification.py:1245: UndefinedMetricWarning: Precision is ill-defined and being set to 0.0 due to no predicted samples. Use `zero_division` parameter to control this behavior.\n",
      "  _warn_prf(average, modifier, msg_start, len(result))\n",
      "/home/dheekshitha-vibha/miniconda3/envs/myenv/lib/python3.6/site-packages/sklearn/metrics/_classification.py:1245: UndefinedMetricWarning: Precision is ill-defined and being set to 0.0 due to no predicted samples. Use `zero_division` parameter to control this behavior.\n",
      "  _warn_prf(average, modifier, msg_start, len(result))\n",
      "/home/dheekshitha-vibha/miniconda3/envs/myenv/lib/python3.6/site-packages/sklearn/metrics/_classification.py:1245: UndefinedMetricWarning: Precision is ill-defined and being set to 0.0 due to no predicted samples. Use `zero_division` parameter to control this behavior.\n",
      "  _warn_prf(average, modifier, msg_start, len(result))\n",
      "/home/dheekshitha-vibha/miniconda3/envs/myenv/lib/python3.6/site-packages/sklearn/metrics/_classification.py:1245: UndefinedMetricWarning: Precision is ill-defined and being set to 0.0 due to no predicted samples. Use `zero_division` parameter to control this behavior.\n",
      "  _warn_prf(average, modifier, msg_start, len(result))\n",
      "/home/dheekshitha-vibha/miniconda3/envs/myenv/lib/python3.6/site-packages/sklearn/metrics/_classification.py:1245: UndefinedMetricWarning: Precision is ill-defined and being set to 0.0 due to no predicted samples. Use `zero_division` parameter to control this behavior.\n",
      "  _warn_prf(average, modifier, msg_start, len(result))\n",
      "/home/dheekshitha-vibha/miniconda3/envs/myenv/lib/python3.6/site-packages/sklearn/metrics/_classification.py:1245: UndefinedMetricWarning: Precision is ill-defined and being set to 0.0 due to no predicted samples. Use `zero_division` parameter to control this behavior.\n",
      "  _warn_prf(average, modifier, msg_start, len(result))\n",
      "/home/dheekshitha-vibha/miniconda3/envs/myenv/lib/python3.6/site-packages/sklearn/metrics/_classification.py:1245: UndefinedMetricWarning: Precision is ill-defined and being set to 0.0 due to no predicted samples. Use `zero_division` parameter to control this behavior.\n",
      "  _warn_prf(average, modifier, msg_start, len(result))\n",
      "/home/dheekshitha-vibha/miniconda3/envs/myenv/lib/python3.6/site-packages/sklearn/metrics/_classification.py:1245: UndefinedMetricWarning: Precision is ill-defined and being set to 0.0 due to no predicted samples. Use `zero_division` parameter to control this behavior.\n",
      "  _warn_prf(average, modifier, msg_start, len(result))\n",
      "/home/dheekshitha-vibha/miniconda3/envs/myenv/lib/python3.6/site-packages/sklearn/metrics/_classification.py:1245: UndefinedMetricWarning: Precision is ill-defined and being set to 0.0 due to no predicted samples. Use `zero_division` parameter to control this behavior.\n",
      "  _warn_prf(average, modifier, msg_start, len(result))\n",
      "/home/dheekshitha-vibha/miniconda3/envs/myenv/lib/python3.6/site-packages/sklearn/metrics/_classification.py:1245: UndefinedMetricWarning: Precision is ill-defined and being set to 0.0 due to no predicted samples. Use `zero_division` parameter to control this behavior.\n",
      "  _warn_prf(average, modifier, msg_start, len(result))\n",
      "/home/dheekshitha-vibha/miniconda3/envs/myenv/lib/python3.6/site-packages/sklearn/metrics/_classification.py:1245: UndefinedMetricWarning: Precision is ill-defined and being set to 0.0 due to no predicted samples. Use `zero_division` parameter to control this behavior.\n",
      "  _warn_prf(average, modifier, msg_start, len(result))\n",
      "/home/dheekshitha-vibha/miniconda3/envs/myenv/lib/python3.6/site-packages/sklearn/metrics/_classification.py:1245: UndefinedMetricWarning: Precision is ill-defined and being set to 0.0 due to no predicted samples. Use `zero_division` parameter to control this behavior.\n",
      "  _warn_prf(average, modifier, msg_start, len(result))\n",
      "/home/dheekshitha-vibha/miniconda3/envs/myenv/lib/python3.6/site-packages/sklearn/metrics/_classification.py:1245: UndefinedMetricWarning: Precision is ill-defined and being set to 0.0 due to no predicted samples. Use `zero_division` parameter to control this behavior.\n",
      "  _warn_prf(average, modifier, msg_start, len(result))\n",
      "/home/dheekshitha-vibha/miniconda3/envs/myenv/lib/python3.6/site-packages/sklearn/metrics/_classification.py:1245: UndefinedMetricWarning: Precision is ill-defined and being set to 0.0 due to no predicted samples. Use `zero_division` parameter to control this behavior.\n",
      "  _warn_prf(average, modifier, msg_start, len(result))\n",
      "/home/dheekshitha-vibha/miniconda3/envs/myenv/lib/python3.6/site-packages/sklearn/metrics/_classification.py:1245: UndefinedMetricWarning: Precision is ill-defined and being set to 0.0 due to no predicted samples. Use `zero_division` parameter to control this behavior.\n",
      "  _warn_prf(average, modifier, msg_start, len(result))\n",
      "/home/dheekshitha-vibha/miniconda3/envs/myenv/lib/python3.6/site-packages/sklearn/metrics/_classification.py:1245: UndefinedMetricWarning: Precision is ill-defined and being set to 0.0 due to no predicted samples. Use `zero_division` parameter to control this behavior.\n",
      "  _warn_prf(average, modifier, msg_start, len(result))\n",
      "/home/dheekshitha-vibha/miniconda3/envs/myenv/lib/python3.6/site-packages/sklearn/metrics/_classification.py:1245: UndefinedMetricWarning: Precision is ill-defined and being set to 0.0 due to no predicted samples. Use `zero_division` parameter to control this behavior.\n",
      "  _warn_prf(average, modifier, msg_start, len(result))\n",
      "/home/dheekshitha-vibha/miniconda3/envs/myenv/lib/python3.6/site-packages/sklearn/metrics/_classification.py:1245: UndefinedMetricWarning: Precision is ill-defined and being set to 0.0 due to no predicted samples. Use `zero_division` parameter to control this behavior.\n",
      "  _warn_prf(average, modifier, msg_start, len(result))\n",
      "/home/dheekshitha-vibha/miniconda3/envs/myenv/lib/python3.6/site-packages/sklearn/metrics/_classification.py:1245: UndefinedMetricWarning: Precision is ill-defined and being set to 0.0 due to no predicted samples. Use `zero_division` parameter to control this behavior.\n",
      "  _warn_prf(average, modifier, msg_start, len(result))\n",
      "/home/dheekshitha-vibha/miniconda3/envs/myenv/lib/python3.6/site-packages/sklearn/metrics/_classification.py:1245: UndefinedMetricWarning: Precision is ill-defined and being set to 0.0 due to no predicted samples. Use `zero_division` parameter to control this behavior.\n",
      "  _warn_prf(average, modifier, msg_start, len(result))\n",
      "/home/dheekshitha-vibha/miniconda3/envs/myenv/lib/python3.6/site-packages/sklearn/metrics/_classification.py:1245: UndefinedMetricWarning: Precision is ill-defined and being set to 0.0 due to no predicted samples. Use `zero_division` parameter to control this behavior.\n",
      "  _warn_prf(average, modifier, msg_start, len(result))\n",
      "/home/dheekshitha-vibha/miniconda3/envs/myenv/lib/python3.6/site-packages/sklearn/metrics/_classification.py:1245: UndefinedMetricWarning: Precision is ill-defined and being set to 0.0 due to no predicted samples. Use `zero_division` parameter to control this behavior.\n",
      "  _warn_prf(average, modifier, msg_start, len(result))\n",
      "/home/dheekshitha-vibha/miniconda3/envs/myenv/lib/python3.6/site-packages/sklearn/metrics/_classification.py:1245: UndefinedMetricWarning: Precision is ill-defined and being set to 0.0 due to no predicted samples. Use `zero_division` parameter to control this behavior.\n",
      "  _warn_prf(average, modifier, msg_start, len(result))\n",
      "/home/dheekshitha-vibha/miniconda3/envs/myenv/lib/python3.6/site-packages/sklearn/metrics/_classification.py:1245: UndefinedMetricWarning: Precision is ill-defined and being set to 0.0 due to no predicted samples. Use `zero_division` parameter to control this behavior.\n",
      "  _warn_prf(average, modifier, msg_start, len(result))\n",
      "/home/dheekshitha-vibha/miniconda3/envs/myenv/lib/python3.6/site-packages/sklearn/metrics/_classification.py:1245: UndefinedMetricWarning: Precision is ill-defined and being set to 0.0 due to no predicted samples. Use `zero_division` parameter to control this behavior.\n",
      "  _warn_prf(average, modifier, msg_start, len(result))\n"
     ]
    },
    {
     "name": "stderr",
     "output_type": "stream",
     "text": [
      "/home/dheekshitha-vibha/miniconda3/envs/myenv/lib/python3.6/site-packages/sklearn/metrics/_classification.py:1245: UndefinedMetricWarning: Precision is ill-defined and being set to 0.0 due to no predicted samples. Use `zero_division` parameter to control this behavior.\n",
      "  _warn_prf(average, modifier, msg_start, len(result))\n",
      "/home/dheekshitha-vibha/miniconda3/envs/myenv/lib/python3.6/site-packages/sklearn/metrics/_classification.py:1245: UndefinedMetricWarning: Precision is ill-defined and being set to 0.0 due to no predicted samples. Use `zero_division` parameter to control this behavior.\n",
      "  _warn_prf(average, modifier, msg_start, len(result))\n",
      "/home/dheekshitha-vibha/miniconda3/envs/myenv/lib/python3.6/site-packages/sklearn/metrics/_classification.py:1245: UndefinedMetricWarning: Precision is ill-defined and being set to 0.0 due to no predicted samples. Use `zero_division` parameter to control this behavior.\n",
      "  _warn_prf(average, modifier, msg_start, len(result))\n",
      "/home/dheekshitha-vibha/miniconda3/envs/myenv/lib/python3.6/site-packages/sklearn/metrics/_classification.py:1245: UndefinedMetricWarning: Precision is ill-defined and being set to 0.0 due to no predicted samples. Use `zero_division` parameter to control this behavior.\n",
      "  _warn_prf(average, modifier, msg_start, len(result))\n",
      "/home/dheekshitha-vibha/miniconda3/envs/myenv/lib/python3.6/site-packages/sklearn/metrics/_classification.py:1245: UndefinedMetricWarning: Precision is ill-defined and being set to 0.0 due to no predicted samples. Use `zero_division` parameter to control this behavior.\n",
      "  _warn_prf(average, modifier, msg_start, len(result))\n",
      "/home/dheekshitha-vibha/miniconda3/envs/myenv/lib/python3.6/site-packages/sklearn/metrics/_classification.py:1245: UndefinedMetricWarning: Precision is ill-defined and being set to 0.0 due to no predicted samples. Use `zero_division` parameter to control this behavior.\n",
      "  _warn_prf(average, modifier, msg_start, len(result))\n",
      "/home/dheekshitha-vibha/miniconda3/envs/myenv/lib/python3.6/site-packages/sklearn/metrics/_classification.py:1245: UndefinedMetricWarning: Precision is ill-defined and being set to 0.0 due to no predicted samples. Use `zero_division` parameter to control this behavior.\n",
      "  _warn_prf(average, modifier, msg_start, len(result))\n",
      "/home/dheekshitha-vibha/miniconda3/envs/myenv/lib/python3.6/site-packages/sklearn/metrics/_classification.py:1245: UndefinedMetricWarning: Precision is ill-defined and being set to 0.0 due to no predicted samples. Use `zero_division` parameter to control this behavior.\n",
      "  _warn_prf(average, modifier, msg_start, len(result))\n",
      "/home/dheekshitha-vibha/miniconda3/envs/myenv/lib/python3.6/site-packages/sklearn/metrics/_classification.py:1245: UndefinedMetricWarning: Precision is ill-defined and being set to 0.0 due to no predicted samples. Use `zero_division` parameter to control this behavior.\n",
      "  _warn_prf(average, modifier, msg_start, len(result))\n",
      "/home/dheekshitha-vibha/miniconda3/envs/myenv/lib/python3.6/site-packages/sklearn/metrics/_classification.py:1245: UndefinedMetricWarning: Precision is ill-defined and being set to 0.0 due to no predicted samples. Use `zero_division` parameter to control this behavior.\n",
      "  _warn_prf(average, modifier, msg_start, len(result))\n",
      "/home/dheekshitha-vibha/miniconda3/envs/myenv/lib/python3.6/site-packages/sklearn/metrics/_classification.py:1245: UndefinedMetricWarning: Precision is ill-defined and being set to 0.0 due to no predicted samples. Use `zero_division` parameter to control this behavior.\n",
      "  _warn_prf(average, modifier, msg_start, len(result))\n",
      "/home/dheekshitha-vibha/miniconda3/envs/myenv/lib/python3.6/site-packages/sklearn/metrics/_classification.py:1245: UndefinedMetricWarning: Precision is ill-defined and being set to 0.0 due to no predicted samples. Use `zero_division` parameter to control this behavior.\n",
      "  _warn_prf(average, modifier, msg_start, len(result))\n",
      "/home/dheekshitha-vibha/miniconda3/envs/myenv/lib/python3.6/site-packages/sklearn/metrics/_classification.py:1245: UndefinedMetricWarning: Precision is ill-defined and being set to 0.0 due to no predicted samples. Use `zero_division` parameter to control this behavior.\n",
      "  _warn_prf(average, modifier, msg_start, len(result))\n",
      "/home/dheekshitha-vibha/miniconda3/envs/myenv/lib/python3.6/site-packages/sklearn/metrics/_classification.py:1245: UndefinedMetricWarning: Precision is ill-defined and being set to 0.0 due to no predicted samples. Use `zero_division` parameter to control this behavior.\n",
      "  _warn_prf(average, modifier, msg_start, len(result))\n",
      "/home/dheekshitha-vibha/miniconda3/envs/myenv/lib/python3.6/site-packages/sklearn/metrics/_classification.py:1245: UndefinedMetricWarning: Precision is ill-defined and being set to 0.0 due to no predicted samples. Use `zero_division` parameter to control this behavior.\n",
      "  _warn_prf(average, modifier, msg_start, len(result))\n",
      "/home/dheekshitha-vibha/miniconda3/envs/myenv/lib/python3.6/site-packages/sklearn/metrics/_classification.py:1245: UndefinedMetricWarning: Precision is ill-defined and being set to 0.0 due to no predicted samples. Use `zero_division` parameter to control this behavior.\n",
      "  _warn_prf(average, modifier, msg_start, len(result))\n",
      "/home/dheekshitha-vibha/miniconda3/envs/myenv/lib/python3.6/site-packages/sklearn/metrics/_classification.py:1245: UndefinedMetricWarning: Precision is ill-defined and being set to 0.0 due to no predicted samples. Use `zero_division` parameter to control this behavior.\n",
      "  _warn_prf(average, modifier, msg_start, len(result))\n",
      "/home/dheekshitha-vibha/miniconda3/envs/myenv/lib/python3.6/site-packages/sklearn/metrics/_classification.py:1245: UndefinedMetricWarning: Precision is ill-defined and being set to 0.0 due to no predicted samples. Use `zero_division` parameter to control this behavior.\n",
      "  _warn_prf(average, modifier, msg_start, len(result))\n",
      "/home/dheekshitha-vibha/miniconda3/envs/myenv/lib/python3.6/site-packages/sklearn/metrics/_classification.py:1245: UndefinedMetricWarning: Precision is ill-defined and being set to 0.0 due to no predicted samples. Use `zero_division` parameter to control this behavior.\n",
      "  _warn_prf(average, modifier, msg_start, len(result))\n",
      "/home/dheekshitha-vibha/miniconda3/envs/myenv/lib/python3.6/site-packages/sklearn/metrics/_classification.py:1245: UndefinedMetricWarning: Precision is ill-defined and being set to 0.0 due to no predicted samples. Use `zero_division` parameter to control this behavior.\n",
      "  _warn_prf(average, modifier, msg_start, len(result))\n",
      "/home/dheekshitha-vibha/miniconda3/envs/myenv/lib/python3.6/site-packages/sklearn/metrics/_classification.py:1245: UndefinedMetricWarning: Precision is ill-defined and being set to 0.0 due to no predicted samples. Use `zero_division` parameter to control this behavior.\n",
      "  _warn_prf(average, modifier, msg_start, len(result))\n",
      "/home/dheekshitha-vibha/miniconda3/envs/myenv/lib/python3.6/site-packages/sklearn/metrics/_classification.py:1245: UndefinedMetricWarning: Precision is ill-defined and being set to 0.0 due to no predicted samples. Use `zero_division` parameter to control this behavior.\n",
      "  _warn_prf(average, modifier, msg_start, len(result))\n",
      "/home/dheekshitha-vibha/miniconda3/envs/myenv/lib/python3.6/site-packages/sklearn/metrics/_classification.py:1245: UndefinedMetricWarning: Precision is ill-defined and being set to 0.0 due to no predicted samples. Use `zero_division` parameter to control this behavior.\n",
      "  _warn_prf(average, modifier, msg_start, len(result))\n",
      "/home/dheekshitha-vibha/miniconda3/envs/myenv/lib/python3.6/site-packages/sklearn/metrics/_classification.py:1245: UndefinedMetricWarning: Precision is ill-defined and being set to 0.0 due to no predicted samples. Use `zero_division` parameter to control this behavior.\n",
      "  _warn_prf(average, modifier, msg_start, len(result))\n",
      "/home/dheekshitha-vibha/miniconda3/envs/myenv/lib/python3.6/site-packages/sklearn/metrics/_classification.py:1245: UndefinedMetricWarning: Precision is ill-defined and being set to 0.0 due to no predicted samples. Use `zero_division` parameter to control this behavior.\n",
      "  _warn_prf(average, modifier, msg_start, len(result))\n",
      "/home/dheekshitha-vibha/miniconda3/envs/myenv/lib/python3.6/site-packages/sklearn/metrics/_classification.py:1245: UndefinedMetricWarning: Precision is ill-defined and being set to 0.0 due to no predicted samples. Use `zero_division` parameter to control this behavior.\n",
      "  _warn_prf(average, modifier, msg_start, len(result))\n"
     ]
    },
    {
     "name": "stderr",
     "output_type": "stream",
     "text": [
      "/home/dheekshitha-vibha/miniconda3/envs/myenv/lib/python3.6/site-packages/sklearn/metrics/_classification.py:1245: UndefinedMetricWarning: Precision is ill-defined and being set to 0.0 due to no predicted samples. Use `zero_division` parameter to control this behavior.\n",
      "  _warn_prf(average, modifier, msg_start, len(result))\n",
      "/home/dheekshitha-vibha/miniconda3/envs/myenv/lib/python3.6/site-packages/sklearn/metrics/_classification.py:1245: UndefinedMetricWarning: Precision is ill-defined and being set to 0.0 due to no predicted samples. Use `zero_division` parameter to control this behavior.\n",
      "  _warn_prf(average, modifier, msg_start, len(result))\n",
      "/home/dheekshitha-vibha/miniconda3/envs/myenv/lib/python3.6/site-packages/sklearn/metrics/_classification.py:1245: UndefinedMetricWarning: Precision is ill-defined and being set to 0.0 due to no predicted samples. Use `zero_division` parameter to control this behavior.\n",
      "  _warn_prf(average, modifier, msg_start, len(result))\n",
      "/home/dheekshitha-vibha/miniconda3/envs/myenv/lib/python3.6/site-packages/sklearn/metrics/_classification.py:1245: UndefinedMetricWarning: Precision is ill-defined and being set to 0.0 due to no predicted samples. Use `zero_division` parameter to control this behavior.\n",
      "  _warn_prf(average, modifier, msg_start, len(result))\n",
      "/home/dheekshitha-vibha/miniconda3/envs/myenv/lib/python3.6/site-packages/sklearn/metrics/_classification.py:1245: UndefinedMetricWarning: Precision is ill-defined and being set to 0.0 due to no predicted samples. Use `zero_division` parameter to control this behavior.\n",
      "  _warn_prf(average, modifier, msg_start, len(result))\n",
      "/home/dheekshitha-vibha/miniconda3/envs/myenv/lib/python3.6/site-packages/sklearn/metrics/_classification.py:1245: UndefinedMetricWarning: Precision is ill-defined and being set to 0.0 due to no predicted samples. Use `zero_division` parameter to control this behavior.\n",
      "  _warn_prf(average, modifier, msg_start, len(result))\n",
      "/home/dheekshitha-vibha/miniconda3/envs/myenv/lib/python3.6/site-packages/sklearn/metrics/_classification.py:1245: UndefinedMetricWarning: Precision is ill-defined and being set to 0.0 due to no predicted samples. Use `zero_division` parameter to control this behavior.\n",
      "  _warn_prf(average, modifier, msg_start, len(result))\n",
      "/home/dheekshitha-vibha/miniconda3/envs/myenv/lib/python3.6/site-packages/sklearn/metrics/_classification.py:1245: UndefinedMetricWarning: Precision is ill-defined and being set to 0.0 due to no predicted samples. Use `zero_division` parameter to control this behavior.\n",
      "  _warn_prf(average, modifier, msg_start, len(result))\n",
      "/home/dheekshitha-vibha/miniconda3/envs/myenv/lib/python3.6/site-packages/sklearn/metrics/_classification.py:1245: UndefinedMetricWarning: Precision is ill-defined and being set to 0.0 due to no predicted samples. Use `zero_division` parameter to control this behavior.\n",
      "  _warn_prf(average, modifier, msg_start, len(result))\n",
      "/home/dheekshitha-vibha/miniconda3/envs/myenv/lib/python3.6/site-packages/sklearn/metrics/_classification.py:1245: UndefinedMetricWarning: Precision is ill-defined and being set to 0.0 due to no predicted samples. Use `zero_division` parameter to control this behavior.\n",
      "  _warn_prf(average, modifier, msg_start, len(result))\n",
      "/home/dheekshitha-vibha/miniconda3/envs/myenv/lib/python3.6/site-packages/sklearn/metrics/_classification.py:1245: UndefinedMetricWarning: Precision is ill-defined and being set to 0.0 due to no predicted samples. Use `zero_division` parameter to control this behavior.\n",
      "  _warn_prf(average, modifier, msg_start, len(result))\n",
      "/home/dheekshitha-vibha/miniconda3/envs/myenv/lib/python3.6/site-packages/sklearn/metrics/_classification.py:1245: UndefinedMetricWarning: Precision is ill-defined and being set to 0.0 due to no predicted samples. Use `zero_division` parameter to control this behavior.\n",
      "  _warn_prf(average, modifier, msg_start, len(result))\n",
      "/home/dheekshitha-vibha/miniconda3/envs/myenv/lib/python3.6/site-packages/sklearn/metrics/_classification.py:1245: UndefinedMetricWarning: Precision is ill-defined and being set to 0.0 due to no predicted samples. Use `zero_division` parameter to control this behavior.\n",
      "  _warn_prf(average, modifier, msg_start, len(result))\n",
      "/home/dheekshitha-vibha/miniconda3/envs/myenv/lib/python3.6/site-packages/sklearn/metrics/_classification.py:1245: UndefinedMetricWarning: Precision is ill-defined and being set to 0.0 due to no predicted samples. Use `zero_division` parameter to control this behavior.\n",
      "  _warn_prf(average, modifier, msg_start, len(result))\n",
      "/home/dheekshitha-vibha/miniconda3/envs/myenv/lib/python3.6/site-packages/sklearn/metrics/_classification.py:1245: UndefinedMetricWarning: Precision is ill-defined and being set to 0.0 due to no predicted samples. Use `zero_division` parameter to control this behavior.\n",
      "  _warn_prf(average, modifier, msg_start, len(result))\n",
      "/home/dheekshitha-vibha/miniconda3/envs/myenv/lib/python3.6/site-packages/sklearn/metrics/_classification.py:1245: UndefinedMetricWarning: Precision is ill-defined and being set to 0.0 due to no predicted samples. Use `zero_division` parameter to control this behavior.\n",
      "  _warn_prf(average, modifier, msg_start, len(result))\n",
      "/home/dheekshitha-vibha/miniconda3/envs/myenv/lib/python3.6/site-packages/sklearn/metrics/_classification.py:1245: UndefinedMetricWarning: Precision is ill-defined and being set to 0.0 due to no predicted samples. Use `zero_division` parameter to control this behavior.\n",
      "  _warn_prf(average, modifier, msg_start, len(result))\n",
      "/home/dheekshitha-vibha/miniconda3/envs/myenv/lib/python3.6/site-packages/sklearn/metrics/_classification.py:1245: UndefinedMetricWarning: Precision is ill-defined and being set to 0.0 due to no predicted samples. Use `zero_division` parameter to control this behavior.\n",
      "  _warn_prf(average, modifier, msg_start, len(result))\n",
      "/home/dheekshitha-vibha/miniconda3/envs/myenv/lib/python3.6/site-packages/sklearn/metrics/_classification.py:1245: UndefinedMetricWarning: Precision is ill-defined and being set to 0.0 due to no predicted samples. Use `zero_division` parameter to control this behavior.\n",
      "  _warn_prf(average, modifier, msg_start, len(result))\n",
      "/home/dheekshitha-vibha/miniconda3/envs/myenv/lib/python3.6/site-packages/sklearn/metrics/_classification.py:1245: UndefinedMetricWarning: Precision is ill-defined and being set to 0.0 due to no predicted samples. Use `zero_division` parameter to control this behavior.\n",
      "  _warn_prf(average, modifier, msg_start, len(result))\n",
      "/home/dheekshitha-vibha/miniconda3/envs/myenv/lib/python3.6/site-packages/sklearn/metrics/_classification.py:1245: UndefinedMetricWarning: Precision is ill-defined and being set to 0.0 due to no predicted samples. Use `zero_division` parameter to control this behavior.\n",
      "  _warn_prf(average, modifier, msg_start, len(result))\n",
      "/home/dheekshitha-vibha/miniconda3/envs/myenv/lib/python3.6/site-packages/sklearn/metrics/_classification.py:1245: UndefinedMetricWarning: Precision is ill-defined and being set to 0.0 due to no predicted samples. Use `zero_division` parameter to control this behavior.\n",
      "  _warn_prf(average, modifier, msg_start, len(result))\n",
      "/home/dheekshitha-vibha/miniconda3/envs/myenv/lib/python3.6/site-packages/sklearn/metrics/_classification.py:1245: UndefinedMetricWarning: Precision is ill-defined and being set to 0.0 due to no predicted samples. Use `zero_division` parameter to control this behavior.\n",
      "  _warn_prf(average, modifier, msg_start, len(result))\n",
      "/home/dheekshitha-vibha/miniconda3/envs/myenv/lib/python3.6/site-packages/sklearn/metrics/_classification.py:1245: UndefinedMetricWarning: Precision is ill-defined and being set to 0.0 due to no predicted samples. Use `zero_division` parameter to control this behavior.\n",
      "  _warn_prf(average, modifier, msg_start, len(result))\n",
      "/home/dheekshitha-vibha/miniconda3/envs/myenv/lib/python3.6/site-packages/sklearn/metrics/_classification.py:1245: UndefinedMetricWarning: Precision is ill-defined and being set to 0.0 due to no predicted samples. Use `zero_division` parameter to control this behavior.\n",
      "  _warn_prf(average, modifier, msg_start, len(result))\n",
      "/home/dheekshitha-vibha/miniconda3/envs/myenv/lib/python3.6/site-packages/sklearn/metrics/_classification.py:1245: UndefinedMetricWarning: Precision is ill-defined and being set to 0.0 due to no predicted samples. Use `zero_division` parameter to control this behavior.\n",
      "  _warn_prf(average, modifier, msg_start, len(result))\n"
     ]
    },
    {
     "name": "stderr",
     "output_type": "stream",
     "text": [
      "/home/dheekshitha-vibha/miniconda3/envs/myenv/lib/python3.6/site-packages/sklearn/metrics/_classification.py:1245: UndefinedMetricWarning: Precision is ill-defined and being set to 0.0 due to no predicted samples. Use `zero_division` parameter to control this behavior.\n",
      "  _warn_prf(average, modifier, msg_start, len(result))\n",
      "/home/dheekshitha-vibha/miniconda3/envs/myenv/lib/python3.6/site-packages/sklearn/metrics/_classification.py:1245: UndefinedMetricWarning: Precision is ill-defined and being set to 0.0 due to no predicted samples. Use `zero_division` parameter to control this behavior.\n",
      "  _warn_prf(average, modifier, msg_start, len(result))\n",
      "/home/dheekshitha-vibha/miniconda3/envs/myenv/lib/python3.6/site-packages/sklearn/metrics/_classification.py:1245: UndefinedMetricWarning: Precision is ill-defined and being set to 0.0 due to no predicted samples. Use `zero_division` parameter to control this behavior.\n",
      "  _warn_prf(average, modifier, msg_start, len(result))\n",
      "/home/dheekshitha-vibha/miniconda3/envs/myenv/lib/python3.6/site-packages/sklearn/metrics/_classification.py:1245: UndefinedMetricWarning: Precision is ill-defined and being set to 0.0 due to no predicted samples. Use `zero_division` parameter to control this behavior.\n",
      "  _warn_prf(average, modifier, msg_start, len(result))\n",
      "/home/dheekshitha-vibha/miniconda3/envs/myenv/lib/python3.6/site-packages/sklearn/metrics/_classification.py:1245: UndefinedMetricWarning: Precision is ill-defined and being set to 0.0 due to no predicted samples. Use `zero_division` parameter to control this behavior.\n",
      "  _warn_prf(average, modifier, msg_start, len(result))\n",
      "/home/dheekshitha-vibha/miniconda3/envs/myenv/lib/python3.6/site-packages/sklearn/metrics/_classification.py:1245: UndefinedMetricWarning: Precision is ill-defined and being set to 0.0 due to no predicted samples. Use `zero_division` parameter to control this behavior.\n",
      "  _warn_prf(average, modifier, msg_start, len(result))\n",
      "/home/dheekshitha-vibha/miniconda3/envs/myenv/lib/python3.6/site-packages/sklearn/metrics/_classification.py:1245: UndefinedMetricWarning: Precision is ill-defined and being set to 0.0 due to no predicted samples. Use `zero_division` parameter to control this behavior.\n",
      "  _warn_prf(average, modifier, msg_start, len(result))\n",
      "/home/dheekshitha-vibha/miniconda3/envs/myenv/lib/python3.6/site-packages/sklearn/metrics/_classification.py:1245: UndefinedMetricWarning: Precision is ill-defined and being set to 0.0 due to no predicted samples. Use `zero_division` parameter to control this behavior.\n",
      "  _warn_prf(average, modifier, msg_start, len(result))\n",
      "/home/dheekshitha-vibha/miniconda3/envs/myenv/lib/python3.6/site-packages/sklearn/metrics/_classification.py:1245: UndefinedMetricWarning: Precision is ill-defined and being set to 0.0 due to no predicted samples. Use `zero_division` parameter to control this behavior.\n",
      "  _warn_prf(average, modifier, msg_start, len(result))\n",
      "/home/dheekshitha-vibha/miniconda3/envs/myenv/lib/python3.6/site-packages/sklearn/metrics/_classification.py:1245: UndefinedMetricWarning: Precision is ill-defined and being set to 0.0 due to no predicted samples. Use `zero_division` parameter to control this behavior.\n",
      "  _warn_prf(average, modifier, msg_start, len(result))\n",
      "/home/dheekshitha-vibha/miniconda3/envs/myenv/lib/python3.6/site-packages/sklearn/metrics/_classification.py:1245: UndefinedMetricWarning: Precision is ill-defined and being set to 0.0 due to no predicted samples. Use `zero_division` parameter to control this behavior.\n",
      "  _warn_prf(average, modifier, msg_start, len(result))\n",
      "/home/dheekshitha-vibha/miniconda3/envs/myenv/lib/python3.6/site-packages/sklearn/metrics/_classification.py:1245: UndefinedMetricWarning: Precision is ill-defined and being set to 0.0 due to no predicted samples. Use `zero_division` parameter to control this behavior.\n",
      "  _warn_prf(average, modifier, msg_start, len(result))\n",
      "/home/dheekshitha-vibha/miniconda3/envs/myenv/lib/python3.6/site-packages/sklearn/metrics/_classification.py:1245: UndefinedMetricWarning: Precision is ill-defined and being set to 0.0 due to no predicted samples. Use `zero_division` parameter to control this behavior.\n",
      "  _warn_prf(average, modifier, msg_start, len(result))\n",
      "/home/dheekshitha-vibha/miniconda3/envs/myenv/lib/python3.6/site-packages/sklearn/metrics/_classification.py:1245: UndefinedMetricWarning: Precision is ill-defined and being set to 0.0 due to no predicted samples. Use `zero_division` parameter to control this behavior.\n",
      "  _warn_prf(average, modifier, msg_start, len(result))\n",
      "/home/dheekshitha-vibha/miniconda3/envs/myenv/lib/python3.6/site-packages/sklearn/metrics/_classification.py:1245: UndefinedMetricWarning: Precision is ill-defined and being set to 0.0 due to no predicted samples. Use `zero_division` parameter to control this behavior.\n",
      "  _warn_prf(average, modifier, msg_start, len(result))\n",
      "/home/dheekshitha-vibha/miniconda3/envs/myenv/lib/python3.6/site-packages/sklearn/metrics/_classification.py:1245: UndefinedMetricWarning: Precision is ill-defined and being set to 0.0 due to no predicted samples. Use `zero_division` parameter to control this behavior.\n",
      "  _warn_prf(average, modifier, msg_start, len(result))\n",
      "/home/dheekshitha-vibha/miniconda3/envs/myenv/lib/python3.6/site-packages/sklearn/metrics/_classification.py:1245: UndefinedMetricWarning: Precision is ill-defined and being set to 0.0 due to no predicted samples. Use `zero_division` parameter to control this behavior.\n",
      "  _warn_prf(average, modifier, msg_start, len(result))\n",
      "/home/dheekshitha-vibha/miniconda3/envs/myenv/lib/python3.6/site-packages/sklearn/metrics/_classification.py:1245: UndefinedMetricWarning: Precision is ill-defined and being set to 0.0 due to no predicted samples. Use `zero_division` parameter to control this behavior.\n",
      "  _warn_prf(average, modifier, msg_start, len(result))\n",
      "/home/dheekshitha-vibha/miniconda3/envs/myenv/lib/python3.6/site-packages/sklearn/metrics/_classification.py:1245: UndefinedMetricWarning: Precision is ill-defined and being set to 0.0 due to no predicted samples. Use `zero_division` parameter to control this behavior.\n",
      "  _warn_prf(average, modifier, msg_start, len(result))\n",
      "/home/dheekshitha-vibha/miniconda3/envs/myenv/lib/python3.6/site-packages/sklearn/metrics/_classification.py:1245: UndefinedMetricWarning: Precision is ill-defined and being set to 0.0 due to no predicted samples. Use `zero_division` parameter to control this behavior.\n",
      "  _warn_prf(average, modifier, msg_start, len(result))\n",
      "/home/dheekshitha-vibha/miniconda3/envs/myenv/lib/python3.6/site-packages/sklearn/metrics/_classification.py:1245: UndefinedMetricWarning: Precision is ill-defined and being set to 0.0 due to no predicted samples. Use `zero_division` parameter to control this behavior.\n",
      "  _warn_prf(average, modifier, msg_start, len(result))\n",
      "/home/dheekshitha-vibha/miniconda3/envs/myenv/lib/python3.6/site-packages/sklearn/metrics/_classification.py:1245: UndefinedMetricWarning: Precision is ill-defined and being set to 0.0 due to no predicted samples. Use `zero_division` parameter to control this behavior.\n",
      "  _warn_prf(average, modifier, msg_start, len(result))\n"
     ]
    },
    {
     "data": {
      "text/plain": [
       "Text(0.5, 1.0, 'Validation Curve with SVM varying C')"
      ]
     },
     "execution_count": 136,
     "metadata": {},
     "output_type": "execute_result"
    },
    {
     "data": {
      "text/plain": [
       "Text(0.5, 0, 'C')"
      ]
     },
     "execution_count": 136,
     "metadata": {},
     "output_type": "execute_result"
    },
    {
     "data": {
      "text/plain": [
       "Text(0, 0.5, 'Score')"
      ]
     },
     "execution_count": 136,
     "metadata": {},
     "output_type": "execute_result"
    },
    {
     "data": {
      "text/plain": [
       "(0.0, 1.1)"
      ]
     },
     "execution_count": 136,
     "metadata": {},
     "output_type": "execute_result"
    },
    {
     "data": {
      "text/plain": [
       "[<matplotlib.lines.Line2D at 0x7f262d279518>]"
      ]
     },
     "execution_count": 136,
     "metadata": {},
     "output_type": "execute_result"
    },
    {
     "data": {
      "text/plain": [
       "<matplotlib.collections.PolyCollection at 0x7f274ee3ad68>"
      ]
     },
     "execution_count": 136,
     "metadata": {},
     "output_type": "execute_result"
    },
    {
     "data": {
      "text/plain": [
       "[<matplotlib.lines.Line2D at 0x7f274ee8dda0>]"
      ]
     },
     "execution_count": 136,
     "metadata": {},
     "output_type": "execute_result"
    },
    {
     "data": {
      "text/plain": [
       "<matplotlib.collections.PolyCollection at 0x7f274edf9d30>"
      ]
     },
     "execution_count": 136,
     "metadata": {},
     "output_type": "execute_result"
    },
    {
     "data": {
      "text/plain": [
       "<matplotlib.legend.Legend at 0x7f274edf9c50>"
      ]
     },
     "execution_count": 136,
     "metadata": {},
     "output_type": "execute_result"
    },
    {
     "data": {
      "image/png": "[encoded data removed]",
      "text/plain": [
       "<Figure size 432x288 with 1 Axes>"
      ]
     },
     "metadata": {
      "needs_background": "light"
     },
     "output_type": "display_data"
    }
   ],
   "source": [
    "parameter_svm = np.arange(0.001,0.1,0.01)\n",
    "from sklearn.model_selection import validation_curve\n",
    "#https://www.scikit-yb.org/en/latest/api/model_selection/validation_curve.html\n",
    "training_scores,testing_scores = validation_curve(\n",
    "    SVC(gamma=1,kernel='rbf'), xtrain_tfidf_ngram, y_train['label'],\n",
    "    param_range=parameter_svm,  scoring=\"precision\",param_name=\"C\",cv=5\n",
    ")\n",
    "\n",
    "\n",
    "train_scores_mean = np.mean(training_scores, axis=1)\n",
    "train_scores_std = np.std(training_scores, axis=1)\n",
    "test_scores_mean = np.mean(testing_scores, axis=1)\n",
    "test_scores_std = np.std(testing_scores, axis=1)\n",
    "param_range=parameter_svm\n",
    "plt.title(\"Validation Curve with SVM varying C\")\n",
    "plt.xlabel(\"C\")\n",
    "plt.ylabel(\"Score\")\n",
    "plt.ylim(0.0, 1.1)\n",
    "lw = 2\n",
    "plt.semilogx(param_range, train_scores_mean, label=\"Training score\",\n",
    "             color=\"darkorange\", lw=lw)\n",
    "plt.fill_between(param_range, train_scores_mean - train_scores_std,\n",
    "                 train_scores_mean + train_scores_std, alpha=0.2,\n",
    "                 color=\"darkorange\", lw=lw)\n",
    "plt.semilogx(param_range, test_scores_mean, label=\"Cross-validation score\",\n",
    "             color=\"navy\", lw=lw)\n",
    "plt.fill_between(param_range, test_scores_mean - test_scores_std,\n",
    "                 test_scores_mean + test_scores_std, alpha=0.2,\n",
    "                 color=\"navy\", lw=lw)\n",
    "plt.legend(loc=\"best\")\n",
    "plt.show()"
   ]
  },
  {
   "cell_type": "code",
   "execution_count": 148,
   "metadata": {},
   "outputs": [
    {
     "data": {
      "text/plain": [
       "[<matplotlib.lines.Line2D at 0x7f27482165f8>]"
      ]
     },
     "execution_count": 148,
     "metadata": {},
     "output_type": "execute_result"
    },
    {
     "data": {
      "text/plain": [
       "[<matplotlib.lines.Line2D at 0x7f2748140470>]"
      ]
     },
     "execution_count": 148,
     "metadata": {},
     "output_type": "execute_result"
    },
    {
     "data": {
      "text/plain": [
       "Text(0.5, 1.0, 'LEARNING CURVE FOR SVM Classifier')"
      ]
     },
     "execution_count": 148,
     "metadata": {},
     "output_type": "execute_result"
    },
    {
     "data": {
      "text/plain": [
       "(Text(0.5, 0, 'Training Set Size'),\n",
       " Text(0, 0.5, 'Precision Score'),\n",
       " <matplotlib.legend.Legend at 0x7f27481f7be0>)"
      ]
     },
     "execution_count": 148,
     "metadata": {},
     "output_type": "execute_result"
    },
    {
     "data": {
      "image/png": "[encoded data removed]",
      "text/plain": [
       "<Figure size 432x288 with 1 Axes>"
      ]
     },
     "metadata": {
      "needs_background": "light"
     },
     "output_type": "display_data"
    }
   ],
   "source": [
    "\n",
    "from sklearn.model_selection import learning_curve\n",
    "\n",
    "sizes, training_scores, testing_scores = learning_curve(SVC(C=50,gamma=0.01,kernel='rbf'),xtrain_tfidf_ngram, y_train['label'],scoring=\"precision\")\n",
    "\n",
    "# Mean and Standard Deviation of training scores \n",
    "mean_training = np.mean(training_scores, axis=1) \n",
    "Standard_Deviation_training = np.std(training_scores, axis=1) \n",
    "  \n",
    "# Mean and Standard Deviation of testing scores \n",
    "mean_testing = np.mean(testing_scores, axis=1) \n",
    "Standard_Deviation_testing = np.std(testing_scores, axis=1) \n",
    "  \n",
    "# dotted blue line is for training scores and green line is for cross-validation score \n",
    "plt.plot(sizes, mean_training, '--', color=\"b\",  label=\"Training score\") \n",
    "plt.plot(sizes, mean_testing, color=\"g\", label=\"Cross-validation score\") \n",
    "  \n",
    "# Drawing plot \n",
    "plt.title(\"LEARNING CURVE FOR SVM Classifier\") \n",
    "plt.xlabel(\"Training Set Size\"), plt.ylabel(\"Precision Score\"), plt.legend(loc=\"best\") \n",
    "plt.tight_layout() \n",
    "plt.show()\n",
    "\n",
    "\n"
   ]
  },
  {
   "cell_type": "code",
   "execution_count": 201,
   "metadata": {},
   "outputs": [
    {
     "name": "stdout",
     "output_type": "stream",
     "text": [
      "Classification report: \n",
      "               precision    recall  f1-score   support\n",
      "\n",
      "           0       0.63      0.79      0.70       263\n",
      "           1       0.32      0.18      0.23       146\n",
      "\n",
      "    accuracy                           0.57       409\n",
      "   macro avg       0.48      0.48      0.47       409\n",
      "weighted avg       0.52      0.57      0.53       409\n",
      "\n",
      "Training Accuracy_Score: 74.40912795436023 %\n",
      "Training Precision: 82.32758620689656 %\n",
      "Training Recall: 41.16379310344828 %\n",
      "Training F1 Score: 54.88505747126437 %\n",
      "Test Accuracy_Score: 57.21271393643031 %\n",
      "Test Precision: 32.098765432098766 %\n",
      "Test Recall: 17.80821917808219 %\n",
      "Test F1 Score: 22.90748898678414 %\n"
     ]
    }
   ],
   "source": [
    "getMetrics(svmmodelHypertuned,xtrain_tfidf_ngram,y_train,xtest_tfidf_ngram,y_test)"
   ]
  },
  {
   "cell_type": "markdown",
   "metadata": {},
   "source": [
    "# KNN"
   ]
  },
  {
   "cell_type": "code",
   "execution_count": 113,
   "metadata": {},
   "outputs": [],
   "source": [
    "from sklearn.neighbors import KNeighborsClassifier\n",
    "\n",
    "gridKNN= {\n",
    "    'n_neighbors':list(range(1,10,2)),\n",
    "    'weights':['uniform','distance'],\n",
    "    'metric':['euclidean','manhattan']\n",
    "}\n",
    "\n",
    "knn = GridSearchCV(\n",
    "KNeighborsClassifier(),\n",
    "gridKNN,\n",
    "verbose=1,\n",
    "cv=5)"
   ]
  },
  {
   "cell_type": "code",
   "execution_count": 114,
   "metadata": {
    "scrolled": true
   },
   "outputs": [
    {
     "name": "stdout",
     "output_type": "stream",
     "text": [
      "Fitting 5 folds for each of 20 candidates, totalling 100 fits\n"
     ]
    },
    {
     "data": {
      "text/plain": [
       "GridSearchCV(cv=5, estimator=KNeighborsClassifier(),\n",
       "             param_grid={'metric': ['euclidean', 'manhattan'],\n",
       "                         'n_neighbors': [1, 3, 5, 7, 9],\n",
       "                         'weights': ['uniform', 'distance']},\n",
       "             verbose=1)"
      ]
     },
     "execution_count": 114,
     "metadata": {},
     "output_type": "execute_result"
    }
   ],
   "source": [
    "# knn = KNeighborsClassifier(n_neighbors=2)\n",
    "knn.fit(xtrain_tfidf_ngram, y_train['label']) "
   ]
  },
  {
   "cell_type": "code",
   "execution_count": 115,
   "metadata": {},
   "outputs": [
    {
     "data": {
      "text/plain": [
       "['KNN_gridsearch_NLP_USE.pkl']"
      ]
     },
     "execution_count": 115,
     "metadata": {},
     "output_type": "execute_result"
    }
   ],
   "source": [
    "\n",
    "\n",
    "joblib.dump(knn, 'KNN_gridsearch_NLP_USEUSE.pkl')"
   ]
  },
  {
   "cell_type": "code",
   "execution_count": 116,
   "metadata": {},
   "outputs": [],
   "source": [
    "from sklearn.model_selection import RandomizedSearchCV, GridSearchCV\n",
    "from sklearn.metrics import roc_auc_score\n",
    "from sklearn.model_selection import StratifiedKFold\n",
    "\n"
   ]
  },
  {
   "cell_type": "code",
   "execution_count": 117,
   "metadata": {},
   "outputs": [
    {
     "data": {
      "text/plain": [
       "{'metric': 'euclidean', 'n_neighbors': 9, 'weights': 'distance'}"
      ]
     },
     "execution_count": 117,
     "metadata": {},
     "output_type": "execute_result"
    }
   ],
   "source": [
    "knnModel=knn\n",
    "knnModel.best_params_\n",
    "\n"
   ]
  },
  {
   "cell_type": "code",
   "execution_count": 178,
   "metadata": {},
   "outputs": [],
   "source": [
    "# y_train_res=y_train_res_01.map({ 1:'Existing Customer',  0:'Attrited Customer'})\n",
    "\n",
    "parameter_knn= [3,4,7,8,9,10,11,12,13,14,15,16,17,18,19]\n",
    "from sklearn.model_selection import validation_curve\n",
    "#https://www.scikit-yb.org/en/latest/api/model_selection/validation_curve.html\n",
    "training_scores,testing_scores = validation_curve(\n",
    "    KNeighborsClassifier(metric= 'euclidean',weights= 'distance'), xtrain_tfidf_ngram, y_train['label'],\n",
    "    param_range=parameter_knn,  scoring=\"precision\",param_name=\"n_neighbors\",cv=5\n",
    ")\n",
    "\n",
    "\n"
   ]
  },
  {
   "cell_type": "code",
   "execution_count": 179,
   "metadata": {},
   "outputs": [
    {
     "data": {
      "text/plain": [
       "Text(0.5, 1.0, 'Validation Curve with KNN-Distance weights')"
      ]
     },
     "execution_count": 179,
     "metadata": {},
     "output_type": "execute_result"
    },
    {
     "data": {
      "text/plain": [
       "Text(0.5, 0, 'K')"
      ]
     },
     "execution_count": 179,
     "metadata": {},
     "output_type": "execute_result"
    },
    {
     "data": {
      "text/plain": [
       "Text(0, 0.5, 'Score')"
      ]
     },
     "execution_count": 179,
     "metadata": {},
     "output_type": "execute_result"
    },
    {
     "data": {
      "text/plain": [
       "(0.0, 1.1)"
      ]
     },
     "execution_count": 179,
     "metadata": {},
     "output_type": "execute_result"
    },
    {
     "data": {
      "text/plain": [
       "[<matplotlib.lines.Line2D at 0x7f2745627710>]"
      ]
     },
     "execution_count": 179,
     "metadata": {},
     "output_type": "execute_result"
    },
    {
     "data": {
      "text/plain": [
       "<matplotlib.collections.PolyCollection at 0x7f27458de0b8>"
      ]
     },
     "execution_count": 179,
     "metadata": {},
     "output_type": "execute_result"
    },
    {
     "data": {
      "text/plain": [
       "[<matplotlib.lines.Line2D at 0x7f2745a83a58>]"
      ]
     },
     "execution_count": 179,
     "metadata": {},
     "output_type": "execute_result"
    },
    {
     "data": {
      "text/plain": [
       "<matplotlib.collections.PolyCollection at 0x7f27456395f8>"
      ]
     },
     "execution_count": 179,
     "metadata": {},
     "output_type": "execute_result"
    },
    {
     "data": {
      "text/plain": [
       "<matplotlib.legend.Legend at 0x7f2745639ef0>"
      ]
     },
     "execution_count": 179,
     "metadata": {},
     "output_type": "execute_result"
    },
    {
     "data": {
      "image/png": "[encoded data removed]",
      "text/plain": [
       "<Figure size 432x288 with 1 Axes>"
      ]
     },
     "metadata": {
      "needs_background": "light"
     },
     "output_type": "display_data"
    }
   ],
   "source": [
    "train_scores_mean = np.mean(training_scores, axis=1)\n",
    "train_scores_std = np.std(training_scores, axis=1)\n",
    "test_scores_mean = np.mean(testing_scores, axis=1)\n",
    "test_scores_std = np.std(testing_scores, axis=1)\n",
    "param_range= [3,4,7,8,9,10,11,12,13,14,15,16,17,18,19]\n",
    "plt.title(\"Validation Curve with KNN-Distance weights\")\n",
    "plt.xlabel(\"K\")\n",
    "plt.ylabel(\"Score\")\n",
    "plt.ylim(0.0, 1.1)\n",
    "# lw = 2\n",
    "plt.semilogx(param_range, train_scores_mean, label=\"Training score\",\n",
    "             color=\"darkorange\", lw=lw)\n",
    "plt.fill_between(param_range, train_scores_mean - train_scores_std,\n",
    "                 train_scores_mean + train_scores_std, alpha=0.2,\n",
    "                 color=\"darkorange\", lw=lw)\n",
    "plt.semilogx(param_range, test_scores_mean, label=\"Cross-validation score\",\n",
    "             color=\"navy\", lw=lw)\n",
    "plt.fill_between(param_range, test_scores_mean - test_scores_std,\n",
    "                 test_scores_mean + test_scores_std, alpha=0.2,\n",
    "                 color=\"navy\", lw=lw)\n",
    "plt.legend(loc=\"best\")\n",
    "plt.show()"
   ]
  },
  {
   "cell_type": "code",
   "execution_count": null,
   "metadata": {},
   "outputs": [],
   "source": [
    "# y_cv"
   ]
  },
  {
   "cell_type": "code",
   "execution_count": 120,
   "metadata": {},
   "outputs": [
    {
     "name": "stdout",
     "output_type": "stream",
     "text": [
      "knnoost Test Set\n",
      "Accuracy: 67.48\n",
      "Training Accuracy_Score: 99.83700081499592 %\n",
      "Training Recall: 99.56896551724138 %\n",
      "Training precision_score: 100.0 %\n",
      "Training F1 Score: 99.78401727861772 %\n",
      "Accuracy_Score: 67.48166259168704 %\n",
      "precision_score: 54.19847328244275 %\n",
      "recall_score: 49.30555555555556 %\n"
     ]
    }
   ],
   "source": [
    "knn_predictions1 = knnModel.best_estimator_.predict(xvalid_tfidf_ngram)\n",
    "# knn_predictions1 = np.round(knn_predictions1)\n",
    "print('knnoost Test Set')\n",
    "print('Accuracy: %.2f' % ((knn_predictions1 == y_cv['label']).mean()*100))\n",
    "\n",
    "print('Training Accuracy_Score:',metrics.accuracy_score(y_train, knnModel.best_estimator_.predict(xtrain_tfidf_ngram))*100,'%')\n",
    "print('Training Recall:',metrics.recall_score(y_train, knnModel.best_estimator_.predict(xtrain_tfidf_ngram))*100,'%')\n",
    "print('Training precision_score:',metrics.precision_score(y_train, knnModel.best_estimator_.predict(xtrain_tfidf_ngram))*100,'%')\n",
    "print('Training F1 Score:',metrics.f1_score(y_train, knnModel.best_estimator_.predict(xtrain_tfidf_ngram))*100,'%')\n",
    "\n",
    "\n",
    "# # print('Confusion matrix: \\n', cm)\n",
    "# print('TP: ', conf_mat_svm[1,1])\n",
    "# print('TN: ', conf_mat_svm[0,0])\n",
    "# print('FP: ', conf_mat_svm[0,1])\n",
    "# print('FN: ', conf_mat_svm[1,0])\n",
    "\n",
    "# print('Classification report: \\n', metrics.classification_report(y_cv['label'], model))\n",
    "print('Accuracy_Score:',metrics.accuracy_score(y_cv['label'], knn_predictions1)*100,'%')\n",
    "\n",
    "\n",
    "print('precision_score:',metrics.precision_score(y_cv['label'], knn_predictions1,)*100,'%')\n",
    "\n",
    "print('recall_score:',metrics.recall_score(y_cv['label'], knn_predictions1)*100,'%')\n",
    "\n"
   ]
  },
  {
   "cell_type": "markdown",
   "metadata": {},
   "source": [
    "From the graph, it is evident that the model performs the best at K=3. However, we notice that training and precision is 99 whereas validation precision is 76. This is clear case of overfitting."
   ]
  },
  {
   "cell_type": "code",
   "execution_count": 121,
   "metadata": {
    "scrolled": true
   },
   "outputs": [
    {
     "data": {
      "text/plain": [
       "KNeighborsClassifier(metric='euclidean', n_neighbors=7, weights='distance')"
      ]
     },
     "execution_count": 121,
     "metadata": {},
     "output_type": "execute_result"
    },
    {
     "data": {
      "text/plain": [
       "['KNN_gridsearch_NLP_USE_K7.pkl']"
      ]
     },
     "execution_count": 121,
     "metadata": {},
     "output_type": "execute_result"
    }
   ],
   "source": [
    "from sklearn.neighbors import KNeighborsClassifier\n",
    "\n",
    "# gridKNN= {\n",
    "#     'n_neighbors':list(range(1,10,2)),\n",
    "#     'weights':['uniform','distance'],\n",
    "#     'metric':['euclidean','manhattan']\n",
    "# }\n",
    "\n",
    "knn7 = KNeighborsClassifier(\n",
    "n_neighbors=7,\n",
    "    metric='euclidean', weights= 'distance')\n",
    "\n",
    "# knn = KNeighborsClassifier(n_neighbors=2)\n",
    "knn7.fit(xtrain_tfidf_ngram, y_train['label']) \n",
    "\n",
    "\n",
    "\n",
    "joblib.dump(knn7, 'KNN_gridsearch_NLP_USE_K7USE.pkl')"
   ]
  },
  {
   "cell_type": "code",
   "execution_count": 122,
   "metadata": {
    "scrolled": true
   },
   "outputs": [
    {
     "name": "stdout",
     "output_type": "stream",
     "text": [
      "knnoost Test Set\n",
      "Accuracy: 67.48\n",
      "Training Accuracy_Score: 99.83700081499592 %\n",
      "Training Recall: 99.56896551724138 %\n",
      "Training precision_score: 100.0 %\n",
      "Training F1 Score: 99.78401727861772 %\n",
      "Accuracy_Score: 68.45965770171149 %\n",
      "precision_score: 55.81395348837209 %\n",
      "recall_score: 50.0 %\n"
     ]
    }
   ],
   "source": [
    "knn_predictions7 = knn7.predict(xvalid_tfidf_ngram)\n",
    "# knn_predictions1 = np.round(knn_predictions1)\n",
    "print('knnoost Test Set')\n",
    "print('Accuracy: %.2f' % ((knn_predictions1 == y_cv['label']).mean()*100))\n",
    "\n",
    "print('Training Accuracy_Score:',metrics.accuracy_score(y_train, knn7.predict(xtrain_tfidf_ngram))*100,'%')\n",
    "print('Training Recall:',metrics.recall_score(y_train, knn7.predict(xtrain_tfidf_ngram))*100,'%')\n",
    "print('Training precision_score:',metrics.precision_score(y_train, knn7.predict(xtrain_tfidf_ngram))*100,'%')\n",
    "print('Training F1 Score:',metrics.f1_score(y_train, knn7.predict(xtrain_tfidf_ngram))*100,'%')\n",
    "\n",
    "\n",
    "# # print('Confusion matrix: \\n', cm)\n",
    "# print('TP: ', conf_mat_svm[1,1])\n",
    "# print('TN: ', conf_mat_svm[0,0])\n",
    "# print('FP: ', conf_mat_svm[0,1])\n",
    "# print('FN: ', conf_mat_svm[1,0])\n",
    "\n",
    "# print('Classification report: \\n', metrics.classification_report(y_cv['label'], model))\n",
    "print('Accuracy_Score:',metrics.accuracy_score(y_cv['label'], knn_predictions7)*100,'%')\n",
    "\n",
    "\n",
    "print('precision_score:',metrics.precision_score(y_cv['label'], knn_predictions7,)*100,'%')\n",
    "\n",
    "print('recall_score:',metrics.recall_score(y_cv['label'], knn_predictions7)*100,'%')\n",
    "\n"
   ]
  },
  {
   "cell_type": "code",
   "execution_count": 123,
   "metadata": {},
   "outputs": [
    {
     "data": {
      "text/plain": [
       "KNeighborsClassifier(metric='euclidean', weights='distance')"
      ]
     },
     "execution_count": 123,
     "metadata": {},
     "output_type": "execute_result"
    },
    {
     "data": {
      "text/plain": [
       "['KNN_gridsearch_NLP_USE_K5.pkl']"
      ]
     },
     "execution_count": 123,
     "metadata": {},
     "output_type": "execute_result"
    },
    {
     "name": "stdout",
     "output_type": "stream",
     "text": [
      "knnoost Test Set\n",
      "Accuracy: 67.48\n",
      "Training Accuracy_Score: 99.83700081499592 %\n",
      "Training Recall: 99.56896551724138 %\n",
      "Training precision_score: 100.0 %\n",
      "Training F1 Score: 99.78401727861772 %\n",
      "Accuracy_Score: 66.99266503667481 %\n",
      "precision_score: 53.23741007194245 %\n",
      "recall_score: 51.388888888888886 %\n"
     ]
    }
   ],
   "source": [
    "from sklearn.neighbors import KNeighborsClassifier\n",
    "\n",
    "# gridKNN= {\n",
    "#     'n_neighbors':list(range(1,10,2)),\n",
    "#     'weights':['uniform','distance'],\n",
    "#     'metric':['euclidean','manhattan']\n",
    "# }\n",
    "\n",
    "knn5 = KNeighborsClassifier(\n",
    "n_neighbors=5,\n",
    "    metric='euclidean', weights= 'distance')\n",
    "\n",
    "# knn = KNeighborsClassifier(n_neighbors=2)\n",
    "knn5.fit(xtrain_tfidf_ngram, y_train['label']) \n",
    "\n",
    "\n",
    "\n",
    "joblib.dump(knn5, 'KNN_gridsearch_NLP_USE_K5USE.pkl')\n",
    "\n",
    "knn_predictions5 = knn5.predict(xvalid_tfidf_ngram)\n",
    "# knn_predictions1 = np.round(knn_predictions1)\n",
    "print('knnoost Test Set')\n",
    "print('Accuracy: %.2f' % ((knn_predictions1 == y_cv['label']).mean()*100))\n",
    "\n",
    "print('Training Accuracy_Score:',metrics.accuracy_score(y_train, knn5.predict(xtrain_tfidf_ngram))*100,'%')\n",
    "print('Training Recall:',metrics.recall_score(y_train, knn5.predict(xtrain_tfidf_ngram))*100,'%')\n",
    "print('Training precision_score:',metrics.precision_score(y_train, knn5.predict(xtrain_tfidf_ngram))*100,'%')\n",
    "print('Training F1 Score:',metrics.f1_score(y_train, knn5.predict(xtrain_tfidf_ngram))*100,'%')\n",
    "\n",
    "\n",
    "# # print('Confusion matrix: \\n', cm)\n",
    "# print('TP: ', conf_mat_svm[1,1])\n",
    "# print('TN: ', conf_mat_svm[0,0])\n",
    "# print('FP: ', conf_mat_svm[0,1])\n",
    "# print('FN: ', conf_mat_svm[1,0])\n",
    "\n",
    "# print('Classification report: \\n', metrics.classification_report(y_cv['label'], model))\n",
    "print('Accuracy_Score:',metrics.accuracy_score(y_cv['label'], knn_predictions5)*100,'%')\n",
    "\n",
    "\n",
    "print('precision_score:',metrics.precision_score(y_cv['label'], knn_predictions5,)*100,'%')\n",
    "\n",
    "print('recall_score:',metrics.recall_score(y_cv['label'], knn_predictions5)*100,'%')\n",
    "\n"
   ]
  },
  {
   "cell_type": "code",
   "execution_count": 170,
   "metadata": {},
   "outputs": [
    {
     "data": {
      "text/plain": [
       "KNeighborsClassifier(metric='manhattan', weights='distance')"
      ]
     },
     "execution_count": 170,
     "metadata": {},
     "output_type": "execute_result"
    },
    {
     "name": "stdout",
     "output_type": "stream",
     "text": [
      "knnoost Test Set\n",
      "Accuracy: 67.48\n",
      "Training Accuracy_Score: 99.83700081499592 %\n",
      "Training Recall: 99.56896551724138 %\n",
      "Training precision_score: 100.0 %\n",
      "Training F1 Score: 99.78401727861772 %\n",
      "Accuracy_Score: 68.45965770171149 %\n",
      "precision_score: 55.319148936170215 %\n",
      "recall_score: 54.166666666666664 %\n"
     ]
    }
   ],
   "source": [
    "from sklearn.neighbors import KNeighborsClassifier\n",
    "\n",
    "# gridKNN= {\n",
    "#     'n_neighbors':list(range(1,10,2)),\n",
    "#     'weights':['uniform','distance'],\n",
    "#     'metric':['euclidean','manhattan']\n",
    "# }\n",
    "\n",
    "knn5 = KNeighborsClassifier(\n",
    "n_neighbors=5,\n",
    "    metric='manhattan', weights= 'distance')\n",
    "\n",
    "# knn = KNeighborsClassifier(n_neighbors=2)\n",
    "knn5.fit(xtrain_tfidf_ngram, y_train['label']) \n",
    "\n",
    "\n",
    "\n",
    "# joblib.dump(knn5, 'KNN_gridsearch_NLP_USE_K5USE.pkl')\n",
    "\n",
    "knn_predictions5 = knn5.predict(xvalid_tfidf_ngram)\n",
    "# knn_predictions1 = np.round(knn_predictions1)\n",
    "print('knnoost Test Set')\n",
    "print('Accuracy: %.2f' % ((knn_predictions1 == y_cv['label']).mean()*100))\n",
    "\n",
    "print('Training Accuracy_Score:',metrics.accuracy_score(y_train, knn5.predict(xtrain_tfidf_ngram))*100,'%')\n",
    "print('Training Recall:',metrics.recall_score(y_train, knn5.predict(xtrain_tfidf_ngram))*100,'%')\n",
    "print('Training precision_score:',metrics.precision_score(y_train, knn5.predict(xtrain_tfidf_ngram))*100,'%')\n",
    "print('Training F1 Score:',metrics.f1_score(y_train, knn5.predict(xtrain_tfidf_ngram))*100,'%')\n",
    "\n",
    "\n",
    "# # print('Confusion matrix: \\n', cm)\n",
    "# print('TP: ', conf_mat_svm[1,1])\n",
    "# print('TN: ', conf_mat_svm[0,0])\n",
    "# print('FP: ', conf_mat_svm[0,1])\n",
    "# print('FN: ', conf_mat_svm[1,0])\n",
    "\n",
    "# print('Classification report: \\n', metrics.classification_report(y_cv['label'], model))\n",
    "print('Accuracy_Score:',metrics.accuracy_score(y_cv['label'], knn_predictions5)*100,'%')\n",
    "\n",
    "\n",
    "print('precision_score:',metrics.precision_score(y_cv['label'], knn_predictions5,)*100,'%')\n",
    "\n",
    "print('recall_score:',metrics.recall_score(y_cv['label'], knn_predictions5)*100,'%')\n",
    "\n"
   ]
  },
  {
   "cell_type": "code",
   "execution_count": 171,
   "metadata": {},
   "outputs": [
    {
     "data": {
      "text/plain": [
       "<bound method BaseEstimator.get_params of KNeighborsClassifier(metric='manhattan', weights='distance')>"
      ]
     },
     "execution_count": 171,
     "metadata": {},
     "output_type": "execute_result"
    }
   ],
   "source": [
    "knn5."
   ]
  },
  {
   "cell_type": "code",
   "execution_count": 174,
   "metadata": {},
   "outputs": [
    {
     "data": {
      "text/plain": [
       "KNeighborsClassifier(algorithm='kd_tree', metric='euclidean')"
      ]
     },
     "execution_count": 174,
     "metadata": {},
     "output_type": "execute_result"
    },
    {
     "name": "stdout",
     "output_type": "stream",
     "text": [
      "knnoost Test Set\n",
      "Accuracy: 67.48\n",
      "Training Accuracy_Score: 76.9356153219234 %\n",
      "Training Recall: 64.00862068965517 %\n",
      "Training precision_score: 71.91283292978208 %\n",
      "Training F1 Score: 67.73090079817558 %\n",
      "Accuracy_Score: 66.50366748166259 %\n",
      "precision_score: 52.55474452554745 %\n",
      "recall_score: 50.0 %\n"
     ]
    }
   ],
   "source": [
    "\n",
    "# from sklearn.neighbors import KNeighborsClassifier\n",
    "\n",
    "# gridKNN= {\n",
    "#     'n_neighbors':list(range(1,10,2)),\n",
    "#     'weights':['uniform','distance'],\n",
    "#     'metric':['euclidean','manhattan']\n",
    "# }\n",
    "\n",
    "knn5 = KNeighborsClassifier(\n",
    "n_neighbors=5,algorithm='kd_tree',\n",
    "    metric='euclidean', weights= 'uniform')\n",
    "\n",
    "# knn = KNeighborsClassifier(n_neighbors=2)\n",
    "knn5.fit(xtrain_tfidf_ngram, y_train['label']) \n",
    "\n",
    "\n",
    "\n",
    "# joblib.dump(knn5, 'KNN_gridsearch_NLP_USE_K5USE.pkl')\n",
    "\n",
    "knn_predictions5 = knn5.predict(xvalid_tfidf_ngram)\n",
    "# knn_predictions1 = np.round(knn_predictions1)\n",
    "print('knnoost Test Set')\n",
    "print('Accuracy: %.2f' % ((knn_predictions1 == y_cv['label']).mean()*100))\n",
    "\n",
    "print('Training Accuracy_Score:',metrics.accuracy_score(y_train, knn5.predict(xtrain_tfidf_ngram))*100,'%')\n",
    "print('Training Recall:',metrics.recall_score(y_train, knn5.predict(xtrain_tfidf_ngram))*100,'%')\n",
    "print('Training precision_score:',metrics.precision_score(y_train, knn5.predict(xtrain_tfidf_ngram))*100,'%')\n",
    "print('Training F1 Score:',metrics.f1_score(y_train, knn5.predict(xtrain_tfidf_ngram))*100,'%')\n",
    "\n",
    "\n",
    "# # print('Confusion matrix: \\n', cm)\n",
    "# print('TP: ', conf_mat_svm[1,1])\n",
    "# print('TN: ', conf_mat_svm[0,0])\n",
    "# print('FP: ', conf_mat_svm[0,1])\n",
    "# print('FN: ', conf_mat_svm[1,0])\n",
    "\n",
    "# print('Classification report: \\n', metrics.classification_report(y_cv['label'], model))\n",
    "print('Accuracy_Score:',metrics.accuracy_score(y_cv['label'], knn_predictions5)*100,'%')\n",
    "\n",
    "\n",
    "print('precision_score:',metrics.precision_score(y_cv['label'], knn_predictions5,)*100,'%')\n",
    "\n",
    "print('recall_score:',metrics.recall_score(y_cv['label'], knn_predictions5)*100,'%')\n",
    "\n"
   ]
  },
  {
   "cell_type": "code",
   "execution_count": 177,
   "metadata": {
    "scrolled": true
   },
   "outputs": [
    {
     "data": {
      "text/plain": [
       "Text(0.5, 1.0, 'Validation Curve with KNN-Uniform weights')"
      ]
     },
     "execution_count": 177,
     "metadata": {},
     "output_type": "execute_result"
    },
    {
     "data": {
      "text/plain": [
       "Text(0.5, 0, 'K')"
      ]
     },
     "execution_count": 177,
     "metadata": {},
     "output_type": "execute_result"
    },
    {
     "data": {
      "text/plain": [
       "Text(0, 0.5, 'Score')"
      ]
     },
     "execution_count": 177,
     "metadata": {},
     "output_type": "execute_result"
    },
    {
     "data": {
      "text/plain": [
       "(0.0, 1.1)"
      ]
     },
     "execution_count": 177,
     "metadata": {},
     "output_type": "execute_result"
    },
    {
     "data": {
      "text/plain": [
       "[<matplotlib.lines.Line2D at 0x7f274578ee80>]"
      ]
     },
     "execution_count": 177,
     "metadata": {},
     "output_type": "execute_result"
    },
    {
     "data": {
      "text/plain": [
       "<matplotlib.collections.PolyCollection at 0x7f2745733d68>"
      ]
     },
     "execution_count": 177,
     "metadata": {},
     "output_type": "execute_result"
    },
    {
     "data": {
      "text/plain": [
       "[<matplotlib.lines.Line2D at 0x7f2745798ac8>]"
      ]
     },
     "execution_count": 177,
     "metadata": {},
     "output_type": "execute_result"
    },
    {
     "data": {
      "text/plain": [
       "<matplotlib.collections.PolyCollection at 0x7f274579bb70>"
      ]
     },
     "execution_count": 177,
     "metadata": {},
     "output_type": "execute_result"
    },
    {
     "data": {
      "text/plain": [
       "<matplotlib.legend.Legend at 0x7f274579bd68>"
      ]
     },
     "execution_count": 177,
     "metadata": {},
     "output_type": "execute_result"
    },
    {
     "data": {
      "image/png": "[encoded data removed]",
      "text/plain": [
       "<Figure size 432x288 with 1 Axes>"
      ]
     },
     "metadata": {
      "needs_background": "light"
     },
     "output_type": "display_data"
    }
   ],
   "source": [
    "from sklearn.neighbors import KNeighborsClassifier\n",
    "\n",
    "# gridKNN= {\n",
    "#     'n_neighbors':list(range(1,10,2)),\n",
    "#     'weights':['uniform','distance'],\n",
    "#     'metric':['euclidean','manhattan']\n",
    "# }\n",
    "\n",
    "# knn = GridSearchCV(\n",
    "# KNeighborsClassifier(),\n",
    "# gridKNN,\n",
    "# verbose=1,\n",
    "# cv=5)\n",
    "\n",
    "# # knn = KNeighborsClassifier(n_neighbors=2)\n",
    "# knn.fit(xtrain_tfidf_ngram, y_train['label']) \n",
    "\n",
    "\n",
    "\n",
    "# # joblib.dump(knn, 'KNN_gridsearch_NLP_USEUSE.pkl')\n",
    "\n",
    "# from sklearn.model_selection import RandomizedSearchCV, GridSearchCV\n",
    "# from sklearn.metrics import roc_auc_score\n",
    "# from sklearn.model_selection import StratifiedKFold\n",
    "\n",
    "\n",
    "\n",
    "# knnModel=knn\n",
    "# knnModel.best_params_\n",
    "\n",
    "\n",
    "\n",
    "# y_train_res=y_train_res_01.map({ 1:'Existing Customer',  0:'Attrited Customer'})\n",
    "\n",
    "parameter_knn= [3,4,7,8,9,10,11,12,13,14,15,16,17,18,19]\n",
    "from sklearn.model_selection import validation_curve\n",
    "#https://www.scikit-yb.org/en/latest/api/model_selection/validation_curve.html\n",
    "training_scores,testing_scores = validation_curve(\n",
    "    KNeighborsClassifier(metric= 'euclidean',weights= 'uniform'), xtrain_tfidf_ngram, y_train['label'],\n",
    "    param_range=parameter_knn,  scoring=\"precision\",param_name=\"n_neighbors\",cv=5\n",
    ")\n",
    "\n",
    "\n",
    "\n",
    "\n",
    "train_scores_mean = np.mean(training_scores, axis=1)\n",
    "train_scores_std = np.std(training_scores, axis=1)\n",
    "test_scores_mean = np.mean(testing_scores, axis=1)\n",
    "test_scores_std = np.std(testing_scores, axis=1)\n",
    "param_range= [3,4,7,8,9,10,11,12,13,14,15,16,17,18,19]\n",
    "plt.title(\"Validation Curve with KNN-Uniform weights\")\n",
    "plt.xlabel(\"K\")\n",
    "plt.ylabel(\"Score\")\n",
    "plt.ylim(0.0, 1.1)\n",
    "# lw = 2\n",
    "plt.semilogx(param_range, train_scores_mean, label=\"Training score\",\n",
    "             color=\"darkorange\", lw=lw)\n",
    "plt.fill_between(param_range, train_scores_mean - train_scores_std,\n",
    "                 train_scores_mean + train_scores_std, alpha=0.2,\n",
    "                 color=\"darkorange\", lw=lw)\n",
    "plt.semilogx(param_range, test_scores_mean, label=\"Cross-validation score\",\n",
    "             color=\"navy\", lw=lw)\n",
    "plt.fill_between(param_range, test_scores_mean - test_scores_std,\n",
    "                 test_scores_mean + test_scores_std, alpha=0.2,\n",
    "                 color=\"navy\", lw=lw)\n",
    "plt.legend(loc=\"best\")\n",
    "plt.show()\n",
    "\n",
    "# y_cv\n"
   ]
  },
  {
   "cell_type": "code",
   "execution_count": 175,
   "metadata": {},
   "outputs": [
    {
     "data": {
      "text/plain": [
       "KNeighborsClassifier(algorithm='kd_tree', metric='euclidean', n_neighbors=7)"
      ]
     },
     "execution_count": 175,
     "metadata": {},
     "output_type": "execute_result"
    },
    {
     "name": "stdout",
     "output_type": "stream",
     "text": [
      "knnoost Test Set\n",
      "Accuracy: 67.48\n",
      "Training Accuracy_Score: 75.8761206193969 %\n",
      "Training Recall: 60.991379310344826 %\n",
      "Training precision_score: 71.10552763819096 %\n",
      "Training F1 Score: 65.66125290023203 %\n",
      "Accuracy_Score: 66.99266503667481 %\n",
      "precision_score: 53.43511450381679 %\n",
      "recall_score: 48.61111111111111 %\n"
     ]
    }
   ],
   "source": [
    "\n",
    "# from sklearn.neighbors import KNeighborsClassifier\n",
    "\n",
    "# gridKNN= {\n",
    "#     'n_neighbors':list(range(1,10,2)),\n",
    "#     'weights':['uniform','distance'],\n",
    "#     'metric':['euclidean','manhattan']\n",
    "# }\n",
    "\n",
    "knn7 = KNeighborsClassifier(\n",
    "n_neighbors=7,algorithm='kd_tree',\n",
    "    metric='euclidean', weights= 'uniform')\n",
    "\n",
    "# knn = KNeighborsClassifier(n_neighbors=2)\n",
    "knn7.fit(xtrain_tfidf_ngram, y_train['label']) \n",
    "\n",
    "\n",
    "\n",
    "# joblib.dump(knn7, 'KNN_gridsearch_NLP_USE_K7USE.pkl')\n",
    "\n",
    "knn_predictions7 = knn7.predict(xvalid_tfidf_ngram)\n",
    "# knn_predictions1 = np.round(knn_predictions1)\n",
    "print('knnoost Test Set')\n",
    "print('Accuracy: %.2f' % ((knn_predictions1 == y_cv['label']).mean()*100))\n",
    "\n",
    "print('Training Accuracy_Score:',metrics.accuracy_score(y_train, knn7.predict(xtrain_tfidf_ngram))*100,'%')\n",
    "print('Training Recall:',metrics.recall_score(y_train, knn7.predict(xtrain_tfidf_ngram))*100,'%')\n",
    "print('Training precision_score:',metrics.precision_score(y_train, knn7.predict(xtrain_tfidf_ngram))*100,'%')\n",
    "print('Training F1 Score:',metrics.f1_score(y_train, knn7.predict(xtrain_tfidf_ngram))*100,'%')\n",
    "\n",
    "\n",
    "# # print('Confusion matrix: \\n', cm)\n",
    "# print('TP: ', conf_mat_svm[1,1])\n",
    "# print('TN: ', conf_mat_svm[0,0])\n",
    "# print('FP: ', conf_mat_svm[0,1])\n",
    "# print('FN: ', conf_mat_svm[1,0])\n",
    "\n",
    "# print('Classification report: \\n', metrics.classification_report(y_cv['label'], model))\n",
    "print('Accuracy_Score:',metrics.accuracy_score(y_cv['label'], knn_predictions7)*100,'%')\n",
    "\n",
    "\n",
    "print('precision_score:',metrics.precision_score(y_cv['label'], knn_predictions7,)*100,'%')\n",
    "\n",
    "print('recall_score:',metrics.recall_score(y_cv['label'], knn_predictions7)*100,'%')\n",
    "\n"
   ]
  },
  {
   "cell_type": "code",
   "execution_count": 182,
   "metadata": {
    "scrolled": true
   },
   "outputs": [
    {
     "name": "stderr",
     "output_type": "stream",
     "text": [
      "/home/dheekshitha-vibha/miniconda3/envs/myenv/lib/python3.6/site-packages/sklearn/neighbors/_classification.py:179: DataConversionWarning: A column-vector y was passed when a 1d array was expected. Please change the shape of y to (n_samples,), for example using ravel().\n",
      "  return self._fit(X, y)\n",
      "/home/dheekshitha-vibha/miniconda3/envs/myenv/lib/python3.6/site-packages/sklearn/neighbors/_classification.py:179: DataConversionWarning: A column-vector y was passed when a 1d array was expected. Please change the shape of y to (n_samples,), for example using ravel().\n",
      "  return self._fit(X, y)\n",
      "/home/dheekshitha-vibha/miniconda3/envs/myenv/lib/python3.6/site-packages/sklearn/neighbors/_classification.py:179: DataConversionWarning: A column-vector y was passed when a 1d array was expected. Please change the shape of y to (n_samples,), for example using ravel().\n",
      "  return self._fit(X, y)\n",
      "/home/dheekshitha-vibha/miniconda3/envs/myenv/lib/python3.6/site-packages/sklearn/neighbors/_classification.py:179: DataConversionWarning: A column-vector y was passed when a 1d array was expected. Please change the shape of y to (n_samples,), for example using ravel().\n",
      "  return self._fit(X, y)\n",
      "/home/dheekshitha-vibha/miniconda3/envs/myenv/lib/python3.6/site-packages/sklearn/neighbors/_classification.py:179: DataConversionWarning: A column-vector y was passed when a 1d array was expected. Please change the shape of y to (n_samples,), for example using ravel().\n",
      "  return self._fit(X, y)\n",
      "/home/dheekshitha-vibha/miniconda3/envs/myenv/lib/python3.6/site-packages/sklearn/neighbors/_classification.py:179: DataConversionWarning: A column-vector y was passed when a 1d array was expected. Please change the shape of y to (n_samples,), for example using ravel().\n",
      "  return self._fit(X, y)\n",
      "/home/dheekshitha-vibha/miniconda3/envs/myenv/lib/python3.6/site-packages/sklearn/neighbors/_classification.py:179: DataConversionWarning: A column-vector y was passed when a 1d array was expected. Please change the shape of y to (n_samples,), for example using ravel().\n",
      "  return self._fit(X, y)\n",
      "/home/dheekshitha-vibha/miniconda3/envs/myenv/lib/python3.6/site-packages/sklearn/neighbors/_classification.py:179: DataConversionWarning: A column-vector y was passed when a 1d array was expected. Please change the shape of y to (n_samples,), for example using ravel().\n",
      "  return self._fit(X, y)\n",
      "/home/dheekshitha-vibha/miniconda3/envs/myenv/lib/python3.6/site-packages/sklearn/neighbors/_classification.py:179: DataConversionWarning: A column-vector y was passed when a 1d array was expected. Please change the shape of y to (n_samples,), for example using ravel().\n",
      "  return self._fit(X, y)\n",
      "/home/dheekshitha-vibha/miniconda3/envs/myenv/lib/python3.6/site-packages/sklearn/neighbors/_classification.py:179: DataConversionWarning: A column-vector y was passed when a 1d array was expected. Please change the shape of y to (n_samples,), for example using ravel().\n",
      "  return self._fit(X, y)\n",
      "/home/dheekshitha-vibha/miniconda3/envs/myenv/lib/python3.6/site-packages/sklearn/neighbors/_classification.py:179: DataConversionWarning: A column-vector y was passed when a 1d array was expected. Please change the shape of y to (n_samples,), for example using ravel().\n",
      "  return self._fit(X, y)\n",
      "/home/dheekshitha-vibha/miniconda3/envs/myenv/lib/python3.6/site-packages/sklearn/neighbors/_classification.py:179: DataConversionWarning: A column-vector y was passed when a 1d array was expected. Please change the shape of y to (n_samples,), for example using ravel().\n",
      "  return self._fit(X, y)\n",
      "/home/dheekshitha-vibha/miniconda3/envs/myenv/lib/python3.6/site-packages/sklearn/neighbors/_classification.py:179: DataConversionWarning: A column-vector y was passed when a 1d array was expected. Please change the shape of y to (n_samples,), for example using ravel().\n",
      "  return self._fit(X, y)\n",
      "/home/dheekshitha-vibha/miniconda3/envs/myenv/lib/python3.6/site-packages/sklearn/neighbors/_classification.py:179: DataConversionWarning: A column-vector y was passed when a 1d array was expected. Please change the shape of y to (n_samples,), for example using ravel().\n",
      "  return self._fit(X, y)\n",
      "/home/dheekshitha-vibha/miniconda3/envs/myenv/lib/python3.6/site-packages/sklearn/neighbors/_classification.py:179: DataConversionWarning: A column-vector y was passed when a 1d array was expected. Please change the shape of y to (n_samples,), for example using ravel().\n",
      "  return self._fit(X, y)\n",
      "/home/dheekshitha-vibha/miniconda3/envs/myenv/lib/python3.6/site-packages/sklearn/neighbors/_classification.py:179: DataConversionWarning: A column-vector y was passed when a 1d array was expected. Please change the shape of y to (n_samples,), for example using ravel().\n",
      "  return self._fit(X, y)\n",
      "/home/dheekshitha-vibha/miniconda3/envs/myenv/lib/python3.6/site-packages/sklearn/neighbors/_classification.py:179: DataConversionWarning: A column-vector y was passed when a 1d array was expected. Please change the shape of y to (n_samples,), for example using ravel().\n",
      "  return self._fit(X, y)\n",
      "/home/dheekshitha-vibha/miniconda3/envs/myenv/lib/python3.6/site-packages/sklearn/neighbors/_classification.py:179: DataConversionWarning: A column-vector y was passed when a 1d array was expected. Please change the shape of y to (n_samples,), for example using ravel().\n",
      "  return self._fit(X, y)\n",
      "/home/dheekshitha-vibha/miniconda3/envs/myenv/lib/python3.6/site-packages/sklearn/neighbors/_classification.py:179: DataConversionWarning: A column-vector y was passed when a 1d array was expected. Please change the shape of y to (n_samples,), for example using ravel().\n",
      "  return self._fit(X, y)\n",
      "/home/dheekshitha-vibha/miniconda3/envs/myenv/lib/python3.6/site-packages/sklearn/neighbors/_classification.py:179: DataConversionWarning: A column-vector y was passed when a 1d array was expected. Please change the shape of y to (n_samples,), for example using ravel().\n",
      "  return self._fit(X, y)\n",
      "/home/dheekshitha-vibha/miniconda3/envs/myenv/lib/python3.6/site-packages/sklearn/neighbors/_classification.py:179: DataConversionWarning: A column-vector y was passed when a 1d array was expected. Please change the shape of y to (n_samples,), for example using ravel().\n",
      "  return self._fit(X, y)\n",
      "/home/dheekshitha-vibha/miniconda3/envs/myenv/lib/python3.6/site-packages/sklearn/neighbors/_classification.py:179: DataConversionWarning: A column-vector y was passed when a 1d array was expected. Please change the shape of y to (n_samples,), for example using ravel().\n",
      "  return self._fit(X, y)\n",
      "/home/dheekshitha-vibha/miniconda3/envs/myenv/lib/python3.6/site-packages/sklearn/neighbors/_classification.py:179: DataConversionWarning: A column-vector y was passed when a 1d array was expected. Please change the shape of y to (n_samples,), for example using ravel().\n",
      "  return self._fit(X, y)\n",
      "/home/dheekshitha-vibha/miniconda3/envs/myenv/lib/python3.6/site-packages/sklearn/neighbors/_classification.py:179: DataConversionWarning: A column-vector y was passed when a 1d array was expected. Please change the shape of y to (n_samples,), for example using ravel().\n",
      "  return self._fit(X, y)\n",
      "/home/dheekshitha-vibha/miniconda3/envs/myenv/lib/python3.6/site-packages/sklearn/neighbors/_classification.py:179: DataConversionWarning: A column-vector y was passed when a 1d array was expected. Please change the shape of y to (n_samples,), for example using ravel().\n",
      "  return self._fit(X, y)\n"
     ]
    },
    {
     "data": {
      "text/plain": [
       "[<matplotlib.lines.Line2D at 0x7f2745404dd8>]"
      ]
     },
     "execution_count": 182,
     "metadata": {},
     "output_type": "execute_result"
    },
    {
     "data": {
      "text/plain": [
       "[<matplotlib.lines.Line2D at 0x7f2745721a58>]"
      ]
     },
     "execution_count": 182,
     "metadata": {},
     "output_type": "execute_result"
    },
    {
     "data": {
      "text/plain": [
       "Text(0.5, 1.0, 'LEARNING CURVE FOR KNN Classifier-Precision')"
      ]
     },
     "execution_count": 182,
     "metadata": {},
     "output_type": "execute_result"
    },
    {
     "data": {
      "text/plain": [
       "(Text(0.5, 0, 'Training Set Size'),\n",
       " Text(0, 0.5, 'Precision'),\n",
       " <matplotlib.legend.Legend at 0x7f2745404278>)"
      ]
     },
     "execution_count": 182,
     "metadata": {},
     "output_type": "execute_result"
    },
    {
     "data": {
      "image/png": "[encoded data removed]",
      "text/plain": [
       "<Figure size 432x288 with 1 Axes>"
      ]
     },
     "metadata": {
      "needs_background": "light"
     },
     "output_type": "display_data"
    }
   ],
   "source": [
    "# from sklearn.model_selection import learning_curve\n",
    "# from sklearn.metrics import f1_score, make_scorer\n",
    "dtPredictions=knn7.predict(xtrain_tfidf_ngram)\n",
    "# Custom scorer\n",
    "target = 1 # class you want to plot\n",
    "# scorer = make_scorer(lambda y_train,dtPredictions : f1_score(\n",
    "#     y_train, dtPredictions, \n",
    "#     labels=None, \n",
    "    \n",
    "#     average='binary', \n",
    "#     sample_weight=None))\n",
    "\n",
    "\n",
    "sizes, training_scores, testing_scores = learning_curve(KNeighborsClassifier(\n",
    "n_neighbors=7,algorithm='kd_tree',\n",
    "    metric='euclidean', weights= 'uniform'),xtrain_tfidf_ngram, y_train,scoring=\"precision\")\n",
    "\n",
    "# Mean and Standard Deviation of training scores \n",
    "mean_training = np.mean(training_scores, axis=1) \n",
    "Standard_Deviation_training = np.std(training_scores, axis=1) \n",
    "  \n",
    "# Mean and Standard Deviation of testing scores \n",
    "mean_testing = np.mean(testing_scores, axis=1) \n",
    "Standard_Deviation_testing = np.std(testing_scores, axis=1) \n",
    "  \n",
    "# dotted blue line is for training scores and green line is for cross-validation score \n",
    "plt.plot(sizes, mean_training, '--', color=\"b\",  label=\"Training score\") \n",
    "plt.plot(sizes, mean_testing, color=\"g\", label=\"Cross-validation score\") \n",
    "  \n",
    "# Drawing plot \n",
    "plt.title(\"LEARNING CURVE FOR KNN Classifier-Precision\") \n",
    "plt.xlabel(\"Training Set Size\"), plt.ylabel(\"Precision\"), plt.legend(loc=\"best\") \n",
    "plt.tight_layout() \n",
    "plt.show()"
   ]
  },
  {
   "cell_type": "code",
   "execution_count": 202,
   "metadata": {},
   "outputs": [
    {
     "name": "stdout",
     "output_type": "stream",
     "text": [
      "Classification report: \n",
      "               precision    recall  f1-score   support\n",
      "\n",
      "           0       0.63      0.71      0.67       263\n",
      "           1       0.32      0.25      0.28       146\n",
      "\n",
      "    accuracy                           0.55       409\n",
      "   macro avg       0.48      0.48      0.48       409\n",
      "weighted avg       0.52      0.55      0.53       409\n",
      "\n",
      "Training Accuracy_Score: 75.8761206193969 %\n",
      "Training Precision: 71.10552763819096 %\n",
      "Training Recall: 60.991379310344826 %\n",
      "Training F1 Score: 65.66125290023203 %\n",
      "Test Accuracy_Score: 54.52322738386308 %\n",
      "Test Precision: 32.45614035087719 %\n",
      "Test Recall: 25.34246575342466 %\n",
      "Test F1 Score: 28.461538461538467 %\n"
     ]
    }
   ],
   "source": [
    "getMetrics(knn7,xtrain_tfidf_ngram,y_train,xtest_tfidf_ngram,y_test)"
   ]
  },
  {
   "cell_type": "markdown",
   "metadata": {},
   "source": [
    "# 6. Gradient Boosting "
   ]
  },
  {
   "cell_type": "code",
   "execution_count": 124,
   "metadata": {},
   "outputs": [
    {
     "data": {
      "text/plain": [
       "RandomizedSearchCV(cv=<generator object _BaseKFold.split at 0x7f262c5a2d00>,\n",
       "                   estimator=XGBClassifier(base_score=None, booster=None,\n",
       "                                           colsample_bylevel=None,\n",
       "                                           colsample_bynode=None,\n",
       "                                           colsample_bytree=None,\n",
       "                                           eval_metric='logloss', gamma=None,\n",
       "                                           gpu_id=None, importance_type='gain',\n",
       "                                           interaction_constraints=None,\n",
       "                                           learning_rate=0.3,\n",
       "                                           max_delta_step=None, max_depth=None,\n",
       "                                           min_chil...\n",
       "                                           random_state=None, reg_alpha=None,\n",
       "                                           reg_lambda=None,\n",
       "                                           scale_pos_weight=None,\n",
       "                                           subsample=None, tree_method=None,\n",
       "                                           use_label_encoder=False,\n",
       "                                           validate_parameters=None,\n",
       "                                           verbosity=None),\n",
       "                   n_iter=5, n_jobs=4,\n",
       "                   param_distributions={'colsample_bytree': [0.6, 0.8, 1.0],\n",
       "                                        'gamma': [0.5, 1, 1.5, 2, 5],\n",
       "                                        'max_depth': [5, 6, 7, 8],\n",
       "                                        'min_child_weight': [1, 5, 10],\n",
       "                                        'subsample': [0.6, 0.8, 1.0]},\n",
       "                   random_state=25, scoring='roc_auc')"
      ]
     },
     "execution_count": 124,
     "metadata": {},
     "output_type": "execute_result"
    },
    {
     "name": "stdout",
     "output_type": "stream",
     "text": [
      "Best hyperparameters:\n",
      "{'subsample': 1.0, 'min_child_weight': 1, 'max_depth': 8, 'gamma': 2, 'colsample_bytree': 0.8}\n"
     ]
    },
    {
     "data": {
      "text/plain": [
       "['xgb_gridsearchNLPUSE.pkl']"
      ]
     },
     "execution_count": 124,
     "metadata": {},
     "output_type": "execute_result"
    }
   ],
   "source": [
    "# XGBOOST\n",
    "\n",
    "import xgboost as xgb\n",
    "\n",
    "\n",
    "params = {\n",
    "        'min_child_weight': [1, 5, 10],\n",
    "        'gamma': [0.5, 1, 1.5, 2, 5],\n",
    "        'subsample': [0.6, 0.8, 1.0],\n",
    "        'colsample_bytree': [0.6, 0.8, 1.0],\n",
    "        'max_depth': [5, 6, 7, 8],\n",
    "        }\n",
    "\n",
    "xgb_clf = xgb.XGBClassifier(learning_rate=0.3, n_estimators=600, objective='binary:logistic',\n",
    "                            nthread=1, use_label_encoder=False, eval_metric='logloss')\n",
    "\n",
    "\n",
    "\n",
    "folds = 3\n",
    "param_comb = 5\n",
    "\n",
    "skf = StratifiedKFold(n_splits=folds, shuffle=True, random_state = 25)\n",
    "\n",
    "search = RandomizedSearchCV(xgb_clf, param_distributions=params, n_iter=param_comb, scoring='roc_auc', n_jobs=4, cv=skf.split(x_train, y_train), random_state=25)\n",
    "\n",
    "search.fit(xtrain_tfidf_ngram, y_train)\n",
    "\n",
    "print('Best hyperparameters:')\n",
    "print(search.best_params_)\n",
    "\n",
    "joblib.dump(xgb_clf, 'xgb_gridsearchNLPUSE.pkl')"
   ]
  },
  {
   "cell_type": "code",
   "execution_count": null,
   "metadata": {},
   "outputs": [],
   "source": [
    "from sklearn.model_selection import RandomizedSearchCV, GridSearchCV\n",
    "from sklearn.metrics import roc_auc_score\n",
    "from sklearn.model_selection import StratifiedKFold\n",
    "\n",
    "params = {\n",
    "        'min_child_weight': 1,\n",
    "        'gamma': 2,\n",
    "        'subsample': 1, #prevents overfitting\n",
    "        'colsample_bytree': 0.8,\n",
    "        'max_depth': 8,\n",
    "        }\n",
    "\n",
    "xgb_clf = xgb.XGBClassifier(learning_rate=0.3, n_estimators=600, objective='binary:logistic',\n",
    "                            \n",
    "                            nthread=1, use_label_encoder=False, eval_metric=[\"error\", \"logloss\"])\n",
    "\n",
    "xgb_clf.fit(xtrain_tfidf_ngram, y_train,eval_set = [(xtrain_tfidf_ngram, y_train), (xvalid_tfidf_ngram, y_cv)])\n",
    "# print('Best hyperparameters:')\n",
    "# print(search.best_params_)"
   ]
  },
  {
   "cell_type": "code",
   "execution_count": null,
   "metadata": {},
   "outputs": [],
   "source": [
    "\n",
    "# # print('Confusion matrix: \\n', cm)\n",
    "# print('TP: ', conf_mat_svm[1,1])\n",
    "# print('TN: ', conf_mat_svm[0,0])\n",
    "# print('FP: ', conf_mat_svm[0,1])\n",
    "# print('FN: ', conf_mat_svm[1,0])\n",
    "\n",
    "# print('Classification report: \\n', metrics.classification_report(y_test, model))\n",
    "xgb_predictions = xgb_clf.predict(xvalid_tfidf_ngram)\n",
    "xgb_predictions = np.round(xgb_predictions)\n",
    "print('Accuracy_Score:',metrics.accuracy_score(y_cv, xgb_predictions)*100,'%')\n",
    "\n",
    "\n",
    "print('precision_score:',metrics.precision_score(y_cv, xgb_predictions)*100,'%')\n",
    "\n",
    "print('recall_score:',metrics.recall_score(y_cv, xgb_predictions)*100,'%')"
   ]
  },
  {
   "cell_type": "code",
   "execution_count": null,
   "metadata": {},
   "outputs": [],
   "source": [
    "\n",
    "print('XGBoost Test Set')\n",
    "print('Accuracy: %.2f' % ((xgb_predictions == y_cv['label']).mean()*100))\n",
    "\n",
    "print('Training Accuracy_Score:',metrics.accuracy_score(y_train, xgb_clf.predict(xtrain_tfidf_ngram))*100,'%')\n",
    "print('Training Recall:',metrics.recall_score(y_train, xgb_clf.predict(xtrain_tfidf_ngram))*100,'%')\n",
    "print('Training precision_score:',metrics.precision_score(y_train, xgb_clf.predict(xtrain_tfidf_ngram))*100,'%')\n",
    "print('Training F1 Score:',metrics.f1_score(y_train, xgb_clf.predict(xtrain_tfidf_ngram))*100,'%')"
   ]
  },
  {
   "cell_type": "code",
   "execution_count": null,
   "metadata": {
    "scrolled": true
   },
   "outputs": [],
   "source": [
    "fpr, tpr, threshold = metrics.roc_curve(y_cv, xgb_predictions)\n",
    "roc_auc = metrics.auc(fpr, tpr)\n",
    "fprTrain, tprTrain, thresholdTrain = metrics.roc_curve(y_train, xgb_clf.predict(xtrain_tfidf_ngram))\n",
    "roc_aucTrain = metrics.auc(fprTrain, tprTrain)\n",
    "\n",
    "# method I: plt\n",
    "import matplotlib.pyplot as plt\n",
    "plt.title('Receiver Operating Characteristic')\n",
    "plt.plot(fpr, tpr, 'b', label = 'Test AUC = %0.2f' % roc_auc,color=\"orange\")\n",
    "# plt.plot(fpr, tpr, 'b', label = 'AUC = %0.2f' % roc_auc)\n",
    "plt.plot(fprTrain, tprTrain, 'b', label = 'AUC Train = %0.2f' % roc_aucTrain)\n",
    "plt.legend(loc = 'lower right')\n",
    "plt.plot([0, 1], [0, 1],'r--')\n",
    "plt.xlim([0, 1])\n",
    "plt.ylim([0, 1])\n",
    "plt.ylabel('True Positive Rate')\n",
    "plt.xlabel('False Positive Rate')\n",
    "plt.show()\n",
    "\n",
    "# # method II: ggplot\n",
    "# from ggplot import *\n",
    "# df = pd.DataFrame(dict(fpr = fpr, tpr = tpr))\n",
    "# ggplot(df, aes(x = 'fpr', y = 'tpr')) + geom_line() + geom_abline(linetype = 'dashed')"
   ]
  },
  {
   "cell_type": "code",
   "execution_count": 149,
   "metadata": {},
   "outputs": [
    {
     "data": {
      "text/plain": [
       "RandomizedSearchCV(cv=<generator object _BaseKFold.split at 0x7f2748363518>,\n",
       "                   estimator=XGBClassifier(base_score=None, booster=None,\n",
       "                                           colsample_bylevel=None,\n",
       "                                           colsample_bynode=None,\n",
       "                                           colsample_bytree=None,\n",
       "                                           eval_metric='logloss', gamma=None,\n",
       "                                           gpu_id=None, importance_type='gain',\n",
       "                                           interaction_constraints=None,\n",
       "                                           learning_rate=0.3,\n",
       "                                           max_delta_step=None, max_depth=None,\n",
       "                                           min_chil...\n",
       "                                           scale_pos_weight=None,\n",
       "                                           subsample=None, tree_method=None,\n",
       "                                           use_label_encoder=False,\n",
       "                                           validate_parameters=None,\n",
       "                                           verbosity=None),\n",
       "                   n_iter=5, n_jobs=4,\n",
       "                   param_distributions={'colsample_bytree': [0.6, 0.8, 1.0],\n",
       "                                        'gamma': [0.5, 1, 1.5, 2, 5],\n",
       "                                        'max_depth': [5, 6, 7, 8],\n",
       "                                        'min_child_weight': [1, 5, 10],\n",
       "                                        'n_estimators': range(50, 400, 50),\n",
       "                                        'subsample': [0.6, 0.8, 1.0]},\n",
       "                   random_state=25, scoring='precision')"
      ]
     },
     "execution_count": 149,
     "metadata": {},
     "output_type": "execute_result"
    },
    {
     "name": "stdout",
     "output_type": "stream",
     "text": [
      "Best hyperparameters:\n",
      "{'subsample': 1.0, 'n_estimators': 50, 'min_child_weight': 1, 'max_depth': 5, 'gamma': 0.5, 'colsample_bytree': 1.0}\n"
     ]
    },
    {
     "data": {
      "text/plain": [
       "['xgb_gridsearchNLP_Precision_estimatorsUSE.pkl']"
      ]
     },
     "execution_count": 149,
     "metadata": {},
     "output_type": "execute_result"
    }
   ],
   "source": [
    "# XGBOOST\n",
    "\n",
    "import xgboost as xgb\n",
    "\n",
    "\n",
    "params = {\n",
    "        'min_child_weight': [1, 5, 10],\n",
    "        'gamma': [0.5, 1, 1.5, 2, 5],\n",
    "        'subsample': [0.6, 0.8, 1.0],\n",
    "        'colsample_bytree': [0.6, 0.8, 1.0],\n",
    "        'max_depth': [5, 6, 7, 8],\n",
    "    'n_estimators' : range(50, 400, 50)\n",
    "        }\n",
    "\n",
    "xgb_clf3 = xgb.XGBClassifier(learning_rate=0.3,  objective='binary:logistic',\n",
    "                            nthread=1, use_label_encoder=False, eval_metric='logloss')\n",
    "\n",
    "\n",
    "\n",
    "folds = 3\n",
    "param_comb = 5\n",
    "\n",
    "skf = StratifiedKFold(n_splits=folds, shuffle=True, random_state = 25)\n",
    "\n",
    "search2 = RandomizedSearchCV(xgb_clf3, param_distributions=params, n_iter=param_comb, scoring='precision', n_jobs=4, cv=skf.split(x_train, y_train), random_state=25)\n",
    "\n",
    "search2.fit(xtrain_tfidf_ngram, y_train)\n",
    "\n",
    "print('Best hyperparameters:')\n",
    "print(search2.best_params_)\n",
    "\n",
    "joblib.dump(xgb_clf3, 'xgb_gridsearchNLP_Precision_estimatorsUSE.pkl')"
   ]
  },
  {
   "cell_type": "code",
   "execution_count": 150,
   "metadata": {
    "collapsed": true
   },
   "outputs": [
    {
     "data": {
      "text/plain": [
       "<bound method XGBModel.get_params of XGBClassifier(base_score=None, booster=None, colsample_bylevel=None,\n",
       "              colsample_bynode=None, colsample_bytree=None,\n",
       "              eval_metric='logloss', gamma=None, gpu_id=None,\n",
       "              importance_type='gain', interaction_constraints=None,\n",
       "              learning_rate=0.3, max_delta_step=None, max_depth=None,\n",
       "              min_child_weight=None, missing=nan, monotone_constraints=None,\n",
       "              n_estimators=100, n_jobs=None, nthread=1, num_parallel_tree=None,\n",
       "              random_state=None, reg_alpha=None, reg_lambda=None,\n",
       "              scale_pos_weight=None, subsample=None, tree_method=None,\n",
       "              use_label_encoder=False, validate_parameters=None,\n",
       "              verbosity=None)>"
      ]
     },
     "execution_count": 150,
     "metadata": {},
     "output_type": "execute_result"
    }
   ],
   "source": [
    "xgb_clf3.get_params"
   ]
  },
  {
   "cell_type": "code",
   "execution_count": null,
   "metadata": {},
   "outputs": [],
   "source": [
    "https://stats.stackexchange.com/questions/443259/how-to-avoid-overfitting-in-xgboost-model"
   ]
  },
  {
   "cell_type": "code",
   "execution_count": 151,
   "metadata": {
    "collapsed": true
   },
   "outputs": [
    {
     "name": "stdout",
     "output_type": "stream",
     "text": [
      "[0]\tvalidation_0-error:0.27873\tvalidation_0-logloss:0.62048\tvalidation_1-error:0.36919\tvalidation_1-logloss:0.66525\n",
      "[1]\tvalidation_0-error:0.23553\tvalidation_0-logloss:0.56638\tvalidation_1-error:0.39609\tvalidation_1-logloss:0.65426\n",
      "[2]\tvalidation_0-error:0.21271\tvalidation_0-logloss:0.52615\tvalidation_1-error:0.36675\tvalidation_1-logloss:0.64223\n",
      "[3]\tvalidation_0-error:0.16463\tvalidation_0-logloss:0.47974\tvalidation_1-error:0.36430\tvalidation_1-logloss:0.62352\n",
      "[4]\tvalidation_0-error:0.13529\tvalidation_0-logloss:0.44232\tvalidation_1-error:0.34474\tvalidation_1-logloss:0.61242\n",
      "[5]\tvalidation_0-error:0.11328\tvalidation_0-logloss:0.40565\tvalidation_1-error:0.31296\tvalidation_1-logloss:0.59879\n",
      "[6]\tvalidation_0-error:0.09047\tvalidation_0-logloss:0.38075\tvalidation_1-error:0.30807\tvalidation_1-logloss:0.58948\n",
      "[7]\tvalidation_0-error:0.07090\tvalidation_0-logloss:0.35381\tvalidation_1-error:0.29340\tvalidation_1-logloss:0.58963\n",
      "[8]\tvalidation_0-error:0.05949\tvalidation_0-logloss:0.33465\tvalidation_1-error:0.32274\tvalidation_1-logloss:0.58803\n",
      "[9]\tvalidation_0-error:0.05053\tvalidation_0-logloss:0.30841\tvalidation_1-error:0.32518\tvalidation_1-logloss:0.58423\n",
      "[10]\tvalidation_0-error:0.04238\tvalidation_0-logloss:0.28912\tvalidation_1-error:0.32274\tvalidation_1-logloss:0.59048\n",
      "[11]\tvalidation_0-error:0.02852\tvalidation_0-logloss:0.26847\tvalidation_1-error:0.31785\tvalidation_1-logloss:0.59323\n",
      "[12]\tvalidation_0-error:0.02038\tvalidation_0-logloss:0.24899\tvalidation_1-error:0.31296\tvalidation_1-logloss:0.59323\n",
      "[13]\tvalidation_0-error:0.02119\tvalidation_0-logloss:0.23276\tvalidation_1-error:0.31540\tvalidation_1-logloss:0.58760\n",
      "[14]\tvalidation_0-error:0.01875\tvalidation_0-logloss:0.21658\tvalidation_1-error:0.31296\tvalidation_1-logloss:0.59413\n",
      "[15]\tvalidation_0-error:0.01385\tvalidation_0-logloss:0.20764\tvalidation_1-error:0.32029\tvalidation_1-logloss:0.59880\n",
      "[16]\tvalidation_0-error:0.01385\tvalidation_0-logloss:0.20009\tvalidation_1-error:0.31785\tvalidation_1-logloss:0.59711\n",
      "[17]\tvalidation_0-error:0.01304\tvalidation_0-logloss:0.19178\tvalidation_1-error:0.33252\tvalidation_1-logloss:0.60174\n",
      "[18]\tvalidation_0-error:0.00897\tvalidation_0-logloss:0.17597\tvalidation_1-error:0.32518\tvalidation_1-logloss:0.60413\n",
      "[19]\tvalidation_0-error:0.00897\tvalidation_0-logloss:0.16858\tvalidation_1-error:0.32029\tvalidation_1-logloss:0.61112\n",
      "[20]\tvalidation_0-error:0.00734\tvalidation_0-logloss:0.16215\tvalidation_1-error:0.32274\tvalidation_1-logloss:0.61240\n",
      "[21]\tvalidation_0-error:0.00407\tvalidation_0-logloss:0.14888\tvalidation_1-error:0.32029\tvalidation_1-logloss:0.61943\n",
      "[22]\tvalidation_0-error:0.00407\tvalidation_0-logloss:0.13882\tvalidation_1-error:0.31540\tvalidation_1-logloss:0.61864\n",
      "[23]\tvalidation_0-error:0.00407\tvalidation_0-logloss:0.13594\tvalidation_1-error:0.31785\tvalidation_1-logloss:0.61689\n",
      "[24]\tvalidation_0-error:0.00407\tvalidation_0-logloss:0.12962\tvalidation_1-error:0.32029\tvalidation_1-logloss:0.61974\n",
      "[25]\tvalidation_0-error:0.00326\tvalidation_0-logloss:0.12498\tvalidation_1-error:0.31785\tvalidation_1-logloss:0.62084\n",
      "[26]\tvalidation_0-error:0.00245\tvalidation_0-logloss:0.11496\tvalidation_1-error:0.31051\tvalidation_1-logloss:0.62059\n",
      "[27]\tvalidation_0-error:0.00245\tvalidation_0-logloss:0.11056\tvalidation_1-error:0.31540\tvalidation_1-logloss:0.62107\n",
      "[28]\tvalidation_0-error:0.00245\tvalidation_0-logloss:0.10447\tvalidation_1-error:0.31051\tvalidation_1-logloss:0.62229\n",
      "[29]\tvalidation_0-error:0.00245\tvalidation_0-logloss:0.10158\tvalidation_1-error:0.31051\tvalidation_1-logloss:0.62303\n",
      "[30]\tvalidation_0-error:0.00245\tvalidation_0-logloss:0.09685\tvalidation_1-error:0.30562\tvalidation_1-logloss:0.62550\n",
      "[31]\tvalidation_0-error:0.00245\tvalidation_0-logloss:0.09502\tvalidation_1-error:0.31051\tvalidation_1-logloss:0.63006\n",
      "[32]\tvalidation_0-error:0.00245\tvalidation_0-logloss:0.08953\tvalidation_1-error:0.30562\tvalidation_1-logloss:0.62906\n",
      "[33]\tvalidation_0-error:0.00163\tvalidation_0-logloss:0.08506\tvalidation_1-error:0.31296\tvalidation_1-logloss:0.62003\n",
      "[34]\tvalidation_0-error:0.00163\tvalidation_0-logloss:0.08157\tvalidation_1-error:0.31540\tvalidation_1-logloss:0.62126\n",
      "[35]\tvalidation_0-error:0.00163\tvalidation_0-logloss:0.07794\tvalidation_1-error:0.30807\tvalidation_1-logloss:0.62408\n",
      "[36]\tvalidation_0-error:0.00163\tvalidation_0-logloss:0.07448\tvalidation_1-error:0.30807\tvalidation_1-logloss:0.63345\n",
      "[37]\tvalidation_0-error:0.00163\tvalidation_0-logloss:0.07276\tvalidation_1-error:0.30807\tvalidation_1-logloss:0.63446\n",
      "[38]\tvalidation_0-error:0.00163\tvalidation_0-logloss:0.07132\tvalidation_1-error:0.31051\tvalidation_1-logloss:0.63303\n",
      "[39]\tvalidation_0-error:0.00163\tvalidation_0-logloss:0.06891\tvalidation_1-error:0.30807\tvalidation_1-logloss:0.63795\n",
      "[40]\tvalidation_0-error:0.00163\tvalidation_0-logloss:0.06475\tvalidation_1-error:0.30318\tvalidation_1-logloss:0.64028\n",
      "[41]\tvalidation_0-error:0.00163\tvalidation_0-logloss:0.06202\tvalidation_1-error:0.30807\tvalidation_1-logloss:0.64027\n",
      "[42]\tvalidation_0-error:0.00163\tvalidation_0-logloss:0.05904\tvalidation_1-error:0.30807\tvalidation_1-logloss:0.64427\n",
      "[43]\tvalidation_0-error:0.00163\tvalidation_0-logloss:0.05664\tvalidation_1-error:0.31051\tvalidation_1-logloss:0.64489\n",
      "[44]\tvalidation_0-error:0.00163\tvalidation_0-logloss:0.05496\tvalidation_1-error:0.31540\tvalidation_1-logloss:0.65152\n",
      "[45]\tvalidation_0-error:0.00163\tvalidation_0-logloss:0.05247\tvalidation_1-error:0.32029\tvalidation_1-logloss:0.65645\n",
      "[46]\tvalidation_0-error:0.00163\tvalidation_0-logloss:0.05146\tvalidation_1-error:0.32274\tvalidation_1-logloss:0.65957\n",
      "[47]\tvalidation_0-error:0.00163\tvalidation_0-logloss:0.04925\tvalidation_1-error:0.32518\tvalidation_1-logloss:0.65921\n",
      "[48]\tvalidation_0-error:0.00163\tvalidation_0-logloss:0.04753\tvalidation_1-error:0.31785\tvalidation_1-logloss:0.65907\n",
      "[49]\tvalidation_0-error:0.00163\tvalidation_0-logloss:0.04649\tvalidation_1-error:0.31540\tvalidation_1-logloss:0.66294\n"
     ]
    },
    {
     "data": {
      "text/plain": [
       "XGBClassifier(base_score=0.5, booster='gbtree', colsample_bylevel=1,\n",
       "              colsample_bynode=1, colsample_bytree=1.0,\n",
       "              eval_metric=['error', 'logloss'], gamma=0.5, gpu_id=-1,\n",
       "              importance_type='gain', interaction_constraints='',\n",
       "              learning_rate=0.3, max_delta_step=0, max_depth=5,\n",
       "              min_child_weight=1, missing=nan, monotone_constraints='()',\n",
       "              n_estimators=50, n_jobs=1, nthread=1, num_parallel_tree=1,\n",
       "              random_state=0, reg_alpha=0, reg_lambda=1, scale_pos_weight=1,\n",
       "              subsample=1.0, tree_method='exact', use_label_encoder=False,\n",
       "              validate_parameters=1, verbosity=None)"
      ]
     },
     "execution_count": 151,
     "metadata": {},
     "output_type": "execute_result"
    }
   ],
   "source": [
    "# params={'subsample'= 1.0, 'n_estimators'= 50, 'min_child_weight'= 1, 'max_depth'= 5, 'gamma'= 0.5, 'colsample_bytree'= 1.0}\n",
    "\n",
    "xgb_clf4 = xgb.XGBClassifier(learning_rate=0.3, \n",
    "                             subsample= 1.0, n_estimators= 50, min_child_weight= 1, max_depth= 5, gamma= 0.5, colsample_bytree= 1.0,\n",
    "                            \n",
    "                            nthread=1, use_label_encoder=False, eval_metric=[\"error\", \"logloss\"])\n",
    "\n",
    "xgb_clf4.fit(xtrain_tfidf_ngram, y_train,eval_set = [(xtrain_tfidf_ngram, y_train), (xvalid_tfidf_ngram, y_cv)])\n"
   ]
  },
  {
   "cell_type": "code",
   "execution_count": 152,
   "metadata": {},
   "outputs": [
    {
     "name": "stdout",
     "output_type": "stream",
     "text": [
      "Accuracy_Score: 68.45965770171149 %\n",
      "precision_score: 56.88073394495413 %\n",
      "recall_score: 43.05555555555556 %\n",
      "XGBoost Test Set\n",
      "Accuracy: 68.46\n",
      "Training Accuracy_Score: 99.83700081499592 %\n",
      "Training Recall: 99.56896551724138 %\n",
      "Training precision_score: 100.0 %\n",
      "Training F1 Score: 99.78401727861772 %\n"
     ]
    }
   ],
   "source": [
    "\n",
    "# # print('Confusion matrix: \\n', cm)\n",
    "# print('TP: ', conf_mat_svm[1,1])\n",
    "# print('TN: ', conf_mat_svm[0,0])\n",
    "# print('FP: ', conf_mat_svm[0,1])\n",
    "# print('FN: ', conf_mat_svm[1,0])\n",
    "\n",
    "# print('Classification report: \\n', metrics.classification_report(y_test, model))\n",
    "xgb_predictions4 = xgb_clf4.predict(xvalid_tfidf_ngram)\n",
    "xgb_predictions4 = np.round(xgb_predictions4)\n",
    "print('Accuracy_Score:',metrics.accuracy_score(y_cv, xgb_predictions4)*100,'%')\n",
    "\n",
    "\n",
    "print('precision_score:',metrics.precision_score(y_cv, xgb_predictions4)*100,'%')\n",
    "\n",
    "print('recall_score:',metrics.recall_score(y_cv, xgb_predictions4)*100,'%')\n",
    "\n",
    "xgb_predictions4 = xgb_clf4.predict(xvalid_tfidf_ngram)\n",
    "xgb_predictions4 = np.round(xgb_predictions4)\n",
    "print('XGBoost Test Set')\n",
    "print('Accuracy: %.2f' % ((xgb_predictions4 == y_cv['label']).mean()*100))\n",
    "\n",
    "print('Training Accuracy_Score:',metrics.accuracy_score(y_train, xgb_clf4.predict(xtrain_tfidf_ngram))*100,'%')\n",
    "print('Training Recall:',metrics.recall_score(y_train, xgb_clf4.predict(xtrain_tfidf_ngram))*100,'%')\n",
    "print('Training precision_score:',metrics.precision_score(y_train, xgb_clf4.predict(xtrain_tfidf_ngram))*100,'%')\n",
    "print('Training F1 Score:',metrics.f1_score(y_train, xgb_clf4.predict(xtrain_tfidf_ngram))*100,'%')"
   ]
  },
  {
   "cell_type": "markdown",
   "metadata": {},
   "source": [
    "The max_depth of the weak learners is 5 whereas the max_depth we used in decision tree is 8. Reducing the max_depth of the weak learner should be decreased further to avoid overfitting"
   ]
  },
  {
   "cell_type": "code",
   "execution_count": 153,
   "metadata": {
    "scrolled": true
   },
   "outputs": [
    {
     "name": "stdout",
     "output_type": "stream",
     "text": [
      "[0]\tvalidation_0-error:0.33089\tvalidation_0-logloss:0.64789\tvalidation_1-error:0.36919\tvalidation_1-logloss:0.66466\n",
      "[1]\tvalidation_0-error:0.32274\tvalidation_0-logloss:0.61836\tvalidation_1-error:0.40342\tvalidation_1-logloss:0.65098\n",
      "[2]\tvalidation_0-error:0.29014\tvalidation_0-logloss:0.59148\tvalidation_1-error:0.37408\tvalidation_1-logloss:0.63867\n",
      "[3]\tvalidation_0-error:0.28036\tvalidation_0-logloss:0.56973\tvalidation_1-error:0.36186\tvalidation_1-logloss:0.63071\n",
      "[4]\tvalidation_0-error:0.25672\tvalidation_0-logloss:0.55012\tvalidation_1-error:0.35941\tvalidation_1-logloss:0.63090\n",
      "[5]\tvalidation_0-error:0.24450\tvalidation_0-logloss:0.53856\tvalidation_1-error:0.36186\tvalidation_1-logloss:0.62918\n",
      "[6]\tvalidation_0-error:0.23472\tvalidation_0-logloss:0.52289\tvalidation_1-error:0.34230\tvalidation_1-logloss:0.62644\n",
      "[7]\tvalidation_0-error:0.22005\tvalidation_0-logloss:0.50568\tvalidation_1-error:0.33007\tvalidation_1-logloss:0.62311\n",
      "[8]\tvalidation_0-error:0.19804\tvalidation_0-logloss:0.48980\tvalidation_1-error:0.33741\tvalidation_1-logloss:0.61998\n",
      "[9]\tvalidation_0-error:0.19071\tvalidation_0-logloss:0.47769\tvalidation_1-error:0.33985\tvalidation_1-logloss:0.61981\n",
      "[10]\tvalidation_0-error:0.18174\tvalidation_0-logloss:0.46620\tvalidation_1-error:0.35941\tvalidation_1-logloss:0.61756\n",
      "[11]\tvalidation_0-error:0.18093\tvalidation_0-logloss:0.45434\tvalidation_1-error:0.34474\tvalidation_1-logloss:0.61474\n",
      "[12]\tvalidation_0-error:0.16952\tvalidation_0-logloss:0.44592\tvalidation_1-error:0.34963\tvalidation_1-logloss:0.61386\n",
      "[13]\tvalidation_0-error:0.15485\tvalidation_0-logloss:0.43518\tvalidation_1-error:0.34963\tvalidation_1-logloss:0.61708\n",
      "[14]\tvalidation_0-error:0.14099\tvalidation_0-logloss:0.42253\tvalidation_1-error:0.35208\tvalidation_1-logloss:0.61609\n",
      "[15]\tvalidation_0-error:0.13529\tvalidation_0-logloss:0.41232\tvalidation_1-error:0.35452\tvalidation_1-logloss:0.61529\n",
      "[16]\tvalidation_0-error:0.13203\tvalidation_0-logloss:0.40097\tvalidation_1-error:0.35208\tvalidation_1-logloss:0.61589\n",
      "[17]\tvalidation_0-error:0.12388\tvalidation_0-logloss:0.39159\tvalidation_1-error:0.34474\tvalidation_1-logloss:0.61710\n",
      "[18]\tvalidation_0-error:0.11817\tvalidation_0-logloss:0.38657\tvalidation_1-error:0.35208\tvalidation_1-logloss:0.61784\n",
      "[19]\tvalidation_0-error:0.11736\tvalidation_0-logloss:0.38026\tvalidation_1-error:0.34963\tvalidation_1-logloss:0.61576\n",
      "[20]\tvalidation_0-error:0.11247\tvalidation_0-logloss:0.37100\tvalidation_1-error:0.36186\tvalidation_1-logloss:0.61876\n",
      "[21]\tvalidation_0-error:0.10187\tvalidation_0-logloss:0.36135\tvalidation_1-error:0.34719\tvalidation_1-logloss:0.61863\n",
      "[22]\tvalidation_0-error:0.09535\tvalidation_0-logloss:0.35186\tvalidation_1-error:0.33741\tvalidation_1-logloss:0.61820\n",
      "[23]\tvalidation_0-error:0.08965\tvalidation_0-logloss:0.34327\tvalidation_1-error:0.35208\tvalidation_1-logloss:0.62007\n",
      "[24]\tvalidation_0-error:0.08721\tvalidation_0-logloss:0.33472\tvalidation_1-error:0.34963\tvalidation_1-logloss:0.62116\n",
      "[25]\tvalidation_0-error:0.07824\tvalidation_0-logloss:0.32755\tvalidation_1-error:0.34719\tvalidation_1-logloss:0.62200\n",
      "[26]\tvalidation_0-error:0.07009\tvalidation_0-logloss:0.32078\tvalidation_1-error:0.34474\tvalidation_1-logloss:0.61992\n",
      "[27]\tvalidation_0-error:0.06846\tvalidation_0-logloss:0.31564\tvalidation_1-error:0.35208\tvalidation_1-logloss:0.61931\n",
      "[28]\tvalidation_0-error:0.06194\tvalidation_0-logloss:0.30729\tvalidation_1-error:0.35941\tvalidation_1-logloss:0.62068\n",
      "[29]\tvalidation_0-error:0.06031\tvalidation_0-logloss:0.30352\tvalidation_1-error:0.35452\tvalidation_1-logloss:0.61887\n",
      "[30]\tvalidation_0-error:0.05705\tvalidation_0-logloss:0.29896\tvalidation_1-error:0.35697\tvalidation_1-logloss:0.62362\n",
      "[31]\tvalidation_0-error:0.05461\tvalidation_0-logloss:0.29403\tvalidation_1-error:0.35697\tvalidation_1-logloss:0.61964\n",
      "[32]\tvalidation_0-error:0.05216\tvalidation_0-logloss:0.29025\tvalidation_1-error:0.34474\tvalidation_1-logloss:0.61938\n",
      "[33]\tvalidation_0-error:0.05053\tvalidation_0-logloss:0.28310\tvalidation_1-error:0.31540\tvalidation_1-logloss:0.61449\n",
      "[34]\tvalidation_0-error:0.04564\tvalidation_0-logloss:0.27537\tvalidation_1-error:0.33496\tvalidation_1-logloss:0.61675\n",
      "[35]\tvalidation_0-error:0.04401\tvalidation_0-logloss:0.26878\tvalidation_1-error:0.33985\tvalidation_1-logloss:0.61835\n",
      "[36]\tvalidation_0-error:0.04238\tvalidation_0-logloss:0.26676\tvalidation_1-error:0.33496\tvalidation_1-logloss:0.61801\n",
      "[37]\tvalidation_0-error:0.03830\tvalidation_0-logloss:0.26045\tvalidation_1-error:0.33496\tvalidation_1-logloss:0.61482\n",
      "[38]\tvalidation_0-error:0.03667\tvalidation_0-logloss:0.25468\tvalidation_1-error:0.32763\tvalidation_1-logloss:0.61486\n",
      "[39]\tvalidation_0-error:0.03342\tvalidation_0-logloss:0.24958\tvalidation_1-error:0.32763\tvalidation_1-logloss:0.61653\n",
      "[40]\tvalidation_0-error:0.02852\tvalidation_0-logloss:0.24491\tvalidation_1-error:0.32518\tvalidation_1-logloss:0.61692\n",
      "[41]\tvalidation_0-error:0.02363\tvalidation_0-logloss:0.23866\tvalidation_1-error:0.33741\tvalidation_1-logloss:0.62264\n",
      "[42]\tvalidation_0-error:0.02282\tvalidation_0-logloss:0.23638\tvalidation_1-error:0.33496\tvalidation_1-logloss:0.62351\n",
      "[43]\tvalidation_0-error:0.02201\tvalidation_0-logloss:0.23332\tvalidation_1-error:0.33252\tvalidation_1-logloss:0.62176\n",
      "[44]\tvalidation_0-error:0.01956\tvalidation_0-logloss:0.22717\tvalidation_1-error:0.34230\tvalidation_1-logloss:0.61910\n",
      "[45]\tvalidation_0-error:0.01956\tvalidation_0-logloss:0.22223\tvalidation_1-error:0.33741\tvalidation_1-logloss:0.62424\n",
      "[46]\tvalidation_0-error:0.01630\tvalidation_0-logloss:0.21708\tvalidation_1-error:0.33496\tvalidation_1-logloss:0.62074\n",
      "[47]\tvalidation_0-error:0.01630\tvalidation_0-logloss:0.21227\tvalidation_1-error:0.34230\tvalidation_1-logloss:0.62439\n",
      "[48]\tvalidation_0-error:0.01549\tvalidation_0-logloss:0.20967\tvalidation_1-error:0.33985\tvalidation_1-logloss:0.62591\n",
      "[49]\tvalidation_0-error:0.01630\tvalidation_0-logloss:0.20476\tvalidation_1-error:0.35697\tvalidation_1-logloss:0.62998\n"
     ]
    },
    {
     "data": {
      "text/plain": [
       "XGBClassifier(base_score=0.5, booster='gbtree', colsample_bylevel=1,\n",
       "              colsample_bynode=1, colsample_bytree=1.0,\n",
       "              eval_metric=['error', 'logloss'], gamma=0.5, gpu_id=-1,\n",
       "              importance_type='gain', interaction_constraints='',\n",
       "              learning_rate=0.3, max_delta_step=0, max_depth=3,\n",
       "              min_child_weight=1, missing=nan, monotone_constraints='()',\n",
       "              n_estimators=50, n_jobs=1, nthread=1, num_parallel_tree=1,\n",
       "              random_state=0, reg_alpha=0, reg_lambda=1, scale_pos_weight=1,\n",
       "              subsample=1.0, tree_method='exact', use_label_encoder=False,\n",
       "              validate_parameters=1, verbosity=None)"
      ]
     },
     "execution_count": 153,
     "metadata": {},
     "output_type": "execute_result"
    },
    {
     "name": "stdout",
     "output_type": "stream",
     "text": [
      "Accuracy_Score: 64.30317848410758 %\n",
      "precision_score: 49.09090909090909 %\n",
      "recall_score: 37.5 %\n",
      "XGBoost Test Set\n",
      "Accuracy: 64.30\n",
      "Training Accuracy_Score: 98.37000814995925 %\n",
      "Training Recall: 97.19827586206897 %\n",
      "Training precision_score: 98.47161572052401 %\n",
      "Training F1 Score: 97.83080260303689 %\n"
     ]
    }
   ],
   "source": [
    "# params={'subsample'= 1.0, 'n_estimators'= 50, 'min_child_weight'= 1, 'max_depth'= 5, 'gamma'= 0.5, 'colsample_bytree'= 1.0}\n",
    "\n",
    "xgb_clf5 = xgb.XGBClassifier(learning_rate=0.3, \n",
    "                             subsample= 1.0, n_estimators= 50, min_child_weight= 1, max_depth= 3, \n",
    "                             gamma= 0.5, colsample_bytree= 1.0,\n",
    "                            \n",
    "                            nthread=1, use_label_encoder=False, eval_metric=[\"error\", \"logloss\"])\n",
    "\n",
    "xgb_clf5.fit(xtrain_tfidf_ngram, y_train,eval_set = [(xtrain_tfidf_ngram, y_train), (xvalid_tfidf_ngram, y_cv)])\n",
    "\n",
    "\n",
    "\n",
    "# # print('Confusion matrix: \\n', cm)\n",
    "# print('TP: ', conf_mat_svm[1,1])\n",
    "# print('TN: ', conf_mat_svm[0,0])\n",
    "# print('FP: ', conf_mat_svm[0,1])\n",
    "# print('FN: ', conf_mat_svm[1,0])\n",
    "\n",
    "# print('Classification report: \\n', metrics.classification_report(y_test, model))\n",
    "xgb_predictions5 = xgb_clf5.predict(xvalid_tfidf_ngram)\n",
    "xgb_predictions5 = np.round(xgb_predictions5)\n",
    "print('Accuracy_Score:',metrics.accuracy_score(y_cv, xgb_predictions5)*100,'%')\n",
    "\n",
    "\n",
    "print('precision_score:',metrics.precision_score(y_cv, xgb_predictions5)*100,'%')\n",
    "\n",
    "print('recall_score:',metrics.recall_score(y_cv, xgb_predictions5)*100,'%')\n",
    "\n",
    "xgb_predictions5 = xgb_clf5.predict(xvalid_tfidf_ngram)\n",
    "xgb_predictions5 = np.round(xgb_predictions5)\n",
    "print('XGBoost Test Set')\n",
    "print('Accuracy: %.2f' % ((xgb_predictions5 == y_cv['label']).mean()*100))\n",
    "\n",
    "print('Training Accuracy_Score:',metrics.accuracy_score(y_train, xgb_clf5.predict(xtrain_tfidf_ngram))*100,'%')\n",
    "print('Training Recall:',metrics.recall_score(y_train, xgb_clf5.predict(xtrain_tfidf_ngram))*100,'%')\n",
    "print('Training precision_score:',metrics.precision_score(y_train, xgb_clf5.predict(xtrain_tfidf_ngram))*100,'%')\n",
    "print('Training F1 Score:',metrics.f1_score(y_train, xgb_clf5.predict(xtrain_tfidf_ngram))*100,'%')"
   ]
  },
  {
   "cell_type": "code",
   "execution_count": 154,
   "metadata": {},
   "outputs": [
    {
     "name": "stdout",
     "output_type": "stream",
     "text": [
      "[0]\tvalidation_0-error:0.35371\tvalidation_0-logloss:0.65355\tvalidation_1-error:0.34719\tvalidation_1-logloss:0.66612\n",
      "[1]\tvalidation_0-error:0.31296\tvalidation_0-logloss:0.62087\tvalidation_1-error:0.37408\tvalidation_1-logloss:0.65527\n",
      "[2]\tvalidation_0-error:0.29910\tvalidation_0-logloss:0.60096\tvalidation_1-error:0.38631\tvalidation_1-logloss:0.64716\n",
      "[3]\tvalidation_0-error:0.28117\tvalidation_0-logloss:0.57740\tvalidation_1-error:0.36675\tvalidation_1-logloss:0.64229\n",
      "[4]\tvalidation_0-error:0.27139\tvalidation_0-logloss:0.55783\tvalidation_1-error:0.33985\tvalidation_1-logloss:0.63354\n",
      "[5]\tvalidation_0-error:0.24287\tvalidation_0-logloss:0.53936\tvalidation_1-error:0.37164\tvalidation_1-logloss:0.63133\n",
      "[6]\tvalidation_0-error:0.23146\tvalidation_0-logloss:0.52403\tvalidation_1-error:0.34719\tvalidation_1-logloss:0.62808\n",
      "[7]\tvalidation_0-error:0.22331\tvalidation_0-logloss:0.50933\tvalidation_1-error:0.34474\tvalidation_1-logloss:0.62934\n",
      "[8]\tvalidation_0-error:0.21353\tvalidation_0-logloss:0.49498\tvalidation_1-error:0.33007\tvalidation_1-logloss:0.62072\n",
      "[9]\tvalidation_0-error:0.21190\tvalidation_0-logloss:0.48109\tvalidation_1-error:0.32763\tvalidation_1-logloss:0.62120\n",
      "[10]\tvalidation_0-error:0.19723\tvalidation_0-logloss:0.46926\tvalidation_1-error:0.34230\tvalidation_1-logloss:0.61862\n",
      "[11]\tvalidation_0-error:0.18500\tvalidation_0-logloss:0.45628\tvalidation_1-error:0.33741\tvalidation_1-logloss:0.62183\n",
      "[12]\tvalidation_0-error:0.17278\tvalidation_0-logloss:0.44495\tvalidation_1-error:0.33985\tvalidation_1-logloss:0.61601\n",
      "[13]\tvalidation_0-error:0.16952\tvalidation_0-logloss:0.43246\tvalidation_1-error:0.34474\tvalidation_1-logloss:0.61193\n",
      "[14]\tvalidation_0-error:0.16137\tvalidation_0-logloss:0.42466\tvalidation_1-error:0.35697\tvalidation_1-logloss:0.61066\n",
      "[15]\tvalidation_0-error:0.15811\tvalidation_0-logloss:0.41669\tvalidation_1-error:0.35941\tvalidation_1-logloss:0.61285\n",
      "[16]\tvalidation_0-error:0.14425\tvalidation_0-logloss:0.40875\tvalidation_1-error:0.35697\tvalidation_1-logloss:0.61324\n",
      "[17]\tvalidation_0-error:0.14018\tvalidation_0-logloss:0.39694\tvalidation_1-error:0.33741\tvalidation_1-logloss:0.61118\n",
      "[18]\tvalidation_0-error:0.13529\tvalidation_0-logloss:0.38776\tvalidation_1-error:0.34963\tvalidation_1-logloss:0.60910\n",
      "[19]\tvalidation_0-error:0.13366\tvalidation_0-logloss:0.37901\tvalidation_1-error:0.35208\tvalidation_1-logloss:0.61221\n",
      "[20]\tvalidation_0-error:0.12714\tvalidation_0-logloss:0.37176\tvalidation_1-error:0.34963\tvalidation_1-logloss:0.61208\n",
      "[21]\tvalidation_0-error:0.11328\tvalidation_0-logloss:0.36093\tvalidation_1-error:0.32029\tvalidation_1-logloss:0.60683\n",
      "[22]\tvalidation_0-error:0.11328\tvalidation_0-logloss:0.35317\tvalidation_1-error:0.32274\tvalidation_1-logloss:0.61162\n",
      "[23]\tvalidation_0-error:0.10676\tvalidation_0-logloss:0.34594\tvalidation_1-error:0.34230\tvalidation_1-logloss:0.61812\n",
      "[24]\tvalidation_0-error:0.09535\tvalidation_0-logloss:0.33809\tvalidation_1-error:0.33741\tvalidation_1-logloss:0.62134\n",
      "[25]\tvalidation_0-error:0.08802\tvalidation_0-logloss:0.32913\tvalidation_1-error:0.32518\tvalidation_1-logloss:0.61803\n",
      "[26]\tvalidation_0-error:0.08069\tvalidation_0-logloss:0.32112\tvalidation_1-error:0.33252\tvalidation_1-logloss:0.62148\n",
      "[27]\tvalidation_0-error:0.07906\tvalidation_0-logloss:0.31637\tvalidation_1-error:0.34230\tvalidation_1-logloss:0.61748\n",
      "[28]\tvalidation_0-error:0.07416\tvalidation_0-logloss:0.30931\tvalidation_1-error:0.33741\tvalidation_1-logloss:0.61478\n",
      "[29]\tvalidation_0-error:0.07254\tvalidation_0-logloss:0.29960\tvalidation_1-error:0.34230\tvalidation_1-logloss:0.61073\n",
      "[30]\tvalidation_0-error:0.06764\tvalidation_0-logloss:0.29570\tvalidation_1-error:0.33985\tvalidation_1-logloss:0.61545\n",
      "[31]\tvalidation_0-error:0.06194\tvalidation_0-logloss:0.28751\tvalidation_1-error:0.34230\tvalidation_1-logloss:0.61279\n",
      "[32]\tvalidation_0-error:0.05949\tvalidation_0-logloss:0.28159\tvalidation_1-error:0.33252\tvalidation_1-logloss:0.61438\n",
      "[33]\tvalidation_0-error:0.05786\tvalidation_0-logloss:0.27492\tvalidation_1-error:0.32274\tvalidation_1-logloss:0.61088\n",
      "[34]\tvalidation_0-error:0.05624\tvalidation_0-logloss:0.26894\tvalidation_1-error:0.31540\tvalidation_1-logloss:0.60882\n",
      "[35]\tvalidation_0-error:0.04809\tvalidation_0-logloss:0.26336\tvalidation_1-error:0.32029\tvalidation_1-logloss:0.60985\n",
      "[36]\tvalidation_0-error:0.03912\tvalidation_0-logloss:0.25696\tvalidation_1-error:0.32029\tvalidation_1-logloss:0.61291\n",
      "[37]\tvalidation_0-error:0.03749\tvalidation_0-logloss:0.25171\tvalidation_1-error:0.31296\tvalidation_1-logloss:0.60891\n",
      "[38]\tvalidation_0-error:0.03504\tvalidation_0-logloss:0.24490\tvalidation_1-error:0.32029\tvalidation_1-logloss:0.60856\n",
      "[39]\tvalidation_0-error:0.03260\tvalidation_0-logloss:0.23825\tvalidation_1-error:0.32029\tvalidation_1-logloss:0.60841\n",
      "[40]\tvalidation_0-error:0.03097\tvalidation_0-logloss:0.23340\tvalidation_1-error:0.32518\tvalidation_1-logloss:0.61918\n",
      "[41]\tvalidation_0-error:0.03423\tvalidation_0-logloss:0.22824\tvalidation_1-error:0.32029\tvalidation_1-logloss:0.62000\n",
      "[42]\tvalidation_0-error:0.02771\tvalidation_0-logloss:0.22352\tvalidation_1-error:0.32763\tvalidation_1-logloss:0.62361\n",
      "[43]\tvalidation_0-error:0.02363\tvalidation_0-logloss:0.21951\tvalidation_1-error:0.32518\tvalidation_1-logloss:0.62465\n",
      "[44]\tvalidation_0-error:0.02282\tvalidation_0-logloss:0.21558\tvalidation_1-error:0.32518\tvalidation_1-logloss:0.62551\n",
      "[45]\tvalidation_0-error:0.02119\tvalidation_0-logloss:0.21167\tvalidation_1-error:0.31051\tvalidation_1-logloss:0.62373\n",
      "[46]\tvalidation_0-error:0.02201\tvalidation_0-logloss:0.20610\tvalidation_1-error:0.32518\tvalidation_1-logloss:0.63182\n",
      "[47]\tvalidation_0-error:0.01630\tvalidation_0-logloss:0.20177\tvalidation_1-error:0.32518\tvalidation_1-logloss:0.63134\n",
      "[48]\tvalidation_0-error:0.01793\tvalidation_0-logloss:0.19900\tvalidation_1-error:0.33496\tvalidation_1-logloss:0.62901\n",
      "[49]\tvalidation_0-error:0.01793\tvalidation_0-logloss:0.19526\tvalidation_1-error:0.33741\tvalidation_1-logloss:0.62944\n"
     ]
    },
    {
     "data": {
      "text/plain": [
       "XGBClassifier(base_score=0.5, booster='gbtree', colsample_bylevel=1,\n",
       "              colsample_bynode=1, colsample_bytree=0.8,\n",
       "              eval_metric=['error', 'logloss'], gamma=0.5, gpu_id=-1,\n",
       "              importance_type='gain', interaction_constraints='',\n",
       "              learning_rate=0.3, max_delta_step=0, max_depth=3,\n",
       "              min_child_weight=1, missing=nan, monotone_constraints='()',\n",
       "              n_estimators=50, n_jobs=1, nthread=1, num_parallel_tree=1,\n",
       "              random_state=0, reg_alpha=0, reg_lambda=1, scale_pos_weight=1,\n",
       "              subsample=0.8, tree_method='exact', use_label_encoder=False,\n",
       "              validate_parameters=1, verbosity=None)"
      ]
     },
     "execution_count": 154,
     "metadata": {},
     "output_type": "execute_result"
    },
    {
     "name": "stdout",
     "output_type": "stream",
     "text": [
      "Accuracy_Score: 66.25916870415648 %\n",
      "precision_score: 52.54237288135594 %\n",
      "recall_score: 43.05555555555556 %\n",
      "XGBoost Test Set\n",
      "Accuracy: 66.26\n",
      "Training Accuracy_Score: 98.20700896495518 %\n",
      "Training Recall: 96.98275862068965 %\n",
      "Training precision_score: 98.2532751091703 %\n",
      "Training F1 Score: 97.61388286334056 %\n"
     ]
    }
   ],
   "source": [
    "# params={'subsample'= 1.0, 'n_estimators'= 50, 'min_child_weight'= 1, 'max_depth'= 5, 'gamma'= 0.5, 'colsample_bytree'= 1.0}\n",
    "\n",
    "xgb_clf6 = xgb.XGBClassifier(learning_rate=0.3, \n",
    "                             subsample= 0.8, n_estimators= 50, min_child_weight= 1, max_depth= 3, \n",
    "                             gamma= 0.5, colsample_bytree= 0.8,\n",
    "                            \n",
    "                            nthread=1, use_label_encoder=False, eval_metric=[\"error\", \"logloss\"])\n",
    "\n",
    "xgb_clf6.fit(xtrain_tfidf_ngram, y_train,eval_set = [(xtrain_tfidf_ngram, y_train), (xvalid_tfidf_ngram, y_cv)])\n",
    "\n",
    "\n",
    "\n",
    "# # print('Confusion matrix: \\n', cm)\n",
    "# print('TP: ', conf_mat_svm[1,1])\n",
    "# print('TN: ', conf_mat_svm[0,0])\n",
    "# print('FP: ', conf_mat_svm[0,1])\n",
    "# print('FN: ', conf_mat_svm[1,0])\n",
    "\n",
    "# print('Classification report: \\n', metrics.classification_report(y_test, model))\n",
    "xgb_predictions6 = xgb_clf6.predict(xvalid_tfidf_ngram)\n",
    "xgb_predictions6 = np.round(xgb_predictions6)\n",
    "print('Accuracy_Score:',metrics.accuracy_score(y_cv, xgb_predictions6)*100,'%')\n",
    "\n",
    "\n",
    "print('precision_score:',metrics.precision_score(y_cv, xgb_predictions6)*100,'%')\n",
    "\n",
    "print('recall_score:',metrics.recall_score(y_cv, xgb_predictions6)*100,'%')\n",
    "\n",
    "xgb_predictions6 = xgb_clf6.predict(xvalid_tfidf_ngram)\n",
    "xgb_predictions6 = np.round(xgb_predictions6)\n",
    "print('XGBoost Test Set')\n",
    "print('Accuracy: %.2f' % ((xgb_predictions6 == y_cv['label']).mean()*100))\n",
    "\n",
    "print('Training Accuracy_Score:',metrics.accuracy_score(y_train, xgb_clf6.predict(xtrain_tfidf_ngram))*100,'%')\n",
    "print('Training Recall:',metrics.recall_score(y_train, xgb_clf6.predict(xtrain_tfidf_ngram))*100,'%')\n",
    "print('Training precision_score:',metrics.precision_score(y_train, xgb_clf6.predict(xtrain_tfidf_ngram))*100,'%')\n",
    "print('Training F1 Score:',metrics.f1_score(y_train, xgb_clf6.predict(xtrain_tfidf_ngram))*100,'%')"
   ]
  },
  {
   "cell_type": "code",
   "execution_count": 186,
   "metadata": {},
   "outputs": [
    {
     "data": {
      "text/plain": [
       "Text(0.5, 1.0, 'Receiver Operating Characteristic')"
      ]
     },
     "execution_count": 186,
     "metadata": {},
     "output_type": "execute_result"
    },
    {
     "data": {
      "text/plain": [
       "[<matplotlib.lines.Line2D at 0x7f27457099b0>]"
      ]
     },
     "execution_count": 186,
     "metadata": {},
     "output_type": "execute_result"
    },
    {
     "data": {
      "text/plain": [
       "[<matplotlib.lines.Line2D at 0x7f269d6cc9e8>]"
      ]
     },
     "execution_count": 186,
     "metadata": {},
     "output_type": "execute_result"
    },
    {
     "data": {
      "text/plain": [
       "<matplotlib.legend.Legend at 0x7f269d6d86a0>"
      ]
     },
     "execution_count": 186,
     "metadata": {},
     "output_type": "execute_result"
    },
    {
     "data": {
      "text/plain": [
       "[<matplotlib.lines.Line2D at 0x7f269d6d8b70>]"
      ]
     },
     "execution_count": 186,
     "metadata": {},
     "output_type": "execute_result"
    },
    {
     "data": {
      "text/plain": [
       "(0.0, 1.0)"
      ]
     },
     "execution_count": 186,
     "metadata": {},
     "output_type": "execute_result"
    },
    {
     "data": {
      "text/plain": [
       "(0.0, 1.0)"
      ]
     },
     "execution_count": 186,
     "metadata": {},
     "output_type": "execute_result"
    },
    {
     "data": {
      "text/plain": [
       "Text(0, 0.5, 'True Positive Rate')"
      ]
     },
     "execution_count": 186,
     "metadata": {},
     "output_type": "execute_result"
    },
    {
     "data": {
      "text/plain": [
       "Text(0.5, 0, 'False Positive Rate')"
      ]
     },
     "execution_count": 186,
     "metadata": {},
     "output_type": "execute_result"
    },
    {
     "data": {
      "image/png": "[encoded data removed]",
      "text/plain": [
       "<Figure size 432x288 with 1 Axes>"
      ]
     },
     "metadata": {
      "needs_background": "light"
     },
     "output_type": "display_data"
    }
   ],
   "source": [
    "fpr, tpr, threshold = metrics.roc_curve(y_cv, xgb_predictions4)\n",
    "roc_auc = metrics.auc(fpr, tpr)\n",
    "fprTrain, tprTrain, thresholdTrain = metrics.roc_curve(y_train, xgb_clf4.predict(xtrain_tfidf_ngram))\n",
    "roc_aucTrain = metrics.auc(fprTrain, tprTrain)\n",
    "\n",
    "# method I: plt\n",
    "import matplotlib.pyplot as plt\n",
    "plt.title('Receiver Operating Characteristic')\n",
    "plt.plot(fpr, tpr, 'b', label = 'Test AUC = %0.2f' % roc_auc,color=\"orange\")\n",
    "# plt.plot(fpr, tpr, 'b', label = 'AUC = %0.2f' % roc_auc)\n",
    "plt.plot(fprTrain, tprTrain, 'b', label = 'AUC Train = %0.2f' % roc_aucTrain)\n",
    "plt.legend(loc = 'lower right')\n",
    "plt.plot([0, 1], [0, 1],'r--')\n",
    "plt.xlim([0, 1])\n",
    "plt.ylim([0, 1])\n",
    "plt.ylabel('True Positive Rate')\n",
    "plt.xlabel('False Positive Rate')\n",
    "plt.show()\n",
    "\n",
    "# # method II: ggplot\n",
    "# from ggplot import *\n",
    "# df = pd.DataFrame(dict(fpr = fpr, tpr = tpr))\n",
    "# ggplot(df, aes(x = 'fpr', y = 'tpr')) + geom_line() + geom_abline(linetype = 'dashed')"
   ]
  },
  {
   "cell_type": "code",
   "execution_count": null,
   "metadata": {},
   "outputs": [],
   "source": [
    "xgb_clf.get_params"
   ]
  },
  {
   "cell_type": "markdown",
   "metadata": {},
   "source": [
    "Tuning parameter learning_rate and max_depth as the model is overfitting"
   ]
  },
  {
   "cell_type": "code",
   "execution_count": 157,
   "metadata": {
    "scrolled": false
   },
   "outputs": [
    {
     "data": {
      "text/plain": [
       "Text(0.5, 1.0, 'Validation Curve with XGB')"
      ]
     },
     "execution_count": 157,
     "metadata": {},
     "output_type": "execute_result"
    },
    {
     "data": {
      "text/plain": [
       "Text(0.5, 0, 'colsample_bytree')"
      ]
     },
     "execution_count": 157,
     "metadata": {},
     "output_type": "execute_result"
    },
    {
     "data": {
      "text/plain": [
       "Text(0, 0.5, 'Score')"
      ]
     },
     "execution_count": 157,
     "metadata": {},
     "output_type": "execute_result"
    },
    {
     "data": {
      "text/plain": [
       "(0.0, 1.1)"
      ]
     },
     "execution_count": 157,
     "metadata": {},
     "output_type": "execute_result"
    },
    {
     "data": {
      "text/plain": [
       "[<matplotlib.lines.Line2D at 0x7f262c644390>]"
      ]
     },
     "execution_count": 157,
     "metadata": {},
     "output_type": "execute_result"
    },
    {
     "data": {
      "text/plain": [
       "<matplotlib.collections.PolyCollection at 0x7f262d23b1d0>"
      ]
     },
     "execution_count": 157,
     "metadata": {},
     "output_type": "execute_result"
    },
    {
     "data": {
      "text/plain": [
       "[<matplotlib.lines.Line2D at 0x7f274f391048>]"
      ]
     },
     "execution_count": 157,
     "metadata": {},
     "output_type": "execute_result"
    },
    {
     "data": {
      "text/plain": [
       "<matplotlib.collections.PolyCollection at 0x7f269cbe0e48>"
      ]
     },
     "execution_count": 157,
     "metadata": {},
     "output_type": "execute_result"
    },
    {
     "data": {
      "text/plain": [
       "<matplotlib.legend.Legend at 0x7f262cce2320>"
      ]
     },
     "execution_count": 157,
     "metadata": {},
     "output_type": "execute_result"
    },
    {
     "data": {
      "image/png": "[encoded data removed]",
      "text/plain": [
       "<Figure size 432x288 with 1 Axes>"
      ]
     },
     "metadata": {
      "needs_background": "light"
     },
     "output_type": "display_data"
    }
   ],
   "source": [
    "# y_train_res=y_train_res_01.map({ 1:'Existing Customer',  0:'Attrited Customer'})\n",
    "\n",
    "parameter_xgb= [0.3,0.4,0.5,0.6,0.7,0.8]\n",
    "\n",
    "from sklearn.model_selection import validation_curve\n",
    "#https://www.scikit-yb.org/en/latest/api/model_selection/validation_curve.html\n",
    "training_scores,testing_scores = validation_curve(\n",
    "   xgb.XGBClassifier(learning_rate=0.1, n_estimators=50,\n",
    "                             subsample= 1.0,  min_child_weight= 1, max_depth= 3, gamma= 0.5, \n",
    "#                      colsample_bytree= 1.0,\n",
    "                            \n",
    "                            nthread=1, use_label_encoder=False, eval_metric=[\"error\", \"logloss\"]), xtrain_tfidf_ngram, y_train['label'],\n",
    "    param_range=parameter_xgb,  scoring=\"precision\",param_name=\"colsample_bytree\",cv=5\n",
    ")\n",
    "\n",
    "\n",
    "\n",
    "\n",
    "train_scores_mean = np.mean(training_scores, axis=1)\n",
    "train_scores_std = np.std(training_scores, axis=1)\n",
    "test_scores_mean = np.mean(testing_scores, axis=1)\n",
    "test_scores_std = np.std(testing_scores, axis=1)\n",
    "param_range=parameter_xgb\n",
    "plt.title(\"Validation Curve with XGB\")\n",
    "plt.xlabel(\"colsample_bytree\")\n",
    "plt.ylabel(\"Score\")\n",
    "plt.ylim(0.0, 1.1)\n",
    "# lw = 2\n",
    "plt.semilogx(param_range, train_scores_mean, label=\"Training score\",\n",
    "             color=\"darkorange\", lw=lw)\n",
    "plt.fill_between(param_range, train_scores_mean - train_scores_std,\n",
    "                 train_scores_mean + train_scores_std, alpha=0.2,\n",
    "                 color=\"darkorange\", lw=lw)\n",
    "plt.semilogx(param_range, test_scores_mean, label=\"Cross-validation score\",\n",
    "             color=\"navy\", lw=lw)\n",
    "plt.fill_between(param_range, test_scores_mean - test_scores_std,\n",
    "                 test_scores_mean + test_scores_std, alpha=0.2,\n",
    "                 color=\"navy\", lw=lw)\n",
    "plt.legend(loc=\"best\")\n",
    "plt.show()"
   ]
  },
  {
   "cell_type": "code",
   "execution_count": 159,
   "metadata": {
    "scrolled": true
   },
   "outputs": [
    {
     "data": {
      "text/plain": [
       "Text(0.5, 1.0, 'Validation Curve with XGB')"
      ]
     },
     "execution_count": 159,
     "metadata": {},
     "output_type": "execute_result"
    },
    {
     "data": {
      "text/plain": [
       "Text(0.5, 0, 'subsample')"
      ]
     },
     "execution_count": 159,
     "metadata": {},
     "output_type": "execute_result"
    },
    {
     "data": {
      "text/plain": [
       "Text(0, 0.5, 'Score')"
      ]
     },
     "execution_count": 159,
     "metadata": {},
     "output_type": "execute_result"
    },
    {
     "data": {
      "text/plain": [
       "(0.0, 1.1)"
      ]
     },
     "execution_count": 159,
     "metadata": {},
     "output_type": "execute_result"
    },
    {
     "data": {
      "text/plain": [
       "[<matplotlib.lines.Line2D at 0x7f2747fcacf8>]"
      ]
     },
     "execution_count": 159,
     "metadata": {},
     "output_type": "execute_result"
    },
    {
     "data": {
      "text/plain": [
       "<matplotlib.collections.PolyCollection at 0x7f274ee53898>"
      ]
     },
     "execution_count": 159,
     "metadata": {},
     "output_type": "execute_result"
    },
    {
     "data": {
      "text/plain": [
       "[<matplotlib.lines.Line2D at 0x7f2747fd4240>]"
      ]
     },
     "execution_count": 159,
     "metadata": {},
     "output_type": "execute_result"
    },
    {
     "data": {
      "text/plain": [
       "<matplotlib.collections.PolyCollection at 0x7f2747f81be0>"
      ]
     },
     "execution_count": 159,
     "metadata": {},
     "output_type": "execute_result"
    },
    {
     "data": {
      "text/plain": [
       "<matplotlib.legend.Legend at 0x7f2747f81f28>"
      ]
     },
     "execution_count": 159,
     "metadata": {},
     "output_type": "execute_result"
    },
    {
     "data": {
      "image/png": "[encoded data removed]",
      "text/plain": [
       "<Figure size 432x288 with 1 Axes>"
      ]
     },
     "metadata": {
      "needs_background": "light"
     },
     "output_type": "display_data"
    }
   ],
   "source": [
    "# y_train_res=y_train_res_01.map({ 1:'Existing Customer',  0:'Attrited Customer'})\n",
    "\n",
    "parameter_xgb= [0.3,0.4,0.5,0.6,0.7,0.8]\n",
    "\n",
    "from sklearn.model_selection import validation_curve\n",
    "#https://www.scikit-yb.org/en/latest/api/model_selection/validation_curve.html\n",
    "training_scores,testing_scores = validation_curve(\n",
    "   xgb.XGBClassifier(learning_rate=0.1, n_estimators=50,\n",
    "                            min_child_weight= 1, max_depth= 3, gamma= 0.5, \n",
    "                     colsample_bytree= 0.8,\n",
    "                            \n",
    "                            nthread=1, use_label_encoder=False, eval_metric=[\"error\", \"logloss\"]), xtrain_tfidf_ngram, y_train['label'],\n",
    "    param_range=parameter_xgb,  scoring=\"precision\",param_name=\"subsample\",cv=5\n",
    ")\n",
    "\n",
    "\n",
    "\n",
    "\n",
    "train_scores_mean = np.mean(training_scores, axis=1)\n",
    "train_scores_std = np.std(training_scores, axis=1)\n",
    "test_scores_mean = np.mean(testing_scores, axis=1)\n",
    "test_scores_std = np.std(testing_scores, axis=1)\n",
    "param_range=parameter_xgb\n",
    "plt.title(\"Validation Curve with XGB\")\n",
    "plt.xlabel(\"subsample\")\n",
    "plt.ylabel(\"Score\")\n",
    "plt.ylim(0.0, 1.1)\n",
    "# lw = 2\n",
    "plt.semilogx(param_range, train_scores_mean, label=\"Training score\",\n",
    "             color=\"darkorange\", lw=lw)\n",
    "plt.fill_between(param_range, train_scores_mean - train_scores_std,\n",
    "                 train_scores_mean + train_scores_std, alpha=0.2,\n",
    "                 color=\"darkorange\", lw=lw)\n",
    "plt.semilogx(param_range, test_scores_mean, label=\"Cross-validation score\",\n",
    "             color=\"navy\", lw=lw)\n",
    "plt.fill_between(param_range, test_scores_mean - test_scores_std,\n",
    "                 test_scores_mean + test_scores_std, alpha=0.2,\n",
    "                 color=\"navy\", lw=lw)\n",
    "plt.legend(loc=\"best\")\n",
    "plt.show()"
   ]
  },
  {
   "cell_type": "code",
   "execution_count": 163,
   "metadata": {},
   "outputs": [
    {
     "data": {
      "text/plain": [
       "Text(0.5, 1.0, 'Validation Curve with XGB')"
      ]
     },
     "execution_count": 163,
     "metadata": {},
     "output_type": "execute_result"
    },
    {
     "data": {
      "text/plain": [
       "Text(0.5, 0, 'lambda')"
      ]
     },
     "execution_count": 163,
     "metadata": {},
     "output_type": "execute_result"
    },
    {
     "data": {
      "text/plain": [
       "Text(0, 0.5, 'Score')"
      ]
     },
     "execution_count": 163,
     "metadata": {},
     "output_type": "execute_result"
    },
    {
     "data": {
      "text/plain": [
       "(0.0, 1.1)"
      ]
     },
     "execution_count": 163,
     "metadata": {},
     "output_type": "execute_result"
    },
    {
     "data": {
      "text/plain": [
       "[<matplotlib.lines.Line2D at 0x7f2747d0add8>]"
      ]
     },
     "execution_count": 163,
     "metadata": {},
     "output_type": "execute_result"
    },
    {
     "data": {
      "text/plain": [
       "<matplotlib.collections.PolyCollection at 0x7f2747d2c9e8>"
      ]
     },
     "execution_count": 163,
     "metadata": {},
     "output_type": "execute_result"
    },
    {
     "data": {
      "text/plain": [
       "[<matplotlib.lines.Line2D at 0x7f2747ce3f28>]"
      ]
     },
     "execution_count": 163,
     "metadata": {},
     "output_type": "execute_result"
    },
    {
     "data": {
      "text/plain": [
       "<matplotlib.collections.PolyCollection at 0x7f2747cf5da0>"
      ]
     },
     "execution_count": 163,
     "metadata": {},
     "output_type": "execute_result"
    },
    {
     "data": {
      "text/plain": [
       "<matplotlib.legend.Legend at 0x7f2747cf5f60>"
      ]
     },
     "execution_count": 163,
     "metadata": {},
     "output_type": "execute_result"
    },
    {
     "data": {
      "image/png": "[encoded data removed]",
      "text/plain": [
       "<Figure size 432x288 with 1 Axes>"
      ]
     },
     "metadata": {
      "needs_background": "light"
     },
     "output_type": "display_data"
    }
   ],
   "source": [
    "# lambda\n",
    "# y_train_res=y_train_res_01.map({ 1:'Existing Customer',  0:'Attrited Customer'})\n",
    "\n",
    "parameter_xgb= [0.3,0.4,0.5,0.6,0.7,0.8]\n",
    "\n",
    "from sklearn.model_selection import validation_curve\n",
    "#https://www.scikit-yb.org/en/latest/api/model_selection/validation_curve.html\n",
    "training_scores,testing_scores = validation_curve(\n",
    "   xgb.XGBClassifier(learning_rate=0.001, n_estimators=50,\n",
    "                            min_child_weight= 1, max_depth= 3, gamma= 0, \n",
    "                     colsample_bytree= 0.8,subsample=0.6,\n",
    "                            \n",
    "                            nthread=1, use_label_encoder=False, eval_metric=[\"error\", \"logloss\"]), xtrain_tfidf_ngram, y_train['label'],\n",
    "    param_range=parameter_xgb,  scoring=\"precision\",param_name=\"lambda\",cv=5\n",
    ")\n",
    "\n",
    "\n",
    "\n",
    "\n",
    "train_scores_mean = np.mean(training_scores, axis=1)\n",
    "train_scores_std = np.std(training_scores, axis=1)\n",
    "test_scores_mean = np.mean(testing_scores, axis=1)\n",
    "test_scores_std = np.std(testing_scores, axis=1)\n",
    "param_range=parameter_xgb\n",
    "plt.title(\"Validation Curve with XGB\")\n",
    "plt.xlabel(\"lambda\")\n",
    "plt.ylabel(\"Score\")\n",
    "plt.ylim(0.0, 1.1)\n",
    "# lw = 2\n",
    "plt.semilogx(param_range, train_scores_mean, label=\"Training score\",\n",
    "             color=\"darkorange\", lw=lw)\n",
    "plt.fill_between(param_range, train_scores_mean - train_scores_std,\n",
    "                 train_scores_mean + train_scores_std, alpha=0.2,\n",
    "                 color=\"darkorange\", lw=lw)\n",
    "plt.semilogx(param_range, test_scores_mean, label=\"Cross-validation score\",\n",
    "             color=\"navy\", lw=lw)\n",
    "plt.fill_between(param_range, test_scores_mean - test_scores_std,\n",
    "                 test_scores_mean + test_scores_std, alpha=0.2,\n",
    "                 color=\"navy\", lw=lw)\n",
    "plt.legend(loc=\"best\")\n",
    "plt.show()"
   ]
  },
  {
   "cell_type": "code",
   "execution_count": 165,
   "metadata": {},
   "outputs": [
    {
     "data": {
      "text/plain": [
       "Text(0.5, 1.0, 'Validation Curve with XGB')"
      ]
     },
     "execution_count": 165,
     "metadata": {},
     "output_type": "execute_result"
    },
    {
     "data": {
      "text/plain": [
       "Text(0.5, 0, 'lambda')"
      ]
     },
     "execution_count": 165,
     "metadata": {},
     "output_type": "execute_result"
    },
    {
     "data": {
      "text/plain": [
       "Text(0, 0.5, 'Score')"
      ]
     },
     "execution_count": 165,
     "metadata": {},
     "output_type": "execute_result"
    },
    {
     "data": {
      "text/plain": [
       "(0.0, 1.1)"
      ]
     },
     "execution_count": 165,
     "metadata": {},
     "output_type": "execute_result"
    },
    {
     "data": {
      "text/plain": [
       "[<matplotlib.lines.Line2D at 0x7f2747c3c710>]"
      ]
     },
     "execution_count": 165,
     "metadata": {},
     "output_type": "execute_result"
    },
    {
     "data": {
      "text/plain": [
       "<matplotlib.collections.PolyCollection at 0x7f2747cf5d30>"
      ]
     },
     "execution_count": 165,
     "metadata": {},
     "output_type": "execute_result"
    },
    {
     "data": {
      "text/plain": [
       "[<matplotlib.lines.Line2D at 0x7f2747c7e8d0>]"
      ]
     },
     "execution_count": 165,
     "metadata": {},
     "output_type": "execute_result"
    },
    {
     "data": {
      "text/plain": [
       "<matplotlib.collections.PolyCollection at 0x7f2747c31d30>"
      ]
     },
     "execution_count": 165,
     "metadata": {},
     "output_type": "execute_result"
    },
    {
     "data": {
      "text/plain": [
       "<matplotlib.legend.Legend at 0x7f2747c319b0>"
      ]
     },
     "execution_count": 165,
     "metadata": {},
     "output_type": "execute_result"
    },
    {
     "data": {
      "image/png": "[encoded data removed]",
      "text/plain": [
       "<Figure size 432x288 with 1 Axes>"
      ]
     },
     "metadata": {
      "needs_background": "light"
     },
     "output_type": "display_data"
    }
   ],
   "source": [
    "# lambda\n",
    "# y_train_res=y_train_res_01.map({ 1:'Existing Customer',  0:'Attrited Customer'})\n",
    "\n",
    "parameter_xgb= [0.3,0.4,0.5,0.6,0.7,0.8]\n",
    "\n",
    "from sklearn.model_selection import validation_curve\n",
    "#https://www.scikit-yb.org/en/latest/api/model_selection/validation_curve.html\n",
    "training_scores,testing_scores = validation_curve(\n",
    "   xgb.XGBClassifier(learning_rate=0.001, n_estimators=50,booster='dart',\n",
    "                            min_child_weight= 1, max_depth= 3, gamma= 0, \n",
    "                     colsample_bytree= 0.8,subsample=0.6,\n",
    "                            \n",
    "                            nthread=1, use_label_encoder=False, eval_metric=[\"error\", \"logloss\"]), xtrain_tfidf_ngram, y_train['label'],\n",
    "    param_range=parameter_xgb,  scoring=\"precision\",param_name=\"lambda\",cv=5\n",
    ")\n",
    "\n",
    "\n",
    "\n",
    "\n",
    "train_scores_mean = np.mean(training_scores, axis=1)\n",
    "train_scores_std = np.std(training_scores, axis=1)\n",
    "test_scores_mean = np.mean(testing_scores, axis=1)\n",
    "test_scores_std = np.std(testing_scores, axis=1)\n",
    "param_range=parameter_xgb\n",
    "plt.title(\"Validation Curve with XGB\")\n",
    "plt.xlabel(\"lambda\")\n",
    "plt.ylabel(\"Score\")\n",
    "plt.ylim(0.0, 1.1)\n",
    "# lw = 2\n",
    "plt.semilogx(param_range, train_scores_mean, label=\"Training score\",\n",
    "             color=\"darkorange\", lw=lw)\n",
    "plt.fill_between(param_range, train_scores_mean - train_scores_std,\n",
    "                 train_scores_mean + train_scores_std, alpha=0.2,\n",
    "                 color=\"darkorange\", lw=lw)\n",
    "plt.semilogx(param_range, test_scores_mean, label=\"Cross-validation score\",\n",
    "             color=\"navy\", lw=lw)\n",
    "plt.fill_between(param_range, test_scores_mean - test_scores_std,\n",
    "                 test_scores_mean + test_scores_std, alpha=0.2,\n",
    "                 color=\"navy\", lw=lw)\n",
    "plt.legend(loc=\"best\")\n",
    "plt.show()"
   ]
  },
  {
   "cell_type": "code",
   "execution_count": 181,
   "metadata": {},
   "outputs": [
    {
     "data": {
      "text/plain": [
       "Text(0.5, 1.0, 'Validation Curve with XGB')"
      ]
     },
     "execution_count": 181,
     "metadata": {},
     "output_type": "execute_result"
    },
    {
     "data": {
      "text/plain": [
       "Text(0.5, 0, 'subsample')"
      ]
     },
     "execution_count": 181,
     "metadata": {},
     "output_type": "execute_result"
    },
    {
     "data": {
      "text/plain": [
       "Text(0, 0.5, 'Score')"
      ]
     },
     "execution_count": 181,
     "metadata": {},
     "output_type": "execute_result"
    },
    {
     "data": {
      "text/plain": [
       "(0.0, 1.1)"
      ]
     },
     "execution_count": 181,
     "metadata": {},
     "output_type": "execute_result"
    },
    {
     "data": {
      "text/plain": [
       "[<matplotlib.lines.Line2D at 0x7f2745512f98>]"
      ]
     },
     "execution_count": 181,
     "metadata": {},
     "output_type": "execute_result"
    },
    {
     "data": {
      "text/plain": [
       "<matplotlib.collections.PolyCollection at 0x7f27454f9fd0>"
      ]
     },
     "execution_count": 181,
     "metadata": {},
     "output_type": "execute_result"
    },
    {
     "data": {
      "text/plain": [
       "[<matplotlib.lines.Line2D at 0x7f274550be10>]"
      ]
     },
     "execution_count": 181,
     "metadata": {},
     "output_type": "execute_result"
    },
    {
     "data": {
      "text/plain": [
       "<matplotlib.collections.PolyCollection at 0x7f27454b35f8>"
      ]
     },
     "execution_count": 181,
     "metadata": {},
     "output_type": "execute_result"
    },
    {
     "data": {
      "text/plain": [
       "<matplotlib.legend.Legend at 0x7f2745520e80>"
      ]
     },
     "execution_count": 181,
     "metadata": {},
     "output_type": "execute_result"
    },
    {
     "data": {
      "image/png": "[encoded data removed]",
      "text/plain": [
       "<Figure size 432x288 with 1 Axes>"
      ]
     },
     "metadata": {
      "needs_background": "light"
     },
     "output_type": "display_data"
    }
   ],
   "source": [
    "# y_train_res=y_train_res_01.map({ 1:'Existing Customer',  0:'Attrited Customer'})\n",
    "\n",
    "parameter_xgb= [0.3,0.4,0.5,0.6,0.7,0.8]\n",
    "\n",
    "from sklearn.model_selection import validation_curve\n",
    "#https://www.scikit-yb.org/en/latest/api/model_selection/validation_curve.html\n",
    "training_scores,testing_scores = validation_curve(\n",
    "   xgb.XGBClassifier(learning_rate=0.1, n_estimators=50,booster='dart',\n",
    "#                              subsample= 1.0,\n",
    "              max_depth= 3, gamma= 0.5, \n",
    "#                      colsample_bytree= 1.0,\n",
    "                            \n",
    "                            nthread=1, use_label_encoder=False, eval_metric=[\"error\", \"logloss\"]), xtrain_tfidf_ngram, y_train['label'],\n",
    "    param_range=parameter_xgb,  scoring=\"precision\",param_name=\"subsample\",cv=5\n",
    ")\n",
    "\n",
    "\n",
    "\n",
    "\n",
    "train_scores_mean = np.mean(training_scores, axis=1)\n",
    "train_scores_std = np.std(training_scores, axis=1)\n",
    "test_scores_mean = np.mean(testing_scores, axis=1)\n",
    "test_scores_std = np.std(testing_scores, axis=1)\n",
    "param_range=parameter_xgb\n",
    "plt.title(\"Validation Curve with XGB\")\n",
    "plt.xlabel(\"subsample\")\n",
    "plt.ylabel(\"Score\")\n",
    "plt.ylim(0.0, 1.1)\n",
    "# lw = 2\n",
    "plt.semilogx(param_range, train_scores_mean, label=\"Training score\",\n",
    "             color=\"darkorange\", lw=lw)\n",
    "plt.fill_between(param_range, train_scores_mean - train_scores_std,\n",
    "                 train_scores_mean + train_scores_std, alpha=0.2,\n",
    "                 color=\"darkorange\", lw=lw)\n",
    "plt.semilogx(param_range, test_scores_mean, label=\"Cross-validation score\",\n",
    "             color=\"navy\", lw=lw)\n",
    "plt.fill_between(param_range, test_scores_mean - test_scores_std,\n",
    "                 test_scores_mean + test_scores_std, alpha=0.2,\n",
    "                 color=\"navy\", lw=lw)\n",
    "plt.legend(loc=\"best\")\n",
    "plt.show()"
   ]
  },
  {
   "cell_type": "code",
   "execution_count": 185,
   "metadata": {},
   "outputs": [
    {
     "data": {
      "text/plain": [
       "[<matplotlib.lines.Line2D at 0x7f269d771ba8>]"
      ]
     },
     "execution_count": 185,
     "metadata": {},
     "output_type": "execute_result"
    },
    {
     "data": {
      "text/plain": [
       "[<matplotlib.lines.Line2D at 0x7f2745946470>]"
      ]
     },
     "execution_count": 185,
     "metadata": {},
     "output_type": "execute_result"
    },
    {
     "data": {
      "text/plain": [
       "Text(0.5, 1.0, 'LEARNING CURVE FOR XGB Classifier-Precision')"
      ]
     },
     "execution_count": 185,
     "metadata": {},
     "output_type": "execute_result"
    },
    {
     "data": {
      "text/plain": [
       "(Text(0.5, 0, 'Training Set Size'),\n",
       " Text(0, 0.5, 'Precision'),\n",
       " <matplotlib.legend.Legend at 0x7f269d771f60>)"
      ]
     },
     "execution_count": 185,
     "metadata": {},
     "output_type": "execute_result"
    },
    {
     "data": {
      "image/png": "[encoded data removed]",
      "text/plain": [
       "<Figure size 432x288 with 1 Axes>"
      ]
     },
     "metadata": {
      "needs_background": "light"
     },
     "output_type": "display_data"
    }
   ],
   "source": [
    "from sklearn.model_selection import learning_curve\n",
    "from sklearn.metrics import f1_score, make_scorer\n",
    "dtPredictions=dt.predict(xtrain_tfidf_ngram)\n",
    "# Custom scorer\n",
    "target = 1 # class you want to plot\n",
    "scorer = make_scorer(lambda y_train,dtPredictions : f1_score(\n",
    "    y_train, dtPredictions, \n",
    "    labels=None, \n",
    "    \n",
    "    average='binary', \n",
    "    sample_weight=None))\n",
    "\n",
    "\n",
    "sizes, training_scores, testing_scores = learning_curve(xgb.XGBClassifier(learning_rate=0.1, n_estimators=50,booster='dart',\n",
    "#                              subsample= 1.0,\n",
    "              max_depth= 3, gamma= 0.5, \n",
    "#                      colsample_bytree= 1.0,\n",
    "                            \n",
    "                            nthread=1, use_label_encoder=False, eval_metric=[\"error\", \"logloss\"]),\n",
    "                                                        xtrain_tfidf_ngram, y_train,scoring=\"precision\")\n",
    "\n",
    "# Mean and Standard Deviation of training scores \n",
    "mean_training = np.mean(training_scores, axis=1) \n",
    "Standard_Deviation_training = np.std(training_scores, axis=1) \n",
    "  \n",
    "# Mean and Standard Deviation of testing scores \n",
    "mean_testing = np.mean(testing_scores, axis=1) \n",
    "Standard_Deviation_testing = np.std(testing_scores, axis=1) \n",
    "  \n",
    "# dotted blue line is for training scores and green line is for cross-validation score \n",
    "plt.plot(sizes, mean_training, '--', color=\"b\",  label=\"Training score\") \n",
    "plt.plot(sizes, mean_testing, color=\"g\", label=\"Cross-validation score\") \n",
    "  \n",
    "# Drawing plot \n",
    "plt.title(\"LEARNING CURVE FOR XGB Classifier-Precision\") \n",
    "plt.xlabel(\"Training Set Size\"), plt.ylabel(\"Precision\"), plt.legend(loc=\"best\") \n",
    "plt.tight_layout() \n",
    "plt.show()"
   ]
  },
  {
   "cell_type": "code",
   "execution_count": 204,
   "metadata": {
    "collapsed": true
   },
   "outputs": [
    {
     "name": "stdout",
     "output_type": "stream",
     "text": [
      "[0]\tvalidation_0-error:0.33089\tvalidation_0-logloss:0.67639\tvalidation_1-error:0.36919\tvalidation_1-logloss:0.68164\n",
      "[1]\tvalidation_0-error:0.31948\tvalidation_0-logloss:0.66238\tvalidation_1-error:0.34474\tvalidation_1-logloss:0.67043\n",
      "[2]\tvalidation_0-error:0.32192\tvalidation_0-logloss:0.65033\tvalidation_1-error:0.33985\tvalidation_1-logloss:0.66289\n",
      "[3]\tvalidation_0-error:0.30399\tvalidation_0-logloss:0.63957\tvalidation_1-error:0.35452\tvalidation_1-logloss:0.65647\n",
      "[4]\tvalidation_0-error:0.28362\tvalidation_0-logloss:0.62938\tvalidation_1-error:0.34474\tvalidation_1-logloss:0.65089\n",
      "[5]\tvalidation_0-error:0.29177\tvalidation_0-logloss:0.61928\tvalidation_1-error:0.34963\tvalidation_1-logloss:0.64681\n",
      "[6]\tvalidation_0-error:0.27384\tvalidation_0-logloss:0.60944\tvalidation_1-error:0.34230\tvalidation_1-logloss:0.64185\n",
      "[7]\tvalidation_0-error:0.27221\tvalidation_0-logloss:0.60022\tvalidation_1-error:0.34719\tvalidation_1-logloss:0.63999\n",
      "[8]\tvalidation_0-error:0.27302\tvalidation_0-logloss:0.59164\tvalidation_1-error:0.33985\tvalidation_1-logloss:0.63548\n",
      "[9]\tvalidation_0-error:0.26080\tvalidation_0-logloss:0.58359\tvalidation_1-error:0.33496\tvalidation_1-logloss:0.63223\n",
      "[10]\tvalidation_0-error:0.25346\tvalidation_0-logloss:0.57700\tvalidation_1-error:0.33007\tvalidation_1-logloss:0.62975\n",
      "[11]\tvalidation_0-error:0.25102\tvalidation_0-logloss:0.57041\tvalidation_1-error:0.32274\tvalidation_1-logloss:0.62574\n",
      "[12]\tvalidation_0-error:0.24857\tvalidation_0-logloss:0.56581\tvalidation_1-error:0.32274\tvalidation_1-logloss:0.62493\n",
      "[13]\tvalidation_0-error:0.24450\tvalidation_0-logloss:0.55971\tvalidation_1-error:0.32274\tvalidation_1-logloss:0.62171\n",
      "[14]\tvalidation_0-error:0.23553\tvalidation_0-logloss:0.55380\tvalidation_1-error:0.32518\tvalidation_1-logloss:0.61923\n",
      "[15]\tvalidation_0-error:0.23309\tvalidation_0-logloss:0.54773\tvalidation_1-error:0.32029\tvalidation_1-logloss:0.61662\n",
      "[16]\tvalidation_0-error:0.23146\tvalidation_0-logloss:0.54106\tvalidation_1-error:0.33252\tvalidation_1-logloss:0.61379\n",
      "[17]\tvalidation_0-error:0.22901\tvalidation_0-logloss:0.53723\tvalidation_1-error:0.33007\tvalidation_1-logloss:0.61350\n",
      "[18]\tvalidation_0-error:0.23553\tvalidation_0-logloss:0.53181\tvalidation_1-error:0.33252\tvalidation_1-logloss:0.61165\n",
      "[19]\tvalidation_0-error:0.23064\tvalidation_0-logloss:0.52572\tvalidation_1-error:0.32518\tvalidation_1-logloss:0.60853\n",
      "[20]\tvalidation_0-error:0.21923\tvalidation_0-logloss:0.51897\tvalidation_1-error:0.31785\tvalidation_1-logloss:0.60517\n",
      "[21]\tvalidation_0-error:0.21434\tvalidation_0-logloss:0.51348\tvalidation_1-error:0.31540\tvalidation_1-logloss:0.60373\n",
      "[22]\tvalidation_0-error:0.20782\tvalidation_0-logloss:0.50812\tvalidation_1-error:0.31540\tvalidation_1-logloss:0.60403\n",
      "[23]\tvalidation_0-error:0.20701\tvalidation_0-logloss:0.50368\tvalidation_1-error:0.32029\tvalidation_1-logloss:0.60343\n",
      "[24]\tvalidation_0-error:0.20619\tvalidation_0-logloss:0.49934\tvalidation_1-error:0.32029\tvalidation_1-logloss:0.60315\n",
      "[25]\tvalidation_0-error:0.19886\tvalidation_0-logloss:0.49486\tvalidation_1-error:0.31785\tvalidation_1-logloss:0.60205\n",
      "[26]\tvalidation_0-error:0.19478\tvalidation_0-logloss:0.48984\tvalidation_1-error:0.31051\tvalidation_1-logloss:0.60080\n",
      "[27]\tvalidation_0-error:0.18500\tvalidation_0-logloss:0.48533\tvalidation_1-error:0.31540\tvalidation_1-logloss:0.60063\n",
      "[28]\tvalidation_0-error:0.18582\tvalidation_0-logloss:0.48242\tvalidation_1-error:0.31296\tvalidation_1-logloss:0.60028\n",
      "[29]\tvalidation_0-error:0.18500\tvalidation_0-logloss:0.47951\tvalidation_1-error:0.31051\tvalidation_1-logloss:0.59973\n",
      "[30]\tvalidation_0-error:0.18337\tvalidation_0-logloss:0.47435\tvalidation_1-error:0.31296\tvalidation_1-logloss:0.59818\n",
      "[31]\tvalidation_0-error:0.17848\tvalidation_0-logloss:0.46965\tvalidation_1-error:0.32029\tvalidation_1-logloss:0.59826\n",
      "[32]\tvalidation_0-error:0.17033\tvalidation_0-logloss:0.46503\tvalidation_1-error:0.32274\tvalidation_1-logloss:0.59813\n",
      "[33]\tvalidation_0-error:0.16626\tvalidation_0-logloss:0.46225\tvalidation_1-error:0.31785\tvalidation_1-logloss:0.59906\n",
      "[34]\tvalidation_0-error:0.15811\tvalidation_0-logloss:0.45846\tvalidation_1-error:0.31540\tvalidation_1-logloss:0.59941\n",
      "[35]\tvalidation_0-error:0.15566\tvalidation_0-logloss:0.45409\tvalidation_1-error:0.31785\tvalidation_1-logloss:0.60159\n",
      "[36]\tvalidation_0-error:0.15322\tvalidation_0-logloss:0.44991\tvalidation_1-error:0.31785\tvalidation_1-logloss:0.60216\n",
      "[37]\tvalidation_0-error:0.15159\tvalidation_0-logloss:0.44685\tvalidation_1-error:0.31540\tvalidation_1-logloss:0.60147\n",
      "[38]\tvalidation_0-error:0.14425\tvalidation_0-logloss:0.44266\tvalidation_1-error:0.32274\tvalidation_1-logloss:0.60311\n",
      "[39]\tvalidation_0-error:0.14344\tvalidation_0-logloss:0.43919\tvalidation_1-error:0.31051\tvalidation_1-logloss:0.60155\n",
      "[40]\tvalidation_0-error:0.14262\tvalidation_0-logloss:0.43694\tvalidation_1-error:0.30073\tvalidation_1-logloss:0.60100\n",
      "[41]\tvalidation_0-error:0.13040\tvalidation_0-logloss:0.43240\tvalidation_1-error:0.30807\tvalidation_1-logloss:0.60161\n",
      "[42]\tvalidation_0-error:0.12551\tvalidation_0-logloss:0.42893\tvalidation_1-error:0.30562\tvalidation_1-logloss:0.60100\n",
      "[43]\tvalidation_0-error:0.12632\tvalidation_0-logloss:0.42469\tvalidation_1-error:0.32029\tvalidation_1-logloss:0.60147\n",
      "[44]\tvalidation_0-error:0.12143\tvalidation_0-logloss:0.42285\tvalidation_1-error:0.31785\tvalidation_1-logloss:0.60171\n",
      "[45]\tvalidation_0-error:0.11736\tvalidation_0-logloss:0.42012\tvalidation_1-error:0.32029\tvalidation_1-logloss:0.60046\n",
      "[46]\tvalidation_0-error:0.10758\tvalidation_0-logloss:0.41650\tvalidation_1-error:0.32029\tvalidation_1-logloss:0.59900\n",
      "[47]\tvalidation_0-error:0.10595\tvalidation_0-logloss:0.41250\tvalidation_1-error:0.31540\tvalidation_1-logloss:0.59981\n",
      "[48]\tvalidation_0-error:0.10432\tvalidation_0-logloss:0.40964\tvalidation_1-error:0.32029\tvalidation_1-logloss:0.59999\n",
      "[49]\tvalidation_0-error:0.10350\tvalidation_0-logloss:0.40645\tvalidation_1-error:0.32274\tvalidation_1-logloss:0.60011\n"
     ]
    },
    {
     "data": {
      "text/plain": [
       "XGBClassifier(base_score=0.5, booster='dart', colsample_bylevel=1,\n",
       "              colsample_bynode=1, colsample_bytree=1,\n",
       "              eval_metric=['error', 'logloss'], gamma=0.5, gpu_id=-1,\n",
       "              importance_type='gain', interaction_constraints='',\n",
       "              learning_rate=0.1, max_delta_step=0, max_depth=3,\n",
       "              min_child_weight=1, missing=nan, monotone_constraints='()',\n",
       "              n_estimators=50, n_jobs=1, nthread=1, num_parallel_tree=1,\n",
       "              random_state=0, reg_alpha=0, reg_lambda=1, scale_pos_weight=1,\n",
       "              subsample=1, tree_method='exact', use_label_encoder=False,\n",
       "              validate_parameters=1, verbosity=None)"
      ]
     },
     "execution_count": 204,
     "metadata": {},
     "output_type": "execute_result"
    }
   ],
   "source": [
    "xgb_clf_FINAL=xgb.XGBClassifier(learning_rate=0.1, n_estimators=50,booster='dart',\n",
    "#                              subsample= 1.0,\n",
    "              max_depth= 3, gamma= 0.5, \n",
    "#                      colsample_bytree= 1.0,\n",
    "                            \n",
    "                            nthread=1, use_label_encoder=False, eval_metric=[\"error\", \"logloss\"])\n",
    "xgb_clf_FINAL.fit(xtrain_tfidf_ngram, y_train,eval_set = [(xtrain_tfidf_ngram, y_train), (xvalid_tfidf_ngram, y_cv)])\n",
    "\n",
    "\n",
    "\n",
    "# # print('Confusion matrix: \\n', cm)\n",
    "# print('TP: ', conf_mat_svm[1,1])\n",
    "# print('TN: ', conf_mat_svm[0,0])\n",
    "# print('FP: ', conf_mat_svm[0,1])\n",
    "# print('FN: ', conf_mat_svm[1,0])\n",
    "\n",
    "# print('Classification report: \\n', metrics.classification_report(y_test, model))\n",
    "xgb_predictionsFIANAL = xgb_clf_FINAL.predict(xvalid_tfidf_ngram)\n",
    "xgb_predictionsFIANAL = np.round(xgb_predictionsFIANAL)"
   ]
  },
  {
   "cell_type": "code",
   "execution_count": 258,
   "metadata": {
    "scrolled": true
   },
   "outputs": [
    {
     "name": "stdout",
     "output_type": "stream",
     "text": [
      "Accuracy_Score: 67.72616136919315 %\n",
      "precision_score: 57.89473684210527 %\n",
      "recall_score: 30.555555555555557 %\n",
      "Training F1 Score: 40.00000000000001 %\n",
      "XGBoost Test Set\n",
      "Accuracy: 66.26\n",
      "Training Accuracy_Score: 89.64955175224124 %\n",
      "Training Recall: 76.72413793103449 %\n",
      "Training precision_score: 94.93333333333334 %\n",
      "Training F1 Score: 84.86293206197854 %\n"
     ]
    }
   ],
   "source": [
    "print('Accuracy_Score:',metrics.accuracy_score(y_cv, xgb_predictionsFIANAL)*100,'%')\n",
    "\n",
    "\n",
    "print('precision_score:',metrics.precision_score(y_cv, xgb_predictionsFIANAL)*100,'%')\n",
    "\n",
    "print('recall_score:',metrics.recall_score(y_cv, xgb_predictionsFIANAL)*100,'%')\n",
    "print('Training F1 Score:',metrics.f1_score(y_cv, xgb_predictionsFIANAL)*100,'%')\n",
    "# xgb_predictions6 = xgb_clf6.predict(xvalid_tfidf_ngram)\n",
    "# xgb_predictions6 = np.round(xgb_predictions6)\n",
    "print('XGBoost Test Set')\n",
    "print('Accuracy: %.2f' % ((xgb_predictions6 == y_cv['label']).mean()*100))\n",
    "\n",
    "print('Training Accuracy_Score:',metrics.accuracy_score(y_train, xgb_clf_FINAL.predict(xtrain_tfidf_ngram))*100,'%')\n",
    "print('Training Recall:',metrics.recall_score(y_train, xgb_clf_FINAL.predict(xtrain_tfidf_ngram))*100,'%')\n",
    "print('Training precision_score:',metrics.precision_score(y_train, xgb_clf_FINAL.predict(xtrain_tfidf_ngram))*100,'%')\n",
    "print('Training F1 Score:',metrics.f1_score(y_train, xgb_clf_FINAL.predict(xtrain_tfidf_ngram))*100,'%')"
   ]
  },
  {
   "cell_type": "code",
   "execution_count": 257,
   "metadata": {
    "scrolled": true
   },
   "outputs": [
    {
     "name": "stdout",
     "output_type": "stream",
     "text": [
      "testing Accuracy_Score: 55.74572127139364 %\n",
      "testing Recall: 26.71232876712329 %\n",
      "testing precision_score: 34.51327433628318 %\n",
      "testing F1 Score: 30.11583011583011 %\n"
     ]
    }
   ],
   "source": [
    "print('testing Accuracy_Score:',metrics.accuracy_score(y_test['label'], xgb_clf_FINAL.predict(xtest_tfidf_ngram))*100,'%')\n",
    "print('testing Recall:',metrics.recall_score(y_test, xgb_clf_FINAL.predict(xtest_tfidf_ngram))*100,'%')\n",
    "print('testing precision_score:',metrics.precision_score(y_test, xgb_clf_FINAL.predict(xtest_tfidf_ngram))*100,'%')\n",
    "print('testing F1 Score:',metrics.f1_score(y_test, xgb_clf_FINAL.predict(xtest_tfidf_ngram))*100,'%')"
   ]
  },
  {
   "cell_type": "code",
   "execution_count": null,
   "metadata": {
    "scrolled": true
   },
   "outputs": [],
   "source": [
    "# y_train_res=y_train_res_01.map({ 1:'Existing Customer',  0:'Attrited Customer'})\n",
    "\n",
    "parameter_xgb=  range(50, 400, 50)\n",
    "from sklearn.model_selection import validation_curve\n",
    "#https://www.scikit-yb.org/en/latest/api/model_selection/validation_curve.html\n",
    "training_scores,testing_scores = validation_curve(\n",
    "   xgb.XGBClassifier(learning_rate=0.1, \n",
    "                             subsample= 1.0,  min_child_weight= 1, max_depth= 5, gamma= 0.5, colsample_bytree= 1.0,\n",
    "                            \n",
    "                            nthread=1, use_label_encoder=False, eval_metric=[\"error\", \"logloss\"]), xtrain_tfidf_ngram, y_train['label'],\n",
    "    param_range=parameter_xgb,  scoring=\"precision\",param_name=\"n_estimators\",cv=5\n",
    ")\n",
    "\n",
    "\n",
    "\n",
    "\n",
    "train_scores_mean = np.mean(training_scores, axis=1)\n",
    "train_scores_std = np.std(training_scores, axis=1)\n",
    "test_scores_mean = np.mean(testing_scores, axis=1)\n",
    "test_scores_std = np.std(testing_scores, axis=1)\n",
    "param_range= range(50, 400, 50)\n",
    "plt.title(\"Validation Curve with XGB\")\n",
    "plt.xlabel(\"n_estimators\")\n",
    "plt.ylabel(\"Score\")\n",
    "plt.ylim(0.0, 1.1)\n",
    "# lw = 2\n",
    "plt.semilogx(param_range, train_scores_mean, label=\"Training score\",\n",
    "             color=\"darkorange\", lw=lw)\n",
    "plt.fill_between(param_range, train_scores_mean - train_scores_std,\n",
    "                 train_scores_mean + train_scores_std, alpha=0.2,\n",
    "                 color=\"darkorange\", lw=lw)\n",
    "plt.semilogx(param_range, test_scores_mean, label=\"Cross-validation score\",\n",
    "             color=\"navy\", lw=lw)\n",
    "plt.fill_between(param_range, test_scores_mean - test_scores_std,\n",
    "                 test_scores_mean + test_scores_std, alpha=0.2,\n",
    "                 color=\"navy\", lw=lw)\n",
    "plt.legend(loc=\"best\")\n",
    "plt.show()"
   ]
  }
 ],
 "metadata": {
  "kernelspec": {
   "display_name": "myenv",
   "language": "python",
   "name": "myenv"
  },
  "language_info": {
   "codemirror_mode": {
    "name": "ipython",
    "version": 3
   },
   "file_extension": ".py",
   "mimetype": "text/x-python",
   "name": "python",
   "nbconvert_exporter": "python",
   "pygments_lexer": "ipython3",
   "version": "3.6.12"
  }
 },
 "nbformat": 4,
 "nbformat_minor": 4
}
